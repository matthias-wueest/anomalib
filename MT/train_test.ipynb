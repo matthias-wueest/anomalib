{
 "cells": [
  {
   "cell_type": "code",
   "execution_count": null,
   "metadata": {},
   "outputs": [],
   "source": [
    "import os\n",
    "from pathlib import Path\n",
    "\n",
    "current_directory = Path.cwd()\n",
    "if current_directory.name == \"MT\":\n",
    "    # This means that the notebook is run from the main anomalib directory.\n",
    "    root_directory = current_directory.parent\n",
    "elif current_directory.name == \"anomalib\":\n",
    "    # This means that the notebook is run from the main anomalib directory.\n",
    "    root_directory = current_directory\n",
    "\n",
    "os.chdir(root_directory)\n",
    "root_directory"
   ]
  },
  {
   "cell_type": "code",
   "execution_count": null,
   "metadata": {},
   "outputs": [],
   "source": [
    "import numpy as np\n",
    "\n",
    "# Import the required modules\n",
    "from lightning.pytorch import Trainer, seed_everything\n",
    "from anomalib.data import MVTec\n",
    "from anomalib.data.image.mvtec import MVTec_contaminated\n",
    "from anomalib.models import Padim, Patchcore, Stfpm, Draem, EfficientAd\n",
    "from anomalib.engine import Engine\n",
    "from anomalib import TaskType\n",
    "\n"
   ]
  },
  {
   "cell_type": "code",
   "execution_count": null,
   "metadata": {},
   "outputs": [],
   "source": [
    "for idx_category, category in enumerate(category_arr):\n",
    "    print(results_arr[0,:,idx_category])\n",
    "    "
   ]
  },
  {
   "cell_type": "code",
   "execution_count": null,
   "metadata": {},
   "outputs": [],
   "source": [
    "np.median(results_arr[0,:,:],axis=1)"
   ]
  },
  {
   "cell_type": "code",
   "execution_count": null,
   "metadata": {},
   "outputs": [],
   "source": [
    "np.mean(results_arr[1,:,:],axis=1)"
   ]
  },
  {
   "cell_type": "code",
   "execution_count": null,
   "metadata": {},
   "outputs": [],
   "source": [
    "np.mean(results_arr[2,:,:],axis=1)"
   ]
  },
  {
   "cell_type": "code",
   "execution_count": null,
   "metadata": {},
   "outputs": [],
   "source": [
    "# Save results_arr to a file\n",
    "np.save(\"results_arr.npy\", results_arr)"
   ]
  },
  {
   "cell_type": "code",
   "execution_count": null,
   "metadata": {},
   "outputs": [],
   "source": []
  },
  {
   "cell_type": "code",
   "execution_count": null,
   "metadata": {},
   "outputs": [],
   "source": [
    "# Define the path to the folder where you want to save the array\n"
   ]
  },
  {
   "cell_type": "code",
   "execution_count": null,
   "metadata": {},
   "outputs": [],
   "source": [
    "results_arr"
   ]
  },
  {
   "cell_type": "code",
   "execution_count": null,
   "metadata": {},
   "outputs": [],
   "source": []
  },
  {
   "cell_type": "code",
   "execution_count": null,
   "metadata": {},
   "outputs": [],
   "source": [
    "save_folder = \"./results/EfficientAD/\" #\"./results/Padim/\"\n",
    "name = \"EfficientAD_20240327.npy\" #\"Padim_20240327.npy\"\n",
    "file_path = os.path.join(save_folder, name)\n",
    "np.save(file_path, results_arr)\n",
    "\n"
   ]
  },
  {
   "cell_type": "code",
   "execution_count": null,
   "metadata": {},
   "outputs": [],
   "source": []
  },
  {
   "cell_type": "code",
   "execution_count": null,
   "metadata": {},
   "outputs": [],
   "source": [
    "save_folder = \"./results/Stfpm/\" #\"./results/Padim/\"\n",
    "name = \"Stfpm_20240328.npy\" #\"Padim_20240327.npy\"\n",
    "file_path = os.path.join(save_folder, name)\n",
    "file_path\n",
    "\n",
    "run_arr = np.array([1]) #np.array([1, 2, 3]) #np.array([42])#np.arange(3)+1\n",
    "cont_ratio_arr = np.array([0.0, 0.1]) #np.array([0.0, 0.05, 0.1]) #, 0.15\n",
    "category_arr = np.array([\"carpet\", \"grid\"])#np.array([\"carpet\", \"grid\", \"leather\", \"tile\", \"wood\", \"bottle\", \"cable\", \"capsule\", \"hazelnut\", \"metal_nut\", \"pill\", \"screw\", \"toothbrush\", \"transistor\", \"zipper\"])#np.array([\"carpet\", \"grid\"]) #\n",
    "results_arr = np.empty([run_arr.shape[0], cont_ratio_arr.shape[0], category_arr.shape[0]])\n",
    "\n",
    "for idx_run, run in enumerate(run_arr):\n",
    "    for idx_cont_ratio, cont_ratio in enumerate(cont_ratio_arr):\n",
    "        for idx_category, category in enumerate(category_arr):\n",
    "\n",
    "            seed_everything(run, workers=True)\n",
    "            datamodule = MVTec_contaminated(category=category, cont_ratio=cont_ratio, run=run)\n",
    "            #model = Padim(backbone=\"resnet18\", n_features=100, layers=[\"layer1\", \"layer2\", \"layer3\"])\n",
    "            #model = EfficientAd()\n",
    "            model = Stfpm()\n",
    "            engine = Engine(task=TaskType.CLASSIFICATION, image_metrics=[\"AUROC\", \"AUPR\", \"F1Score\"], max_epochs=10)\n",
    "\n",
    "            # Train the model\n",
    "            engine.fit(datamodule=datamodule, model=model)\n",
    "\n",
    "            # load best model from checkpoint before evaluating\n",
    "            test_results = engine.test(\n",
    "                model=model,\n",
    "                datamodule=datamodule,\n",
    "                ckpt_path=engine.trainer.checkpoint_callback.best_model_path,\n",
    "                verbose=False\n",
    "            )\n",
    "            test_results\n",
    "            results_arr[idx_run, idx_cont_ratio, idx_category] = test_results[0][\"image_AUROC\"]\n",
    "            \n",
    "            print(run)\n",
    "            print(cont_ratio)\n",
    "            print(category)\n",
    "\n",
    "# Save results_arr to the specified folder\n",
    "np.save(file_path, results_arr)"
   ]
  },
  {
   "cell_type": "code",
   "execution_count": null,
   "metadata": {},
   "outputs": [],
   "source": [
    "# Load the saved array\n",
    "loaded_array = np.load(file_path)"
   ]
  },
  {
   "cell_type": "code",
   "execution_count": null,
   "metadata": {},
   "outputs": [],
   "source": []
  },
  {
   "cell_type": "code",
   "execution_count": null,
   "metadata": {},
   "outputs": [],
   "source": []
  },
  {
   "cell_type": "code",
   "execution_count": null,
   "metadata": {},
   "outputs": [],
   "source": [
    "# Initialize the datamodule, model and engine\n",
    "#datamodule = MVTec(category=\"carpet\")\n",
    "#datamodule = MVTec_contaminated(category=\"carpet\")\n",
    "seed_everything(2, workers=True)\n",
    "category = \"carpet\"\n",
    "cont_ratio=0.1#0.05#0.1#0 #0.05\n",
    "datamodule = MVTec_contaminated(category=category, cont_ratio=cont_ratio, run=2)\n",
    "#model = Padim(backbone=\"wide_resnet50_2\", n_features=550, layers=[\"layer1\", \"layer2\", \"layer3\"]) #EfficientAd() #Draem() #Patchcore() #Stfpm()\n",
    "model = Padim(backbone=\"resnet18\", n_features=100, layers=[\"layer1\", \"layer2\", \"layer3\"])\n",
    "engine = Engine(task=TaskType.CLASSIFICATION, image_metrics=[\"AUROC\", \"AUPR\", \"F1Score\"])\n"
   ]
  },
  {
   "cell_type": "code",
   "execution_count": null,
   "metadata": {},
   "outputs": [],
   "source": [
    "# Train the model\n",
    "engine.fit(datamodule=datamodule, model=model)"
   ]
  },
  {
   "cell_type": "code",
   "execution_count": null,
   "metadata": {},
   "outputs": [],
   "source": [
    "# load best model from checkpoint before evaluating\n",
    "test_results = engine.test(\n",
    "    model=model,\n",
    "    datamodule=datamodule,\n",
    "    ckpt_path=engine.trainer.checkpoint_callback.best_model_path,\n",
    "    verbose=False\n",
    ")\n",
    "test_results"
   ]
  },
  {
   "cell_type": "code",
   "execution_count": null,
   "metadata": {},
   "outputs": [],
   "source": [
    "test_results[0]"
   ]
  },
  {
   "cell_type": "code",
   "execution_count": null,
   "metadata": {},
   "outputs": [],
   "source": [
    "[{'image_AUROC': 0.8588435053825378, 'image_F1Score': 0.8253968358039856}]"
   ]
  },
  {
   "cell_type": "code",
   "execution_count": null,
   "metadata": {},
   "outputs": [],
   "source": [
    "test_results[0][\"image_AUROC\"]"
   ]
  },
  {
   "cell_type": "code",
   "execution_count": null,
   "metadata": {},
   "outputs": [],
   "source": []
  },
  {
   "cell_type": "code",
   "execution_count": null,
   "metadata": {},
   "outputs": [],
   "source": []
  },
  {
   "cell_type": "code",
   "execution_count": null,
   "metadata": {},
   "outputs": [],
   "source": [
    "from lightning.pytorch import Trainer, seed_everything\n",
    "import numpy as np\n",
    "\n",
    "seed_everything(1, workers=True)\n",
    "\n",
    "\n",
    "#model = Padim(backbone=\"wide_resnet50_2\", n_features=550, layers=[\"layer1\", \"layer2\", \"layer3\"]) #EfficientAd() #Draem() #Patchcore() #\n",
    "model = Padim(backbone=\"resnet18\", n_features=100, layers=[\"layer1\", \"layer2\", \"layer3\"])\n",
    "#model = Padim()\n",
    "engine = Engine(task=TaskType.CLASSIFICATION)\n",
    "\n",
    "category_arr = np.array([\"carpet\", \"grid\", \"leather\", \"tile\", \"wood\", \"bottle\", \"cable\", \"capsule\", \"hazelnut\", \"metal_nut\", \"pill\", \"screw\", \"toothbrush\", \"transistor\", \"zipper\"])\n"
   ]
  },
  {
   "cell_type": "code",
   "execution_count": null,
   "metadata": {},
   "outputs": [],
   "source": [
    "image_AUROC_ls"
   ]
  },
  {
   "cell_type": "code",
   "execution_count": null,
   "metadata": {},
   "outputs": [],
   "source": [
    "np.round(image_AUROC_ls,3)"
   ]
  },
  {
   "cell_type": "code",
   "execution_count": null,
   "metadata": {},
   "outputs": [],
   "source": [
    "np.mean(image_AUROC_ls)"
   ]
  },
  {
   "cell_type": "code",
   "execution_count": null,
   "metadata": {},
   "outputs": [],
   "source": []
  },
  {
   "cell_type": "code",
   "execution_count": null,
   "metadata": {},
   "outputs": [],
   "source": [
    "np.round(image_AUROC_ls,3)"
   ]
  },
  {
   "cell_type": "code",
   "execution_count": null,
   "metadata": {},
   "outputs": [],
   "source": [
    "np.mean(image_AUROC_ls)"
   ]
  },
  {
   "cell_type": "code",
   "execution_count": null,
   "metadata": {},
   "outputs": [],
   "source": []
  },
  {
   "cell_type": "code",
   "execution_count": null,
   "metadata": {},
   "outputs": [],
   "source": []
  },
  {
   "cell_type": "code",
   "execution_count": null,
   "metadata": {},
   "outputs": [],
   "source": [
    "image_AUROC_ls = []\n",
    "image_F1Score_ls = []\n",
    "category_arr_short = category_arr#[0:2]\n",
    "for idx, category in enumerate(category_arr_short):\n",
    "    print(category)\n",
    "\n",
    "    # Initialize the datamodule, model and engine\n",
    "    seed_everything(42, workers=True)\n",
    "    datamodule = MVTec(category=category)\n",
    "    #model = Padim(backbone=\"resnet18\", n_features=100, layers=[\"layer1\", \"layer2\", \"layer3\"])\n",
    "    #model = Padim(backbone=\"wide_resnet50_2\", n_features=550, layers=[\"layer1\", \"layer2\", \"layer3\"]) #EfficientAd() #Draem() #Patchcore() \n",
    "    model = Patchcore(backbone=\"wide_resnet50_2\") \n",
    "    engine = Engine(task=TaskType.CLASSIFICATION)\n",
    "    \n",
    "    # Train the model\n",
    "    engine.fit(datamodule=datamodule, model=model)\n",
    "\n",
    "    # load best model from checkpoint before evaluating\n",
    "    test_results = engine.test(\n",
    "        model=model,\n",
    "        datamodule=datamodule,\n",
    "        ckpt_path=engine.trainer.checkpoint_callback.best_model_path,\n",
    "        verbose=False\n",
    "    )\n",
    "    \n",
    "    image_F1Score_ls.append(test_results[0]['image_F1Score'])\n",
    "    image_AUROC_ls.append(test_results[0]['image_AUROC'])\n"
   ]
  },
  {
   "cell_type": "code",
   "execution_count": null,
   "metadata": {},
   "outputs": [],
   "source": [
    "image_F1Score_ls"
   ]
  },
  {
   "cell_type": "code",
   "execution_count": null,
   "metadata": {},
   "outputs": [],
   "source": [
    "image_F1Score_ls"
   ]
  },
  {
   "cell_type": "code",
   "execution_count": null,
   "metadata": {},
   "outputs": [],
   "source": [
    "np.mean(image_F1Score_ls)"
   ]
  },
  {
   "cell_type": "code",
   "execution_count": null,
   "metadata": {},
   "outputs": [],
   "source": []
  },
  {
   "cell_type": "code",
   "execution_count": null,
   "metadata": {},
   "outputs": [],
   "source": [
    "results_ls"
   ]
  },
  {
   "cell_type": "code",
   "execution_count": null,
   "metadata": {},
   "outputs": [],
   "source": [
    "results_ls[0]"
   ]
  },
  {
   "cell_type": "code",
   "execution_count": null,
   "metadata": {},
   "outputs": [],
   "source": []
  },
  {
   "cell_type": "code",
   "execution_count": null,
   "metadata": {},
   "outputs": [],
   "source": []
  }
 ],
 "metadata": {
  "kernelspec": {
   "display_name": "al_env",
   "language": "python",
   "name": "python3"
  },
  "language_info": {
   "codemirror_mode": {
    "name": "ipython",
    "version": 3
   },
   "file_extension": ".py",
   "mimetype": "text/x-python",
   "name": "python",
   "nbconvert_exporter": "python",
   "pygments_lexer": "ipython3",
   "version": "3.10.13"
  }
 },
 "nbformat": 4,
 "nbformat_minor": 2
}
