{
 "cells": [
  {
   "cell_type": "code",
   "execution_count": 1,
   "metadata": {},
   "outputs": [
    {
     "name": "stdout",
     "output_type": "stream",
     "text": [
      "test\n"
     ]
    }
   ],
   "source": [
    "print(\"test\")"
   ]
  },
  {
   "cell_type": "markdown",
   "metadata": {},
   "source": [
    "### Set working directory and import packages"
   ]
  },
  {
   "cell_type": "code",
   "execution_count": 2,
   "metadata": {},
   "outputs": [
    {
     "data": {
      "text/plain": [
       "PosixPath('/home/wueesmat/MT/anomalib')"
      ]
     },
     "execution_count": 2,
     "metadata": {},
     "output_type": "execute_result"
    }
   ],
   "source": [
    "## Set path\n",
    "import os\n",
    "from pathlib import Path\n",
    "\n",
    "current_directory = Path.cwd()\n",
    "if current_directory.name == \"MT\":\n",
    "    # This means that the notebook is run from the main anomalib directory.\n",
    "    root_directory = current_directory.parent\n",
    "elif current_directory.name == \"anomalib\":\n",
    "    # This means that the notebook is run from the main anomalib directory.\n",
    "    root_directory = current_directory\n",
    "    print(\"here\")\n",
    "\n",
    "os.chdir(root_directory)\n",
    "root_directory"
   ]
  },
  {
   "cell_type": "code",
   "execution_count": 3,
   "metadata": {},
   "outputs": [
    {
     "data": {
      "text/plain": [
       "'/home/wueesmat/MT/anomalib'"
      ]
     },
     "execution_count": 3,
     "metadata": {},
     "output_type": "execute_result"
    }
   ],
   "source": [
    "os.getcwd()"
   ]
  },
  {
   "cell_type": "code",
   "execution_count": 4,
   "metadata": {},
   "outputs": [
    {
     "name": "stderr",
     "output_type": "stream",
     "text": [
      "Could not find wandb. To use this feature, ensure that you have wandb installed.\n",
      "Could not find openvino. To use this feature, ensure that you have openvino installed.\n",
      "OpenVINO is not installed. Please install OpenVINO to use OpenVINOInferencer.\n"
     ]
    }
   ],
   "source": [
    "# Import the required modules\n",
    "import numpy as np\n",
    "from MT.refinement import train_and_evaluate_model_blind, train_and_evaluate_model_SRR_light"
   ]
  },
  {
   "cell_type": "code",
   "execution_count": 12,
   "metadata": {},
   "outputs": [],
   "source": [
    "## Import the required modules\n",
    "#import numpy as np\n",
    "import matplotlib.pyplot as plt\n",
    "#import torch\n",
    "#from lightning.pytorch import Trainer, seed_everything\n",
    "#from anomalib.data import MVTec\n",
    "#from anomalib.data.image.mvtec import MVTec_contaminated, MVTecDataset_contaminated, make_mvtec_dataset, make_mvtec_dataset_contaminated\n",
    "#from anomalib.models import Padim, Patchcore, Stfpm, Draem, EfficientAd\n",
    "#from anomalib.engine import Engine\n",
    "#from anomalib import TaskType\n",
    "#\n",
    "#from anomalib.data.utils import Split\n",
    "\n"
   ]
  },
  {
   "cell_type": "markdown",
   "metadata": {},
   "source": [
    "### Define Experiment"
   ]
  },
  {
   "cell_type": "code",
   "execution_count": 6,
   "metadata": {},
   "outputs": [],
   "source": [
    "# #Define experiment\n",
    "# run_arr = np.array([1]) #np.array([1, 2, 3, 4, 5]) #np.array([1, 2]) #np.array([1]) #np.array([1]) #np.array([42])#np.arange(3)+1\n",
    "# cont_ratio_arr = np.array([0.15]) #np.array([0.0, 0.05, 0.1, 0.15]) #np.array([0.0, 0.15])#np.array([0.15])#, 0.1]) #, 0.15\n",
    "# category_arr = np.array([\"screw\"])#np.array([\"wood\", \"cable\", \"metal_nut\", \"screw\"])#, \"carpet\", \"grid\", \"leather\", \"tile\", \"wood\", \"bottle\", \"cable\", \"capsule\", \"hazelnut\", \"metal_nut\", \"pill\", \"screw\", \"toothbrush\", \"transistor\", \"zipper\"])#np.array([\"carpet\", \"grid\"])#np.array([\"metal_nut\"])#, \"grid\"])# #\n",
    "# results_blind_arr = np.empty([run_arr.shape[0], cont_ratio_arr.shape[0], category_arr.shape[0]])\n",
    "# results_refined_arr = np.empty([run_arr.shape[0], cont_ratio_arr.shape[0], category_arr.shape[0]])"
   ]
  },
  {
   "cell_type": "code",
   "execution_count": 7,
   "metadata": {},
   "outputs": [],
   "source": [
    "# #Define experiment\n",
    "# run_arr = np.array([1, 2, 3, 4, 5]) #np.array([1, 2]) #np.array([1]) #np.array([1]) #np.array([42])#np.arange(3)+1\n",
    "# cont_ratio_arr = np.array([0.15]) #np.array([0.0, 0.05, 0.1, 0.15]) #np.array([0.0, 0.15])#np.array([0.15])#, 0.1]) #, 0.15\n",
    "# category_arr = np.array([\"wood\", \"cable\", \"metal_nut\", \"screw\"])#, \"carpet\", \"grid\", \"leather\", \"tile\", \"wood\", \"bottle\", \"cable\", \"capsule\", \"hazelnut\", \"metal_nut\", \"pill\", \"screw\", \"toothbrush\", \"transistor\", \"zipper\"])#np.array([\"carpet\", \"grid\"])#np.array([\"metal_nut\"])#, \"grid\"])# #\n",
    "# results_blind_arr = np.empty([run_arr.shape[0], cont_ratio_arr.shape[0], category_arr.shape[0]])\n",
    "# results_refined_arr = np.empty([run_arr.shape[0], cont_ratio_arr.shape[0], category_arr.shape[0]])\n"
   ]
  },
  {
   "cell_type": "code",
   "execution_count": 8,
   "metadata": {},
   "outputs": [],
   "source": [
    "# from pathlib import Path\n",
    "# import pandas as pd"
   ]
  },
  {
   "cell_type": "code",
   "execution_count": null,
   "metadata": {},
   "outputs": [],
   "source": []
  },
  {
   "cell_type": "markdown",
   "metadata": {},
   "source": [
    "### Run Experiment (SRR light)"
   ]
  },
  {
   "cell_type": "code",
   "execution_count": 9,
   "metadata": {},
   "outputs": [],
   "source": [
    "# # Define path\n",
    "# save_folder = \"./results/Patchcore/\"\n",
    "# name = \"20240411_Patchcore_cont_max_0.15_sampling_ratio_0.01_SRR.pickle\"\n",
    "# target_path = os.path.join(save_folder, name)"
   ]
  },
  {
   "cell_type": "code",
   "execution_count": 10,
   "metadata": {},
   "outputs": [],
   "source": [
    "# # Save blind training results\n",
    "# #predictions_train_blind_arr = np.empty([run_arr.shape[0], cont_ratio_arr.shape[0], category_arr.shape[0]], dtype=object)\n",
    "# #predictions_test_blind_arr  = np.empty([run_arr.shape[0], cont_ratio_arr.shape[0], category_arr.shape[0]], dtype=object)\n",
    "# results_test_blind_arr = np.empty([run_arr.shape[0], cont_ratio_arr.shape[0], category_arr.shape[0]], dtype=object)\n",
    "# \n",
    "# # Save refined training results\n",
    "# #predictions_train_refined_arr = np.empty([run_arr.shape[0], cont_ratio_arr.shape[0], category_arr.shape[0]], dtype=object)\n",
    "# #predictions_train_refined_unselected_arr = np.empty([run_arr.shape[0], cont_ratio_arr.shape[0], category_arr.shape[0]], dtype=object)\n",
    "# #predictions_test_refined_arr = np.empty([run_arr.shape[0], cont_ratio_arr.shape[0], category_arr.shape[0]], dtype=object)\n",
    "# results_test_refined_arr = np.empty([run_arr.shape[0], cont_ratio_arr.shape[0], category_arr.shape[0]], dtype=object)"
   ]
  },
  {
   "cell_type": "code",
   "execution_count": 5,
   "metadata": {},
   "outputs": [],
   "source": [
    "run_arr = np.array([1])#np.array([1, 2, 3])#, 4, 5]) # np.array([1, 2])#, 2])#\n",
    "category_arr = np.array([\"cable\"])#np.array([\"cable\", \"wood\", \"metal_nut\"])\n"
   ]
  },
  {
   "cell_type": "code",
   "execution_count": 6,
   "metadata": {},
   "outputs": [],
   "source": [
    "# Initialize arrays for saving\n",
    "results_test_blind_arr = np.empty([run_arr.shape[0], category_arr.shape[0]], dtype=object)\n",
    "results_test_refined_arr = np.empty([run_arr.shape[0], category_arr.shape[0]], dtype=object)\n",
    "keep_indices_arr = np.empty([run_arr.shape[0], category_arr.shape[0]], dtype=object)\n",
    "train_dataset_length_arr = np.empty([run_arr.shape[0], category_arr.shape[0]], dtype=object)\n",
    "abnormal_total_arr = np.empty([run_arr.shape[0], category_arr.shape[0]], dtype=object)\n",
    "abnormal_excluded_arr = np.empty([run_arr.shape[0], category_arr.shape[0]], dtype=object)\n",
    "normal_total_arr = np.empty([run_arr.shape[0], category_arr.shape[0]], dtype=object)\n",
    "normal_excluded_arr = np.empty([run_arr.shape[0], category_arr.shape[0]], dtype=object)\n",
    "k_arr = np.empty([run_arr.shape[0], category_arr.shape[0]], dtype=object)"
   ]
  },
  {
   "cell_type": "code",
   "execution_count": null,
   "metadata": {},
   "outputs": [],
   "source": [
    "#cont_ratio = 0.15\n",
    "#k=2\n",
    "#gamma = gamma = 1-cont_ratio\n",
    "#coreset_sampling_ratio = 0.01\n",
    "#run = 3\n",
    "#category = \"cable\"\n",
    "#\n",
    "#results_test_refined, keep_indices, abnormal_total, abnormal_excluded, normal_total, normal_excluded = train_and_evaluate_model_SRR_light(k, gamma, coreset_sampling_ratio, run, category, cont_ratio)"
   ]
  },
  {
   "cell_type": "code",
   "execution_count": null,
   "metadata": {},
   "outputs": [],
   "source": []
  },
  {
   "cell_type": "code",
   "execution_count": null,
   "metadata": {},
   "outputs": [],
   "source": []
  },
  {
   "cell_type": "code",
   "execution_count": null,
   "metadata": {},
   "outputs": [],
   "source": []
  },
  {
   "cell_type": "code",
   "execution_count": 7,
   "metadata": {},
   "outputs": [
    {
     "name": "stderr",
     "output_type": "stream",
     "text": [
      "Seed set to 1\n"
     ]
    },
    {
     "name": "stdout",
     "output_type": "stream",
     "text": [
      "+---------------------+\n",
      "| category:  cable  |\n",
      "| run:  1        |\n",
      "+---------------------+\n"
     ]
    },
    {
     "name": "stderr",
     "output_type": "stream",
     "text": [
      "/home/wueesmat/anaconda3/envs/anomalib_env/lib/python3.10/site-packages/lightning/fabric/plugins/environments/slurm.py:191: The `srun` command is available on your system but is not used. HINT: If your intention is to run Lightning on SLURM, prepend your python command with `srun` like so: srun python /home/wueesmat/anaconda3/envs/anomalib_env/lib/pytho ...\n",
      "GPU available: True (cuda), used: True\n",
      "TPU available: False, using: 0 TPU cores\n",
      "IPU available: False, using: 0 IPUs\n",
      "HPU available: False, using: 0 HPUs\n",
      "/home/wueesmat/anaconda3/envs/anomalib_env/lib/python3.10/site-packages/torchmetrics/utilities/prints.py:36: UserWarning: Metric `PrecisionRecallCurve` will save all targets and predictions in buffer. For large datasets this may lead to large memory footprint.\n",
      "  warnings.warn(*args, **kwargs)\n",
      "F1Score class exists for backwards compatibility. It will be removed in v1.1. Please use BinaryF1Score from torchmetrics instead\n",
      "LOCAL_RANK: 0 - CUDA_VISIBLE_DEVICES: [0,1,2,3,4,5,6,7]\n",
      "/home/wueesmat/anaconda3/envs/anomalib_env/lib/python3.10/site-packages/lightning/pytorch/core/optimizer.py:180: `LightningModule.configure_optimizers` returned `None`, this fit will run with no optimizer\n",
      "\n",
      "  | Name                  | Type                     | Params\n",
      "-------------------------------------------------------------------\n",
      "0 | model                 | PatchcoreModel           | 24.9 M\n",
      "1 | _transform            | Compose                  | 0     \n",
      "2 | normalization_metrics | MinMax                   | 0     \n",
      "3 | image_threshold       | F1AdaptiveThreshold      | 0     \n",
      "4 | pixel_threshold       | F1AdaptiveThreshold      | 0     \n",
      "5 | image_metrics         | AnomalibMetricCollection | 0     \n",
      "6 | pixel_metrics         | AnomalibMetricCollection | 0     \n",
      "-------------------------------------------------------------------\n",
      "24.9 M    Trainable params\n",
      "0         Non-trainable params\n",
      "24.9 M    Total params\n",
      "99.450    Total estimated model params size (MB)\n"
     ]
    },
    {
     "data": {
      "application/vnd.jupyter.widget-view+json": {
       "model_id": "dcb93845774e44a78034157ae65d6db8",
       "version_major": 2,
       "version_minor": 0
      },
      "text/plain": [
       "Training: |                                                                                                   …"
      ]
     },
     "metadata": {},
     "output_type": "display_data"
    },
    {
     "name": "stderr",
     "output_type": "stream",
     "text": [
      "/home/wueesmat/anaconda3/envs/anomalib_env/lib/python3.10/site-packages/lightning/pytorch/loops/optimization/automatic.py:129: `training_step` returned `None`. If this was on purpose, ignore this warning...\n"
     ]
    },
    {
     "data": {
      "application/vnd.jupyter.widget-view+json": {
       "model_id": "aeceb3d04e234cd48389ad52b739b3ba",
       "version_major": 2,
       "version_minor": 0
      },
      "text/plain": [
       "Validation: |                                                                                                 …"
      ]
     },
     "metadata": {},
     "output_type": "display_data"
    },
    {
     "data": {
      "application/vnd.jupyter.widget-view+json": {
       "model_id": "34c16194804441f4be0d6003ed50b911",
       "version_major": 2,
       "version_minor": 0
      },
      "text/plain": [
       "Output()"
      ]
     },
     "metadata": {},
     "output_type": "display_data"
    },
    {
     "data": {
      "text/html": [
       "<pre style=\"white-space:pre;overflow-x:auto;line-height:normal;font-family:Menlo,'DejaVu Sans Mono',consolas,'Courier New',monospace\"></pre>\n"
      ],
      "text/plain": []
     },
     "metadata": {},
     "output_type": "display_data"
    },
    {
     "data": {
      "text/html": [
       "<pre style=\"white-space:pre;overflow-x:auto;line-height:normal;font-family:Menlo,'DejaVu Sans Mono',consolas,'Courier New',monospace\">\n",
       "</pre>\n"
      ],
      "text/plain": [
       "\n"
      ]
     },
     "metadata": {},
     "output_type": "display_data"
    },
    {
     "name": "stderr",
     "output_type": "stream",
     "text": [
      "`Trainer.fit` stopped: `max_epochs=1` reached.\n",
      "F1Score class exists for backwards compatibility. It will be removed in v1.1. Please use BinaryF1Score from torchmetrics instead\n",
      "Restoring states from the checkpoint path at /home/wueesmat/MT/anomalib/results/Patchcore/MVTec_contaminated/cable/v755/weights/lightning/model.ckpt\n",
      "LOCAL_RANK: 0 - CUDA_VISIBLE_DEVICES: [0,1,2,3,4,5,6,7]\n",
      "Loaded model weights from the checkpoint at /home/wueesmat/MT/anomalib/results/Patchcore/MVTec_contaminated/cable/v755/weights/lightning/model.ckpt\n"
     ]
    },
    {
     "data": {
      "application/vnd.jupyter.widget-view+json": {
       "model_id": "bd87183991e340e4b6175c0c9f32b025",
       "version_major": 2,
       "version_minor": 0
      },
      "text/plain": [
       "Testing: |                                                                                                    …"
      ]
     },
     "metadata": {},
     "output_type": "display_data"
    },
    {
     "name": "stderr",
     "output_type": "stream",
     "text": [
      "Seed set to 1\n",
      "Seed set to 1\n"
     ]
    },
    {
     "name": "stdout",
     "output_type": "stream",
     "text": [
      "k:  1\n",
      "train_dataset_length: 263\n",
      "indices_disjoint_datasets:  [array([ 95,  12, 164, 176,  51, 257, 224, 167,  78, 123, 174,  73, 192,\n",
      "        44, 138,  38, 112,   4, 240, 251, 239,  34,  88, 180, 256, 108,\n",
      "        62, 190,  90,  58, 262,  93,  27, 130,  39, 205,  91, 182, 163,\n",
      "        85, 168, 170, 238, 132,  99,  79, 220, 102, 147, 241,  31,  18,\n",
      "       120, 219, 210,  19, 110, 242,  33, 194, 199,  35,  11, 228,  29,\n",
      "         0, 177, 122,  67, 260,  28,  16, 171, 150,  47, 208,  40, 107,\n",
      "       246,  69, 188, 118, 119, 186, 254, 114,  59, 127, 152, 158, 154,\n",
      "       117, 106,  14, 169, 249,  21,  89,  56, 227,  55, 230, 185,  84,\n",
      "        53, 259, 140, 247, 187, 116, 148,  42,  17,   5, 195, 183,  48,\n",
      "       159, 245,  66,  70, 232, 211, 105, 218,  54, 244,  98, 145,  97,\n",
      "       197,  82, 243,  94, 236, 191,  81, 124, 172, 173,  13, 261, 179,\n",
      "        45, 189, 103,  36, 213, 248, 258, 181,  75, 161, 229, 221, 202,\n",
      "         2, 214,   6, 223, 206,  77, 113,  65, 151, 160,  46,  74,  92,\n",
      "       193,  87, 143, 184,  10, 162,  32, 136, 166,  83, 207, 165, 155,\n",
      "       100, 125,  23, 126,   9, 226, 104, 153, 201, 135, 111, 250,  64,\n",
      "        15,  41, 217, 109,  80,  52,  26,  76,  43,  24, 196,   3, 225,\n",
      "        49, 149, 198, 131, 253,  30, 200, 121, 175, 115, 231, 216,   8,\n",
      "       209,  60, 128,   1,  57,  22,  61,  63,   7, 137, 141,  86,  96,\n",
      "       222, 233, 252, 215,  68,  50, 142, 157, 156, 234, 139, 212, 146,\n",
      "       101,  20, 178,  25, 134, 237,  71, 204, 129, 144, 133, 203, 255,\n",
      "        72, 235,  37])]\n",
      "k_iter:  0\n"
     ]
    },
    {
     "name": "stderr",
     "output_type": "stream",
     "text": [
      "/home/wueesmat/anaconda3/envs/anomalib_env/lib/python3.10/site-packages/lightning/fabric/plugins/environments/slurm.py:191: The `srun` command is available on your system but is not used. HINT: If your intention is to run Lightning on SLURM, prepend your python command with `srun` like so: srun python /home/wueesmat/anaconda3/envs/anomalib_env/lib/pytho ...\n",
      "GPU available: True (cuda), used: True\n",
      "TPU available: False, using: 0 TPU cores\n",
      "IPU available: False, using: 0 IPUs\n",
      "HPU available: False, using: 0 HPUs\n",
      "/home/wueesmat/anaconda3/envs/anomalib_env/lib/python3.10/site-packages/torchmetrics/utilities/prints.py:36: UserWarning: Metric `PrecisionRecallCurve` will save all targets and predictions in buffer. For large datasets this may lead to large memory footprint.\n",
      "  warnings.warn(*args, **kwargs)\n",
      "F1Score class exists for backwards compatibility. It will be removed in v1.1. Please use BinaryF1Score from torchmetrics instead\n",
      "LOCAL_RANK: 0 - CUDA_VISIBLE_DEVICES: [0,1,2,3,4,5,6,7]\n",
      "/home/wueesmat/anaconda3/envs/anomalib_env/lib/python3.10/site-packages/lightning/pytorch/core/optimizer.py:180: `LightningModule.configure_optimizers` returned `None`, this fit will run with no optimizer\n",
      "\n",
      "  | Name                  | Type                     | Params\n",
      "-------------------------------------------------------------------\n",
      "0 | model                 | PatchcoreModel           | 24.9 M\n",
      "1 | _transform            | Compose                  | 0     \n",
      "2 | normalization_metrics | MinMax                   | 0     \n",
      "3 | image_threshold       | F1AdaptiveThreshold      | 0     \n",
      "4 | pixel_threshold       | F1AdaptiveThreshold      | 0     \n",
      "5 | image_metrics         | AnomalibMetricCollection | 0     \n",
      "6 | pixel_metrics         | AnomalibMetricCollection | 0     \n",
      "-------------------------------------------------------------------\n",
      "24.9 M    Trainable params\n",
      "0         Non-trainable params\n",
      "24.9 M    Total params\n",
      "99.450    Total estimated model params size (MB)\n"
     ]
    },
    {
     "data": {
      "application/vnd.jupyter.widget-view+json": {
       "model_id": "52531d5e2bcb4930a50e907977a1642c",
       "version_major": 2,
       "version_minor": 0
      },
      "text/plain": [
       "Training: |                                                                                                   …"
      ]
     },
     "metadata": {},
     "output_type": "display_data"
    },
    {
     "data": {
      "application/vnd.jupyter.widget-view+json": {
       "model_id": "8bae32b1ad40404898c00469c8f9fe89",
       "version_major": 2,
       "version_minor": 0
      },
      "text/plain": [
       "Validation: |                                                                                                 …"
      ]
     },
     "metadata": {},
     "output_type": "display_data"
    },
    {
     "data": {
      "application/vnd.jupyter.widget-view+json": {
       "model_id": "da33e28a98a2434c8d31af0db85a67e3",
       "version_major": 2,
       "version_minor": 0
      },
      "text/plain": [
       "Output()"
      ]
     },
     "metadata": {},
     "output_type": "display_data"
    },
    {
     "data": {
      "text/html": [
       "<pre style=\"white-space:pre;overflow-x:auto;line-height:normal;font-family:Menlo,'DejaVu Sans Mono',consolas,'Courier New',monospace\"></pre>\n"
      ],
      "text/plain": []
     },
     "metadata": {},
     "output_type": "display_data"
    },
    {
     "data": {
      "text/html": [
       "<pre style=\"white-space:pre;overflow-x:auto;line-height:normal;font-family:Menlo,'DejaVu Sans Mono',consolas,'Courier New',monospace\">\n",
       "</pre>\n"
      ],
      "text/plain": [
       "\n"
      ]
     },
     "metadata": {},
     "output_type": "display_data"
    },
    {
     "name": "stderr",
     "output_type": "stream",
     "text": [
      "`Trainer.fit` stopped: `max_epochs=1` reached.\n",
      "ckpt_path is not provided. Model weights will not be loaded.\n",
      "/home/wueesmat/anaconda3/envs/anomalib_env/lib/python3.10/site-packages/lightning/fabric/plugins/environments/slurm.py:191: The `srun` command is available on your system but is not used. HINT: If your intention is to run Lightning on SLURM, prepend your python command with `srun` like so: srun python /home/wueesmat/anaconda3/envs/anomalib_env/lib/pytho ...\n",
      "F1Score class exists for backwards compatibility. It will be removed in v1.1. Please use BinaryF1Score from torchmetrics instead\n",
      "LOCAL_RANK: 0 - CUDA_VISIBLE_DEVICES: [0,1,2,3,4,5,6,7]\n",
      "/home/wueesmat/anaconda3/envs/anomalib_env/lib/python3.10/site-packages/lightning/pytorch/trainer/connectors/data_connector.py:441: The 'predict_dataloader' does not have many workers which may be a bottleneck. Consider increasing the value of the `num_workers` argument` to `num_workers=31` in the `DataLoader` to improve performance.\n"
     ]
    },
    {
     "data": {
      "application/vnd.jupyter.widget-view+json": {
       "model_id": "7abced353c6f44e1b9e54a6d1d99750f",
       "version_major": 2,
       "version_minor": 0
      },
      "text/plain": [
       "Predicting: |                                                                                                 …"
      ]
     },
     "metadata": {},
     "output_type": "display_data"
    },
    {
     "name": "stdout",
     "output_type": "stream",
     "text": [
      "prediction_scores_subset:  [0.42838982 0.42450926 0.40263647 0.43511367 0.39369237 0.39667672\n",
      " 0.41695967 0.4134975  0.44086757 0.434881   0.42547342 0.40950558\n",
      " 0.4784649  0.40053982 0.39376765 0.40750527 0.45391276 0.42322385\n",
      " 0.43475017 0.43288848 0.40677017 0.38563064 0.44501165 0.41549933\n",
      " 0.43625116 0.41019508 0.41821718 0.4398751  0.4053261  0.46260744\n",
      " 0.4094539  0.4108001  0.44363686 0.4027844  0.40494007 0.40286416\n",
      " 0.42769238 0.42001164 0.4327911  0.43281174 0.4246197  0.40137523\n",
      " 0.4295412  0.42841098 0.45644593 0.4613925  0.41568005 0.41957554\n",
      " 0.40756193 0.41177243 0.41252044 0.41216418 0.43102583 0.39755446\n",
      " 0.40496957 0.41573107 0.4030272  0.4061638  0.42628178 0.4004551\n",
      " 0.45445314 0.42042285 0.41021279 0.4092315  0.43438455 0.40821224\n",
      " 0.41835898 0.43931332 0.405621   0.46952307 0.41880316 0.42927516\n",
      " 0.44529238 0.44734967 0.41954553 0.39207453 0.40527847 0.41115165\n",
      " 0.39506716 0.40419352 0.41114676 0.42793047 0.41846547 0.39974266\n",
      " 0.42274544 0.39953005 0.42643368 0.41443357 0.4080233  0.3840284\n",
      " 0.4309981  0.4369361  0.44355568 0.43292218 0.42180884 0.40773737\n",
      " 0.42967582 0.42240208 0.44099393 0.4302495  0.41983593 0.43779218\n",
      " 0.43602002 0.43527275 0.4427997  0.398872   0.43213964 0.42863792\n",
      " 0.45003307 0.42563257 0.4067492  0.409997   0.44951105 0.38862705\n",
      " 0.43111554 0.421061   0.4074821  0.4022528  0.4738919  0.4068269\n",
      " 0.40789974 0.41433647 0.3875811  0.42987317 0.4160643  0.39960206\n",
      " 0.38845405 0.433147   0.419696   0.46786976 0.4041249  0.41368786\n",
      " 0.43639725 0.4125077  0.39348802 0.41232824 0.39951757 0.4246143\n",
      " 0.39039052 0.43560997 0.41495246 0.43120414 0.41036874 0.47484973\n",
      " 0.42588025 0.39596048 0.4005086  0.4356119  0.3977454  0.4076696\n",
      " 0.39450124 0.44447896 0.4026696  0.40512747 0.42351222 0.4002311\n",
      " 0.4195124  0.42347422 0.41797668 0.42684466 0.43003926 0.4321069\n",
      " 0.41579455 0.463816   0.42114657 0.4124075  0.406044   0.44914225\n",
      " 0.44363713 0.45752954 0.4220356  0.4113565  0.40955642 0.44052717\n",
      " 0.4065967  0.4194044  0.43846524 0.40541157 0.41853845 0.41832653\n",
      " 0.44826654 0.4084564  0.44701895 0.424813   0.42479023 0.42980868\n",
      " 0.42981467 0.44198036 0.41945717 0.39874446 0.40988284 0.40643457\n",
      " 0.39481872 0.38421267 0.44121322 0.40986127 0.41695175 0.43129957\n",
      " 0.41933453 0.41189805 0.41901585 0.43400395 0.4053352  0.41710687\n",
      " 0.45577204 0.4071362  0.43173304 0.42832837 0.42315125 0.43863478\n",
      " 0.43060946 0.42521393 0.4105059  0.40648818 0.41013616 0.41440096\n",
      " 0.4332572  0.4676457  0.39710242 0.447815   0.47718877 0.38918445\n",
      " 0.39641377 0.3985379  0.4182358  0.418614   0.5013865  0.43674618\n",
      " 0.41244256 0.43247515 0.4261523  0.43071204 0.42002848 0.44649562\n",
      " 0.44465727 0.42238587 0.45432264 0.4290632  0.41292334 0.42671484\n",
      " 0.42824364 0.47929814 0.41834736 0.4191703  0.43891728 0.44465387\n",
      " 0.40802947 0.4546354  0.47406018 0.43384722 0.4573773  0.44407287\n",
      " 0.40227312 0.43649226 0.4440438  0.42059043 0.46427506 0.44253623\n",
      " 0.44004944 0.42494568 0.4115332  0.41657373 0.43238148]\n",
      "threshold:  0.44332888424396516\n",
      "classifications_subset:  [False False False False False False False False False False False False\n",
      "  True False False False  True False False False False False  True False\n",
      " False False False False False  True False False  True False False False\n",
      " False False False False False False False False  True  True False False\n",
      " False False False False False False False False False False False False\n",
      "  True False False False False False False False False  True False False\n",
      "  True  True False False False False False False False False False False\n",
      " False False False False False False False False  True False False False\n",
      " False False False False False False False False False False False False\n",
      "  True False False False  True False False False False False  True False\n",
      " False False False False False False False False False  True False False\n",
      " False False False False False False False False False False False  True\n",
      " False False False False False False False  True False False False False\n",
      " False False False False False False False  True False False False  True\n",
      "  True  True False False False False False False False False False False\n",
      "  True False  True False False False False False False False False False\n",
      " False False False False False False False False False False False False\n",
      "  True False False False False False False False False False False False\n",
      " False  True False  True  True False False False False False  True False\n",
      " False False False False False  True  True False  True False False False\n",
      " False  True False False False  True False  True  True False  True  True\n",
      " False False  True False  True False False False False False False]\n"
     ]
    },
    {
     "name": "stderr",
     "output_type": "stream",
     "text": [
      "Seed set to 1\n",
      "GPU available: True (cuda), used: True\n",
      "TPU available: False, using: 0 TPU cores\n",
      "IPU available: False, using: 0 IPUs\n",
      "HPU available: False, using: 0 HPUs\n",
      "/home/wueesmat/anaconda3/envs/anomalib_env/lib/python3.10/site-packages/torchmetrics/utilities/prints.py:36: UserWarning: Metric `PrecisionRecallCurve` will save all targets and predictions in buffer. For large datasets this may lead to large memory footprint.\n",
      "  warnings.warn(*args, **kwargs)\n",
      "F1Score class exists for backwards compatibility. It will be removed in v1.1. Please use BinaryF1Score from torchmetrics instead\n",
      "LOCAL_RANK: 0 - CUDA_VISIBLE_DEVICES: [0,1,2,3,4,5,6,7]\n",
      "/home/wueesmat/anaconda3/envs/anomalib_env/lib/python3.10/site-packages/lightning/pytorch/core/optimizer.py:180: `LightningModule.configure_optimizers` returned `None`, this fit will run with no optimizer\n",
      "\n",
      "  | Name                  | Type                     | Params\n",
      "-------------------------------------------------------------------\n",
      "0 | model                 | PatchcoreModel           | 24.9 M\n",
      "1 | _transform            | Compose                  | 0     \n",
      "2 | normalization_metrics | MinMax                   | 0     \n",
      "3 | image_threshold       | F1AdaptiveThreshold      | 0     \n",
      "4 | pixel_threshold       | F1AdaptiveThreshold      | 0     \n",
      "5 | image_metrics         | AnomalibMetricCollection | 0     \n",
      "6 | pixel_metrics         | AnomalibMetricCollection | 0     \n",
      "-------------------------------------------------------------------\n",
      "24.9 M    Trainable params\n",
      "0         Non-trainable params\n",
      "24.9 M    Total params\n",
      "99.450    Total estimated model params size (MB)\n"
     ]
    },
    {
     "data": {
      "application/vnd.jupyter.widget-view+json": {
       "model_id": "74634f1a1c774a29be7927edd21de417",
       "version_major": 2,
       "version_minor": 0
      },
      "text/plain": [
       "Training: |                                                                                                   …"
      ]
     },
     "metadata": {},
     "output_type": "display_data"
    },
    {
     "data": {
      "application/vnd.jupyter.widget-view+json": {
       "model_id": "60fc3526073a4a7688aa9c6d4a2680e2",
       "version_major": 2,
       "version_minor": 0
      },
      "text/plain": [
       "Validation: |                                                                                                 …"
      ]
     },
     "metadata": {},
     "output_type": "display_data"
    },
    {
     "data": {
      "application/vnd.jupyter.widget-view+json": {
       "model_id": "e14a1b0a729143128a9406a3d90c5dee",
       "version_major": 2,
       "version_minor": 0
      },
      "text/plain": [
       "Output()"
      ]
     },
     "metadata": {},
     "output_type": "display_data"
    },
    {
     "data": {
      "text/html": [
       "<pre style=\"white-space:pre;overflow-x:auto;line-height:normal;font-family:Menlo,'DejaVu Sans Mono',consolas,'Courier New',monospace\"></pre>\n"
      ],
      "text/plain": []
     },
     "metadata": {},
     "output_type": "display_data"
    },
    {
     "data": {
      "text/html": [
       "<pre style=\"white-space:pre;overflow-x:auto;line-height:normal;font-family:Menlo,'DejaVu Sans Mono',consolas,'Courier New',monospace\">\n",
       "</pre>\n"
      ],
      "text/plain": [
       "\n"
      ]
     },
     "metadata": {},
     "output_type": "display_data"
    },
    {
     "name": "stderr",
     "output_type": "stream",
     "text": [
      "`Trainer.fit` stopped: `max_epochs=1` reached.\n",
      "F1Score class exists for backwards compatibility. It will be removed in v1.1. Please use BinaryF1Score from torchmetrics instead\n",
      "Restoring states from the checkpoint path at /home/wueesmat/MT/anomalib/results/Patchcore/MVTec_contaminated/cable/v757/weights/lightning/model.ckpt\n",
      "LOCAL_RANK: 0 - CUDA_VISIBLE_DEVICES: [0,1,2,3,4,5,6,7]\n",
      "Loaded model weights from the checkpoint at /home/wueesmat/MT/anomalib/results/Patchcore/MVTec_contaminated/cable/v757/weights/lightning/model.ckpt\n"
     ]
    },
    {
     "data": {
      "application/vnd.jupyter.widget-view+json": {
       "model_id": "2e65c7e9be5c423e9f2e35b65468fd61",
       "version_major": 2,
       "version_minor": 0
      },
      "text/plain": [
       "Testing: |                                                                                                    …"
      ]
     },
     "metadata": {},
     "output_type": "display_data"
    },
    {
     "name": "stderr",
     "output_type": "stream",
     "text": [
      "Seed set to 1\n",
      "Seed set to 1\n"
     ]
    },
    {
     "name": "stdout",
     "output_type": "stream",
     "text": [
      "k:  2\n",
      "train_dataset_length: 263\n",
      "indices_disjoint_datasets:  [array([ 95,  12, 164, 176,  51, 257, 224, 167,  78, 123, 174,  73, 192,\n",
      "        44, 138,  38, 112,   4, 240, 251, 239,  34,  88, 180, 256, 108,\n",
      "        62, 190,  90,  58, 262,  93,  27, 130,  39, 205,  91, 182, 163,\n",
      "        85, 168, 170, 238, 132,  99,  79, 220, 102, 147, 241,  31,  18,\n",
      "       120, 219, 210,  19, 110, 242,  33, 194, 199,  35,  11, 228,  29,\n",
      "         0, 177, 122,  67, 260,  28,  16, 171, 150,  47, 208,  40, 107,\n",
      "       246,  69, 188, 118, 119, 186, 254, 114,  59, 127, 152, 158, 154,\n",
      "       117, 106,  14, 169, 249,  21,  89,  56, 227,  55, 230, 185,  84,\n",
      "        53, 259, 140, 247, 187, 116, 148,  42,  17,   5, 195, 183,  48,\n",
      "       159, 245,  66,  70, 232, 211, 105, 218,  54, 244,  98, 145,  97,\n",
      "       197,  82]), array([243,  94, 236, 191,  81, 124, 172, 173,  13, 261, 179,  45, 189,\n",
      "       103,  36, 213, 248, 258, 181,  75, 161, 229, 221, 202,   2, 214,\n",
      "         6, 223, 206,  77, 113,  65, 151, 160,  46,  74,  92, 193,  87,\n",
      "       143, 184,  10, 162,  32, 136, 166,  83, 207, 165, 155, 100, 125,\n",
      "        23, 126,   9, 226, 104, 153, 201, 135, 111, 250,  64,  15,  41,\n",
      "       217, 109,  80,  52,  26,  76,  43,  24, 196,   3, 225,  49, 149,\n",
      "       198, 131, 253,  30, 200, 121, 175, 115, 231, 216,   8, 209,  60,\n",
      "       128,   1,  57,  22,  61,  63,   7, 137, 141,  86,  96, 222, 233,\n",
      "       252, 215,  68,  50, 142, 157, 156, 234, 139, 212, 146, 101,  20,\n",
      "       178,  25, 134, 237,  71, 204, 129, 144, 133, 203, 255,  72, 235,\n",
      "        37])]\n",
      "k_iter:  0\n"
     ]
    },
    {
     "name": "stderr",
     "output_type": "stream",
     "text": [
      "/home/wueesmat/anaconda3/envs/anomalib_env/lib/python3.10/site-packages/lightning/fabric/plugins/environments/slurm.py:191: The `srun` command is available on your system but is not used. HINT: If your intention is to run Lightning on SLURM, prepend your python command with `srun` like so: srun python /home/wueesmat/anaconda3/envs/anomalib_env/lib/pytho ...\n",
      "GPU available: True (cuda), used: True\n",
      "TPU available: False, using: 0 TPU cores\n",
      "IPU available: False, using: 0 IPUs\n",
      "HPU available: False, using: 0 HPUs\n",
      "/home/wueesmat/anaconda3/envs/anomalib_env/lib/python3.10/site-packages/torchmetrics/utilities/prints.py:36: UserWarning: Metric `PrecisionRecallCurve` will save all targets and predictions in buffer. For large datasets this may lead to large memory footprint.\n",
      "  warnings.warn(*args, **kwargs)\n",
      "F1Score class exists for backwards compatibility. It will be removed in v1.1. Please use BinaryF1Score from torchmetrics instead\n",
      "LOCAL_RANK: 0 - CUDA_VISIBLE_DEVICES: [0,1,2,3,4,5,6,7]\n",
      "/home/wueesmat/anaconda3/envs/anomalib_env/lib/python3.10/site-packages/lightning/pytorch/core/optimizer.py:180: `LightningModule.configure_optimizers` returned `None`, this fit will run with no optimizer\n",
      "\n",
      "  | Name                  | Type                     | Params\n",
      "-------------------------------------------------------------------\n",
      "0 | model                 | PatchcoreModel           | 24.9 M\n",
      "1 | _transform            | Compose                  | 0     \n",
      "2 | normalization_metrics | MinMax                   | 0     \n",
      "3 | image_threshold       | F1AdaptiveThreshold      | 0     \n",
      "4 | pixel_threshold       | F1AdaptiveThreshold      | 0     \n",
      "5 | image_metrics         | AnomalibMetricCollection | 0     \n",
      "6 | pixel_metrics         | AnomalibMetricCollection | 0     \n",
      "-------------------------------------------------------------------\n",
      "24.9 M    Trainable params\n",
      "0         Non-trainable params\n",
      "24.9 M    Total params\n",
      "99.450    Total estimated model params size (MB)\n"
     ]
    },
    {
     "data": {
      "application/vnd.jupyter.widget-view+json": {
       "model_id": "ff218be9a4a8433999daad87e1694c4c",
       "version_major": 2,
       "version_minor": 0
      },
      "text/plain": [
       "Training: |                                                                                                   …"
      ]
     },
     "metadata": {},
     "output_type": "display_data"
    },
    {
     "data": {
      "application/vnd.jupyter.widget-view+json": {
       "model_id": "6e296b9c87e244759254e73ae822584c",
       "version_major": 2,
       "version_minor": 0
      },
      "text/plain": [
       "Validation: |                                                                                                 …"
      ]
     },
     "metadata": {},
     "output_type": "display_data"
    },
    {
     "data": {
      "application/vnd.jupyter.widget-view+json": {
       "model_id": "9c05dadd98704f0bbe9a348366beebd6",
       "version_major": 2,
       "version_minor": 0
      },
      "text/plain": [
       "Output()"
      ]
     },
     "metadata": {},
     "output_type": "display_data"
    },
    {
     "data": {
      "text/html": [
       "<pre style=\"white-space:pre;overflow-x:auto;line-height:normal;font-family:Menlo,'DejaVu Sans Mono',consolas,'Courier New',monospace\"></pre>\n"
      ],
      "text/plain": []
     },
     "metadata": {},
     "output_type": "display_data"
    },
    {
     "data": {
      "text/html": [
       "<pre style=\"white-space:pre;overflow-x:auto;line-height:normal;font-family:Menlo,'DejaVu Sans Mono',consolas,'Courier New',monospace\">\n",
       "</pre>\n"
      ],
      "text/plain": [
       "\n"
      ]
     },
     "metadata": {},
     "output_type": "display_data"
    },
    {
     "name": "stderr",
     "output_type": "stream",
     "text": [
      "`Trainer.fit` stopped: `max_epochs=1` reached.\n",
      "ckpt_path is not provided. Model weights will not be loaded.\n",
      "/home/wueesmat/anaconda3/envs/anomalib_env/lib/python3.10/site-packages/lightning/fabric/plugins/environments/slurm.py:191: The `srun` command is available on your system but is not used. HINT: If your intention is to run Lightning on SLURM, prepend your python command with `srun` like so: srun python /home/wueesmat/anaconda3/envs/anomalib_env/lib/pytho ...\n",
      "F1Score class exists for backwards compatibility. It will be removed in v1.1. Please use BinaryF1Score from torchmetrics instead\n",
      "LOCAL_RANK: 0 - CUDA_VISIBLE_DEVICES: [0,1,2,3,4,5,6,7]\n",
      "/home/wueesmat/anaconda3/envs/anomalib_env/lib/python3.10/site-packages/lightning/pytorch/trainer/connectors/data_connector.py:441: The 'predict_dataloader' does not have many workers which may be a bottleneck. Consider increasing the value of the `num_workers` argument` to `num_workers=31` in the `DataLoader` to improve performance.\n"
     ]
    },
    {
     "data": {
      "application/vnd.jupyter.widget-view+json": {
       "model_id": "5d625d146975429c9c02136a8d6319f7",
       "version_major": 2,
       "version_minor": 0
      },
      "text/plain": [
       "Predicting: |                                                                                                 …"
      ]
     },
     "metadata": {},
     "output_type": "display_data"
    },
    {
     "name": "stderr",
     "output_type": "stream",
     "text": [
      "Seed set to 1\n"
     ]
    },
    {
     "name": "stdout",
     "output_type": "stream",
     "text": [
      "prediction_scores_subset:  [0.43771654 0.43138054 0.46997038 0.46258894 0.39646083 0.4346586\n",
      " 0.44526798 0.45629844 0.47211775 0.48515084 0.44365913 0.41004667\n",
      " 0.41009188 0.4515525  0.4071817  0.4176614  0.43424362 0.4468604\n",
      " 0.45271796 0.3960099  0.4729588  0.41116074 0.43567652 0.4677254\n",
      " 0.45572543 0.45294356 0.43616623 0.44035876 0.40663028 0.42318064\n",
      " 0.426349   0.43713006 0.45743877 0.41525698 0.41896075 0.3999359\n",
      " 0.49375153 0.43739554 0.4352229  0.4098823  0.40842384 0.41251108\n",
      " 0.42832473 0.49719456 0.41012836 0.42659685 0.48210013 0.42658034\n",
      " 0.4264154  0.42237237 0.49926692 0.4218835  0.4466253  0.43677747\n",
      " 0.40389243 0.42211837 0.39651608 0.48319024 0.43857267 0.39506435\n",
      " 0.5295238  0.4706414  0.4144089  0.45120096 0.46267802 0.4698593\n",
      " 0.4140825  0.4124744  0.50324917 0.43515548 0.45080027 0.46049494\n",
      " 0.4859139  0.4326949  0.56715393 0.48182127 0.43697196 0.48463598\n",
      " 0.4236916  0.42584783 0.51005566 0.47251326 0.4482935  0.42192635\n",
      " 0.41841155 0.4138945  0.5067342  0.43159777 0.40233153 0.4532895\n",
      " 0.39562127 0.40953267 0.46618015 0.4160995  0.41552535 0.40197745\n",
      " 0.42030978 0.4038878  0.44348904 0.4251136  0.4726443  0.4515411\n",
      " 0.40665835 0.4829272  0.5119943  0.43185735 0.4373939  0.40805084\n",
      " 0.43442956 0.4548908  0.43633565 0.4661804  0.40953612 0.42608953\n",
      " 0.41560712 0.4721694  0.45227483 0.44451913 0.45446604 0.40811568\n",
      " 0.43465826 0.4376896  0.398186   0.40465784 0.4340882  0.4692743\n",
      " 0.52573776 0.43626365 0.45457473 0.48830828 0.4383442  0.48146307\n",
      " 0.38937092 0.44504887 0.4703305  0.45219988 0.42935172 0.46035725\n",
      " 0.4148397  0.4642194  0.4116345  0.46254322 0.44909644 0.4562968\n",
      " 0.45736662 0.42211854 0.43444875 0.41966355 0.42650712 0.43015853\n",
      " 0.4360242  0.4555193  0.415764   0.4710805  0.40635717 0.43749642\n",
      " 0.4677927  0.5160312  0.42599887 0.40512305 0.47608626 0.46756056\n",
      " 0.4673388  0.4679733  0.41811857 0.456184   0.43041685 0.41478825\n",
      " 0.4564922  0.42892128 0.42368567 0.4605482  0.43824914 0.44965476\n",
      " 0.4490788  0.41957432 0.40178445 0.42960465 0.41264373 0.45322257\n",
      " 0.4337095  0.42894462 0.4453445  0.41331378 0.47278756 0.39712644\n",
      " 0.45053512 0.4397723  0.40699553 0.4358318  0.41442245 0.46057013\n",
      " 0.4379734  0.47171608 0.43783852 0.45335835 0.45294988 0.4271366\n",
      " 0.5456689  0.39973453 0.43212175 0.41805995 0.51982707 0.45339367\n",
      " 0.45595488 0.46191275 0.44084722 0.43419436 0.41981    0.41168523\n",
      " 0.42760247 0.43918598 0.4922489  0.43638268 0.4921452  0.42191118\n",
      " 0.45192248 0.4784912  0.4285904  0.44571573 0.42130286 0.40985906\n",
      " 0.43739152 0.44515312 0.43731117 0.47937432 0.4982411  0.41848904\n",
      " 0.42847127 0.6826846  0.42552325 0.5058142  0.47137958 0.620071\n",
      " 0.69299924 0.6547049  0.6292913  0.619323   0.441165   0.45000988\n",
      " 0.43740916 0.4400831  0.41981477 0.48383465 0.45320058 0.4286976\n",
      " 0.4441378  0.4220473  0.880044   0.45121336 0.59055567 0.439229\n",
      " 0.6422877  0.5349237  0.4107707  0.5697554  0.41897577 0.43918714\n",
      " 0.5380293  0.40456724 0.43949744 0.5067504  0.41078335]\n",
      "threshold:  0.4808364480733871\n",
      "classifications_subset:  [False False False False False False False False False  True False False\n",
      " False False False False False False False False False False False False\n",
      " False False False False False False False False False False False False\n",
      "  True False False False False False False  True False False  True False\n",
      " False False  True False False False False False False  True False False\n",
      "  True False False False False False False False  True False False False\n",
      "  True False  True  True False  True False False  True False False False\n",
      " False False  True False False False False False False False False False\n",
      " False False False False False False False  True  True False False False\n",
      " False False False False False False False False False False False False\n",
      " False False False False False False  True False False  True False  True\n",
      " False False False False False False False False False False False False\n",
      " False False False False False False False False False False False False\n",
      " False  True False False False False False False False False False False\n",
      " False False False False False False False False False False False False\n",
      " False False False False False False False False False False False False\n",
      " False False False False False False  True False False False  True False\n",
      " False False False False False False False False  True False  True False\n",
      " False False False False False False False False False False  True False\n",
      " False  True False  True False  True  True  True  True  True False False\n",
      " False False False  True False False False False  True False  True False\n",
      "  True  True False  True False False  True False False  True False]\n",
      "k_iter:  1\n"
     ]
    },
    {
     "name": "stderr",
     "output_type": "stream",
     "text": [
      "GPU available: True (cuda), used: True\n",
      "TPU available: False, using: 0 TPU cores\n",
      "IPU available: False, using: 0 IPUs\n",
      "HPU available: False, using: 0 HPUs\n",
      "/home/wueesmat/anaconda3/envs/anomalib_env/lib/python3.10/site-packages/torchmetrics/utilities/prints.py:36: UserWarning: Metric `PrecisionRecallCurve` will save all targets and predictions in buffer. For large datasets this may lead to large memory footprint.\n",
      "  warnings.warn(*args, **kwargs)\n",
      "F1Score class exists for backwards compatibility. It will be removed in v1.1. Please use BinaryF1Score from torchmetrics instead\n",
      "LOCAL_RANK: 0 - CUDA_VISIBLE_DEVICES: [0,1,2,3,4,5,6,7]\n",
      "/home/wueesmat/anaconda3/envs/anomalib_env/lib/python3.10/site-packages/lightning/pytorch/core/optimizer.py:180: `LightningModule.configure_optimizers` returned `None`, this fit will run with no optimizer\n",
      "\n",
      "  | Name                  | Type                     | Params\n",
      "-------------------------------------------------------------------\n",
      "0 | model                 | PatchcoreModel           | 24.9 M\n",
      "1 | _transform            | Compose                  | 0     \n",
      "2 | normalization_metrics | MinMax                   | 0     \n",
      "3 | image_threshold       | F1AdaptiveThreshold      | 0     \n",
      "4 | pixel_threshold       | F1AdaptiveThreshold      | 0     \n",
      "5 | image_metrics         | AnomalibMetricCollection | 0     \n",
      "6 | pixel_metrics         | AnomalibMetricCollection | 0     \n",
      "-------------------------------------------------------------------\n",
      "24.9 M    Trainable params\n",
      "0         Non-trainable params\n",
      "24.9 M    Total params\n",
      "99.450    Total estimated model params size (MB)\n"
     ]
    },
    {
     "data": {
      "application/vnd.jupyter.widget-view+json": {
       "model_id": "c0099c18af1c4cfc8972cbe84803fb02",
       "version_major": 2,
       "version_minor": 0
      },
      "text/plain": [
       "Training: |                                                                                                   …"
      ]
     },
     "metadata": {},
     "output_type": "display_data"
    },
    {
     "data": {
      "application/vnd.jupyter.widget-view+json": {
       "model_id": "605a9b19fb5645c7a72797a59e524c4f",
       "version_major": 2,
       "version_minor": 0
      },
      "text/plain": [
       "Validation: |                                                                                                 …"
      ]
     },
     "metadata": {},
     "output_type": "display_data"
    },
    {
     "data": {
      "application/vnd.jupyter.widget-view+json": {
       "model_id": "778af56311894366b6f4d177722c270c",
       "version_major": 2,
       "version_minor": 0
      },
      "text/plain": [
       "Output()"
      ]
     },
     "metadata": {},
     "output_type": "display_data"
    },
    {
     "data": {
      "text/html": [
       "<pre style=\"white-space:pre;overflow-x:auto;line-height:normal;font-family:Menlo,'DejaVu Sans Mono',consolas,'Courier New',monospace\"></pre>\n"
      ],
      "text/plain": []
     },
     "metadata": {},
     "output_type": "display_data"
    },
    {
     "data": {
      "text/html": [
       "<pre style=\"white-space:pre;overflow-x:auto;line-height:normal;font-family:Menlo,'DejaVu Sans Mono',consolas,'Courier New',monospace\">\n",
       "</pre>\n"
      ],
      "text/plain": [
       "\n"
      ]
     },
     "metadata": {},
     "output_type": "display_data"
    },
    {
     "name": "stderr",
     "output_type": "stream",
     "text": [
      "`Trainer.fit` stopped: `max_epochs=1` reached.\n",
      "ckpt_path is not provided. Model weights will not be loaded.\n",
      "/home/wueesmat/anaconda3/envs/anomalib_env/lib/python3.10/site-packages/lightning/fabric/plugins/environments/slurm.py:191: The `srun` command is available on your system but is not used. HINT: If your intention is to run Lightning on SLURM, prepend your python command with `srun` like so: srun python /home/wueesmat/anaconda3/envs/anomalib_env/lib/pytho ...\n",
      "F1Score class exists for backwards compatibility. It will be removed in v1.1. Please use BinaryF1Score from torchmetrics instead\n",
      "LOCAL_RANK: 0 - CUDA_VISIBLE_DEVICES: [0,1,2,3,4,5,6,7]\n",
      "/home/wueesmat/anaconda3/envs/anomalib_env/lib/python3.10/site-packages/lightning/pytorch/trainer/connectors/data_connector.py:441: The 'predict_dataloader' does not have many workers which may be a bottleneck. Consider increasing the value of the `num_workers` argument` to `num_workers=31` in the `DataLoader` to improve performance.\n"
     ]
    },
    {
     "data": {
      "application/vnd.jupyter.widget-view+json": {
       "model_id": "cbd42b1980d14b1085009dcff6fadc8d",
       "version_major": 2,
       "version_minor": 0
      },
      "text/plain": [
       "Predicting: |                                                                                                 …"
      ]
     },
     "metadata": {},
     "output_type": "display_data"
    },
    {
     "name": "stdout",
     "output_type": "stream",
     "text": [
      "prediction_scores_subset:  [0.4753606  0.41749635 0.42566013 0.40963995 0.47397703 0.41991845\n",
      " 0.4152176  0.42415655 0.42756563 0.4186523  0.40306327 0.4297462\n",
      " 0.51412076 0.4320728  0.46661842 0.43436104 0.43951538 0.43716174\n",
      " 0.43999016 0.46741974 0.41915405 0.43185756 0.45753768 0.44374883\n",
      " 0.41797563 0.4287867  0.42381105 0.49107888 0.4313455  0.4442358\n",
      " 0.42165196 0.43779582 0.43130207 0.4944011  0.5082265  0.45752385\n",
      " 0.41656005 0.41883245 0.45871052 0.46224687 0.47243008 0.43952996\n",
      " 0.4435782  0.43126732 0.4372239  0.41391534 0.42340383 0.42669535\n",
      " 0.4649422  0.41071174 0.46229562 0.4435687  0.4605011  0.4517123\n",
      " 0.42883873 0.47242597 0.4536037  0.43905833 0.42114103 0.4277063\n",
      " 0.40656734 0.43247527 0.41107258 0.40937933 0.40824354 0.41460228\n",
      " 0.4521442  0.446539   0.43633306 0.46934962 0.4366514  0.41118336\n",
      " 0.43289292 0.44639602 0.43453023 0.42597264 0.40594018 0.39869085\n",
      " 0.4394557  0.4694581  0.43351522 0.42516753 0.4936842  0.43227065\n",
      " 0.4647016  0.44779086 0.43705985 0.42549273 0.41837573 0.44783616\n",
      " 0.41600573 0.46004143 0.4191624  0.4504163  0.4106147  0.43020138\n",
      " 0.41978794 0.43943208 0.4924918  0.44101247 0.43285942 0.42827272\n",
      " 0.4352757  0.42083195 0.41030937 0.4181165  0.4651676  0.41736326\n",
      " 0.48601207 0.42478213 0.50537175 0.41164386 0.4305165  0.40926573\n",
      " 0.5071633  0.4019837  0.46830708 0.4901863  0.43510357 0.44781837\n",
      " 0.48013818 0.41064486 0.44960648 0.45165905 0.45569384 0.41019714\n",
      " 0.43539354 0.45413366 0.4331403  0.4062826  0.43582305 0.40864903\n",
      " 0.44263652 0.4218439  0.41396323 0.43035594 0.41556332 0.43629494\n",
      " 0.43452695 0.42743134 0.41427755 0.41195133 0.4076495  0.39103144\n",
      " 0.4418096  0.46004122 0.4211592  0.4660517  0.4364283  0.42060196\n",
      " 0.44070902 0.43118185 0.43588507 0.41145632 0.43676496 0.41851163\n",
      " 0.41271445 0.40138364 0.4640568  0.44259042 0.40818    0.4249823\n",
      " 0.40982682 0.4508674  0.43855524 0.4193921  0.42438847 0.4320636\n",
      " 0.43623742 0.5601182  0.43995425 0.4458757  0.46050048 0.4197337\n",
      " 0.4460882  0.40622523 0.42275485 0.42529225 0.40045282 0.42217675\n",
      " 0.43198222 0.4470971  0.46653402 0.4367892  0.42298245 0.432515\n",
      " 0.44026735 0.46704504 0.42675135 0.44686374 0.47970894 0.42125776\n",
      " 0.4213075  0.4187659  0.4829625  0.4407481  0.43400082 0.44305876\n",
      " 0.40507972 0.48087236 0.41415814 0.42631617 0.4264262  0.41264516\n",
      " 0.4140518  0.47894728 0.44154313 0.4318562  0.44792062 0.404147\n",
      " 0.43882415 0.43228614 0.4526025  0.44855535 0.405468   0.42218155\n",
      " 0.419298   0.3935763  0.4492323  0.43545836 0.4699782  0.42066735\n",
      " 0.40056175 0.4277779  0.55666625 0.4501099  0.42741105 0.5193896\n",
      " 0.5443589  0.4130828  0.45553002 0.4102633  0.58753854 0.44516832\n",
      " 0.45435855 0.45496887 0.42081547 0.4190236  0.48388174 0.68451697\n",
      " 0.75376105 0.83473444 0.4750505  0.42571253 0.583908   0.4653057\n",
      " 0.49408624 0.5184215  0.45849428 0.52475697 0.4291296  0.64164245\n",
      " 0.42995885 0.44109735 0.51501906 0.41908586 0.55996984 0.49973148\n",
      " 0.4225899  0.5895425  0.56369567 0.4756029  0.50166756]\n",
      "threshold:  0.4724288463592529\n",
      "classifications_subset:  [ True False False False  True False False False False False False False\n",
      "  True False False False False False False False False False False False\n",
      " False False False  True False False False False False  True  True False\n",
      " False False False False  True False False False False False False False\n",
      " False False False False False False False False False False False False\n",
      " False False False False False False False False False False False False\n",
      " False False False False False False False False False False  True False\n",
      " False False False False False False False False False False False False\n",
      " False False  True False False False False False False False False False\n",
      "  True False  True False False False  True False False  True False False\n",
      "  True False False False False False False False False False False False\n",
      " False False False False False False False False False False False False\n",
      " False False False False False False False False False False False False\n",
      " False False False False False False False False False False False False\n",
      " False  True False False False False False False False False False False\n",
      " False False False False False False False False False False  True False\n",
      " False False  True False False False False  True False False False False\n",
      " False  True False False False False False False False False False False\n",
      " False False False False False False False False  True False False  True\n",
      "  True False False False  True False False False False False  True  True\n",
      "  True  True  True False  True False  True  True False  True False  True\n",
      " False False  True False  True  True False  True  True  True  True]\n"
     ]
    },
    {
     "name": "stderr",
     "output_type": "stream",
     "text": [
      "Seed set to 1\n",
      "GPU available: True (cuda), used: True\n",
      "TPU available: False, using: 0 TPU cores\n",
      "IPU available: False, using: 0 IPUs\n",
      "HPU available: False, using: 0 HPUs\n",
      "/home/wueesmat/anaconda3/envs/anomalib_env/lib/python3.10/site-packages/torchmetrics/utilities/prints.py:36: UserWarning: Metric `PrecisionRecallCurve` will save all targets and predictions in buffer. For large datasets this may lead to large memory footprint.\n",
      "  warnings.warn(*args, **kwargs)\n",
      "F1Score class exists for backwards compatibility. It will be removed in v1.1. Please use BinaryF1Score from torchmetrics instead\n",
      "LOCAL_RANK: 0 - CUDA_VISIBLE_DEVICES: [0,1,2,3,4,5,6,7]\n",
      "/home/wueesmat/anaconda3/envs/anomalib_env/lib/python3.10/site-packages/lightning/pytorch/core/optimizer.py:180: `LightningModule.configure_optimizers` returned `None`, this fit will run with no optimizer\n",
      "\n",
      "  | Name                  | Type                     | Params\n",
      "-------------------------------------------------------------------\n",
      "0 | model                 | PatchcoreModel           | 24.9 M\n",
      "1 | _transform            | Compose                  | 0     \n",
      "2 | normalization_metrics | MinMax                   | 0     \n",
      "3 | image_threshold       | F1AdaptiveThreshold      | 0     \n",
      "4 | pixel_threshold       | F1AdaptiveThreshold      | 0     \n",
      "5 | image_metrics         | AnomalibMetricCollection | 0     \n",
      "6 | pixel_metrics         | AnomalibMetricCollection | 0     \n",
      "-------------------------------------------------------------------\n",
      "24.9 M    Trainable params\n",
      "0         Non-trainable params\n",
      "24.9 M    Total params\n",
      "99.450    Total estimated model params size (MB)\n"
     ]
    },
    {
     "data": {
      "application/vnd.jupyter.widget-view+json": {
       "model_id": "6de07878543541c8bbadc4b946f631a5",
       "version_major": 2,
       "version_minor": 0
      },
      "text/plain": [
       "Training: |                                                                                                   …"
      ]
     },
     "metadata": {},
     "output_type": "display_data"
    },
    {
     "data": {
      "application/vnd.jupyter.widget-view+json": {
       "model_id": "523072c4b8904bfaaf4689cfdac5fb37",
       "version_major": 2,
       "version_minor": 0
      },
      "text/plain": [
       "Validation: |                                                                                                 …"
      ]
     },
     "metadata": {},
     "output_type": "display_data"
    },
    {
     "data": {
      "application/vnd.jupyter.widget-view+json": {
       "model_id": "446dee1571eb45dcab6aa68db6450c6a",
       "version_major": 2,
       "version_minor": 0
      },
      "text/plain": [
       "Output()"
      ]
     },
     "metadata": {},
     "output_type": "display_data"
    },
    {
     "data": {
      "text/html": [
       "<pre style=\"white-space:pre;overflow-x:auto;line-height:normal;font-family:Menlo,'DejaVu Sans Mono',consolas,'Courier New',monospace\"></pre>\n"
      ],
      "text/plain": []
     },
     "metadata": {},
     "output_type": "display_data"
    },
    {
     "data": {
      "text/html": [
       "<pre style=\"white-space:pre;overflow-x:auto;line-height:normal;font-family:Menlo,'DejaVu Sans Mono',consolas,'Courier New',monospace\">\n",
       "</pre>\n"
      ],
      "text/plain": [
       "\n"
      ]
     },
     "metadata": {},
     "output_type": "display_data"
    },
    {
     "name": "stderr",
     "output_type": "stream",
     "text": [
      "`Trainer.fit` stopped: `max_epochs=1` reached.\n",
      "F1Score class exists for backwards compatibility. It will be removed in v1.1. Please use BinaryF1Score from torchmetrics instead\n",
      "Restoring states from the checkpoint path at /home/wueesmat/MT/anomalib/results/Patchcore/MVTec_contaminated/cable/v760/weights/lightning/model.ckpt\n",
      "LOCAL_RANK: 0 - CUDA_VISIBLE_DEVICES: [0,1,2,3,4,5,6,7]\n",
      "Loaded model weights from the checkpoint at /home/wueesmat/MT/anomalib/results/Patchcore/MVTec_contaminated/cable/v760/weights/lightning/model.ckpt\n"
     ]
    },
    {
     "data": {
      "application/vnd.jupyter.widget-view+json": {
       "model_id": "5265e103a1f745ba99eec7f6b3d09b4a",
       "version_major": 2,
       "version_minor": 0
      },
      "text/plain": [
       "Testing: |                                                                                                    …"
      ]
     },
     "metadata": {},
     "output_type": "display_data"
    },
    {
     "name": "stderr",
     "output_type": "stream",
     "text": [
      "Seed set to 1\n",
      "Seed set to 1\n"
     ]
    },
    {
     "name": "stdout",
     "output_type": "stream",
     "text": [
      "k:  3\n",
      "train_dataset_length: 263\n",
      "indices_disjoint_datasets:  [array([ 95,  12, 164, 176,  51, 257, 224, 167,  78, 123, 174,  73, 192,\n",
      "        44, 138,  38, 112,   4, 240, 251, 239,  34,  88, 180, 256, 108,\n",
      "        62, 190,  90,  58, 262,  93,  27, 130,  39, 205,  91, 182, 163,\n",
      "        85, 168, 170, 238, 132,  99,  79, 220, 102, 147, 241,  31,  18,\n",
      "       120, 219, 210,  19, 110, 242,  33, 194, 199,  35,  11, 228,  29,\n",
      "         0, 177, 122,  67, 260,  28,  16, 171, 150,  47, 208,  40, 107,\n",
      "       246,  69, 188, 118, 119, 186, 254, 114,  59, 127]), array([152, 158, 154, 117, 106,  14, 169, 249,  21,  89,  56, 227,  55,\n",
      "       230, 185,  84,  53, 259, 140, 247, 187, 116, 148,  42,  17,   5,\n",
      "       195, 183,  48, 159, 245,  66,  70, 232, 211, 105, 218,  54, 244,\n",
      "        98, 145,  97, 197,  82, 243,  94, 236, 191,  81, 124, 172, 173,\n",
      "        13, 261, 179,  45, 189, 103,  36, 213, 248, 258, 181,  75, 161,\n",
      "       229, 221, 202,   2, 214,   6, 223, 206,  77, 113,  65, 151, 160,\n",
      "        46,  74,  92, 193,  87, 143, 184,  10, 162,  32]), array([136, 166,  83, 207, 165, 155, 100, 125,  23, 126,   9, 226, 104,\n",
      "       153, 201, 135, 111, 250,  64,  15,  41, 217, 109,  80,  52,  26,\n",
      "        76,  43,  24, 196,   3, 225,  49, 149, 198, 131, 253,  30, 200,\n",
      "       121, 175, 115, 231, 216,   8, 209,  60, 128,   1,  57,  22,  61,\n",
      "        63,   7, 137, 141,  86,  96, 222, 233, 252, 215,  68,  50, 142,\n",
      "       157, 156, 234, 139, 212, 146, 101,  20, 178,  25, 134, 237,  71,\n",
      "       204, 129, 144, 133, 203, 255,  72, 235,  37])]\n",
      "k_iter:  0\n"
     ]
    },
    {
     "name": "stderr",
     "output_type": "stream",
     "text": [
      "/home/wueesmat/anaconda3/envs/anomalib_env/lib/python3.10/site-packages/lightning/fabric/plugins/environments/slurm.py:191: The `srun` command is available on your system but is not used. HINT: If your intention is to run Lightning on SLURM, prepend your python command with `srun` like so: srun python /home/wueesmat/anaconda3/envs/anomalib_env/lib/pytho ...\n",
      "GPU available: True (cuda), used: True\n",
      "TPU available: False, using: 0 TPU cores\n",
      "IPU available: False, using: 0 IPUs\n",
      "HPU available: False, using: 0 HPUs\n",
      "/home/wueesmat/anaconda3/envs/anomalib_env/lib/python3.10/site-packages/torchmetrics/utilities/prints.py:36: UserWarning: Metric `PrecisionRecallCurve` will save all targets and predictions in buffer. For large datasets this may lead to large memory footprint.\n",
      "  warnings.warn(*args, **kwargs)\n",
      "F1Score class exists for backwards compatibility. It will be removed in v1.1. Please use BinaryF1Score from torchmetrics instead\n",
      "LOCAL_RANK: 0 - CUDA_VISIBLE_DEVICES: [0,1,2,3,4,5,6,7]\n",
      "/home/wueesmat/anaconda3/envs/anomalib_env/lib/python3.10/site-packages/lightning/pytorch/core/optimizer.py:180: `LightningModule.configure_optimizers` returned `None`, this fit will run with no optimizer\n",
      "\n",
      "  | Name                  | Type                     | Params\n",
      "-------------------------------------------------------------------\n",
      "0 | model                 | PatchcoreModel           | 24.9 M\n",
      "1 | _transform            | Compose                  | 0     \n",
      "2 | normalization_metrics | MinMax                   | 0     \n",
      "3 | image_threshold       | F1AdaptiveThreshold      | 0     \n",
      "4 | pixel_threshold       | F1AdaptiveThreshold      | 0     \n",
      "5 | image_metrics         | AnomalibMetricCollection | 0     \n",
      "6 | pixel_metrics         | AnomalibMetricCollection | 0     \n",
      "-------------------------------------------------------------------\n",
      "24.9 M    Trainable params\n",
      "0         Non-trainable params\n",
      "24.9 M    Total params\n",
      "99.450    Total estimated model params size (MB)\n"
     ]
    },
    {
     "data": {
      "application/vnd.jupyter.widget-view+json": {
       "model_id": "8ea36cccb44c47029e4a0f1d3bba04ba",
       "version_major": 2,
       "version_minor": 0
      },
      "text/plain": [
       "Training: |                                                                                                   …"
      ]
     },
     "metadata": {},
     "output_type": "display_data"
    },
    {
     "data": {
      "application/vnd.jupyter.widget-view+json": {
       "model_id": "79aa83d5048b4730a14aa845bc49c1e2",
       "version_major": 2,
       "version_minor": 0
      },
      "text/plain": [
       "Validation: |                                                                                                 …"
      ]
     },
     "metadata": {},
     "output_type": "display_data"
    },
    {
     "data": {
      "application/vnd.jupyter.widget-view+json": {
       "model_id": "2251e6302c96412fb21e077d8cf37805",
       "version_major": 2,
       "version_minor": 0
      },
      "text/plain": [
       "Output()"
      ]
     },
     "metadata": {},
     "output_type": "display_data"
    },
    {
     "data": {
      "text/html": [
       "<pre style=\"white-space:pre;overflow-x:auto;line-height:normal;font-family:Menlo,'DejaVu Sans Mono',consolas,'Courier New',monospace\"></pre>\n"
      ],
      "text/plain": []
     },
     "metadata": {},
     "output_type": "display_data"
    },
    {
     "data": {
      "text/html": [
       "<pre style=\"white-space:pre;overflow-x:auto;line-height:normal;font-family:Menlo,'DejaVu Sans Mono',consolas,'Courier New',monospace\">\n",
       "</pre>\n"
      ],
      "text/plain": [
       "\n"
      ]
     },
     "metadata": {},
     "output_type": "display_data"
    },
    {
     "name": "stderr",
     "output_type": "stream",
     "text": [
      "`Trainer.fit` stopped: `max_epochs=1` reached.\n",
      "ckpt_path is not provided. Model weights will not be loaded.\n",
      "/home/wueesmat/anaconda3/envs/anomalib_env/lib/python3.10/site-packages/lightning/fabric/plugins/environments/slurm.py:191: The `srun` command is available on your system but is not used. HINT: If your intention is to run Lightning on SLURM, prepend your python command with `srun` like so: srun python /home/wueesmat/anaconda3/envs/anomalib_env/lib/pytho ...\n",
      "F1Score class exists for backwards compatibility. It will be removed in v1.1. Please use BinaryF1Score from torchmetrics instead\n",
      "LOCAL_RANK: 0 - CUDA_VISIBLE_DEVICES: [0,1,2,3,4,5,6,7]\n",
      "/home/wueesmat/anaconda3/envs/anomalib_env/lib/python3.10/site-packages/lightning/pytorch/trainer/connectors/data_connector.py:441: The 'predict_dataloader' does not have many workers which may be a bottleneck. Consider increasing the value of the `num_workers` argument` to `num_workers=31` in the `DataLoader` to improve performance.\n"
     ]
    },
    {
     "data": {
      "application/vnd.jupyter.widget-view+json": {
       "model_id": "3b5994891e324c078babb8e8c4e05e7f",
       "version_major": 2,
       "version_minor": 0
      },
      "text/plain": [
       "Predicting: |                                                                                                 …"
      ]
     },
     "metadata": {},
     "output_type": "display_data"
    },
    {
     "name": "stderr",
     "output_type": "stream",
     "text": [
      "Seed set to 1\n"
     ]
    },
    {
     "name": "stdout",
     "output_type": "stream",
     "text": [
      "prediction_scores_subset:  [0.41371143 0.41419315 0.4945324  0.46378767 0.42463118 0.46273232\n",
      " 0.47675323 0.46936077 0.45899484 0.45307502 0.45130756 0.4113322\n",
      " 0.42294633 0.4784564  0.44003102 0.4480819  0.42066467 0.45517555\n",
      " 0.41814643 0.4323405  0.4349453  0.43652    0.44069082 0.45353475\n",
      " 0.49438956 0.4853963  0.42110702 0.41052085 0.40332776 0.41692224\n",
      " 0.45202872 0.40706167 0.47752303 0.44014916 0.4477823  0.44735506\n",
      " 0.5044532  0.43429685 0.41143548 0.4056309  0.43109894 0.43392846\n",
      " 0.5006944  0.54091126 0.48981035 0.4641135  0.53588724 0.41188994\n",
      " 0.428496   0.47227985 0.49026462 0.4223233  0.5018121  0.44199365\n",
      " 0.44159102 0.50398004 0.43262228 0.47079608 0.40483567 0.40653816\n",
      " 0.49710888 0.4365334  0.4256755  0.43014923 0.45117444 0.47316414\n",
      " 0.4206384  0.43518212 0.49792215 0.41691083 0.47206396 0.43736422\n",
      " 0.46908522 0.43846413 0.5342686  0.4732768  0.435778   0.42205864\n",
      " 0.4323783  0.39573008 0.52346045 0.4833987  0.49748915 0.46620327\n",
      " 0.45672172 0.42614907 0.45409805 0.46131074 0.41050664 0.41411883\n",
      " 0.42268467 0.42651522 0.48595354 0.41132987 0.44304124 0.4317584\n",
      " 0.43977696 0.4348095  0.48419273 0.42862332 0.4752552  0.47144943\n",
      " 0.41286004 0.46821022 0.49551496 0.43446866 0.43718472 0.4257915\n",
      " 0.3990062  0.4581878  0.41313848 0.44353497 0.43308416 0.44913962\n",
      " 0.43649358 0.47824758 0.46121863 0.44110325 0.46470618 0.40045896\n",
      " 0.4264112  0.461498   0.43388456 0.4231738  0.46959618 0.4664203\n",
      " 0.5060029  0.42652375 0.45943385 0.5107526  0.40958    0.46862805\n",
      " 0.42055243 0.4572349  0.42884022 0.4465289  0.45265678 0.44078234\n",
      " 0.40280044 0.4375553  0.42686194 0.4429873  0.49400747 0.4738129\n",
      " 0.4907536  0.44963688 0.46216094 0.4285564  0.43144193 0.4668622\n",
      " 0.41569048 0.48944843 0.42270246 0.49051017 0.50299454 0.4723125\n",
      " 0.45552942 0.46097785 0.44987893 0.48703903 0.48292348 0.51491296\n",
      " 0.44336152 0.47693595 0.43092602 0.46511132 0.44200984 0.4338984\n",
      " 0.4571414  0.5101268  0.4241919  0.4130472  0.4522157  0.44385222\n",
      " 0.42612034 0.47079018 0.4252018  0.43007627 0.43334088 0.45505255\n",
      " 0.4495172  0.47639772 0.4221576  0.4463979  0.49002308 0.45284396\n",
      " 0.42141658 0.5173242  0.41580844 0.44842213 0.45325714 0.43335375\n",
      " 0.4139342  0.46773702 0.42724505 0.44716644 0.46030638 0.42727804\n",
      " 0.55020607 0.39990443 0.44463515 0.4813384  0.51307714 0.4870289\n",
      " 0.49418902 0.4759698  0.4618991  0.44903556 0.3964258  0.41888326\n",
      " 0.43657514 0.44831952 0.49469018 0.4358926  0.46224284 0.41796428\n",
      " 0.46114275 0.5137097  0.5030013  0.43967834 0.40157107 0.42028207\n",
      " 0.44518873 0.44918445 0.4303537  0.7203611  0.5166078  0.7091571\n",
      " 0.42497107 0.8433111  0.5068051  0.53625643 0.6258408  0.66346943\n",
      " 0.677845   0.6651287  0.61037123 0.6173948  0.4424065  0.43454129\n",
      " 0.4161122  0.42675155 0.44616795 0.47765592 0.6060334  0.48073804\n",
      " 0.44707286 0.58010435 0.89846003 0.7539495  0.57601213 0.4622582\n",
      " 0.5880757  0.67190695 0.41641897 0.5636095  0.42498514 0.4463829\n",
      " 0.59412086 0.65943754 0.45904717 0.4780618  0.43333066]\n",
      "threshold:  0.49986272156238554\n",
      "classifications_subset:  [False False False False False False False False False False False False\n",
      " False False False False False False False False False False False False\n",
      " False False False False False False False False False False False False\n",
      "  True False False False False False  True  True False False  True False\n",
      " False False False False  True False False  True False False False False\n",
      " False False False False False False False False False False False False\n",
      " False False  True False False False False False  True False False False\n",
      " False False False False False False False False False False False False\n",
      " False False False False False False False False False False False False\n",
      " False False False False False False False False False False False False\n",
      " False False False False False False  True False False  True False False\n",
      " False False False False False False False False False False False False\n",
      " False False False False False False False False False False  True False\n",
      " False False False False False  True False False False False False False\n",
      " False  True False False False False False False False False False False\n",
      " False False False False False False False  True False False False False\n",
      " False False False False False False  True False False False  True False\n",
      " False False False False False False False False False False False False\n",
      " False  True  True False False False False False False  True  True  True\n",
      " False  True  True  True  True  True  True  True  True  True False False\n",
      " False False False False  True False False  True  True  True  True False\n",
      "  True  True False  True False False  True  True False False False]\n",
      "k_iter:  1\n"
     ]
    },
    {
     "name": "stderr",
     "output_type": "stream",
     "text": [
      "GPU available: True (cuda), used: True\n",
      "TPU available: False, using: 0 TPU cores\n",
      "IPU available: False, using: 0 IPUs\n",
      "HPU available: False, using: 0 HPUs\n",
      "/home/wueesmat/anaconda3/envs/anomalib_env/lib/python3.10/site-packages/torchmetrics/utilities/prints.py:36: UserWarning: Metric `PrecisionRecallCurve` will save all targets and predictions in buffer. For large datasets this may lead to large memory footprint.\n",
      "  warnings.warn(*args, **kwargs)\n",
      "F1Score class exists for backwards compatibility. It will be removed in v1.1. Please use BinaryF1Score from torchmetrics instead\n",
      "LOCAL_RANK: 0 - CUDA_VISIBLE_DEVICES: [0,1,2,3,4,5,6,7]\n",
      "/home/wueesmat/anaconda3/envs/anomalib_env/lib/python3.10/site-packages/lightning/pytorch/core/optimizer.py:180: `LightningModule.configure_optimizers` returned `None`, this fit will run with no optimizer\n",
      "\n",
      "  | Name                  | Type                     | Params\n",
      "-------------------------------------------------------------------\n",
      "0 | model                 | PatchcoreModel           | 24.9 M\n",
      "1 | _transform            | Compose                  | 0     \n",
      "2 | normalization_metrics | MinMax                   | 0     \n",
      "3 | image_threshold       | F1AdaptiveThreshold      | 0     \n",
      "4 | pixel_threshold       | F1AdaptiveThreshold      | 0     \n",
      "5 | image_metrics         | AnomalibMetricCollection | 0     \n",
      "6 | pixel_metrics         | AnomalibMetricCollection | 0     \n",
      "-------------------------------------------------------------------\n",
      "24.9 M    Trainable params\n",
      "0         Non-trainable params\n",
      "24.9 M    Total params\n",
      "99.450    Total estimated model params size (MB)\n"
     ]
    },
    {
     "data": {
      "application/vnd.jupyter.widget-view+json": {
       "model_id": "8fdc55c7526549dfa7a0b4f850a84e71",
       "version_major": 2,
       "version_minor": 0
      },
      "text/plain": [
       "Training: |                                                                                                   …"
      ]
     },
     "metadata": {},
     "output_type": "display_data"
    },
    {
     "data": {
      "application/vnd.jupyter.widget-view+json": {
       "model_id": "f29329da41914ff9bd102c243c326926",
       "version_major": 2,
       "version_minor": 0
      },
      "text/plain": [
       "Validation: |                                                                                                 …"
      ]
     },
     "metadata": {},
     "output_type": "display_data"
    },
    {
     "data": {
      "application/vnd.jupyter.widget-view+json": {
       "model_id": "44c5970b23804028bc2dca369b41ddbc",
       "version_major": 2,
       "version_minor": 0
      },
      "text/plain": [
       "Output()"
      ]
     },
     "metadata": {},
     "output_type": "display_data"
    },
    {
     "data": {
      "text/html": [
       "<pre style=\"white-space:pre;overflow-x:auto;line-height:normal;font-family:Menlo,'DejaVu Sans Mono',consolas,'Courier New',monospace\"></pre>\n"
      ],
      "text/plain": []
     },
     "metadata": {},
     "output_type": "display_data"
    },
    {
     "data": {
      "text/html": [
       "<pre style=\"white-space:pre;overflow-x:auto;line-height:normal;font-family:Menlo,'DejaVu Sans Mono',consolas,'Courier New',monospace\">\n",
       "</pre>\n"
      ],
      "text/plain": [
       "\n"
      ]
     },
     "metadata": {},
     "output_type": "display_data"
    },
    {
     "name": "stderr",
     "output_type": "stream",
     "text": [
      "`Trainer.fit` stopped: `max_epochs=1` reached.\n",
      "ckpt_path is not provided. Model weights will not be loaded.\n",
      "/home/wueesmat/anaconda3/envs/anomalib_env/lib/python3.10/site-packages/lightning/fabric/plugins/environments/slurm.py:191: The `srun` command is available on your system but is not used. HINT: If your intention is to run Lightning on SLURM, prepend your python command with `srun` like so: srun python /home/wueesmat/anaconda3/envs/anomalib_env/lib/pytho ...\n",
      "F1Score class exists for backwards compatibility. It will be removed in v1.1. Please use BinaryF1Score from torchmetrics instead\n",
      "LOCAL_RANK: 0 - CUDA_VISIBLE_DEVICES: [0,1,2,3,4,5,6,7]\n",
      "/home/wueesmat/anaconda3/envs/anomalib_env/lib/python3.10/site-packages/lightning/pytorch/trainer/connectors/data_connector.py:441: The 'predict_dataloader' does not have many workers which may be a bottleneck. Consider increasing the value of the `num_workers` argument` to `num_workers=31` in the `DataLoader` to improve performance.\n"
     ]
    },
    {
     "data": {
      "application/vnd.jupyter.widget-view+json": {
       "model_id": "05eed7ae2b644bba949039be7a75be28",
       "version_major": 2,
       "version_minor": 0
      },
      "text/plain": [
       "Predicting: |                                                                                                 …"
      ]
     },
     "metadata": {},
     "output_type": "display_data"
    },
    {
     "name": "stderr",
     "output_type": "stream",
     "text": [
      "Seed set to 1\n"
     ]
    },
    {
     "name": "stdout",
     "output_type": "stream",
     "text": [
      "prediction_scores_subset:  [0.49112087 0.46449816 0.44801    0.4791767  0.4664933  0.4720628\n",
      " 0.45042717 0.4540324  0.4576468  0.50054497 0.45332107 0.45263615\n",
      " 0.49320564 0.43693003 0.44592956 0.45956844 0.46657622 0.44716418\n",
      " 0.49167505 0.4750302  0.48171186 0.4608239  0.44317535 0.46675584\n",
      " 0.4731124  0.49093196 0.4488059  0.5098373  0.46669728 0.5060122\n",
      " 0.4870388  0.48523024 0.4550576  0.498886   0.51149267 0.46886283\n",
      " 0.4886401  0.50023997 0.48474917 0.4701742  0.4677123  0.47647732\n",
      " 0.488883   0.47921017 0.49923915 0.4474465  0.4400883  0.45666003\n",
      " 0.46784914 0.47921798 0.46849003 0.46356907 0.48965752 0.45733392\n",
      " 0.44075754 0.46267214 0.43933487 0.45786458 0.48630807 0.46088928\n",
      " 0.527011   0.4509707  0.4469278  0.45326877 0.47420916 0.4577654\n",
      " 0.45575905 0.47939894 0.47103938 0.5110344  0.45909375 0.4695723\n",
      " 0.5115441  0.4843837  0.43468222 0.42838573 0.4330695  0.45136768\n",
      " 0.442605   0.4927171  0.55502117 0.43456593 0.42909873 0.45228586\n",
      " 0.44715002 0.43069074 0.5036678  0.44631085 0.47486043 0.4454206\n",
      " 0.43948776 0.49073648 0.4596552  0.5164327  0.45251527 0.45486218\n",
      " 0.49333045 0.46058726 0.47021335 0.44641733 0.47926772 0.48280376\n",
      " 0.46092826 0.44084376 0.48766026 0.44595963 0.45534733 0.47711778\n",
      " 0.4711436  0.46098316 0.51281315 0.48375127 0.45482075 0.46504918\n",
      " 0.512327   0.46415344 0.48944157 0.46070394 0.47866237 0.4526221\n",
      " 0.48579746 0.47613022 0.47038513 0.4422535  0.4649064  0.54817873\n",
      " 0.54566944 0.49310288 0.49654356 0.4669182  0.4876806  0.4591884\n",
      " 0.4907499  0.46415517 0.46337843 0.5066886  0.4889083  0.489807\n",
      " 0.448488   0.46908513 0.42878243 0.44623032 0.46154314 0.44581193\n",
      " 0.46407783 0.44885263 0.4766047  0.46883076 0.43553364 0.50309455\n",
      " 0.4617855  0.4578766  0.47649848 0.48114103 0.44972652 0.51250327\n",
      " 0.4774723  0.47745937 0.45478728 0.4582555  0.47340354 0.45372108\n",
      " 0.45111522 0.47235048 0.44132715 0.4681353  0.469737   0.47940704\n",
      " 0.4804599  0.47149098 0.50184274 0.47107232 0.44009048 0.4401438\n",
      " 0.4595346  0.454083   0.45955887 0.45627746 0.48392242 0.44849065\n",
      " 0.45277828 0.44436082 0.5165709  0.44230023 0.44688907 0.43244684\n",
      " 0.4855198  0.44752097 0.45120198 0.4492642  0.54327524 0.44415274\n",
      " 0.45469198 0.46660396 0.4848735  0.44788268 0.44911146 0.44280234\n",
      " 0.52538335 0.5771669  0.5109382  0.4615543  0.46376532 0.46887457\n",
      " 0.51086795 0.46677893 0.43234575 0.47503486 0.4604087  0.46001387\n",
      " 0.48522633 0.47377807 0.49394166 0.4314133  0.44095966 0.4584103\n",
      " 0.49418265 0.4577012  0.44899747 0.51004016 0.5050248  0.44979963\n",
      " 0.45566842 0.45622748 0.57701623 0.45176032 0.478117   0.45673987\n",
      " 0.5681589  0.4875466  0.47088507 0.53666836 0.45202214 0.6283328\n",
      " 0.5383983  0.6374419  0.44424903 0.67792547 0.47214994 0.6958066\n",
      " 0.77593565 0.85579884 0.5001796  0.45180798 0.45490178 0.46830523\n",
      " 0.51579905 0.4754202  0.44704363 0.46856192 0.5850512  0.666026\n",
      " 0.6569507  0.5626575  0.62817997 0.5657207  0.6011368  0.5124877\n",
      " 0.46259788 0.48547313 0.59757    0.4435972  0.49252638]\n",
      "threshold:  0.5064856767654419\n",
      "classifications_subset:  [False False False False False False False False False False False False\n",
      " False False False False False False False False False False False False\n",
      " False False False  True False False False False False False  True False\n",
      " False False False False False False False False False False False False\n",
      " False False False False False False False False False False False False\n",
      "  True False False False False False False False False  True False False\n",
      "  True False False False False False False False  True False False False\n",
      " False False False False False False False False False  True False False\n",
      " False False False False False False False False False False False False\n",
      " False False  True False False False  True False False False False False\n",
      " False False False False False  True  True False False False False False\n",
      " False False False  True False False False False False False False False\n",
      " False False False False False False False False False False False  True\n",
      " False False False False False False False False False False False False\n",
      " False False False False False False False False False False False False\n",
      " False False  True False False False False False False False  True False\n",
      " False False False False False False  True  True  True False False False\n",
      "  True False False False False False False False False False False False\n",
      " False False False  True False False False False  True False False False\n",
      "  True False False  True False  True  True  True False  True False  True\n",
      "  True  True False False False False  True False False False  True  True\n",
      "  True  True  True  True  True  True False False  True False False]\n",
      "k_iter:  2\n"
     ]
    },
    {
     "name": "stderr",
     "output_type": "stream",
     "text": [
      "GPU available: True (cuda), used: True\n",
      "TPU available: False, using: 0 TPU cores\n",
      "IPU available: False, using: 0 IPUs\n",
      "HPU available: False, using: 0 HPUs\n",
      "/home/wueesmat/anaconda3/envs/anomalib_env/lib/python3.10/site-packages/torchmetrics/utilities/prints.py:36: UserWarning: Metric `PrecisionRecallCurve` will save all targets and predictions in buffer. For large datasets this may lead to large memory footprint.\n",
      "  warnings.warn(*args, **kwargs)\n",
      "F1Score class exists for backwards compatibility. It will be removed in v1.1. Please use BinaryF1Score from torchmetrics instead\n",
      "LOCAL_RANK: 0 - CUDA_VISIBLE_DEVICES: [0,1,2,3,4,5,6,7]\n",
      "/home/wueesmat/anaconda3/envs/anomalib_env/lib/python3.10/site-packages/lightning/pytorch/core/optimizer.py:180: `LightningModule.configure_optimizers` returned `None`, this fit will run with no optimizer\n",
      "\n",
      "  | Name                  | Type                     | Params\n",
      "-------------------------------------------------------------------\n",
      "0 | model                 | PatchcoreModel           | 24.9 M\n",
      "1 | _transform            | Compose                  | 0     \n",
      "2 | normalization_metrics | MinMax                   | 0     \n",
      "3 | image_threshold       | F1AdaptiveThreshold      | 0     \n",
      "4 | pixel_threshold       | F1AdaptiveThreshold      | 0     \n",
      "5 | image_metrics         | AnomalibMetricCollection | 0     \n",
      "6 | pixel_metrics         | AnomalibMetricCollection | 0     \n",
      "-------------------------------------------------------------------\n",
      "24.9 M    Trainable params\n",
      "0         Non-trainable params\n",
      "24.9 M    Total params\n",
      "99.450    Total estimated model params size (MB)\n"
     ]
    },
    {
     "data": {
      "application/vnd.jupyter.widget-view+json": {
       "model_id": "4154fa8de50d495c8fa41f193ad7f9f1",
       "version_major": 2,
       "version_minor": 0
      },
      "text/plain": [
       "Training: |                                                                                                   …"
      ]
     },
     "metadata": {},
     "output_type": "display_data"
    },
    {
     "data": {
      "application/vnd.jupyter.widget-view+json": {
       "model_id": "fc872cd910214ae698308c751b30d3f4",
       "version_major": 2,
       "version_minor": 0
      },
      "text/plain": [
       "Validation: |                                                                                                 …"
      ]
     },
     "metadata": {},
     "output_type": "display_data"
    },
    {
     "data": {
      "application/vnd.jupyter.widget-view+json": {
       "model_id": "1e8bee95f59f467ca7bc72b781c19a62",
       "version_major": 2,
       "version_minor": 0
      },
      "text/plain": [
       "Output()"
      ]
     },
     "metadata": {},
     "output_type": "display_data"
    },
    {
     "data": {
      "text/html": [
       "<pre style=\"white-space:pre;overflow-x:auto;line-height:normal;font-family:Menlo,'DejaVu Sans Mono',consolas,'Courier New',monospace\"></pre>\n"
      ],
      "text/plain": []
     },
     "metadata": {},
     "output_type": "display_data"
    },
    {
     "data": {
      "text/html": [
       "<pre style=\"white-space:pre;overflow-x:auto;line-height:normal;font-family:Menlo,'DejaVu Sans Mono',consolas,'Courier New',monospace\">\n",
       "</pre>\n"
      ],
      "text/plain": [
       "\n"
      ]
     },
     "metadata": {},
     "output_type": "display_data"
    },
    {
     "name": "stderr",
     "output_type": "stream",
     "text": [
      "`Trainer.fit` stopped: `max_epochs=1` reached.\n",
      "ckpt_path is not provided. Model weights will not be loaded.\n",
      "/home/wueesmat/anaconda3/envs/anomalib_env/lib/python3.10/site-packages/lightning/fabric/plugins/environments/slurm.py:191: The `srun` command is available on your system but is not used. HINT: If your intention is to run Lightning on SLURM, prepend your python command with `srun` like so: srun python /home/wueesmat/anaconda3/envs/anomalib_env/lib/pytho ...\n",
      "F1Score class exists for backwards compatibility. It will be removed in v1.1. Please use BinaryF1Score from torchmetrics instead\n",
      "LOCAL_RANK: 0 - CUDA_VISIBLE_DEVICES: [0,1,2,3,4,5,6,7]\n",
      "/home/wueesmat/anaconda3/envs/anomalib_env/lib/python3.10/site-packages/lightning/pytorch/trainer/connectors/data_connector.py:441: The 'predict_dataloader' does not have many workers which may be a bottleneck. Consider increasing the value of the `num_workers` argument` to `num_workers=31` in the `DataLoader` to improve performance.\n"
     ]
    },
    {
     "data": {
      "application/vnd.jupyter.widget-view+json": {
       "model_id": "4062f35f9c91473e974cf33a658b6ab8",
       "version_major": 2,
       "version_minor": 0
      },
      "text/plain": [
       "Predicting: |                                                                                                 …"
      ]
     },
     "metadata": {},
     "output_type": "display_data"
    },
    {
     "name": "stdout",
     "output_type": "stream",
     "text": [
      "prediction_scores_subset:  [0.4803127  0.46181118 0.4760761  0.44497794 0.4475051  0.48750746\n",
      " 0.48229647 0.4355451  0.45020682 0.44910192 0.46979055 0.4657429\n",
      " 0.47763804 0.4590338  0.46203852 0.43435454 0.45344755 0.45203155\n",
      " 0.47991163 0.44794372 0.4409587  0.47402322 0.439908   0.46210754\n",
      " 0.4762875  0.43664467 0.43923295 0.51462054 0.47109142 0.46712795\n",
      " 0.4401586  0.47373873 0.49345958 0.5080742  0.55917984 0.48810953\n",
      " 0.4961709  0.4745935  0.46183228 0.477514   0.5060404  0.46831924\n",
      " 0.5078173  0.46192914 0.5117592  0.4565674  0.5159368  0.47331828\n",
      " 0.48538548 0.44054896 0.45971835 0.4738288  0.45681912 0.47357088\n",
      " 0.49517792 0.48734146 0.53322524 0.43744266 0.45631137 0.46551538\n",
      " 0.4529311  0.4307804  0.43166962 0.47252744 0.4729891  0.4823275\n",
      " 0.46653342 0.486736   0.42621168 0.5173511  0.46147707 0.4514356\n",
      " 0.4744975  0.4611692  0.51200813 0.5168028  0.4509202  0.47615996\n",
      " 0.46332476 0.46622324 0.45476258 0.5103805  0.51351595 0.4578194\n",
      " 0.48929718 0.46632168 0.45572683 0.48235902 0.45513088 0.47079477\n",
      " 0.45168257 0.48623127 0.46074766 0.4768424  0.4603832  0.46435466\n",
      " 0.4332332  0.5036709  0.48061264 0.44632852 0.42837197 0.46467638\n",
      " 0.47717306 0.49994233 0.45898053 0.46971    0.47318316 0.4505694\n",
      " 0.49612832 0.4507187  0.50666606 0.44971436 0.47153363 0.46032196\n",
      " 0.53366554 0.4798484  0.48085153 0.4784968  0.4678194  0.4435202\n",
      " 0.5040651  0.464777   0.46107107 0.45860583 0.48738694 0.4809042\n",
      " 0.4241823  0.49486646 0.4447624  0.43466222 0.47862965 0.4518752\n",
      " 0.46280175 0.44590628 0.43967447 0.4669222  0.46660826 0.43418938\n",
      " 0.46892732 0.45122814 0.457019   0.4758053  0.42800897 0.4895331\n",
      " 0.46218306 0.46781906 0.43977723 0.4675236  0.4855379  0.43868247\n",
      " 0.44676745 0.4572622  0.43551457 0.44966978 0.4709522  0.44611335\n",
      " 0.4445798  0.43551752 0.44062087 0.47720015 0.5039995  0.48567832\n",
      " 0.48331314 0.47099486 0.48733085 0.45515776 0.4244321  0.47599453\n",
      " 0.45711204 0.5575488  0.4713151  0.49315488 0.5349257  0.46085727\n",
      " 0.45214278 0.44502065 0.448941   0.45662013 0.44066608 0.5174497\n",
      " 0.46210837 0.43903103 0.50064254 0.47044128 0.53668517 0.46586147\n",
      " 0.47519407 0.5245809  0.46390933 0.4489423  0.5043008  0.45392188\n",
      " 0.45382094 0.48795223 0.51955396 0.46784118 0.45126113 0.5009754\n",
      " 0.42905194 0.5684824  0.47109243 0.46422789 0.4741053  0.44929233\n",
      " 0.42379898 0.5038855  0.46767145 0.462638   0.46023783 0.44543448\n",
      " 0.48413575 0.4751926  0.43550637 0.48742333 0.5031019  0.4564298\n",
      " 0.47203505 0.47361726 0.4849624  0.47669148 0.50439924 0.49037215\n",
      " 0.43931708 0.44766307 0.57183605 0.4432959  0.45222622 0.5553213\n",
      " 0.6002071  0.6276     0.49452814 0.4305263  0.6032781  0.4938575\n",
      " 0.44597864 0.46195707 0.61955214 0.4454664  0.48553616 0.72012293\n",
      " 0.7629287  0.8477869  0.52336174 0.5201851  0.62584907 0.49305415\n",
      " 0.51679045 0.60653275 0.8128092  0.5506568  0.46006143 0.64254004\n",
      " 0.45105767 0.45583895 0.53406936 0.48969683 0.5410178  0.52063465\n",
      " 0.5633956  0.66184574 0.5737276  0.51954675 0.5397679 ]\n",
      "threshold:  0.5130636036396027\n",
      "classifications_subset:  [False False False False False False False False False False False False\n",
      " False False False False False False False False False False False False\n",
      " False False False  True False False False False False False  True False\n",
      " False False False False False False False False False False  True False\n",
      " False False False False False False False False  True False False False\n",
      " False False False False False False False False False  True False False\n",
      " False False False  True False False False False False False  True False\n",
      " False False False False False False False False False False False False\n",
      " False False False False False False False False False False False False\n",
      " False False False False False False  True False False False False False\n",
      " False False False False False False False False False False False False\n",
      " False False False False False False False False False False False False\n",
      " False False False False False False False False False False False False\n",
      " False False False False False False False False False False False False\n",
      " False  True False False  True False False False False False False  True\n",
      " False False False False  True False False  True False False False False\n",
      " False False  True False False False False  True False False False False\n",
      " False False False False False False False False False False False False\n",
      " False False False False False False False False  True False False  True\n",
      "  True  True False False  True False False False  True False False  True\n",
      "  True  True  True  True  True False  True  True  True  True False  True\n",
      " False False  True False  True  True  True  True  True  True  True]\n"
     ]
    },
    {
     "name": "stderr",
     "output_type": "stream",
     "text": [
      "Seed set to 1\n",
      "GPU available: True (cuda), used: True\n",
      "TPU available: False, using: 0 TPU cores\n",
      "IPU available: False, using: 0 IPUs\n",
      "HPU available: False, using: 0 HPUs\n",
      "/home/wueesmat/anaconda3/envs/anomalib_env/lib/python3.10/site-packages/torchmetrics/utilities/prints.py:36: UserWarning: Metric `PrecisionRecallCurve` will save all targets and predictions in buffer. For large datasets this may lead to large memory footprint.\n",
      "  warnings.warn(*args, **kwargs)\n",
      "F1Score class exists for backwards compatibility. It will be removed in v1.1. Please use BinaryF1Score from torchmetrics instead\n",
      "LOCAL_RANK: 0 - CUDA_VISIBLE_DEVICES: [0,1,2,3,4,5,6,7]\n",
      "/home/wueesmat/anaconda3/envs/anomalib_env/lib/python3.10/site-packages/lightning/pytorch/core/optimizer.py:180: `LightningModule.configure_optimizers` returned `None`, this fit will run with no optimizer\n",
      "\n",
      "  | Name                  | Type                     | Params\n",
      "-------------------------------------------------------------------\n",
      "0 | model                 | PatchcoreModel           | 24.9 M\n",
      "1 | _transform            | Compose                  | 0     \n",
      "2 | normalization_metrics | MinMax                   | 0     \n",
      "3 | image_threshold       | F1AdaptiveThreshold      | 0     \n",
      "4 | pixel_threshold       | F1AdaptiveThreshold      | 0     \n",
      "5 | image_metrics         | AnomalibMetricCollection | 0     \n",
      "6 | pixel_metrics         | AnomalibMetricCollection | 0     \n",
      "-------------------------------------------------------------------\n",
      "24.9 M    Trainable params\n",
      "0         Non-trainable params\n",
      "24.9 M    Total params\n",
      "99.450    Total estimated model params size (MB)\n"
     ]
    },
    {
     "data": {
      "application/vnd.jupyter.widget-view+json": {
       "model_id": "fe76670a79a64abebee86b1c741638a9",
       "version_major": 2,
       "version_minor": 0
      },
      "text/plain": [
       "Training: |                                                                                                   …"
      ]
     },
     "metadata": {},
     "output_type": "display_data"
    },
    {
     "data": {
      "application/vnd.jupyter.widget-view+json": {
       "model_id": "dc58890819bb48d99023bcf989fc164f",
       "version_major": 2,
       "version_minor": 0
      },
      "text/plain": [
       "Validation: |                                                                                                 …"
      ]
     },
     "metadata": {},
     "output_type": "display_data"
    },
    {
     "data": {
      "application/vnd.jupyter.widget-view+json": {
       "model_id": "9f41b242cb9243248555ebe9fde2717e",
       "version_major": 2,
       "version_minor": 0
      },
      "text/plain": [
       "Output()"
      ]
     },
     "metadata": {},
     "output_type": "display_data"
    },
    {
     "data": {
      "text/html": [
       "<pre style=\"white-space:pre;overflow-x:auto;line-height:normal;font-family:Menlo,'DejaVu Sans Mono',consolas,'Courier New',monospace\"></pre>\n"
      ],
      "text/plain": []
     },
     "metadata": {},
     "output_type": "display_data"
    },
    {
     "data": {
      "text/html": [
       "<pre style=\"white-space:pre;overflow-x:auto;line-height:normal;font-family:Menlo,'DejaVu Sans Mono',consolas,'Courier New',monospace\">\n",
       "</pre>\n"
      ],
      "text/plain": [
       "\n"
      ]
     },
     "metadata": {},
     "output_type": "display_data"
    },
    {
     "name": "stderr",
     "output_type": "stream",
     "text": [
      "`Trainer.fit` stopped: `max_epochs=1` reached.\n",
      "F1Score class exists for backwards compatibility. It will be removed in v1.1. Please use BinaryF1Score from torchmetrics instead\n",
      "Restoring states from the checkpoint path at /home/wueesmat/MT/anomalib/results/Patchcore/MVTec_contaminated/cable/v764/weights/lightning/model.ckpt\n",
      "LOCAL_RANK: 0 - CUDA_VISIBLE_DEVICES: [0,1,2,3,4,5,6,7]\n",
      "Loaded model weights from the checkpoint at /home/wueesmat/MT/anomalib/results/Patchcore/MVTec_contaminated/cable/v764/weights/lightning/model.ckpt\n"
     ]
    },
    {
     "data": {
      "application/vnd.jupyter.widget-view+json": {
       "model_id": "32115d8db406440d820fa5c1684e7a63",
       "version_major": 2,
       "version_minor": 0
      },
      "text/plain": [
       "Testing: |                                                                                                    …"
      ]
     },
     "metadata": {},
     "output_type": "display_data"
    },
    {
     "name": "stderr",
     "output_type": "stream",
     "text": [
      "Seed set to 1\n",
      "Seed set to 1\n"
     ]
    },
    {
     "name": "stdout",
     "output_type": "stream",
     "text": [
      "k:  5\n",
      "train_dataset_length: 263\n",
      "indices_disjoint_datasets:  [array([ 95,  12, 164, 176,  51, 257, 224, 167,  78, 123, 174,  73, 192,\n",
      "        44, 138,  38, 112,   4, 240, 251, 239,  34,  88, 180, 256, 108,\n",
      "        62, 190,  90,  58, 262,  93,  27, 130,  39, 205,  91, 182, 163,\n",
      "        85, 168, 170, 238, 132,  99,  79, 220, 102, 147, 241,  31,  18,\n",
      "       120]), array([219, 210,  19, 110, 242,  33, 194, 199,  35,  11, 228,  29,   0,\n",
      "       177, 122,  67, 260,  28,  16, 171, 150,  47, 208,  40, 107, 246,\n",
      "        69, 188, 118, 119, 186, 254, 114,  59, 127, 152, 158, 154, 117,\n",
      "       106,  14, 169, 249,  21,  89,  56, 227,  55, 230, 185,  84,  53,\n",
      "       259]), array([140, 247, 187, 116, 148,  42,  17,   5, 195, 183,  48, 159, 245,\n",
      "        66,  70, 232, 211, 105, 218,  54, 244,  98, 145,  97, 197,  82,\n",
      "       243,  94, 236, 191,  81, 124, 172, 173,  13, 261, 179,  45, 189,\n",
      "       103,  36, 213, 248, 258, 181,  75, 161, 229, 221, 202,   2, 214,\n",
      "         6]), array([223, 206,  77, 113,  65, 151, 160,  46,  74,  92, 193,  87, 143,\n",
      "       184,  10, 162,  32, 136, 166,  83, 207, 165, 155, 100, 125,  23,\n",
      "       126,   9, 226, 104, 153, 201, 135, 111, 250,  64,  15,  41, 217,\n",
      "       109,  80,  52,  26,  76,  43,  24, 196,   3, 225,  49, 149, 198]), array([131, 253,  30, 200, 121, 175, 115, 231, 216,   8, 209,  60, 128,\n",
      "         1,  57,  22,  61,  63,   7, 137, 141,  86,  96, 222, 233, 252,\n",
      "       215,  68,  50, 142, 157, 156, 234, 139, 212, 146, 101,  20, 178,\n",
      "        25, 134, 237,  71, 204, 129, 144, 133, 203, 255,  72, 235,  37])]\n",
      "k_iter:  0\n"
     ]
    },
    {
     "name": "stderr",
     "output_type": "stream",
     "text": [
      "/home/wueesmat/anaconda3/envs/anomalib_env/lib/python3.10/site-packages/lightning/fabric/plugins/environments/slurm.py:191: The `srun` command is available on your system but is not used. HINT: If your intention is to run Lightning on SLURM, prepend your python command with `srun` like so: srun python /home/wueesmat/anaconda3/envs/anomalib_env/lib/pytho ...\n",
      "GPU available: True (cuda), used: True\n",
      "TPU available: False, using: 0 TPU cores\n",
      "IPU available: False, using: 0 IPUs\n",
      "HPU available: False, using: 0 HPUs\n",
      "/home/wueesmat/anaconda3/envs/anomalib_env/lib/python3.10/site-packages/torchmetrics/utilities/prints.py:36: UserWarning: Metric `PrecisionRecallCurve` will save all targets and predictions in buffer. For large datasets this may lead to large memory footprint.\n",
      "  warnings.warn(*args, **kwargs)\n",
      "F1Score class exists for backwards compatibility. It will be removed in v1.1. Please use BinaryF1Score from torchmetrics instead\n",
      "LOCAL_RANK: 0 - CUDA_VISIBLE_DEVICES: [0,1,2,3,4,5,6,7]\n",
      "/home/wueesmat/anaconda3/envs/anomalib_env/lib/python3.10/site-packages/lightning/pytorch/core/optimizer.py:180: `LightningModule.configure_optimizers` returned `None`, this fit will run with no optimizer\n",
      "\n",
      "  | Name                  | Type                     | Params\n",
      "-------------------------------------------------------------------\n",
      "0 | model                 | PatchcoreModel           | 24.9 M\n",
      "1 | _transform            | Compose                  | 0     \n",
      "2 | normalization_metrics | MinMax                   | 0     \n",
      "3 | image_threshold       | F1AdaptiveThreshold      | 0     \n",
      "4 | pixel_threshold       | F1AdaptiveThreshold      | 0     \n",
      "5 | image_metrics         | AnomalibMetricCollection | 0     \n",
      "6 | pixel_metrics         | AnomalibMetricCollection | 0     \n",
      "-------------------------------------------------------------------\n",
      "24.9 M    Trainable params\n",
      "0         Non-trainable params\n",
      "24.9 M    Total params\n",
      "99.450    Total estimated model params size (MB)\n"
     ]
    },
    {
     "data": {
      "application/vnd.jupyter.widget-view+json": {
       "model_id": "644864075edb4d6ca64e0e3316a8383b",
       "version_major": 2,
       "version_minor": 0
      },
      "text/plain": [
       "Training: |                                                                                                   …"
      ]
     },
     "metadata": {},
     "output_type": "display_data"
    },
    {
     "data": {
      "application/vnd.jupyter.widget-view+json": {
       "model_id": "b24b4e5332d64bd385886c5b2aa6f219",
       "version_major": 2,
       "version_minor": 0
      },
      "text/plain": [
       "Validation: |                                                                                                 …"
      ]
     },
     "metadata": {},
     "output_type": "display_data"
    },
    {
     "data": {
      "application/vnd.jupyter.widget-view+json": {
       "model_id": "42dc97899cbe4c77843360e582cbe4e3",
       "version_major": 2,
       "version_minor": 0
      },
      "text/plain": [
       "Output()"
      ]
     },
     "metadata": {},
     "output_type": "display_data"
    },
    {
     "data": {
      "text/html": [
       "<pre style=\"white-space:pre;overflow-x:auto;line-height:normal;font-family:Menlo,'DejaVu Sans Mono',consolas,'Courier New',monospace\"></pre>\n"
      ],
      "text/plain": []
     },
     "metadata": {},
     "output_type": "display_data"
    },
    {
     "data": {
      "text/html": [
       "<pre style=\"white-space:pre;overflow-x:auto;line-height:normal;font-family:Menlo,'DejaVu Sans Mono',consolas,'Courier New',monospace\">\n",
       "</pre>\n"
      ],
      "text/plain": [
       "\n"
      ]
     },
     "metadata": {},
     "output_type": "display_data"
    },
    {
     "name": "stderr",
     "output_type": "stream",
     "text": [
      "`Trainer.fit` stopped: `max_epochs=1` reached.\n",
      "ckpt_path is not provided. Model weights will not be loaded.\n",
      "/home/wueesmat/anaconda3/envs/anomalib_env/lib/python3.10/site-packages/lightning/fabric/plugins/environments/slurm.py:191: The `srun` command is available on your system but is not used. HINT: If your intention is to run Lightning on SLURM, prepend your python command with `srun` like so: srun python /home/wueesmat/anaconda3/envs/anomalib_env/lib/pytho ...\n",
      "F1Score class exists for backwards compatibility. It will be removed in v1.1. Please use BinaryF1Score from torchmetrics instead\n",
      "LOCAL_RANK: 0 - CUDA_VISIBLE_DEVICES: [0,1,2,3,4,5,6,7]\n",
      "/home/wueesmat/anaconda3/envs/anomalib_env/lib/python3.10/site-packages/lightning/pytorch/trainer/connectors/data_connector.py:441: The 'predict_dataloader' does not have many workers which may be a bottleneck. Consider increasing the value of the `num_workers` argument` to `num_workers=31` in the `DataLoader` to improve performance.\n"
     ]
    },
    {
     "data": {
      "application/vnd.jupyter.widget-view+json": {
       "model_id": "ba948d4d26914f4089abf6ab15c53f02",
       "version_major": 2,
       "version_minor": 0
      },
      "text/plain": [
       "Predicting: |                                                                                                 …"
      ]
     },
     "metadata": {},
     "output_type": "display_data"
    },
    {
     "name": "stderr",
     "output_type": "stream",
     "text": [
      "Seed set to 1\n"
     ]
    },
    {
     "name": "stdout",
     "output_type": "stream",
     "text": [
      "prediction_scores_subset:  [0.44526875 0.44450945 0.4350322  0.48750114 0.39806563 0.4431672\n",
      " 0.48371768 0.46784365 0.4230421  0.42571047 0.4431291  0.47320724\n",
      " 0.39861533 0.45079222 0.46561328 0.4586199  0.4429819  0.50301397\n",
      " 0.37780094 0.46976262 0.45414788 0.41192627 0.4429051  0.4920476\n",
      " 0.47567287 0.41536742 0.46364883 0.43449134 0.46981364 0.43780977\n",
      " 0.40240562 0.38407207 0.44168252 0.414882   0.4885996  0.41506305\n",
      " 0.48117065 0.41911978 0.42419246 0.46115506 0.43838778 0.45227906\n",
      " 0.46321732 0.4688102  0.43283993 0.4618781  0.45556104 0.47296596\n",
      " 0.44336697 0.46679142 0.47327814 0.5006017  0.3954869  0.41815078\n",
      " 0.4540407  0.4415316  0.4460076  0.4534186  0.4791285  0.4662457\n",
      " 0.48387453 0.4115137  0.44809258 0.43130267 0.45157677 0.4306436\n",
      " 0.41435954 0.39088538 0.46146974 0.47560075 0.5057162  0.44076246\n",
      " 0.43919107 0.44115883 0.560704   0.5341242  0.3779838  0.42680383\n",
      " 0.4325288  0.4472721  0.49918592 0.44206187 0.43229976 0.45858058\n",
      " 0.48105365 0.42699355 0.43462014 0.4670741  0.47578484 0.43043894\n",
      " 0.49155042 0.44120708 0.4303039  0.3951282  0.45729986 0.49934173\n",
      " 0.42950034 0.42942622 0.41914722 0.39240658 0.4490784  0.46072996\n",
      " 0.41852295 0.44300976 0.4606169  0.42866257 0.41207504 0.47238457\n",
      " 0.4130159  0.4348731  0.5563903  0.4369325  0.49276805 0.40146527\n",
      " 0.46696752 0.43325365 0.41364953 0.40328348 0.41896063 0.4462085\n",
      " 0.4127925  0.439949   0.44855663 0.42808995 0.47037297 0.5130649\n",
      " 0.4257673  0.5002706  0.44262737 0.4786241  0.4561682  0.4556008\n",
      " 0.44058108 0.45035577 0.45301747 0.44110686 0.479448   0.45084447\n",
      " 0.4085515  0.46794137 0.45203215 0.4104187  0.42202258 0.43591708\n",
      " 0.46097982 0.38507056 0.43203878 0.42609164 0.4141207  0.40831277\n",
      " 0.43959484 0.42261535 0.39673626 0.43999058 0.43318024 0.445013\n",
      " 0.42350876 0.39327022 0.43277362 0.42912734 0.45139262 0.42097366\n",
      " 0.453253   0.43432912 0.46619007 0.43142617 0.4232004  0.4314449\n",
      " 0.45852426 0.5452373  0.41878045 0.4213393  0.42514557 0.42161232\n",
      " 0.46823114 0.471169   0.42348486 0.43410262 0.4181948  0.49876943\n",
      " 0.4477713  0.41329968 0.46118665 0.43972215 0.40039197 0.44919854\n",
      " 0.4207002  0.4636649  0.42781866 0.42057323 0.45143384 0.4337919\n",
      " 0.4052638  0.41653046 0.44729474 0.39925045 0.46327573 0.42527115\n",
      " 0.5055293  0.47324818 0.4452023  0.3957074  0.4459163  0.42276245\n",
      " 0.42814064 0.4153716  0.45361978 0.4539926  0.4331981  0.49343753\n",
      " 0.46304584 0.42047012 0.43831393 0.47042924 0.4805863  0.42808673\n",
      " 0.44640422 0.44327047 0.4885274  0.45318523 0.43859875 0.41587782\n",
      " 0.43726596 0.42354304 0.41296008 0.7705138  0.46540654 0.612189\n",
      " 0.5926769  0.7939662  0.4136759  0.49910644 0.5401136  0.59154934\n",
      " 0.6165563  0.77220213 0.57545525 0.6959838  0.41594458 0.41700763\n",
      " 0.4220028  0.4396278  0.5069923  0.5560184  0.5261303  0.4330542\n",
      " 0.50455093 0.51962936 0.8004782  0.7296797  0.5444858  0.43635008\n",
      " 0.52529204 0.5911893  0.56279194 0.54930913 0.45553222 0.4554944\n",
      " 0.51301664 0.6225439  0.5659216  0.4837202  0.47604007]\n",
      "threshold:  0.4932366847991943\n",
      "classifications_subset:  [False False False False False False False False False False False False\n",
      " False False False False False  True False False False False False False\n",
      " False False False False False False False False False False False False\n",
      " False False False False False False False False False False False False\n",
      " False False False  True False False False False False False False False\n",
      " False False False False False False False False False False  True False\n",
      " False False  True  True False False False False  True False False False\n",
      " False False False False False False False False False False False  True\n",
      " False False False False False False False False False False False False\n",
      " False False  True False False False False False False False False False\n",
      " False False False False False  True False  True False False False False\n",
      " False False False False False False False False False False False False\n",
      " False False False False False False False False False False False False\n",
      " False False False False False False False False False False False False\n",
      " False  True False False False False False False False False False  True\n",
      " False False False False False False False False False False False False\n",
      " False False False False False False  True False False False False False\n",
      " False False False False False  True False False False False False False\n",
      " False False False False False False False False False  True False  True\n",
      "  True  True False  True  True  True  True  True  True  True False False\n",
      " False False  True  True  True False  True  True  True  True  True False\n",
      "  True  True  True  True False False  True  True  True False False]\n",
      "k_iter:  1\n"
     ]
    },
    {
     "name": "stderr",
     "output_type": "stream",
     "text": [
      "GPU available: True (cuda), used: True\n",
      "TPU available: False, using: 0 TPU cores\n",
      "IPU available: False, using: 0 IPUs\n",
      "HPU available: False, using: 0 HPUs\n",
      "/home/wueesmat/anaconda3/envs/anomalib_env/lib/python3.10/site-packages/torchmetrics/utilities/prints.py:36: UserWarning: Metric `PrecisionRecallCurve` will save all targets and predictions in buffer. For large datasets this may lead to large memory footprint.\n",
      "  warnings.warn(*args, **kwargs)\n",
      "F1Score class exists for backwards compatibility. It will be removed in v1.1. Please use BinaryF1Score from torchmetrics instead\n",
      "LOCAL_RANK: 0 - CUDA_VISIBLE_DEVICES: [0,1,2,3,4,5,6,7]\n",
      "/home/wueesmat/anaconda3/envs/anomalib_env/lib/python3.10/site-packages/lightning/pytorch/core/optimizer.py:180: `LightningModule.configure_optimizers` returned `None`, this fit will run with no optimizer\n",
      "\n",
      "  | Name                  | Type                     | Params\n",
      "-------------------------------------------------------------------\n",
      "0 | model                 | PatchcoreModel           | 24.9 M\n",
      "1 | _transform            | Compose                  | 0     \n",
      "2 | normalization_metrics | MinMax                   | 0     \n",
      "3 | image_threshold       | F1AdaptiveThreshold      | 0     \n",
      "4 | pixel_threshold       | F1AdaptiveThreshold      | 0     \n",
      "5 | image_metrics         | AnomalibMetricCollection | 0     \n",
      "6 | pixel_metrics         | AnomalibMetricCollection | 0     \n",
      "-------------------------------------------------------------------\n",
      "24.9 M    Trainable params\n",
      "0         Non-trainable params\n",
      "24.9 M    Total params\n",
      "99.450    Total estimated model params size (MB)\n"
     ]
    },
    {
     "data": {
      "application/vnd.jupyter.widget-view+json": {
       "model_id": "0f79e54f8cbc4a8fa83523922a94c239",
       "version_major": 2,
       "version_minor": 0
      },
      "text/plain": [
       "Training: |                                                                                                   …"
      ]
     },
     "metadata": {},
     "output_type": "display_data"
    },
    {
     "data": {
      "application/vnd.jupyter.widget-view+json": {
       "model_id": "8cdc88c662204f8e9cca4fe9670e900d",
       "version_major": 2,
       "version_minor": 0
      },
      "text/plain": [
       "Validation: |                                                                                                 …"
      ]
     },
     "metadata": {},
     "output_type": "display_data"
    },
    {
     "data": {
      "application/vnd.jupyter.widget-view+json": {
       "model_id": "6711c74770964278825121d80ea8a442",
       "version_major": 2,
       "version_minor": 0
      },
      "text/plain": [
       "Output()"
      ]
     },
     "metadata": {},
     "output_type": "display_data"
    },
    {
     "data": {
      "text/html": [
       "<pre style=\"white-space:pre;overflow-x:auto;line-height:normal;font-family:Menlo,'DejaVu Sans Mono',consolas,'Courier New',monospace\"></pre>\n"
      ],
      "text/plain": []
     },
     "metadata": {},
     "output_type": "display_data"
    },
    {
     "data": {
      "text/html": [
       "<pre style=\"white-space:pre;overflow-x:auto;line-height:normal;font-family:Menlo,'DejaVu Sans Mono',consolas,'Courier New',monospace\">\n",
       "</pre>\n"
      ],
      "text/plain": [
       "\n"
      ]
     },
     "metadata": {},
     "output_type": "display_data"
    },
    {
     "name": "stderr",
     "output_type": "stream",
     "text": [
      "`Trainer.fit` stopped: `max_epochs=1` reached.\n",
      "ckpt_path is not provided. Model weights will not be loaded.\n",
      "/home/wueesmat/anaconda3/envs/anomalib_env/lib/python3.10/site-packages/lightning/fabric/plugins/environments/slurm.py:191: The `srun` command is available on your system but is not used. HINT: If your intention is to run Lightning on SLURM, prepend your python command with `srun` like so: srun python /home/wueesmat/anaconda3/envs/anomalib_env/lib/pytho ...\n",
      "F1Score class exists for backwards compatibility. It will be removed in v1.1. Please use BinaryF1Score from torchmetrics instead\n",
      "LOCAL_RANK: 0 - CUDA_VISIBLE_DEVICES: [0,1,2,3,4,5,6,7]\n",
      "/home/wueesmat/anaconda3/envs/anomalib_env/lib/python3.10/site-packages/lightning/pytorch/trainer/connectors/data_connector.py:441: The 'predict_dataloader' does not have many workers which may be a bottleneck. Consider increasing the value of the `num_workers` argument` to `num_workers=31` in the `DataLoader` to improve performance.\n"
     ]
    },
    {
     "data": {
      "application/vnd.jupyter.widget-view+json": {
       "model_id": "310169d84a7c4c3bb20ec10208b8edb7",
       "version_major": 2,
       "version_minor": 0
      },
      "text/plain": [
       "Predicting: |                                                                                                 …"
      ]
     },
     "metadata": {},
     "output_type": "display_data"
    },
    {
     "name": "stderr",
     "output_type": "stream",
     "text": [
      "Seed set to 1\n"
     ]
    },
    {
     "name": "stdout",
     "output_type": "stream",
     "text": [
      "prediction_scores_subset:  [0.45408043 0.45899078 0.496381   0.53032583 0.44917268 0.5053683\n",
      " 0.47830248 0.47968727 0.50904536 0.48540387 0.46482125 0.48379087\n",
      " 0.4879647  0.5457391  0.4510353  0.49226072 0.47639132 0.4998447\n",
      " 0.48602962 0.45971876 0.4609244  0.4538526  0.48234218 0.535086\n",
      " 0.4870057  0.46639    0.48117933 0.49503502 0.48451728 0.4608321\n",
      " 0.46733898 0.46139875 0.47254443 0.44182092 0.5323316  0.493464\n",
      " 0.49833083 0.48184776 0.47265792 0.44598255 0.43608502 0.48608765\n",
      " 0.4676705  0.50724924 0.50801456 0.49115562 0.47976667 0.48693126\n",
      " 0.48946837 0.4718404  0.4745565  0.49020043 0.49419105 0.48841232\n",
      " 0.5141845  0.43875936 0.46484137 0.48432276 0.48206127 0.535793\n",
      " 0.501877   0.4231267  0.45778686 0.46253383 0.48753792 0.46317685\n",
      " 0.51450473 0.4303234  0.44457692 0.45445213 0.55077505 0.51483136\n",
      " 0.4765576  0.4462181  0.5089897  0.4360246  0.4534601  0.46861905\n",
      " 0.51456255 0.4943832  0.5228032  0.52244085 0.47618085 0.4329792\n",
      " 0.570306   0.49511933 0.4668306  0.50402474 0.47987056 0.54006326\n",
      " 0.43940496 0.4860158  0.5472628  0.4952154  0.4548373  0.5095083\n",
      " 0.468613   0.48915023 0.45588118 0.48749703 0.47410163 0.46803552\n",
      " 0.4776612  0.45804086 0.5002472  0.506561   0.45139435 0.415994\n",
      " 0.5026951  0.4621294  0.4983152  0.4682591  0.45498633 0.46898216\n",
      " 0.45990172 0.48789585 0.4777353  0.45092848 0.4420147  0.55112815\n",
      " 0.48882633 0.4528395  0.5061543  0.45343524 0.46201047 0.45433015\n",
      " 0.47239324 0.44849768 0.46557325 0.5093944  0.4372426  0.45468295\n",
      " 0.44260234 0.48502564 0.45321786 0.4447751  0.5205632  0.4631936\n",
      " 0.45986518 0.4417927  0.46551043 0.43394488 0.5182508  0.45367882\n",
      " 0.48525727 0.4408647  0.46387172 0.46152192 0.439555   0.4702897\n",
      " 0.4448242  0.46391904 0.4258385  0.48836756 0.43834963 0.46407434\n",
      " 0.44298202 0.4662669  0.4765407  0.46140668 0.49909145 0.45561618\n",
      " 0.52216446 0.49424466 0.53923935 0.46106917 0.46322647 0.4713861\n",
      " 0.5065414  0.4617189  0.45087114 0.41661698 0.45385298 0.4561817\n",
      " 0.46163526 0.47353566 0.4537117  0.4393892  0.4456568  0.47882897\n",
      " 0.5114097  0.46007907 0.47773916 0.5109038  0.5082721  0.47472388\n",
      " 0.43461496 0.5228509  0.47855297 0.45376346 0.52879393 0.45459574\n",
      " 0.46537507 0.4683935  0.48721904 0.48493397 0.479152   0.4837531\n",
      " 0.48557615 0.47113407 0.4688053  0.4728369  0.49432182 0.47967458\n",
      " 0.48885134 0.47727227 0.4643614  0.4539015  0.43596262 0.4930303\n",
      " 0.48735735 0.46068013 0.48875698 0.4659369  0.45110685 0.48705116\n",
      " 0.48666388 0.4861995  0.5090558  0.556727   0.4739388  0.4524619\n",
      " 0.53244007 0.44989833 0.5827983  0.4795389  0.492786   0.44277623\n",
      " 0.49434426 0.63648343 0.4637371  0.4766447  0.58643126 0.60617065\n",
      " 0.65674365 0.6087135  0.54739785 0.5483034  0.55152607 0.68380135\n",
      " 0.742519   0.83838654 0.42875496 0.54718614 0.55984825 0.49747178\n",
      " 0.50832295 0.5428379  0.8852043  0.45117855 0.5483487  0.6536142\n",
      " 0.56380665 0.5050476  0.4578708  0.5203501  0.6135755  0.5056339\n",
      " 0.5376923  0.4496837  0.44376808 0.6036827  0.5124324 ]\n",
      "threshold:  0.52168408036232\n",
      "classifications_subset:  [False False False  True False False False False False False False False\n",
      " False  True False False False False False False False False False  True\n",
      " False False False False False False False False False False  True False\n",
      " False False False False False False False False False False False False\n",
      " False False False False False False False False False False False  True\n",
      " False False False False False False False False False False  True False\n",
      " False False False False False False False False  True  True False False\n",
      "  True False False False False  True False False  True False False False\n",
      " False False False False False False False False False False False False\n",
      " False False False False False False False False False False False  True\n",
      " False False False False False False False False False False False False\n",
      " False False False False False False False False False False False False\n",
      " False False False False False False False False False False False False\n",
      " False False False False False False  True False  True False False False\n",
      " False False False False False False False False False False False False\n",
      " False False False False False False False  True False False  True False\n",
      " False False False False False False False False False False False False\n",
      " False False False False False False False False False False False False\n",
      " False False False  True False False  True False  True False False False\n",
      " False  True False False  True  True  True  True  True  True  True  True\n",
      "  True  True False  True  True False False  True  True False  True  True\n",
      "  True False False False  True False  True False False  True False]\n",
      "k_iter:  2\n"
     ]
    },
    {
     "name": "stderr",
     "output_type": "stream",
     "text": [
      "GPU available: True (cuda), used: True\n",
      "TPU available: False, using: 0 TPU cores\n",
      "IPU available: False, using: 0 IPUs\n",
      "HPU available: False, using: 0 HPUs\n",
      "/home/wueesmat/anaconda3/envs/anomalib_env/lib/python3.10/site-packages/torchmetrics/utilities/prints.py:36: UserWarning: Metric `PrecisionRecallCurve` will save all targets and predictions in buffer. For large datasets this may lead to large memory footprint.\n",
      "  warnings.warn(*args, **kwargs)\n",
      "F1Score class exists for backwards compatibility. It will be removed in v1.1. Please use BinaryF1Score from torchmetrics instead\n",
      "LOCAL_RANK: 0 - CUDA_VISIBLE_DEVICES: [0,1,2,3,4,5,6,7]\n",
      "/home/wueesmat/anaconda3/envs/anomalib_env/lib/python3.10/site-packages/lightning/pytorch/core/optimizer.py:180: `LightningModule.configure_optimizers` returned `None`, this fit will run with no optimizer\n",
      "\n",
      "  | Name                  | Type                     | Params\n",
      "-------------------------------------------------------------------\n",
      "0 | model                 | PatchcoreModel           | 24.9 M\n",
      "1 | _transform            | Compose                  | 0     \n",
      "2 | normalization_metrics | MinMax                   | 0     \n",
      "3 | image_threshold       | F1AdaptiveThreshold      | 0     \n",
      "4 | pixel_threshold       | F1AdaptiveThreshold      | 0     \n",
      "5 | image_metrics         | AnomalibMetricCollection | 0     \n",
      "6 | pixel_metrics         | AnomalibMetricCollection | 0     \n",
      "-------------------------------------------------------------------\n",
      "24.9 M    Trainable params\n",
      "0         Non-trainable params\n",
      "24.9 M    Total params\n",
      "99.450    Total estimated model params size (MB)\n"
     ]
    },
    {
     "data": {
      "application/vnd.jupyter.widget-view+json": {
       "model_id": "c2161ce64d3048a6935a01d8f71fb4a4",
       "version_major": 2,
       "version_minor": 0
      },
      "text/plain": [
       "Training: |                                                                                                   …"
      ]
     },
     "metadata": {},
     "output_type": "display_data"
    },
    {
     "data": {
      "application/vnd.jupyter.widget-view+json": {
       "model_id": "c81e5cc111d444afa03b205d65bd81d5",
       "version_major": 2,
       "version_minor": 0
      },
      "text/plain": [
       "Validation: |                                                                                                 …"
      ]
     },
     "metadata": {},
     "output_type": "display_data"
    },
    {
     "data": {
      "application/vnd.jupyter.widget-view+json": {
       "model_id": "3b675a0dd0324e7689d11b4fc929f235",
       "version_major": 2,
       "version_minor": 0
      },
      "text/plain": [
       "Output()"
      ]
     },
     "metadata": {},
     "output_type": "display_data"
    },
    {
     "data": {
      "text/html": [
       "<pre style=\"white-space:pre;overflow-x:auto;line-height:normal;font-family:Menlo,'DejaVu Sans Mono',consolas,'Courier New',monospace\"></pre>\n"
      ],
      "text/plain": []
     },
     "metadata": {},
     "output_type": "display_data"
    },
    {
     "data": {
      "text/html": [
       "<pre style=\"white-space:pre;overflow-x:auto;line-height:normal;font-family:Menlo,'DejaVu Sans Mono',consolas,'Courier New',monospace\">\n",
       "</pre>\n"
      ],
      "text/plain": [
       "\n"
      ]
     },
     "metadata": {},
     "output_type": "display_data"
    },
    {
     "name": "stderr",
     "output_type": "stream",
     "text": [
      "`Trainer.fit` stopped: `max_epochs=1` reached.\n",
      "ckpt_path is not provided. Model weights will not be loaded.\n",
      "/home/wueesmat/anaconda3/envs/anomalib_env/lib/python3.10/site-packages/lightning/fabric/plugins/environments/slurm.py:191: The `srun` command is available on your system but is not used. HINT: If your intention is to run Lightning on SLURM, prepend your python command with `srun` like so: srun python /home/wueesmat/anaconda3/envs/anomalib_env/lib/pytho ...\n",
      "F1Score class exists for backwards compatibility. It will be removed in v1.1. Please use BinaryF1Score from torchmetrics instead\n",
      "LOCAL_RANK: 0 - CUDA_VISIBLE_DEVICES: [0,1,2,3,4,5,6,7]\n",
      "/home/wueesmat/anaconda3/envs/anomalib_env/lib/python3.10/site-packages/lightning/pytorch/trainer/connectors/data_connector.py:441: The 'predict_dataloader' does not have many workers which may be a bottleneck. Consider increasing the value of the `num_workers` argument` to `num_workers=31` in the `DataLoader` to improve performance.\n"
     ]
    },
    {
     "data": {
      "application/vnd.jupyter.widget-view+json": {
       "model_id": "3bb11c3e40c842aea2553654f8122613",
       "version_major": 2,
       "version_minor": 0
      },
      "text/plain": [
       "Predicting: |                                                                                                 …"
      ]
     },
     "metadata": {},
     "output_type": "display_data"
    },
    {
     "name": "stderr",
     "output_type": "stream",
     "text": [
      "Seed set to 1\n"
     ]
    },
    {
     "name": "stdout",
     "output_type": "stream",
     "text": [
      "prediction_scores_subset:  [0.46432453 0.44185662 0.43743336 0.4649745  0.45570347 0.4337901\n",
      " 0.46783337 0.47627854 0.4797354  0.5100471  0.47903144 0.44095564\n",
      " 0.4747162  0.43507507 0.50172645 0.48471186 0.4495554  0.46746555\n",
      " 0.47782463 0.44711235 0.47441784 0.47242942 0.47196275 0.47847676\n",
      " 0.4769284  0.46467793 0.44321537 0.48748595 0.45627186 0.48181856\n",
      " 0.4818216  0.47330025 0.53307664 0.49959457 0.5237593  0.4730904\n",
      " 0.43883815 0.47581393 0.48810968 0.50775707 0.49284104 0.47988638\n",
      " 0.43829983 0.4834722  0.46601662 0.44440714 0.5227341  0.45445636\n",
      " 0.4507377  0.47187158 0.49131492 0.4778567  0.47358775 0.46505865\n",
      " 0.43169728 0.51953375 0.50131196 0.57772    0.4836769  0.43087733\n",
      " 0.47279304 0.44808626 0.46577382 0.45630512 0.4911037  0.5399616\n",
      " 0.43629074 0.4945127  0.45450437 0.51169646 0.46566445 0.492585\n",
      " 0.5028898  0.45978835 0.5905589  0.4329681  0.45776674 0.48677412\n",
      " 0.44334868 0.4916519  0.5288328  0.42351606 0.4451231  0.46505797\n",
      " 0.45072627 0.46466753 0.4603184  0.44471887 0.4300641  0.47468078\n",
      " 0.45498598 0.49120072 0.50031817 0.49250525 0.4736913  0.444285\n",
      " 0.45528668 0.46883616 0.4685588  0.45190382 0.47094834 0.476152\n",
      " 0.44826302 0.44116423 0.54531395 0.44584966 0.47399324 0.4751456\n",
      " 0.4951569  0.45366746 0.46119994 0.47186103 0.4849686  0.46777692\n",
      " 0.4619285  0.47658572 0.47921973 0.4757079  0.4733437  0.4568856\n",
      " 0.4935019  0.43992907 0.44869748 0.43298683 0.44887337 0.50448567\n",
      " 0.5690017  0.49202874 0.503503   0.4688925  0.46379223 0.46228066\n",
      " 0.44798923 0.5017279  0.45645395 0.48788917 0.48551333 0.46119663\n",
      " 0.4592354  0.51378745 0.43990085 0.43573973 0.45555148 0.49465406\n",
      " 0.47245476 0.4573781  0.4764799  0.47534144 0.44305536 0.49231592\n",
      " 0.49760726 0.4661281  0.45264602 0.48973393 0.4971951  0.4610479\n",
      " 0.4919512  0.46462068 0.46443734 0.46155652 0.44929335 0.5112753\n",
      " 0.43716168 0.48353404 0.4389614  0.5128829  0.51913106 0.510601\n",
      " 0.46629506 0.50821656 0.48362213 0.48273903 0.44851133 0.47661993\n",
      " 0.49848104 0.46516904 0.44464028 0.4588566  0.4568298  0.4495509\n",
      " 0.50121254 0.48285896 0.45697176 0.4222566  0.49053606 0.46120155\n",
      " 0.49784282 0.44933632 0.45920712 0.4511648  0.50882226 0.46048853\n",
      " 0.44276938 0.4862721  0.49732453 0.47350812 0.45838434 0.43603772\n",
      " 0.51915383 0.5921474  0.46724254 0.4684713  0.44717854 0.46883518\n",
      " 0.4855723  0.47061917 0.48835143 0.48206446 0.46867374 0.43954006\n",
      " 0.4923845  0.4488501  0.48644105 0.44773245 0.43581927 0.43637186\n",
      " 0.46000293 0.51083714 0.46974683 0.452598   0.4913739  0.46076134\n",
      " 0.4295347  0.46052378 0.59182173 0.5812894  0.5162175  0.64643925\n",
      " 0.56047684 0.45514137 0.47323033 0.54703903 0.47468024 0.6195895\n",
      " 0.6317673  0.6527392  0.46139508 0.75508034 0.49561214 0.7085118\n",
      " 0.76225376 0.8499813  0.49708435 0.44762617 0.45494154 0.47693124\n",
      " 0.52927905 0.4631796  0.47118714 0.52311283 0.5507575  0.70812154\n",
      " 0.6279019  0.64157397 0.61886996 0.56556743 0.5290509  0.5134756\n",
      " 0.4687292  0.6346495  0.61791295 0.46623644 0.5198051 ]\n",
      "threshold:  0.5132977843284607\n",
      "classifications_subset:  [False False False False False False False False False False False False\n",
      " False False False False False False False False False False False False\n",
      " False False False False False False False False  True False  True False\n",
      " False False False False False False False False False False  True False\n",
      " False False False False False False False  True False  True False False\n",
      " False False False False False  True False False False False False False\n",
      " False False  True False False False False False  True False False False\n",
      " False False False False False False False False False False False False\n",
      " False False False False False False False False  True False False False\n",
      " False False False False False False False False False False False False\n",
      " False False False False False False  True False False False False False\n",
      " False False False False False False False  True False False False False\n",
      " False False False False False False False False False False False False\n",
      " False False False False False False False False False False  True False\n",
      " False False False False False False False False False False False False\n",
      " False False False False False False False False False False False False\n",
      " False False False False False False  True  True False False False False\n",
      " False False False False False False False False False False False False\n",
      " False False False False False False False False  True  True  True  True\n",
      "  True False False  True False  True  True  True False  True False  True\n",
      "  True  True False False False False  True False False  True  True  True\n",
      "  True  True  True  True  True  True False  True  True False  True]\n",
      "k_iter:  3\n"
     ]
    },
    {
     "name": "stderr",
     "output_type": "stream",
     "text": [
      "GPU available: True (cuda), used: True\n",
      "TPU available: False, using: 0 TPU cores\n",
      "IPU available: False, using: 0 IPUs\n",
      "HPU available: False, using: 0 HPUs\n",
      "/home/wueesmat/anaconda3/envs/anomalib_env/lib/python3.10/site-packages/torchmetrics/utilities/prints.py:36: UserWarning: Metric `PrecisionRecallCurve` will save all targets and predictions in buffer. For large datasets this may lead to large memory footprint.\n",
      "  warnings.warn(*args, **kwargs)\n",
      "F1Score class exists for backwards compatibility. It will be removed in v1.1. Please use BinaryF1Score from torchmetrics instead\n",
      "LOCAL_RANK: 0 - CUDA_VISIBLE_DEVICES: [0,1,2,3,4,5,6,7]\n",
      "/home/wueesmat/anaconda3/envs/anomalib_env/lib/python3.10/site-packages/lightning/pytorch/core/optimizer.py:180: `LightningModule.configure_optimizers` returned `None`, this fit will run with no optimizer\n",
      "\n",
      "  | Name                  | Type                     | Params\n",
      "-------------------------------------------------------------------\n",
      "0 | model                 | PatchcoreModel           | 24.9 M\n",
      "1 | _transform            | Compose                  | 0     \n",
      "2 | normalization_metrics | MinMax                   | 0     \n",
      "3 | image_threshold       | F1AdaptiveThreshold      | 0     \n",
      "4 | pixel_threshold       | F1AdaptiveThreshold      | 0     \n",
      "5 | image_metrics         | AnomalibMetricCollection | 0     \n",
      "6 | pixel_metrics         | AnomalibMetricCollection | 0     \n",
      "-------------------------------------------------------------------\n",
      "24.9 M    Trainable params\n",
      "0         Non-trainable params\n",
      "24.9 M    Total params\n",
      "99.450    Total estimated model params size (MB)\n"
     ]
    },
    {
     "data": {
      "application/vnd.jupyter.widget-view+json": {
       "model_id": "d340b48a1bf34874a2368d46be95a1eb",
       "version_major": 2,
       "version_minor": 0
      },
      "text/plain": [
       "Training: |                                                                                                   …"
      ]
     },
     "metadata": {},
     "output_type": "display_data"
    },
    {
     "data": {
      "application/vnd.jupyter.widget-view+json": {
       "model_id": "e66dba0185244f56b7c325a7086154ec",
       "version_major": 2,
       "version_minor": 0
      },
      "text/plain": [
       "Validation: |                                                                                                 …"
      ]
     },
     "metadata": {},
     "output_type": "display_data"
    },
    {
     "data": {
      "application/vnd.jupyter.widget-view+json": {
       "model_id": "72e4c17db56c4d2fbd8f64c2d4d3cc30",
       "version_major": 2,
       "version_minor": 0
      },
      "text/plain": [
       "Output()"
      ]
     },
     "metadata": {},
     "output_type": "display_data"
    },
    {
     "data": {
      "text/html": [
       "<pre style=\"white-space:pre;overflow-x:auto;line-height:normal;font-family:Menlo,'DejaVu Sans Mono',consolas,'Courier New',monospace\"></pre>\n"
      ],
      "text/plain": []
     },
     "metadata": {},
     "output_type": "display_data"
    },
    {
     "data": {
      "text/html": [
       "<pre style=\"white-space:pre;overflow-x:auto;line-height:normal;font-family:Menlo,'DejaVu Sans Mono',consolas,'Courier New',monospace\">\n",
       "</pre>\n"
      ],
      "text/plain": [
       "\n"
      ]
     },
     "metadata": {},
     "output_type": "display_data"
    },
    {
     "name": "stderr",
     "output_type": "stream",
     "text": [
      "`Trainer.fit` stopped: `max_epochs=1` reached.\n",
      "ckpt_path is not provided. Model weights will not be loaded.\n",
      "/home/wueesmat/anaconda3/envs/anomalib_env/lib/python3.10/site-packages/lightning/fabric/plugins/environments/slurm.py:191: The `srun` command is available on your system but is not used. HINT: If your intention is to run Lightning on SLURM, prepend your python command with `srun` like so: srun python /home/wueesmat/anaconda3/envs/anomalib_env/lib/pytho ...\n",
      "F1Score class exists for backwards compatibility. It will be removed in v1.1. Please use BinaryF1Score from torchmetrics instead\n",
      "LOCAL_RANK: 0 - CUDA_VISIBLE_DEVICES: [0,1,2,3,4,5,6,7]\n",
      "/home/wueesmat/anaconda3/envs/anomalib_env/lib/python3.10/site-packages/lightning/pytorch/trainer/connectors/data_connector.py:441: The 'predict_dataloader' does not have many workers which may be a bottleneck. Consider increasing the value of the `num_workers` argument` to `num_workers=31` in the `DataLoader` to improve performance.\n"
     ]
    },
    {
     "data": {
      "application/vnd.jupyter.widget-view+json": {
       "model_id": "4a1e2968c0474e53b494f936667d3209",
       "version_major": 2,
       "version_minor": 0
      },
      "text/plain": [
       "Predicting: |                                                                                                 …"
      ]
     },
     "metadata": {},
     "output_type": "display_data"
    },
    {
     "name": "stderr",
     "output_type": "stream",
     "text": [
      "Seed set to 1\n"
     ]
    },
    {
     "name": "stdout",
     "output_type": "stream",
     "text": [
      "prediction_scores_subset:  [0.49049655 0.44080484 0.4514085  0.46870443 0.45654243 0.45921922\n",
      " 0.43186283 0.45191258 0.44119516 0.40475458 0.451929   0.4653318\n",
      " 0.53974247 0.50975364 0.45973703 0.42880487 0.44524294 0.4752819\n",
      " 0.48631424 0.46573022 0.45203197 0.4249518  0.4333874  0.4297728\n",
      " 0.47848827 0.46734118 0.44829172 0.49763057 0.42294127 0.45945644\n",
      " 0.43082675 0.47253358 0.44255096 0.4672974  0.4863785  0.466102\n",
      " 0.48380467 0.4733646  0.46617585 0.47840062 0.47924152 0.46913087\n",
      " 0.48060638 0.47542986 0.4539905  0.4818292  0.47283363 0.42499268\n",
      " 0.457892   0.46233347 0.45506406 0.48925522 0.45261347 0.47394517\n",
      " 0.47911733 0.49400827 0.47419697 0.48420304 0.4782866  0.4248373\n",
      " 0.5032835  0.4251928  0.4250765  0.49170965 0.46641883 0.41223288\n",
      " 0.46739423 0.46591204 0.43449503 0.46336678 0.4534758  0.46718845\n",
      " 0.47562748 0.4460643  0.47782817 0.45558646 0.45128646 0.46251434\n",
      " 0.42211008 0.457933   0.46826005 0.5292731  0.46729767 0.46477184\n",
      " 0.4280016  0.4559584  0.4368694  0.44970205 0.46952802 0.42388517\n",
      " 0.47925875 0.4468212  0.47339466 0.46759686 0.46085662 0.4212259\n",
      " 0.4483928  0.43030822 0.5014977  0.44998845 0.4446981  0.4517576\n",
      " 0.4330329  0.4723804  0.4495776  0.45785654 0.45519277 0.46422356\n",
      " 0.44650766 0.42832178 0.54187727 0.4621516  0.47532108 0.45102993\n",
      " 0.48068446 0.4492785  0.45883945 0.4624959  0.47561648 0.46653935\n",
      " 0.4441264  0.45667493 0.43604589 0.4433852  0.47733557 0.4720418\n",
      " 0.4805111  0.47974995 0.44793528 0.44034475 0.4442716  0.471726\n",
      " 0.41059542 0.5025199  0.46704906 0.4948575  0.44758043 0.4660645\n",
      " 0.46068913 0.4582159  0.44192046 0.41802043 0.44316077 0.46940005\n",
      " 0.46059668 0.42422813 0.4794338  0.4881484  0.46175784 0.43120348\n",
      " 0.46663266 0.4206343  0.43670186 0.41103342 0.4923215  0.42007312\n",
      " 0.4941162  0.4447927  0.4530098  0.46445063 0.43479076 0.46255764\n",
      " 0.46373305 0.46066642 0.4350587  0.4279725  0.41826588 0.47136244\n",
      " 0.44634354 0.5309976  0.4639488  0.4586509  0.49568465 0.49226725\n",
      " 0.47365984 0.45391414 0.4579257  0.42654163 0.4660839  0.47821793\n",
      " 0.45693517 0.4598808  0.4455095  0.4542613  0.45180285 0.43971202\n",
      " 0.4660869  0.48611426 0.44178903 0.43749788 0.51616484 0.4816482\n",
      " 0.41977894 0.44734052 0.4984942  0.44669333 0.44084045 0.44833916\n",
      " 0.41319248 0.5037245  0.4833736  0.42727605 0.5080006  0.4776006\n",
      " 0.4743908  0.4450897  0.43604982 0.45501116 0.45806968 0.45153552\n",
      " 0.4552096  0.43255937 0.45498556 0.48161623 0.46300384 0.46172\n",
      " 0.44744942 0.42726335 0.46396196 0.4461839  0.44339615 0.47873008\n",
      " 0.43487298 0.4133911  0.5958911  0.43210012 0.41311857 0.6983701\n",
      " 0.598591   0.5701406  0.44965774 0.54044056 0.5679393  0.60677785\n",
      " 0.65587777 0.7954116  0.57316285 0.69516    0.49761915 0.67859113\n",
      " 0.7471994  0.79309976 0.5381647  0.52463275 0.5845132  0.4856986\n",
      " 0.5011967  0.53951705 0.9107119  0.49424097 0.45639676 0.84080696\n",
      " 0.8260564  0.6444097  0.79758525 0.51574665 0.84620965 0.46738532\n",
      " 0.53019804 0.60421985 0.55314624 0.8245637  0.48416886]\n",
      "threshold:  0.5014073848724365\n",
      "classifications_subset:  [False False False False False False False False False False False False\n",
      "  True  True False False False False False False False False False False\n",
      " False False False False False False False False False False False False\n",
      " False False False False False False False False False False False False\n",
      " False False False False False False False False False False False False\n",
      "  True False False False False False False False False False False False\n",
      " False False False False False False False False False  True False False\n",
      " False False False False False False False False False False False False\n",
      " False False  True False False False False False False False False False\n",
      " False False  True False False False False False False False False False\n",
      " False False False False False False False False False False False False\n",
      " False  True False False False False False False False False False False\n",
      " False False False False False False False False False False False False\n",
      " False False False False False False False False False False False False\n",
      " False  True False False False False False False False False False False\n",
      " False False False False False False False False False False  True False\n",
      " False False False False False False False  True False False  True False\n",
      " False False False False False False False False False False False False\n",
      " False False False False False False False False  True False False  True\n",
      "  True  True False  True  True  True  True  True  True  True False  True\n",
      "  True  True  True  True  True False False  True  True False False  True\n",
      "  True  True  True  True  True False  True  True  True  True False]\n",
      "k_iter:  4\n"
     ]
    },
    {
     "name": "stderr",
     "output_type": "stream",
     "text": [
      "GPU available: True (cuda), used: True\n",
      "TPU available: False, using: 0 TPU cores\n",
      "IPU available: False, using: 0 IPUs\n",
      "HPU available: False, using: 0 HPUs\n",
      "/home/wueesmat/anaconda3/envs/anomalib_env/lib/python3.10/site-packages/torchmetrics/utilities/prints.py:36: UserWarning: Metric `PrecisionRecallCurve` will save all targets and predictions in buffer. For large datasets this may lead to large memory footprint.\n",
      "  warnings.warn(*args, **kwargs)\n",
      "F1Score class exists for backwards compatibility. It will be removed in v1.1. Please use BinaryF1Score from torchmetrics instead\n",
      "LOCAL_RANK: 0 - CUDA_VISIBLE_DEVICES: [0,1,2,3,4,5,6,7]\n",
      "/home/wueesmat/anaconda3/envs/anomalib_env/lib/python3.10/site-packages/lightning/pytorch/core/optimizer.py:180: `LightningModule.configure_optimizers` returned `None`, this fit will run with no optimizer\n",
      "\n",
      "  | Name                  | Type                     | Params\n",
      "-------------------------------------------------------------------\n",
      "0 | model                 | PatchcoreModel           | 24.9 M\n",
      "1 | _transform            | Compose                  | 0     \n",
      "2 | normalization_metrics | MinMax                   | 0     \n",
      "3 | image_threshold       | F1AdaptiveThreshold      | 0     \n",
      "4 | pixel_threshold       | F1AdaptiveThreshold      | 0     \n",
      "5 | image_metrics         | AnomalibMetricCollection | 0     \n",
      "6 | pixel_metrics         | AnomalibMetricCollection | 0     \n",
      "-------------------------------------------------------------------\n",
      "24.9 M    Trainable params\n",
      "0         Non-trainable params\n",
      "24.9 M    Total params\n",
      "99.450    Total estimated model params size (MB)\n"
     ]
    },
    {
     "data": {
      "application/vnd.jupyter.widget-view+json": {
       "model_id": "5db575bd02454a29a094f9ec3e898727",
       "version_major": 2,
       "version_minor": 0
      },
      "text/plain": [
       "Training: |                                                                                                   …"
      ]
     },
     "metadata": {},
     "output_type": "display_data"
    },
    {
     "data": {
      "application/vnd.jupyter.widget-view+json": {
       "model_id": "f9b40c86ef4a45d4ba821f95be9a6b27",
       "version_major": 2,
       "version_minor": 0
      },
      "text/plain": [
       "Validation: |                                                                                                 …"
      ]
     },
     "metadata": {},
     "output_type": "display_data"
    },
    {
     "data": {
      "application/vnd.jupyter.widget-view+json": {
       "model_id": "e879e46667fb4d57afca1ec863cab82b",
       "version_major": 2,
       "version_minor": 0
      },
      "text/plain": [
       "Output()"
      ]
     },
     "metadata": {},
     "output_type": "display_data"
    },
    {
     "data": {
      "text/html": [
       "<pre style=\"white-space:pre;overflow-x:auto;line-height:normal;font-family:Menlo,'DejaVu Sans Mono',consolas,'Courier New',monospace\"></pre>\n"
      ],
      "text/plain": []
     },
     "metadata": {},
     "output_type": "display_data"
    },
    {
     "data": {
      "text/html": [
       "<pre style=\"white-space:pre;overflow-x:auto;line-height:normal;font-family:Menlo,'DejaVu Sans Mono',consolas,'Courier New',monospace\">\n",
       "</pre>\n"
      ],
      "text/plain": [
       "\n"
      ]
     },
     "metadata": {},
     "output_type": "display_data"
    },
    {
     "name": "stderr",
     "output_type": "stream",
     "text": [
      "`Trainer.fit` stopped: `max_epochs=1` reached.\n",
      "ckpt_path is not provided. Model weights will not be loaded.\n",
      "/home/wueesmat/anaconda3/envs/anomalib_env/lib/python3.10/site-packages/lightning/fabric/plugins/environments/slurm.py:191: The `srun` command is available on your system but is not used. HINT: If your intention is to run Lightning on SLURM, prepend your python command with `srun` like so: srun python /home/wueesmat/anaconda3/envs/anomalib_env/lib/pytho ...\n",
      "F1Score class exists for backwards compatibility. It will be removed in v1.1. Please use BinaryF1Score from torchmetrics instead\n",
      "LOCAL_RANK: 0 - CUDA_VISIBLE_DEVICES: [0,1,2,3,4,5,6,7]\n",
      "/home/wueesmat/anaconda3/envs/anomalib_env/lib/python3.10/site-packages/lightning/pytorch/trainer/connectors/data_connector.py:441: The 'predict_dataloader' does not have many workers which may be a bottleneck. Consider increasing the value of the `num_workers` argument` to `num_workers=31` in the `DataLoader` to improve performance.\n"
     ]
    },
    {
     "data": {
      "application/vnd.jupyter.widget-view+json": {
       "model_id": "5b33a968dfe641a2a6d173126849a56a",
       "version_major": 2,
       "version_minor": 0
      },
      "text/plain": [
       "Predicting: |                                                                                                 …"
      ]
     },
     "metadata": {},
     "output_type": "display_data"
    },
    {
     "name": "stdout",
     "output_type": "stream",
     "text": [
      "prediction_scores_subset:  [0.49377784 0.46828696 0.49813175 0.5081316  0.44789436 0.504959\n",
      " 0.48738536 0.47538677 0.5003623  0.47530404 0.49064288 0.5155278\n",
      " 0.52198845 0.544045   0.45692468 0.49984685 0.4968306  0.52051157\n",
      " 0.5057017  0.43933117 0.49470663 0.45201075 0.47526652 0.5280735\n",
      " 0.54513913 0.44373387 0.4609829  0.5478938  0.51302725 0.4720947\n",
      " 0.43317717 0.46407077 0.5096175  0.49842438 0.5072957  0.49773225\n",
      " 0.53303605 0.42687234 0.47446638 0.465894   0.5052641  0.5267964\n",
      " 0.4939818  0.5230699  0.5222284  0.52410346 0.52104515 0.49966753\n",
      " 0.46044907 0.49219403 0.4655265  0.5084179  0.45442683 0.5010261\n",
      " 0.4939701  0.45654953 0.5243753  0.4526505  0.49372983 0.5368146\n",
      " 0.46045226 0.45394862 0.47530645 0.4563356  0.50513566 0.4754564\n",
      " 0.49444216 0.4845516  0.49386013 0.49405196 0.52615386 0.5292652\n",
      " 0.46512508 0.5149249  0.47856253 0.4508965  0.45741174 0.47769022\n",
      " 0.51365876 0.5360188  0.5246518  0.5084161  0.4852811  0.5038801\n",
      " 0.53132373 0.49561477 0.49533153 0.48546746 0.5159142  0.5156271\n",
      " 0.471189   0.49165425 0.5193685  0.47133362 0.44400322 0.54826796\n",
      " 0.48110303 0.49006513 0.48758528 0.47300944 0.46252263 0.45214128\n",
      " 0.48353443 0.4844441  0.50830626 0.5189559  0.45211178 0.47380716\n",
      " 0.47307283 0.4720548  0.50293416 0.5024964  0.5147688  0.48684645\n",
      " 0.47839165 0.50632656 0.4676209  0.46965116 0.46010473 0.515249\n",
      " 0.48134112 0.4771106  0.50985193 0.46163732 0.4554319  0.5062586\n",
      " 0.46394122 0.52066195 0.44896698 0.49810225 0.50295174 0.47064233\n",
      " 0.4660596  0.52003074 0.46791366 0.45336157 0.5031872  0.45821467\n",
      " 0.4785059  0.45028093 0.4824923  0.44604915 0.48772898 0.4693661\n",
      " 0.4848106  0.4639682  0.45614657 0.47734153 0.5181792  0.5036238\n",
      " 0.46186706 0.46362346 0.468465   0.5101866  0.45352978 0.47296774\n",
      " 0.43828395 0.48598957 0.48114496 0.5043528  0.50460124 0.50061435\n",
      " 0.48703313 0.49679837 0.5179013  0.43723017 0.469743   0.47835577\n",
      " 0.47298253 0.52233946 0.4552788  0.46864322 0.47933686 0.43936414\n",
      " 0.44459718 0.46209237 0.44077978 0.46573013 0.4489377  0.4518644\n",
      " 0.47596052 0.44917822 0.47813115 0.49819812 0.4962893  0.45010477\n",
      " 0.47226346 0.5477993  0.48177788 0.47447094 0.4697054  0.4710533\n",
      " 0.46942434 0.49109748 0.5305397  0.4794652  0.45704317 0.474118\n",
      " 0.48978353 0.56752205 0.4876852  0.4446996  0.48261288 0.440827\n",
      " 0.48200652 0.48444918 0.45993334 0.51410896 0.47691765 0.51253694\n",
      " 0.48541087 0.44988215 0.4971924  0.52017    0.5085889  0.50264543\n",
      " 0.4356907  0.50854915 0.4864403  0.50179315 0.49760854 0.4851292\n",
      " 0.51309055 0.4687995  0.56099075 0.6226578  0.50122464 0.52270263\n",
      " 0.52031857 0.7257126  0.48867607 0.45306754 0.6178733  0.47887096\n",
      " 0.49639627 0.4492179  0.5760189  0.46720368 0.5486747  0.67588997\n",
      " 0.7167301  0.7998735  0.49400368 0.543158   0.6021333  0.45740873\n",
      " 0.5075458  0.5038115  0.7360237  0.61327726 0.5355692  0.65262413\n",
      " 0.49741247 0.44654295 0.49703732 0.4715242  0.5432908  0.49052933\n",
      " 0.52507746 0.63637197 0.5857723  0.49557197 0.512704  ]\n",
      "threshold:  0.5223061501979828\n",
      "classifications_subset:  [False False False False False False False False False False False False\n",
      " False  True False False False False False False False False False  True\n",
      "  True False False  True False False False False False False False False\n",
      "  True False False False False  True False  True False  True False False\n",
      " False False False False False False False False  True False False  True\n",
      " False False False False False False False False False False  True  True\n",
      " False False False False False False False  True  True False False False\n",
      "  True False False False False False False False False False False  True\n",
      " False False False False False False False False False False False False\n",
      " False False False False False False False False False False False False\n",
      " False False False False False False False False False False False False\n",
      " False False False False False False False False False False False False\n",
      " False False False False False False False False False False False False\n",
      " False False False False False False False False False False False False\n",
      " False  True False False False False False False False False False False\n",
      " False False False False False False False  True False False False False\n",
      " False False  True False False False False  True False False False False\n",
      " False False False False False False False False False False False False\n",
      " False False False False False False False False  True  True False  True\n",
      " False  True False False  True False False False  True False  True  True\n",
      "  True  True False  True  True False False False  True  True  True  True\n",
      " False False False False  True False  True  True  True False False]\n"
     ]
    },
    {
     "name": "stderr",
     "output_type": "stream",
     "text": [
      "Seed set to 1\n",
      "GPU available: True (cuda), used: True\n",
      "TPU available: False, using: 0 TPU cores\n",
      "IPU available: False, using: 0 IPUs\n",
      "HPU available: False, using: 0 HPUs\n",
      "/home/wueesmat/anaconda3/envs/anomalib_env/lib/python3.10/site-packages/torchmetrics/utilities/prints.py:36: UserWarning: Metric `PrecisionRecallCurve` will save all targets and predictions in buffer. For large datasets this may lead to large memory footprint.\n",
      "  warnings.warn(*args, **kwargs)\n",
      "F1Score class exists for backwards compatibility. It will be removed in v1.1. Please use BinaryF1Score from torchmetrics instead\n",
      "LOCAL_RANK: 0 - CUDA_VISIBLE_DEVICES: [0,1,2,3,4,5,6,7]\n",
      "/home/wueesmat/anaconda3/envs/anomalib_env/lib/python3.10/site-packages/lightning/pytorch/core/optimizer.py:180: `LightningModule.configure_optimizers` returned `None`, this fit will run with no optimizer\n",
      "\n",
      "  | Name                  | Type                     | Params\n",
      "-------------------------------------------------------------------\n",
      "0 | model                 | PatchcoreModel           | 24.9 M\n",
      "1 | _transform            | Compose                  | 0     \n",
      "2 | normalization_metrics | MinMax                   | 0     \n",
      "3 | image_threshold       | F1AdaptiveThreshold      | 0     \n",
      "4 | pixel_threshold       | F1AdaptiveThreshold      | 0     \n",
      "5 | image_metrics         | AnomalibMetricCollection | 0     \n",
      "6 | pixel_metrics         | AnomalibMetricCollection | 0     \n",
      "-------------------------------------------------------------------\n",
      "24.9 M    Trainable params\n",
      "0         Non-trainable params\n",
      "24.9 M    Total params\n",
      "99.450    Total estimated model params size (MB)\n"
     ]
    },
    {
     "data": {
      "application/vnd.jupyter.widget-view+json": {
       "model_id": "dac40c44ce6d4de9bbe41ea262c7c09e",
       "version_major": 2,
       "version_minor": 0
      },
      "text/plain": [
       "Training: |                                                                                                   …"
      ]
     },
     "metadata": {},
     "output_type": "display_data"
    },
    {
     "data": {
      "application/vnd.jupyter.widget-view+json": {
       "model_id": "63d5ab9df23849c39aeaa35747ee5435",
       "version_major": 2,
       "version_minor": 0
      },
      "text/plain": [
       "Validation: |                                                                                                 …"
      ]
     },
     "metadata": {},
     "output_type": "display_data"
    },
    {
     "data": {
      "application/vnd.jupyter.widget-view+json": {
       "model_id": "1e5da549c213466ba9bac0176ae268d0",
       "version_major": 2,
       "version_minor": 0
      },
      "text/plain": [
       "Output()"
      ]
     },
     "metadata": {},
     "output_type": "display_data"
    },
    {
     "data": {
      "text/html": [
       "<pre style=\"white-space:pre;overflow-x:auto;line-height:normal;font-family:Menlo,'DejaVu Sans Mono',consolas,'Courier New',monospace\"></pre>\n"
      ],
      "text/plain": []
     },
     "metadata": {},
     "output_type": "display_data"
    },
    {
     "data": {
      "text/html": [
       "<pre style=\"white-space:pre;overflow-x:auto;line-height:normal;font-family:Menlo,'DejaVu Sans Mono',consolas,'Courier New',monospace\">\n",
       "</pre>\n"
      ],
      "text/plain": [
       "\n"
      ]
     },
     "metadata": {},
     "output_type": "display_data"
    },
    {
     "name": "stderr",
     "output_type": "stream",
     "text": [
      "`Trainer.fit` stopped: `max_epochs=1` reached.\n",
      "F1Score class exists for backwards compatibility. It will be removed in v1.1. Please use BinaryF1Score from torchmetrics instead\n",
      "Restoring states from the checkpoint path at /home/wueesmat/MT/anomalib/results/Patchcore/MVTec_contaminated/cable/v770/weights/lightning/model.ckpt\n",
      "LOCAL_RANK: 0 - CUDA_VISIBLE_DEVICES: [0,1,2,3,4,5,6,7]\n",
      "Loaded model weights from the checkpoint at /home/wueesmat/MT/anomalib/results/Patchcore/MVTec_contaminated/cable/v770/weights/lightning/model.ckpt\n"
     ]
    },
    {
     "data": {
      "application/vnd.jupyter.widget-view+json": {
       "model_id": "06bb143d49bf47c781a52709d013cf2d",
       "version_major": 2,
       "version_minor": 0
      },
      "text/plain": [
       "Testing: |                                                                                                    …"
      ]
     },
     "metadata": {},
     "output_type": "display_data"
    },
    {
     "name": "stderr",
     "output_type": "stream",
     "text": [
      "Seed set to 1\n",
      "Seed set to 1\n"
     ]
    },
    {
     "name": "stdout",
     "output_type": "stream",
     "text": [
      "k:  10\n",
      "train_dataset_length: 263\n",
      "indices_disjoint_datasets:  [array([ 95,  12, 164, 176,  51, 257, 224, 167,  78, 123, 174,  73, 192,\n",
      "        44, 138,  38, 112,   4, 240, 251, 239,  34,  88, 180, 256, 108,\n",
      "        62]), array([190,  90,  58, 262,  93,  27, 130,  39, 205,  91, 182, 163,  85,\n",
      "       168, 170, 238, 132,  99,  79, 220, 102, 147, 241,  31,  18, 120,\n",
      "       219]), array([210,  19, 110, 242,  33, 194, 199,  35,  11, 228,  29,   0, 177,\n",
      "       122,  67, 260,  28,  16, 171, 150,  47, 208,  40, 107, 246,  69,\n",
      "       188]), array([118, 119, 186, 254, 114,  59, 127, 152, 158, 154, 117, 106,  14,\n",
      "       169, 249,  21,  89,  56, 227,  55, 230, 185,  84,  53, 259, 140]), array([247, 187, 116, 148,  42,  17,   5, 195, 183,  48, 159, 245,  66,\n",
      "        70, 232, 211, 105, 218,  54, 244,  98, 145,  97, 197,  82, 243]), array([ 94, 236, 191,  81, 124, 172, 173,  13, 261, 179,  45, 189, 103,\n",
      "        36, 213, 248, 258, 181,  75, 161, 229, 221, 202,   2, 214,   6]), array([223, 206,  77, 113,  65, 151, 160,  46,  74,  92, 193,  87, 143,\n",
      "       184,  10, 162,  32, 136, 166,  83, 207, 165, 155, 100, 125,  23]), array([126,   9, 226, 104, 153, 201, 135, 111, 250,  64,  15,  41, 217,\n",
      "       109,  80,  52,  26,  76,  43,  24, 196,   3, 225,  49, 149, 198]), array([131, 253,  30, 200, 121, 175, 115, 231, 216,   8, 209,  60, 128,\n",
      "         1,  57,  22,  61,  63,   7, 137, 141,  86,  96, 222, 233, 252]), array([215,  68,  50, 142, 157, 156, 234, 139, 212, 146, 101,  20, 178,\n",
      "        25, 134, 237,  71, 204, 129, 144, 133, 203, 255,  72, 235,  37])]\n",
      "k_iter:  0\n"
     ]
    },
    {
     "name": "stderr",
     "output_type": "stream",
     "text": [
      "/home/wueesmat/anaconda3/envs/anomalib_env/lib/python3.10/site-packages/lightning/fabric/plugins/environments/slurm.py:191: The `srun` command is available on your system but is not used. HINT: If your intention is to run Lightning on SLURM, prepend your python command with `srun` like so: srun python /home/wueesmat/anaconda3/envs/anomalib_env/lib/pytho ...\n",
      "GPU available: True (cuda), used: True\n",
      "TPU available: False, using: 0 TPU cores\n",
      "IPU available: False, using: 0 IPUs\n",
      "HPU available: False, using: 0 HPUs\n",
      "/home/wueesmat/anaconda3/envs/anomalib_env/lib/python3.10/site-packages/torchmetrics/utilities/prints.py:36: UserWarning: Metric `PrecisionRecallCurve` will save all targets and predictions in buffer. For large datasets this may lead to large memory footprint.\n",
      "  warnings.warn(*args, **kwargs)\n",
      "F1Score class exists for backwards compatibility. It will be removed in v1.1. Please use BinaryF1Score from torchmetrics instead\n",
      "LOCAL_RANK: 0 - CUDA_VISIBLE_DEVICES: [0,1,2,3,4,5,6,7]\n",
      "/home/wueesmat/anaconda3/envs/anomalib_env/lib/python3.10/site-packages/lightning/pytorch/core/optimizer.py:180: `LightningModule.configure_optimizers` returned `None`, this fit will run with no optimizer\n",
      "\n",
      "  | Name                  | Type                     | Params\n",
      "-------------------------------------------------------------------\n",
      "0 | model                 | PatchcoreModel           | 24.9 M\n",
      "1 | _transform            | Compose                  | 0     \n",
      "2 | normalization_metrics | MinMax                   | 0     \n",
      "3 | image_threshold       | F1AdaptiveThreshold      | 0     \n",
      "4 | pixel_threshold       | F1AdaptiveThreshold      | 0     \n",
      "5 | image_metrics         | AnomalibMetricCollection | 0     \n",
      "6 | pixel_metrics         | AnomalibMetricCollection | 0     \n",
      "-------------------------------------------------------------------\n",
      "24.9 M    Trainable params\n",
      "0         Non-trainable params\n",
      "24.9 M    Total params\n",
      "99.450    Total estimated model params size (MB)\n"
     ]
    },
    {
     "data": {
      "application/vnd.jupyter.widget-view+json": {
       "model_id": "cf5500ae2daf46d598efd1397d3caac9",
       "version_major": 2,
       "version_minor": 0
      },
      "text/plain": [
       "Training: |                                                                                                   …"
      ]
     },
     "metadata": {},
     "output_type": "display_data"
    },
    {
     "data": {
      "application/vnd.jupyter.widget-view+json": {
       "model_id": "1ec3a290f4a242b49e9e43e274b7a01b",
       "version_major": 2,
       "version_minor": 0
      },
      "text/plain": [
       "Validation: |                                                                                                 …"
      ]
     },
     "metadata": {},
     "output_type": "display_data"
    },
    {
     "data": {
      "application/vnd.jupyter.widget-view+json": {
       "model_id": "9403947955454fe6a07b4f5a92b3e48d",
       "version_major": 2,
       "version_minor": 0
      },
      "text/plain": [
       "Output()"
      ]
     },
     "metadata": {},
     "output_type": "display_data"
    },
    {
     "data": {
      "text/html": [
       "<pre style=\"white-space:pre;overflow-x:auto;line-height:normal;font-family:Menlo,'DejaVu Sans Mono',consolas,'Courier New',monospace\"></pre>\n"
      ],
      "text/plain": []
     },
     "metadata": {},
     "output_type": "display_data"
    },
    {
     "data": {
      "text/html": [
       "<pre style=\"white-space:pre;overflow-x:auto;line-height:normal;font-family:Menlo,'DejaVu Sans Mono',consolas,'Courier New',monospace\">\n",
       "</pre>\n"
      ],
      "text/plain": [
       "\n"
      ]
     },
     "metadata": {},
     "output_type": "display_data"
    },
    {
     "name": "stderr",
     "output_type": "stream",
     "text": [
      "`Trainer.fit` stopped: `max_epochs=1` reached.\n",
      "ckpt_path is not provided. Model weights will not be loaded.\n",
      "/home/wueesmat/anaconda3/envs/anomalib_env/lib/python3.10/site-packages/lightning/fabric/plugins/environments/slurm.py:191: The `srun` command is available on your system but is not used. HINT: If your intention is to run Lightning on SLURM, prepend your python command with `srun` like so: srun python /home/wueesmat/anaconda3/envs/anomalib_env/lib/pytho ...\n",
      "F1Score class exists for backwards compatibility. It will be removed in v1.1. Please use BinaryF1Score from torchmetrics instead\n",
      "LOCAL_RANK: 0 - CUDA_VISIBLE_DEVICES: [0,1,2,3,4,5,6,7]\n",
      "/home/wueesmat/anaconda3/envs/anomalib_env/lib/python3.10/site-packages/lightning/pytorch/trainer/connectors/data_connector.py:441: The 'predict_dataloader' does not have many workers which may be a bottleneck. Consider increasing the value of the `num_workers` argument` to `num_workers=31` in the `DataLoader` to improve performance.\n"
     ]
    },
    {
     "data": {
      "application/vnd.jupyter.widget-view+json": {
       "model_id": "0f38d00d81d24ef8886727ad2fcf591d",
       "version_major": 2,
       "version_minor": 0
      },
      "text/plain": [
       "Predicting: |                                                                                                 …"
      ]
     },
     "metadata": {},
     "output_type": "display_data"
    },
    {
     "name": "stderr",
     "output_type": "stream",
     "text": [
      "Seed set to 1\n"
     ]
    },
    {
     "name": "stdout",
     "output_type": "stream",
     "text": [
      "prediction_scores_subset:  [0.45143652 0.40905368 0.4248873  0.4496515  0.447172   0.4337801\n",
      " 0.4192446  0.45179942 0.43022016 0.43940702 0.39026913 0.46713683\n",
      " 0.39737642 0.43017355 0.44022858 0.46645477 0.41474438 0.4456369\n",
      " 0.48983997 0.46685454 0.44728324 0.42434657 0.3856095  0.4887148\n",
      " 0.49794802 0.42421174 0.4331752  0.43749484 0.4232222  0.48389998\n",
      " 0.44266197 0.4381749  0.43806928 0.43981177 0.47542617 0.40843186\n",
      " 0.4820273  0.4849581  0.49162427 0.42911914 0.47089684 0.43427005\n",
      " 0.42668653 0.4569971  0.44486612 0.47312543 0.42807442 0.41854784\n",
      " 0.43265533 0.41327548 0.4103604  0.4319375  0.4238734  0.4199179\n",
      " 0.44277877 0.4618067  0.4602102  0.45457575 0.4672982  0.42718306\n",
      " 0.44032177 0.418233   0.42020053 0.44207513 0.4503404  0.43232268\n",
      " 0.42134118 0.46925837 0.39387822 0.44006455 0.4813839  0.4319143\n",
      " 0.4280573  0.4060493  0.5082825  0.4879332  0.42451888 0.45544848\n",
      " 0.42347136 0.42692605 0.49511972 0.42377418 0.42618784 0.4197031\n",
      " 0.4797552  0.44578868 0.4477842  0.45210016 0.434649   0.4373172\n",
      " 0.43077028 0.44516355 0.460451   0.42313758 0.48122427 0.44169602\n",
      " 0.41333485 0.4641316  0.4589095  0.4302009  0.4173625  0.42447174\n",
      " 0.40477696 0.45765567 0.5032109  0.44070587 0.43225664 0.42693955\n",
      " 0.40886286 0.4295118  0.55464345 0.4048615  0.43608043 0.44194075\n",
      " 0.45045382 0.42529216 0.41496062 0.4040932  0.4732601  0.47144878\n",
      " 0.4293849  0.4412383  0.49589685 0.39848644 0.4671569  0.5151579\n",
      " 0.5055046  0.4304033  0.4373843  0.44341567 0.41811076 0.4239861\n",
      " 0.4235811  0.46549845 0.43927443 0.45624188 0.45675933 0.46190843\n",
      " 0.40279868 0.43728766 0.41011855 0.3981811  0.45742536 0.46755588\n",
      " 0.45414585 0.40501624 0.44453564 0.4421985  0.4133999  0.4226056\n",
      " 0.44210327 0.44586495 0.38348383 0.44817883 0.43467972 0.42536348\n",
      " 0.46577397 0.47258317 0.42439583 0.40950546 0.46924552 0.46377462\n",
      " 0.44234937 0.44787297 0.40428185 0.4235839  0.3880803  0.39353988\n",
      " 0.46407536 0.5278845  0.41998914 0.4450673  0.42383537 0.45367756\n",
      " 0.45550454 0.44988933 0.40331504 0.4087962  0.43448815 0.45237815\n",
      " 0.39208326 0.4484571  0.42934695 0.42167592 0.4420221  0.44226483\n",
      " 0.444627   0.43324178 0.38699242 0.4070784  0.48497912 0.42308608\n",
      " 0.40532443 0.4699466  0.4483528  0.446018   0.42212912 0.4318599\n",
      " 0.47005177 0.50245273 0.39274994 0.4785446  0.4794608  0.443343\n",
      " 0.46579003 0.43065572 0.40877897 0.47330984 0.3995049  0.44620907\n",
      " 0.40688476 0.4224569  0.4812172  0.43854904 0.4236224  0.47805995\n",
      " 0.41723385 0.44300434 0.53062284 0.4616276  0.40970922 0.4038702\n",
      " 0.43185383 0.4190589  0.41080517 0.6146539  0.46501034 0.57897526\n",
      " 0.5963357  0.7201481  0.4620256  0.5641339  0.47011545 0.620045\n",
      " 0.59180933 0.7575306  0.55028796 0.6630794  0.5472956  0.42842633\n",
      " 0.40179336 0.64542663 0.46163923 0.5515207  0.52824575 0.4649719\n",
      " 0.49559322 0.49662024 0.7098     0.6367509  0.6125305  0.46868682\n",
      " 0.5140459  0.5339288  0.541916   0.55142677 0.4227987  0.4187589\n",
      " 0.58054787 0.56853235 0.55677485 0.43248838 0.43572482]\n",
      "threshold:  0.4884803265333176\n",
      "classifications_subset:  [False False False False False False False False False False False False\n",
      " False False False False False False  True False False False False  True\n",
      "  True False False False False False False False False False False False\n",
      " False False  True False False False False False False False False False\n",
      " False False False False False False False False False False False False\n",
      " False False False False False False False False False False False False\n",
      " False False  True False False False False False  True False False False\n",
      " False False False False False False False False False False False False\n",
      " False False False False False False False False  True False False False\n",
      " False False  True False False False False False False False False False\n",
      " False False  True False False  True  True False False False False False\n",
      " False False False False False False False False False False False False\n",
      " False False False False False False False False False False False False\n",
      " False False False False False False False False False False False False\n",
      " False  True False False False False False False False False False False\n",
      " False False False False False False False False False False False False\n",
      " False False False False False False False  True False False False False\n",
      " False False False False False False False False False False False False\n",
      " False False  True False False False False False False  True False  True\n",
      "  True  True False  True False  True  True  True  True  True  True False\n",
      " False  True False  True  True False  True  True  True  True  True False\n",
      "  True  True  True  True False False  True  True  True False False]\n",
      "k_iter:  1\n"
     ]
    },
    {
     "name": "stderr",
     "output_type": "stream",
     "text": [
      "GPU available: True (cuda), used: True\n",
      "TPU available: False, using: 0 TPU cores\n",
      "IPU available: False, using: 0 IPUs\n",
      "HPU available: False, using: 0 HPUs\n",
      "/home/wueesmat/anaconda3/envs/anomalib_env/lib/python3.10/site-packages/torchmetrics/utilities/prints.py:36: UserWarning: Metric `PrecisionRecallCurve` will save all targets and predictions in buffer. For large datasets this may lead to large memory footprint.\n",
      "  warnings.warn(*args, **kwargs)\n",
      "F1Score class exists for backwards compatibility. It will be removed in v1.1. Please use BinaryF1Score from torchmetrics instead\n",
      "LOCAL_RANK: 0 - CUDA_VISIBLE_DEVICES: [0,1,2,3,4,5,6,7]\n",
      "/home/wueesmat/anaconda3/envs/anomalib_env/lib/python3.10/site-packages/lightning/pytorch/core/optimizer.py:180: `LightningModule.configure_optimizers` returned `None`, this fit will run with no optimizer\n",
      "\n",
      "  | Name                  | Type                     | Params\n",
      "-------------------------------------------------------------------\n",
      "0 | model                 | PatchcoreModel           | 24.9 M\n",
      "1 | _transform            | Compose                  | 0     \n",
      "2 | normalization_metrics | MinMax                   | 0     \n",
      "3 | image_threshold       | F1AdaptiveThreshold      | 0     \n",
      "4 | pixel_threshold       | F1AdaptiveThreshold      | 0     \n",
      "5 | image_metrics         | AnomalibMetricCollection | 0     \n",
      "6 | pixel_metrics         | AnomalibMetricCollection | 0     \n",
      "-------------------------------------------------------------------\n",
      "24.9 M    Trainable params\n",
      "0         Non-trainable params\n",
      "24.9 M    Total params\n",
      "99.450    Total estimated model params size (MB)\n"
     ]
    },
    {
     "data": {
      "application/vnd.jupyter.widget-view+json": {
       "model_id": "969e6257e4c94ac684492df7c46d98cc",
       "version_major": 2,
       "version_minor": 0
      },
      "text/plain": [
       "Training: |                                                                                                   …"
      ]
     },
     "metadata": {},
     "output_type": "display_data"
    },
    {
     "data": {
      "application/vnd.jupyter.widget-view+json": {
       "model_id": "8e8e16eb2df044459fd94fc04e6b5a9f",
       "version_major": 2,
       "version_minor": 0
      },
      "text/plain": [
       "Validation: |                                                                                                 …"
      ]
     },
     "metadata": {},
     "output_type": "display_data"
    },
    {
     "data": {
      "application/vnd.jupyter.widget-view+json": {
       "model_id": "3517c26c481b41d7bccfb024c9cd575b",
       "version_major": 2,
       "version_minor": 0
      },
      "text/plain": [
       "Output()"
      ]
     },
     "metadata": {},
     "output_type": "display_data"
    },
    {
     "data": {
      "text/html": [
       "<pre style=\"white-space:pre;overflow-x:auto;line-height:normal;font-family:Menlo,'DejaVu Sans Mono',consolas,'Courier New',monospace\"></pre>\n"
      ],
      "text/plain": []
     },
     "metadata": {},
     "output_type": "display_data"
    },
    {
     "data": {
      "text/html": [
       "<pre style=\"white-space:pre;overflow-x:auto;line-height:normal;font-family:Menlo,'DejaVu Sans Mono',consolas,'Courier New',monospace\">\n",
       "</pre>\n"
      ],
      "text/plain": [
       "\n"
      ]
     },
     "metadata": {},
     "output_type": "display_data"
    },
    {
     "name": "stderr",
     "output_type": "stream",
     "text": [
      "`Trainer.fit` stopped: `max_epochs=1` reached.\n",
      "ckpt_path is not provided. Model weights will not be loaded.\n",
      "/home/wueesmat/anaconda3/envs/anomalib_env/lib/python3.10/site-packages/lightning/fabric/plugins/environments/slurm.py:191: The `srun` command is available on your system but is not used. HINT: If your intention is to run Lightning on SLURM, prepend your python command with `srun` like so: srun python /home/wueesmat/anaconda3/envs/anomalib_env/lib/pytho ...\n",
      "F1Score class exists for backwards compatibility. It will be removed in v1.1. Please use BinaryF1Score from torchmetrics instead\n",
      "LOCAL_RANK: 0 - CUDA_VISIBLE_DEVICES: [0,1,2,3,4,5,6,7]\n",
      "/home/wueesmat/anaconda3/envs/anomalib_env/lib/python3.10/site-packages/lightning/pytorch/trainer/connectors/data_connector.py:441: The 'predict_dataloader' does not have many workers which may be a bottleneck. Consider increasing the value of the `num_workers` argument` to `num_workers=31` in the `DataLoader` to improve performance.\n"
     ]
    },
    {
     "data": {
      "application/vnd.jupyter.widget-view+json": {
       "model_id": "f064310b64b54b628d19fab5c2a8443b",
       "version_major": 2,
       "version_minor": 0
      },
      "text/plain": [
       "Predicting: |                                                                                                 …"
      ]
     },
     "metadata": {},
     "output_type": "display_data"
    },
    {
     "name": "stderr",
     "output_type": "stream",
     "text": [
      "Seed set to 1\n"
     ]
    },
    {
     "name": "stdout",
     "output_type": "stream",
     "text": [
      "prediction_scores_subset:  [0.47188583 0.44117022 0.44651628 0.48833513 0.4422133  0.46788767\n",
      " 0.4327167  0.46532282 0.48793855 0.46842527 0.4385102  0.48517632\n",
      " 0.4447475  0.4502625  0.4221552  0.46255323 0.43436217 0.46838325\n",
      " 0.42634484 0.45772108 0.43436754 0.42741615 0.44939637 0.5000867\n",
      " 0.458632   0.42481756 0.42607135 0.46819472 0.43879053 0.39277396\n",
      " 0.4218565  0.41166213 0.46511626 0.48704547 0.46398482 0.4782388\n",
      " 0.464107   0.44788092 0.46841857 0.41362107 0.46577284 0.43180344\n",
      " 0.4601307  0.46497676 0.46685666 0.43773738 0.5030959  0.40933722\n",
      " 0.4470671  0.43671066 0.5306432  0.44518986 0.45327994 0.45700517\n",
      " 0.42171538 0.48180372 0.45434335 0.52511513 0.43563393 0.4693198\n",
      " 0.4365028  0.3740366  0.4254748  0.43865228 0.44308475 0.46560314\n",
      " 0.43787223 0.44055364 0.46315935 0.45836103 0.5044343  0.41814947\n",
      " 0.41486993 0.41298258 0.5069136  0.5161595  0.4398396  0.461316\n",
      " 0.48176455 0.40514117 0.52968866 0.4705735  0.43830532 0.45335412\n",
      " 0.46357995 0.4200347  0.46272898 0.45503396 0.4305043  0.49603045\n",
      " 0.47126043 0.42088103 0.46708292 0.37678623 0.40363446 0.4890108\n",
      " 0.40315476 0.47513205 0.45287457 0.4539557  0.43406463 0.41686887\n",
      " 0.4206779  0.4786956  0.43742466 0.4502655  0.46447545 0.46820337\n",
      " 0.4285205  0.44301528 0.5497169  0.43902844 0.46718803 0.43962488\n",
      " 0.4635115  0.43439284 0.46623155 0.43549472 0.4181345  0.4642504\n",
      " 0.43474132 0.42568502 0.45456576 0.4279837  0.45145637 0.46227065\n",
      " 0.4791093  0.4727106  0.47688475 0.4862922  0.39659157 0.42479435\n",
      " 0.42905703 0.4755314  0.41488424 0.41983354 0.4354524  0.42630494\n",
      " 0.4492064  0.4303196  0.45172903 0.39707655 0.43301946 0.44318748\n",
      " 0.4624162  0.41996372 0.41140184 0.41300976 0.47389442 0.43526053\n",
      " 0.4454851  0.43596524 0.44077426 0.44005442 0.47228077 0.43804863\n",
      " 0.47992608 0.42783517 0.44059956 0.4976224  0.47133437 0.4527377\n",
      " 0.4332759  0.46309987 0.46080163 0.45444763 0.43751842 0.45233727\n",
      " 0.46440023 0.49698013 0.42850068 0.4359357  0.42999431 0.46361783\n",
      " 0.45011652 0.46868202 0.4157703  0.40554756 0.44149077 0.47784275\n",
      " 0.41079473 0.41323948 0.4456052  0.4721441  0.42790276 0.4320644\n",
      " 0.4646623  0.5054051  0.44694552 0.44921333 0.43240964 0.4530183\n",
      " 0.42316964 0.4460145  0.48441827 0.44705695 0.4728723  0.41729692\n",
      " 0.48012605 0.43177783 0.509894   0.42984733 0.47953296 0.42773914\n",
      " 0.42682588 0.42748427 0.43601817 0.47616202 0.44613737 0.4935683\n",
      " 0.46121967 0.4264654  0.4889664  0.44372913 0.4526496  0.453389\n",
      " 0.50190514 0.43377978 0.5009737  0.41593453 0.42136887 0.4302147\n",
      " 0.42997286 0.42169806 0.59468156 0.6486907  0.481242   0.5680059\n",
      " 0.5878901  0.7456828  0.43888262 0.5776668  0.53044814 0.5532271\n",
      " 0.52998734 0.8067999  0.55257505 0.703205   0.52897346 0.6203667\n",
      " 0.693806   0.44409207 0.5210895  0.5233147  0.54421294 0.43172708\n",
      " 0.5066652  0.51021475 0.8389934  0.66332984 0.5370386  0.81398547\n",
      " 0.83006334 0.51800805 0.80913436 0.54595447 0.8516017  0.44910264\n",
      " 0.4934664  0.6115158  0.55818945 0.8167428  0.41151258]\n",
      "threshold:  0.5051138758659363\n",
      "classifications_subset:  [False False False False False False False False False False False False\n",
      " False False False False False False False False False False False False\n",
      " False False False False False False False False False False False False\n",
      " False False False False False False False False False False False False\n",
      " False False  True False False False False False False  True False False\n",
      " False False False False False False False False False False False False\n",
      " False False  True  True False False False False  True False False False\n",
      " False False False False False False False False False False False False\n",
      " False False False False False False False False False False False False\n",
      " False False  True False False False False False False False False False\n",
      " False False False False False False False False False False False False\n",
      " False False False False False False False False False False False False\n",
      " False False False False False False False False False False False False\n",
      " False False False False False False False False False False False False\n",
      " False False False False False False False False False False False False\n",
      " False False False False False False False  True False False False False\n",
      " False False False False False False False False  True False False False\n",
      " False False False False False False False False False False False False\n",
      " False False False False False False False False  True  True False  True\n",
      "  True  True False  True  True  True  True  True  True  True  True  True\n",
      "  True False  True  True  True False  True  True  True  True  True  True\n",
      "  True  True  True  True  True False False  True  True  True False]\n",
      "k_iter:  2\n"
     ]
    },
    {
     "name": "stderr",
     "output_type": "stream",
     "text": [
      "GPU available: True (cuda), used: True\n",
      "TPU available: False, using: 0 TPU cores\n",
      "IPU available: False, using: 0 IPUs\n",
      "HPU available: False, using: 0 HPUs\n",
      "/home/wueesmat/anaconda3/envs/anomalib_env/lib/python3.10/site-packages/torchmetrics/utilities/prints.py:36: UserWarning: Metric `PrecisionRecallCurve` will save all targets and predictions in buffer. For large datasets this may lead to large memory footprint.\n",
      "  warnings.warn(*args, **kwargs)\n",
      "F1Score class exists for backwards compatibility. It will be removed in v1.1. Please use BinaryF1Score from torchmetrics instead\n",
      "LOCAL_RANK: 0 - CUDA_VISIBLE_DEVICES: [0,1,2,3,4,5,6,7]\n",
      "/home/wueesmat/anaconda3/envs/anomalib_env/lib/python3.10/site-packages/lightning/pytorch/core/optimizer.py:180: `LightningModule.configure_optimizers` returned `None`, this fit will run with no optimizer\n",
      "\n",
      "  | Name                  | Type                     | Params\n",
      "-------------------------------------------------------------------\n",
      "0 | model                 | PatchcoreModel           | 24.9 M\n",
      "1 | _transform            | Compose                  | 0     \n",
      "2 | normalization_metrics | MinMax                   | 0     \n",
      "3 | image_threshold       | F1AdaptiveThreshold      | 0     \n",
      "4 | pixel_threshold       | F1AdaptiveThreshold      | 0     \n",
      "5 | image_metrics         | AnomalibMetricCollection | 0     \n",
      "6 | pixel_metrics         | AnomalibMetricCollection | 0     \n",
      "-------------------------------------------------------------------\n",
      "24.9 M    Trainable params\n",
      "0         Non-trainable params\n",
      "24.9 M    Total params\n",
      "99.450    Total estimated model params size (MB)\n"
     ]
    },
    {
     "data": {
      "application/vnd.jupyter.widget-view+json": {
       "model_id": "eccd9e1a70314df1b97ca506bb268c78",
       "version_major": 2,
       "version_minor": 0
      },
      "text/plain": [
       "Training: |                                                                                                   …"
      ]
     },
     "metadata": {},
     "output_type": "display_data"
    },
    {
     "data": {
      "application/vnd.jupyter.widget-view+json": {
       "model_id": "4ea9c7a009aa4f07b0e67f8dc10cb0d7",
       "version_major": 2,
       "version_minor": 0
      },
      "text/plain": [
       "Validation: |                                                                                                 …"
      ]
     },
     "metadata": {},
     "output_type": "display_data"
    },
    {
     "data": {
      "application/vnd.jupyter.widget-view+json": {
       "model_id": "c7479598d5374ec195490ef51efe3d86",
       "version_major": 2,
       "version_minor": 0
      },
      "text/plain": [
       "Output()"
      ]
     },
     "metadata": {},
     "output_type": "display_data"
    },
    {
     "data": {
      "text/html": [
       "<pre style=\"white-space:pre;overflow-x:auto;line-height:normal;font-family:Menlo,'DejaVu Sans Mono',consolas,'Courier New',monospace\"></pre>\n"
      ],
      "text/plain": []
     },
     "metadata": {},
     "output_type": "display_data"
    },
    {
     "data": {
      "text/html": [
       "<pre style=\"white-space:pre;overflow-x:auto;line-height:normal;font-family:Menlo,'DejaVu Sans Mono',consolas,'Courier New',monospace\">\n",
       "</pre>\n"
      ],
      "text/plain": [
       "\n"
      ]
     },
     "metadata": {},
     "output_type": "display_data"
    },
    {
     "name": "stderr",
     "output_type": "stream",
     "text": [
      "`Trainer.fit` stopped: `max_epochs=1` reached.\n",
      "ckpt_path is not provided. Model weights will not be loaded.\n",
      "/home/wueesmat/anaconda3/envs/anomalib_env/lib/python3.10/site-packages/lightning/fabric/plugins/environments/slurm.py:191: The `srun` command is available on your system but is not used. HINT: If your intention is to run Lightning on SLURM, prepend your python command with `srun` like so: srun python /home/wueesmat/anaconda3/envs/anomalib_env/lib/pytho ...\n",
      "F1Score class exists for backwards compatibility. It will be removed in v1.1. Please use BinaryF1Score from torchmetrics instead\n",
      "LOCAL_RANK: 0 - CUDA_VISIBLE_DEVICES: [0,1,2,3,4,5,6,7]\n",
      "/home/wueesmat/anaconda3/envs/anomalib_env/lib/python3.10/site-packages/lightning/pytorch/trainer/connectors/data_connector.py:441: The 'predict_dataloader' does not have many workers which may be a bottleneck. Consider increasing the value of the `num_workers` argument` to `num_workers=31` in the `DataLoader` to improve performance.\n"
     ]
    },
    {
     "data": {
      "application/vnd.jupyter.widget-view+json": {
       "model_id": "e203f664175b4c17a589e6e08aa33959",
       "version_major": 2,
       "version_minor": 0
      },
      "text/plain": [
       "Predicting: |                                                                                                 …"
      ]
     },
     "metadata": {},
     "output_type": "display_data"
    },
    {
     "name": "stderr",
     "output_type": "stream",
     "text": [
      "Seed set to 1\n"
     ]
    },
    {
     "name": "stdout",
     "output_type": "stream",
     "text": [
      "prediction_scores_subset:  [0.4583513  0.4538037  0.4491648  0.51256543 0.45356923 0.4396862\n",
      " 0.44586322 0.44080704 0.44101503 0.42099988 0.39829966 0.48710123\n",
      " 0.44398627 0.4458351  0.39234632 0.44248006 0.46752572 0.47800013\n",
      " 0.454723   0.4359293  0.46308035 0.45031947 0.4363723  0.4611212\n",
      " 0.48640355 0.47704193 0.46949905 0.44804177 0.45937172 0.43195808\n",
      " 0.4354567  0.42451197 0.4493779  0.44903162 0.47461492 0.44645056\n",
      " 0.4999312  0.45229992 0.4482056  0.42225915 0.46774507 0.4524572\n",
      " 0.46520096 0.45159715 0.4483565  0.4754945  0.46137714 0.47035363\n",
      " 0.44390807 0.44307488 0.4551401  0.463475   0.44340485 0.43805277\n",
      " 0.47494465 0.45473245 0.46551242 0.4721274  0.5068079  0.4376706\n",
      " 0.4773227  0.42372656 0.41305903 0.47550872 0.47568944 0.41547865\n",
      " 0.41417181 0.48599187 0.43731597 0.48613662 0.47661665 0.4544152\n",
      " 0.44295847 0.44889334 0.49915436 0.46320862 0.42480808 0.4576556\n",
      " 0.45789954 0.48081866 0.4788143  0.4602875  0.45260033 0.47404578\n",
      " 0.46804523 0.43952245 0.428564   0.43382925 0.42324442 0.4447871\n",
      " 0.4912972  0.43268332 0.42484626 0.43183503 0.467916   0.46186227\n",
      " 0.4477717  0.43849462 0.45463267 0.41200042 0.45357376 0.41989627\n",
      " 0.43452567 0.49443677 0.4917563  0.45405284 0.4989775  0.4538034\n",
      " 0.42711496 0.4351535  0.41445756 0.47472057 0.42017692 0.42802656\n",
      " 0.42691982 0.46396205 0.42574257 0.4514398  0.46324408 0.44341886\n",
      " 0.43256542 0.44030565 0.4277383  0.4372773  0.45774892 0.4834203\n",
      " 0.466109   0.4635014  0.42367214 0.4458922  0.4456404  0.4296924\n",
      " 0.45077226 0.47135153 0.46559647 0.45903948 0.46314204 0.44564235\n",
      " 0.46126547 0.45626968 0.42416212 0.43210572 0.4422359  0.4561392\n",
      " 0.45423326 0.43783638 0.45897022 0.45041755 0.39981815 0.42351803\n",
      " 0.4707189  0.4513296  0.3977186  0.44134971 0.45923835 0.44381994\n",
      " 0.4692121  0.436318   0.41568318 0.43652064 0.4512177  0.44707036\n",
      " 0.43006068 0.4574362  0.41233402 0.43161497 0.41280374 0.44534037\n",
      " 0.43335798 0.4585165  0.4524277  0.39659673 0.42808187 0.45632386\n",
      " 0.47254944 0.4647855  0.4327159  0.4133681  0.47974533 0.4485472\n",
      " 0.41803116 0.44240782 0.4714154  0.46257517 0.4640902  0.44757226\n",
      " 0.46183407 0.48415405 0.44350374 0.44073683 0.47122175 0.45876342\n",
      " 0.4033522  0.47570133 0.42548066 0.42659923 0.42852205 0.39866292\n",
      " 0.43838325 0.3964393  0.43303606 0.42841792 0.4941244  0.4085008\n",
      " 0.4352466  0.43256316 0.42652822 0.41727054 0.42401364 0.44507128\n",
      " 0.4294425  0.45649534 0.43375865 0.43424326 0.42819232 0.4451587\n",
      " 0.4018549  0.4349274  0.51305974 0.46044782 0.4553359  0.4279138\n",
      " 0.4140669  0.42088002 0.5387795  0.5176607  0.45306852 0.6261041\n",
      " 0.41927472 0.65876895 0.42866555 0.5350521  0.5193484  0.57422423\n",
      " 0.5992903  0.7270186  0.4466988  0.64437103 0.45521706 0.6200035\n",
      " 0.7366525  0.75441146 0.4160042  0.4435419  0.5256876  0.4926704\n",
      " 0.45819578 0.53267604 0.8110907  0.5922784  0.48346484 0.77888346\n",
      " 0.76108515 0.5782738  0.7313031  0.45692804 0.78584117 0.45099244\n",
      " 0.49855217 0.5221284  0.4571773  0.7710965  0.45309594]\n",
      "threshold:  0.485440519452095\n",
      "classifications_subset:  [False False False  True False False False False False False False  True\n",
      " False False False False False False False False False False False False\n",
      "  True False False False False False False False False False False False\n",
      "  True False False False False False False False False False False False\n",
      " False False False False False False False False False False  True False\n",
      " False False False False False False False  True False  True False False\n",
      " False False  True False False False False False False False False False\n",
      " False False False False False False  True False False False False False\n",
      " False False False False False False False  True  True False  True False\n",
      " False False False False False False False False False False False False\n",
      " False False False False False False False False False False False False\n",
      " False False False False False False False False False False False False\n",
      " False False False False False False False False False False False False\n",
      " False False False False False False False False False False False False\n",
      " False False False False False False False False False False False False\n",
      " False False False False False False False False False False False False\n",
      " False False False False False False False False False False  True False\n",
      " False False False False False False False False False False False False\n",
      " False False  True False False False False False  True  True False  True\n",
      " False  True False  True  True  True  True  True False  True False  True\n",
      "  True  True False False  True  True False  True  True  True False  True\n",
      "  True  True  True False  True False  True  True False  True False]\n",
      "k_iter:  3\n"
     ]
    },
    {
     "name": "stderr",
     "output_type": "stream",
     "text": [
      "GPU available: True (cuda), used: True\n",
      "TPU available: False, using: 0 TPU cores\n",
      "IPU available: False, using: 0 IPUs\n",
      "HPU available: False, using: 0 HPUs\n",
      "/home/wueesmat/anaconda3/envs/anomalib_env/lib/python3.10/site-packages/torchmetrics/utilities/prints.py:36: UserWarning: Metric `PrecisionRecallCurve` will save all targets and predictions in buffer. For large datasets this may lead to large memory footprint.\n",
      "  warnings.warn(*args, **kwargs)\n",
      "F1Score class exists for backwards compatibility. It will be removed in v1.1. Please use BinaryF1Score from torchmetrics instead\n",
      "LOCAL_RANK: 0 - CUDA_VISIBLE_DEVICES: [0,1,2,3,4,5,6,7]\n",
      "/home/wueesmat/anaconda3/envs/anomalib_env/lib/python3.10/site-packages/lightning/pytorch/core/optimizer.py:180: `LightningModule.configure_optimizers` returned `None`, this fit will run with no optimizer\n",
      "\n",
      "  | Name                  | Type                     | Params\n",
      "-------------------------------------------------------------------\n",
      "0 | model                 | PatchcoreModel           | 24.9 M\n",
      "1 | _transform            | Compose                  | 0     \n",
      "2 | normalization_metrics | MinMax                   | 0     \n",
      "3 | image_threshold       | F1AdaptiveThreshold      | 0     \n",
      "4 | pixel_threshold       | F1AdaptiveThreshold      | 0     \n",
      "5 | image_metrics         | AnomalibMetricCollection | 0     \n",
      "6 | pixel_metrics         | AnomalibMetricCollection | 0     \n",
      "-------------------------------------------------------------------\n",
      "24.9 M    Trainable params\n",
      "0         Non-trainable params\n",
      "24.9 M    Total params\n",
      "99.450    Total estimated model params size (MB)\n"
     ]
    },
    {
     "data": {
      "application/vnd.jupyter.widget-view+json": {
       "model_id": "d6c5b107e9b34009aa1dc6bbb98322ad",
       "version_major": 2,
       "version_minor": 0
      },
      "text/plain": [
       "Training: |                                                                                                   …"
      ]
     },
     "metadata": {},
     "output_type": "display_data"
    },
    {
     "data": {
      "application/vnd.jupyter.widget-view+json": {
       "model_id": "366e9e952f3e4972ac1a60877a14a616",
       "version_major": 2,
       "version_minor": 0
      },
      "text/plain": [
       "Validation: |                                                                                                 …"
      ]
     },
     "metadata": {},
     "output_type": "display_data"
    },
    {
     "data": {
      "application/vnd.jupyter.widget-view+json": {
       "model_id": "002725d5afa440059a8ac23cceb61248",
       "version_major": 2,
       "version_minor": 0
      },
      "text/plain": [
       "Output()"
      ]
     },
     "metadata": {},
     "output_type": "display_data"
    },
    {
     "data": {
      "text/html": [
       "<pre style=\"white-space:pre;overflow-x:auto;line-height:normal;font-family:Menlo,'DejaVu Sans Mono',consolas,'Courier New',monospace\"></pre>\n"
      ],
      "text/plain": []
     },
     "metadata": {},
     "output_type": "display_data"
    },
    {
     "data": {
      "text/html": [
       "<pre style=\"white-space:pre;overflow-x:auto;line-height:normal;font-family:Menlo,'DejaVu Sans Mono',consolas,'Courier New',monospace\">\n",
       "</pre>\n"
      ],
      "text/plain": [
       "\n"
      ]
     },
     "metadata": {},
     "output_type": "display_data"
    },
    {
     "name": "stderr",
     "output_type": "stream",
     "text": [
      "`Trainer.fit` stopped: `max_epochs=1` reached.\n",
      "ckpt_path is not provided. Model weights will not be loaded.\n",
      "/home/wueesmat/anaconda3/envs/anomalib_env/lib/python3.10/site-packages/lightning/fabric/plugins/environments/slurm.py:191: The `srun` command is available on your system but is not used. HINT: If your intention is to run Lightning on SLURM, prepend your python command with `srun` like so: srun python /home/wueesmat/anaconda3/envs/anomalib_env/lib/pytho ...\n",
      "F1Score class exists for backwards compatibility. It will be removed in v1.1. Please use BinaryF1Score from torchmetrics instead\n",
      "LOCAL_RANK: 0 - CUDA_VISIBLE_DEVICES: [0,1,2,3,4,5,6,7]\n",
      "/home/wueesmat/anaconda3/envs/anomalib_env/lib/python3.10/site-packages/lightning/pytorch/trainer/connectors/data_connector.py:441: The 'predict_dataloader' does not have many workers which may be a bottleneck. Consider increasing the value of the `num_workers` argument` to `num_workers=31` in the `DataLoader` to improve performance.\n"
     ]
    },
    {
     "data": {
      "application/vnd.jupyter.widget-view+json": {
       "model_id": "1a8982688d9e4ff8a9ae6095e35515d3",
       "version_major": 2,
       "version_minor": 0
      },
      "text/plain": [
       "Predicting: |                                                                                                 …"
      ]
     },
     "metadata": {},
     "output_type": "display_data"
    },
    {
     "name": "stderr",
     "output_type": "stream",
     "text": [
      "Seed set to 1\n"
     ]
    },
    {
     "name": "stdout",
     "output_type": "stream",
     "text": [
      "prediction_scores_subset:  [0.5041705  0.46999535 0.4985905  0.50907147 0.4451089  0.48655885\n",
      " 0.48643348 0.5038941  0.5191734  0.49104255 0.4566275  0.52957505\n",
      " 0.510022   0.5844662  0.4496381  0.507901   0.4612274  0.50953645\n",
      " 0.43775153 0.4599606  0.48589998 0.4715933  0.47171253 0.51507986\n",
      " 0.48966166 0.4546525  0.45202994 0.47720632 0.45765758 0.4930963\n",
      " 0.45418596 0.47719398 0.4993067  0.47980043 0.4999176  0.49402973\n",
      " 0.49109077 0.46185237 0.48989886 0.4919298  0.46518934 0.48515728\n",
      " 0.46933788 0.49034882 0.55325544 0.50480276 0.48061436 0.48301703\n",
      " 0.50022155 0.44223556 0.47247183 0.48637375 0.46788758 0.49339852\n",
      " 0.5169189  0.40748844 0.4548333  0.48347604 0.47064966 0.45805952\n",
      " 0.47835013 0.44197994 0.47362658 0.5443558  0.50559306 0.49189708\n",
      " 0.48653558 0.43963307 0.420705   0.45585787 0.53257936 0.5203951\n",
      " 0.46308017 0.45307738 0.47877586 0.45755178 0.40924188 0.48412117\n",
      " 0.50896394 0.50998986 0.48995632 0.4785567  0.46787813 0.4796062\n",
      " 0.5258844  0.48442382 0.48685142 0.46352464 0.48700097 0.47356325\n",
      " 0.48176324 0.43961948 0.5131232  0.45241347 0.4133728  0.5211031\n",
      " 0.46420798 0.46760735 0.44347936 0.46457505 0.42416763 0.49656937\n",
      " 0.47731757 0.5172664  0.48569146 0.50562334 0.43443662 0.44864509\n",
      " 0.47410628 0.43198138 0.51235265 0.49596387 0.5104436  0.48391917\n",
      " 0.4212164  0.5012604  0.48500368 0.45619982 0.41480362 0.55794626\n",
      " 0.47397187 0.46169075 0.47158167 0.46175683 0.44171846 0.4854444\n",
      " 0.48283243 0.4937371  0.48544186 0.4994686  0.45899346 0.4606761\n",
      " 0.44965005 0.4839965  0.460526   0.40879023 0.4827141  0.44371983\n",
      " 0.43517527 0.4891     0.43458596 0.41757414 0.46517208 0.42704925\n",
      " 0.5126267  0.41168228 0.47145927 0.46064597 0.43522456 0.450634\n",
      " 0.4516816  0.43315881 0.4208032  0.48418522 0.40372366 0.44883254\n",
      " 0.44612828 0.43747556 0.48272985 0.48590025 0.45523477 0.45732388\n",
      " 0.50989485 0.47720152 0.5172847  0.45744538 0.5098647  0.46722427\n",
      " 0.49737987 0.42639217 0.46957868 0.46533945 0.48299387 0.48510337\n",
      " 0.43436337 0.47830006 0.44306973 0.41483983 0.43980938 0.42957953\n",
      " 0.48044848 0.4511997  0.514132   0.5525223  0.47845083 0.50252557\n",
      " 0.42637634 0.560054   0.47590548 0.4645751  0.4727778  0.4263978\n",
      " 0.4603348  0.47379386 0.51328164 0.48285705 0.47208896 0.46718928\n",
      " 0.49417883 0.55779546 0.47899008 0.4334374  0.4763655  0.4481045\n",
      " 0.50054723 0.41765374 0.4310578  0.46705633 0.46128953 0.50658935\n",
      " 0.50723046 0.45725527 0.51768035 0.4699689  0.47395244 0.47173372\n",
      " 0.48399624 0.50267273 0.52768993 0.54252267 0.4860564  0.47781557\n",
      " 0.49988863 0.44654098 0.5175036  0.4533614  0.4486242  0.44589218\n",
      " 0.5159788  0.53588    0.41535813 0.4461022  0.59092546 0.5614331\n",
      " 0.68648183 0.58118623 0.5148505  0.5049171  0.50964314 0.5768586\n",
      " 0.7681818  0.77990127 0.4607576  0.5247047  0.55434036 0.41917622\n",
      " 0.54563314 0.48914722 0.8868387  0.45682153 0.57143617 0.60470897\n",
      " 0.5682561  0.50228    0.42417794 0.524647   0.56649977 0.48817825\n",
      " 0.5860417  0.46684584 0.5739643  0.5569235  0.5177966 ]\n",
      "threshold:  0.5171621441841125\n",
      "classifications_subset:  [False False False False False False False False  True False False  True\n",
      " False  True False False False False False False False False False False\n",
      " False False False False False False False False False False False False\n",
      " False False False False False False False False  True False False False\n",
      " False False False False False False False False False False False False\n",
      " False False False  True False False False False False False  True  True\n",
      " False False False False False False False False False False False False\n",
      "  True False False False False False False False False False False  True\n",
      " False False False False False False False  True False False False False\n",
      " False False False False False False False False False False False  True\n",
      " False False False False False False False False False False False False\n",
      " False False False False False False False False False False False False\n",
      " False False False False False False False False False False False False\n",
      " False False False False False False False False  True False False False\n",
      " False False False False False False False False False False False False\n",
      " False False False  True False False False  True False False False False\n",
      " False False False False False False False  True False False False False\n",
      " False False False False False False False False  True False False False\n",
      " False False  True  True False False False False  True False False False\n",
      " False  True False False  True  True  True  True False False False  True\n",
      "  True  True False  True  True False  True False  True False  True  True\n",
      "  True False False  True  True False  True False  True  True  True]\n",
      "k_iter:  4\n"
     ]
    },
    {
     "name": "stderr",
     "output_type": "stream",
     "text": [
      "GPU available: True (cuda), used: True\n",
      "TPU available: False, using: 0 TPU cores\n",
      "IPU available: False, using: 0 IPUs\n",
      "HPU available: False, using: 0 HPUs\n",
      "/home/wueesmat/anaconda3/envs/anomalib_env/lib/python3.10/site-packages/torchmetrics/utilities/prints.py:36: UserWarning: Metric `PrecisionRecallCurve` will save all targets and predictions in buffer. For large datasets this may lead to large memory footprint.\n",
      "  warnings.warn(*args, **kwargs)\n",
      "F1Score class exists for backwards compatibility. It will be removed in v1.1. Please use BinaryF1Score from torchmetrics instead\n",
      "LOCAL_RANK: 0 - CUDA_VISIBLE_DEVICES: [0,1,2,3,4,5,6,7]\n",
      "/home/wueesmat/anaconda3/envs/anomalib_env/lib/python3.10/site-packages/lightning/pytorch/core/optimizer.py:180: `LightningModule.configure_optimizers` returned `None`, this fit will run with no optimizer\n",
      "\n",
      "  | Name                  | Type                     | Params\n",
      "-------------------------------------------------------------------\n",
      "0 | model                 | PatchcoreModel           | 24.9 M\n",
      "1 | _transform            | Compose                  | 0     \n",
      "2 | normalization_metrics | MinMax                   | 0     \n",
      "3 | image_threshold       | F1AdaptiveThreshold      | 0     \n",
      "4 | pixel_threshold       | F1AdaptiveThreshold      | 0     \n",
      "5 | image_metrics         | AnomalibMetricCollection | 0     \n",
      "6 | pixel_metrics         | AnomalibMetricCollection | 0     \n",
      "-------------------------------------------------------------------\n",
      "24.9 M    Trainable params\n",
      "0         Non-trainable params\n",
      "24.9 M    Total params\n",
      "99.450    Total estimated model params size (MB)\n"
     ]
    },
    {
     "data": {
      "application/vnd.jupyter.widget-view+json": {
       "model_id": "d72815c5425b4b55930528aab14b1c04",
       "version_major": 2,
       "version_minor": 0
      },
      "text/plain": [
       "Training: |                                                                                                   …"
      ]
     },
     "metadata": {},
     "output_type": "display_data"
    },
    {
     "data": {
      "application/vnd.jupyter.widget-view+json": {
       "model_id": "4e6122190c4543109507d15556249342",
       "version_major": 2,
       "version_minor": 0
      },
      "text/plain": [
       "Validation: |                                                                                                 …"
      ]
     },
     "metadata": {},
     "output_type": "display_data"
    },
    {
     "data": {
      "application/vnd.jupyter.widget-view+json": {
       "model_id": "ee81a2690c8e4186b02b5eae2f713087",
       "version_major": 2,
       "version_minor": 0
      },
      "text/plain": [
       "Output()"
      ]
     },
     "metadata": {},
     "output_type": "display_data"
    },
    {
     "data": {
      "text/html": [
       "<pre style=\"white-space:pre;overflow-x:auto;line-height:normal;font-family:Menlo,'DejaVu Sans Mono',consolas,'Courier New',monospace\"></pre>\n"
      ],
      "text/plain": []
     },
     "metadata": {},
     "output_type": "display_data"
    },
    {
     "data": {
      "text/html": [
       "<pre style=\"white-space:pre;overflow-x:auto;line-height:normal;font-family:Menlo,'DejaVu Sans Mono',consolas,'Courier New',monospace\">\n",
       "</pre>\n"
      ],
      "text/plain": [
       "\n"
      ]
     },
     "metadata": {},
     "output_type": "display_data"
    },
    {
     "name": "stderr",
     "output_type": "stream",
     "text": [
      "`Trainer.fit` stopped: `max_epochs=1` reached.\n",
      "ckpt_path is not provided. Model weights will not be loaded.\n",
      "/home/wueesmat/anaconda3/envs/anomalib_env/lib/python3.10/site-packages/lightning/fabric/plugins/environments/slurm.py:191: The `srun` command is available on your system but is not used. HINT: If your intention is to run Lightning on SLURM, prepend your python command with `srun` like so: srun python /home/wueesmat/anaconda3/envs/anomalib_env/lib/pytho ...\n",
      "F1Score class exists for backwards compatibility. It will be removed in v1.1. Please use BinaryF1Score from torchmetrics instead\n",
      "LOCAL_RANK: 0 - CUDA_VISIBLE_DEVICES: [0,1,2,3,4,5,6,7]\n",
      "/home/wueesmat/anaconda3/envs/anomalib_env/lib/python3.10/site-packages/lightning/pytorch/trainer/connectors/data_connector.py:441: The 'predict_dataloader' does not have many workers which may be a bottleneck. Consider increasing the value of the `num_workers` argument` to `num_workers=31` in the `DataLoader` to improve performance.\n"
     ]
    },
    {
     "data": {
      "application/vnd.jupyter.widget-view+json": {
       "model_id": "11d82d5351f9482bacc4c2c3d50a64a9",
       "version_major": 2,
       "version_minor": 0
      },
      "text/plain": [
       "Predicting: |                                                                                                 …"
      ]
     },
     "metadata": {},
     "output_type": "display_data"
    },
    {
     "name": "stderr",
     "output_type": "stream",
     "text": [
      "Seed set to 1\n"
     ]
    },
    {
     "name": "stdout",
     "output_type": "stream",
     "text": [
      "prediction_scores_subset:  [0.44592786 0.4657837  0.48884842 0.4946782  0.44182417 0.47160283\n",
      " 0.51128656 0.44161692 0.47626767 0.46637687 0.46530485 0.46186197\n",
      " 0.4860873  0.51434577 0.45200366 0.44838017 0.43983382 0.482412\n",
      " 0.45320314 0.48018694 0.45697403 0.48907056 0.4835505  0.47426072\n",
      " 0.4811679  0.4660825  0.479613   0.51449335 0.44281608 0.43521532\n",
      " 0.45919618 0.43882793 0.45591787 0.510366   0.50115836 0.5012587\n",
      " 0.4881739  0.45870632 0.49900147 0.4545086  0.4787297  0.47246796\n",
      " 0.49583527 0.4893629  0.4995289  0.46842122 0.48984265 0.4778005\n",
      " 0.4732738  0.46424836 0.44748175 0.4734317  0.45452327 0.4364516\n",
      " 0.46810567 0.48155278 0.4846384  0.47154784 0.48755735 0.45756084\n",
      " 0.44931975 0.45363724 0.44911492 0.49741173 0.46395472 0.46227133\n",
      " 0.4380036  0.4720274  0.43686157 0.49413294 0.46815607 0.48541248\n",
      " 0.46245024 0.4323867  0.53162354 0.43042076 0.45499295 0.48808756\n",
      " 0.42530993 0.45957717 0.5422216  0.475591   0.43422505 0.47462946\n",
      " 0.4559478  0.5003248  0.47395933 0.45048094 0.48018062 0.45357004\n",
      " 0.44598994 0.46389246 0.4679455  0.47615284 0.43946138 0.4712585\n",
      " 0.44613665 0.44988018 0.4400632  0.43555492 0.45564365 0.4477294\n",
      " 0.44840497 0.507223   0.5151239  0.4660086  0.45495567 0.4418929\n",
      " 0.46513987 0.4516165  0.52705175 0.4790201  0.47159654 0.45375714\n",
      " 0.48671126 0.45631862 0.43466923 0.4525771  0.4346536  0.4619159\n",
      " 0.453768   0.43464902 0.46914995 0.48391286 0.46162432 0.4801216\n",
      " 0.49843523 0.5114592  0.4475741  0.47700372 0.4369254  0.4570066\n",
      " 0.45780197 0.46035224 0.475289   0.45768517 0.45254    0.46069482\n",
      " 0.45711634 0.46176144 0.44631204 0.4602257  0.4537806  0.46939194\n",
      " 0.47199723 0.43775856 0.46437538 0.44957522 0.44876096 0.46990085\n",
      " 0.45967352 0.45481455 0.44041905 0.45594436 0.43412828 0.4350692\n",
      " 0.4569348  0.4359476  0.45141697 0.42972904 0.47783688 0.4636852\n",
      " 0.4754742  0.43927318 0.4652093  0.43978116 0.43313277 0.44298488\n",
      " 0.45872226 0.45987403 0.46209165 0.45663446 0.45661232 0.46289134\n",
      " 0.4696059  0.4848796  0.45279694 0.4506929  0.43551186 0.52532107\n",
      " 0.49226308 0.45063016 0.4754069  0.4751749  0.45191827 0.45006946\n",
      " 0.46013865 0.47743735 0.4552574  0.43023652 0.5308675  0.43461657\n",
      " 0.43204418 0.45841897 0.45850766 0.45154053 0.44694877 0.46347782\n",
      " 0.46477532 0.5156734  0.45120284 0.47239348 0.46340337 0.43710437\n",
      " 0.49033982 0.4739109  0.45378965 0.4379459  0.482283   0.45046026\n",
      " 0.44656673 0.45810932 0.46863952 0.4736509  0.4486433  0.45469907\n",
      " 0.45941138 0.45312515 0.4832967  0.4574002  0.47607362 0.5088901\n",
      " 0.45439065 0.47877097 0.52460974 0.638406   0.44306716 0.57487214\n",
      " 0.5188356  0.6829672  0.4947875  0.5497362  0.4659532  0.5675447\n",
      " 0.5625811  0.72956884 0.51591414 0.6463522  0.4489507  0.63618946\n",
      " 0.69053257 0.7657157  0.4657105  0.42127487 0.46334353 0.48009095\n",
      " 0.47474664 0.43021074 0.79839253 0.680946   0.5516505  0.7487678\n",
      " 0.7636936  0.5803514  0.73321795 0.50186265 0.7542593  0.4558877\n",
      " 0.49708676 0.55895674 0.53990114 0.7447029  0.48592198]\n",
      "threshold:  0.5016814529895782\n",
      "classifications_subset:  [False False False False False False  True False False False False False\n",
      " False  True False False False False False False False False False False\n",
      " False False False  True False False False False False  True False False\n",
      " False False False False False False False False False False False False\n",
      " False False False False False False False False False False False False\n",
      " False False False False False False False False False False False False\n",
      " False False  True False False False False False  True False False False\n",
      " False False False False False False False False False False False False\n",
      " False False False False False False False  True  True False False False\n",
      " False False  True False False False False False False False False False\n",
      " False False False False False False False  True False False False False\n",
      " False False False False False False False False False False False False\n",
      " False False False False False False False False False False False False\n",
      " False False False False False False False False False False False False\n",
      " False False False False False False False False False False False  True\n",
      " False False False False False False False False False False  True False\n",
      " False False False False False False False  True False False False False\n",
      " False False False False False False False False False False False False\n",
      " False False False False False  True False False  True  True False  True\n",
      "  True  True False  True False  True  True  True  True  True False  True\n",
      "  True  True False False False False False False  True  True  True  True\n",
      "  True  True  True  True  True False False  True  True  True False]\n",
      "k_iter:  5\n"
     ]
    },
    {
     "name": "stderr",
     "output_type": "stream",
     "text": [
      "GPU available: True (cuda), used: True\n",
      "TPU available: False, using: 0 TPU cores\n",
      "IPU available: False, using: 0 IPUs\n",
      "HPU available: False, using: 0 HPUs\n",
      "/home/wueesmat/anaconda3/envs/anomalib_env/lib/python3.10/site-packages/torchmetrics/utilities/prints.py:36: UserWarning: Metric `PrecisionRecallCurve` will save all targets and predictions in buffer. For large datasets this may lead to large memory footprint.\n",
      "  warnings.warn(*args, **kwargs)\n",
      "F1Score class exists for backwards compatibility. It will be removed in v1.1. Please use BinaryF1Score from torchmetrics instead\n",
      "LOCAL_RANK: 0 - CUDA_VISIBLE_DEVICES: [0,1,2,3,4,5,6,7]\n",
      "/home/wueesmat/anaconda3/envs/anomalib_env/lib/python3.10/site-packages/lightning/pytorch/core/optimizer.py:180: `LightningModule.configure_optimizers` returned `None`, this fit will run with no optimizer\n",
      "\n",
      "  | Name                  | Type                     | Params\n",
      "-------------------------------------------------------------------\n",
      "0 | model                 | PatchcoreModel           | 24.9 M\n",
      "1 | _transform            | Compose                  | 0     \n",
      "2 | normalization_metrics | MinMax                   | 0     \n",
      "3 | image_threshold       | F1AdaptiveThreshold      | 0     \n",
      "4 | pixel_threshold       | F1AdaptiveThreshold      | 0     \n",
      "5 | image_metrics         | AnomalibMetricCollection | 0     \n",
      "6 | pixel_metrics         | AnomalibMetricCollection | 0     \n",
      "-------------------------------------------------------------------\n",
      "24.9 M    Trainable params\n",
      "0         Non-trainable params\n",
      "24.9 M    Total params\n",
      "99.450    Total estimated model params size (MB)\n"
     ]
    },
    {
     "data": {
      "application/vnd.jupyter.widget-view+json": {
       "model_id": "f1445613dec64c51afa301fd929d87ea",
       "version_major": 2,
       "version_minor": 0
      },
      "text/plain": [
       "Training: |                                                                                                   …"
      ]
     },
     "metadata": {},
     "output_type": "display_data"
    },
    {
     "data": {
      "application/vnd.jupyter.widget-view+json": {
       "model_id": "911bdcf7470740fda2b2e7849755ceb3",
       "version_major": 2,
       "version_minor": 0
      },
      "text/plain": [
       "Validation: |                                                                                                 …"
      ]
     },
     "metadata": {},
     "output_type": "display_data"
    },
    {
     "data": {
      "application/vnd.jupyter.widget-view+json": {
       "model_id": "2566ed0770024a3ba9275b807c896f9a",
       "version_major": 2,
       "version_minor": 0
      },
      "text/plain": [
       "Output()"
      ]
     },
     "metadata": {},
     "output_type": "display_data"
    },
    {
     "data": {
      "text/html": [
       "<pre style=\"white-space:pre;overflow-x:auto;line-height:normal;font-family:Menlo,'DejaVu Sans Mono',consolas,'Courier New',monospace\"></pre>\n"
      ],
      "text/plain": []
     },
     "metadata": {},
     "output_type": "display_data"
    },
    {
     "data": {
      "text/html": [
       "<pre style=\"white-space:pre;overflow-x:auto;line-height:normal;font-family:Menlo,'DejaVu Sans Mono',consolas,'Courier New',monospace\">\n",
       "</pre>\n"
      ],
      "text/plain": [
       "\n"
      ]
     },
     "metadata": {},
     "output_type": "display_data"
    },
    {
     "name": "stderr",
     "output_type": "stream",
     "text": [
      "`Trainer.fit` stopped: `max_epochs=1` reached.\n",
      "ckpt_path is not provided. Model weights will not be loaded.\n",
      "/home/wueesmat/anaconda3/envs/anomalib_env/lib/python3.10/site-packages/lightning/fabric/plugins/environments/slurm.py:191: The `srun` command is available on your system but is not used. HINT: If your intention is to run Lightning on SLURM, prepend your python command with `srun` like so: srun python /home/wueesmat/anaconda3/envs/anomalib_env/lib/pytho ...\n",
      "F1Score class exists for backwards compatibility. It will be removed in v1.1. Please use BinaryF1Score from torchmetrics instead\n",
      "LOCAL_RANK: 0 - CUDA_VISIBLE_DEVICES: [0,1,2,3,4,5,6,7]\n",
      "/home/wueesmat/anaconda3/envs/anomalib_env/lib/python3.10/site-packages/lightning/pytorch/trainer/connectors/data_connector.py:441: The 'predict_dataloader' does not have many workers which may be a bottleneck. Consider increasing the value of the `num_workers` argument` to `num_workers=31` in the `DataLoader` to improve performance.\n"
     ]
    },
    {
     "data": {
      "application/vnd.jupyter.widget-view+json": {
       "model_id": "43aaa8d6db6e4e9eb4c076f437d727e4",
       "version_major": 2,
       "version_minor": 0
      },
      "text/plain": [
       "Predicting: |                                                                                                 …"
      ]
     },
     "metadata": {},
     "output_type": "display_data"
    },
    {
     "name": "stderr",
     "output_type": "stream",
     "text": [
      "Seed set to 1\n"
     ]
    },
    {
     "name": "stdout",
     "output_type": "stream",
     "text": [
      "prediction_scores_subset:  [0.47965857 0.45409596 0.43411505 0.5140411  0.45592406 0.42181453\n",
      " 0.4355104  0.4828032  0.49336472 0.4846781  0.45930955 0.45664507\n",
      " 0.43782794 0.47661394 0.44673058 0.43698406 0.48841128 0.4912511\n",
      " 0.4673187  0.48164898 0.45917812 0.4526984  0.45630327 0.47696963\n",
      " 0.47568834 0.4961619  0.47678483 0.50681955 0.44355363 0.44970974\n",
      " 0.47992778 0.4848271  0.45086548 0.47053742 0.48861533 0.4605093\n",
      " 0.46631613 0.49219117 0.46832475 0.46869028 0.47247595 0.45977426\n",
      " 0.5085168  0.48536268 0.47613853 0.4945554  0.48049477 0.4469348\n",
      " 0.45996228 0.45507702 0.4918383  0.47936502 0.48313266 0.49471673\n",
      " 0.47175398 0.5196057  0.47225055 0.5212301  0.48841128 0.45361692\n",
      " 0.5059808  0.465357   0.4488945  0.4903198  0.5073554  0.5041461\n",
      " 0.44404128 0.4877671  0.45093352 0.48513627 0.4787828  0.4417346\n",
      " 0.476898   0.44504786 0.5181182  0.44620657 0.44004804 0.48431557\n",
      " 0.4454147  0.4520425  0.4934113  0.456101   0.49444395 0.49005532\n",
      " 0.47970936 0.463672   0.5124993  0.4740314  0.44261655 0.45510694\n",
      " 0.49051517 0.46132475 0.49011558 0.45626757 0.4577863  0.45549813\n",
      " 0.48168957 0.46678683 0.4701099  0.44832933 0.4430647  0.4680433\n",
      " 0.46937186 0.45648682 0.5437321  0.45670602 0.47465724 0.45990175\n",
      " 0.513228   0.4829831  0.54131854 0.45901465 0.4572664  0.4811681\n",
      " 0.48632392 0.49608403 0.5209599  0.46998787 0.47942585 0.4705675\n",
      " 0.4596611  0.46936822 0.47410467 0.46319407 0.4541951  0.48489997\n",
      " 0.5107149  0.48750147 0.4790833  0.48674628 0.47494814 0.48037738\n",
      " 0.45134798 0.50582415 0.4884985  0.43890387 0.4648062  0.4563263\n",
      " 0.45931208 0.4959323  0.44582418 0.48022762 0.45369726 0.47275347\n",
      " 0.45399854 0.42125416 0.4506826  0.50317764 0.43410927 0.4908706\n",
      " 0.4502613  0.51341313 0.44179785 0.47640264 0.45814562 0.48801175\n",
      " 0.48969227 0.48372573 0.4447215  0.47533664 0.44825    0.44773945\n",
      " 0.47631034 0.4720022  0.48214632 0.4825108  0.5010746  0.46816817\n",
      " 0.4434316  0.5195778  0.4751676  0.4796123  0.42871055 0.47743675\n",
      " 0.4866956  0.46484467 0.4445135  0.4779639  0.4416489  0.47698247\n",
      " 0.49783322 0.47568756 0.45250434 0.46989697 0.48455438 0.454758\n",
      " 0.46396592 0.5044058  0.4801743  0.45606062 0.46805328 0.4382853\n",
      " 0.45347038 0.47370145 0.5273954  0.4801762  0.4506745  0.43272087\n",
      " 0.49712548 0.53004736 0.4735227  0.50411385 0.45510447 0.46943665\n",
      " 0.49384362 0.4684984  0.4476284  0.48763517 0.44732156 0.45595694\n",
      " 0.46254766 0.46681586 0.48144618 0.43749708 0.4847336  0.43213767\n",
      " 0.47935513 0.5008781  0.4902953  0.512019   0.4651193  0.41900757\n",
      " 0.4508348  0.44798017 0.5377443  0.5907844  0.49652907 0.6017982\n",
      " 0.5271628  0.46410096 0.47535342 0.56296295 0.5730678  0.5975877\n",
      " 0.6269584  0.6329166  0.47658765 0.6945416  0.5090213  0.6170801\n",
      " 0.704644   0.8013921  0.47919613 0.48083517 0.5934516  0.4751918\n",
      " 0.47842512 0.553109   0.48621765 0.55870557 0.5455695  0.61297053\n",
      " 0.6539811  0.5834447  0.6000028  0.559991   0.54260576 0.48137736\n",
      " 0.44499213 0.55126286 0.55905    0.45706344 0.48968244]\n",
      "threshold:  0.5102068066596984\n",
      "classifications_subset:  [False False False  True False False False False False False False False\n",
      " False False False False False False False False False False False False\n",
      " False False False False False False False False False False False False\n",
      " False False False False False False False False False False False False\n",
      " False False False False False False False  True False  True False False\n",
      " False False False False False False False False False False False False\n",
      " False False  True False False False False False False False False False\n",
      " False False  True False False False False False False False False False\n",
      " False False False False False False False False  True False False False\n",
      "  True False  True False False False False False  True False False False\n",
      " False False False False False False  True False False False False False\n",
      " False False False False False False False False False False False False\n",
      " False False False False False False False  True False False False False\n",
      " False False False False False False False False False False False False\n",
      " False  True False False False False False False False False False False\n",
      " False False False False False False False False False False False False\n",
      " False False  True False False False False  True False False False False\n",
      " False False False False False False False False False False False False\n",
      " False False False  True False False False False  True  True False  True\n",
      "  True False False  True  True  True  True  True False  True False  True\n",
      "  True  True False False  True False False  True False  True  True  True\n",
      "  True  True  True  True  True False False  True  True False False]\n",
      "k_iter:  6\n"
     ]
    },
    {
     "name": "stderr",
     "output_type": "stream",
     "text": [
      "GPU available: True (cuda), used: True\n",
      "TPU available: False, using: 0 TPU cores\n",
      "IPU available: False, using: 0 IPUs\n",
      "HPU available: False, using: 0 HPUs\n",
      "/home/wueesmat/anaconda3/envs/anomalib_env/lib/python3.10/site-packages/torchmetrics/utilities/prints.py:36: UserWarning: Metric `PrecisionRecallCurve` will save all targets and predictions in buffer. For large datasets this may lead to large memory footprint.\n",
      "  warnings.warn(*args, **kwargs)\n",
      "F1Score class exists for backwards compatibility. It will be removed in v1.1. Please use BinaryF1Score from torchmetrics instead\n",
      "LOCAL_RANK: 0 - CUDA_VISIBLE_DEVICES: [0,1,2,3,4,5,6,7]\n",
      "/home/wueesmat/anaconda3/envs/anomalib_env/lib/python3.10/site-packages/lightning/pytorch/core/optimizer.py:180: `LightningModule.configure_optimizers` returned `None`, this fit will run with no optimizer\n",
      "\n",
      "  | Name                  | Type                     | Params\n",
      "-------------------------------------------------------------------\n",
      "0 | model                 | PatchcoreModel           | 24.9 M\n",
      "1 | _transform            | Compose                  | 0     \n",
      "2 | normalization_metrics | MinMax                   | 0     \n",
      "3 | image_threshold       | F1AdaptiveThreshold      | 0     \n",
      "4 | pixel_threshold       | F1AdaptiveThreshold      | 0     \n",
      "5 | image_metrics         | AnomalibMetricCollection | 0     \n",
      "6 | pixel_metrics         | AnomalibMetricCollection | 0     \n",
      "-------------------------------------------------------------------\n",
      "24.9 M    Trainable params\n",
      "0         Non-trainable params\n",
      "24.9 M    Total params\n",
      "99.450    Total estimated model params size (MB)\n"
     ]
    },
    {
     "data": {
      "application/vnd.jupyter.widget-view+json": {
       "model_id": "301ca1116cb7410f8c95558d499e7396",
       "version_major": 2,
       "version_minor": 0
      },
      "text/plain": [
       "Training: |                                                                                                   …"
      ]
     },
     "metadata": {},
     "output_type": "display_data"
    },
    {
     "data": {
      "application/vnd.jupyter.widget-view+json": {
       "model_id": "376e57bd34f647f98d09ccbe53b79ff2",
       "version_major": 2,
       "version_minor": 0
      },
      "text/plain": [
       "Validation: |                                                                                                 …"
      ]
     },
     "metadata": {},
     "output_type": "display_data"
    },
    {
     "data": {
      "application/vnd.jupyter.widget-view+json": {
       "model_id": "a2b851f8490f4e1eaf436795dd9d6d37",
       "version_major": 2,
       "version_minor": 0
      },
      "text/plain": [
       "Output()"
      ]
     },
     "metadata": {},
     "output_type": "display_data"
    },
    {
     "data": {
      "text/html": [
       "<pre style=\"white-space:pre;overflow-x:auto;line-height:normal;font-family:Menlo,'DejaVu Sans Mono',consolas,'Courier New',monospace\"></pre>\n"
      ],
      "text/plain": []
     },
     "metadata": {},
     "output_type": "display_data"
    },
    {
     "data": {
      "text/html": [
       "<pre style=\"white-space:pre;overflow-x:auto;line-height:normal;font-family:Menlo,'DejaVu Sans Mono',consolas,'Courier New',monospace\">\n",
       "</pre>\n"
      ],
      "text/plain": [
       "\n"
      ]
     },
     "metadata": {},
     "output_type": "display_data"
    },
    {
     "name": "stderr",
     "output_type": "stream",
     "text": [
      "`Trainer.fit` stopped: `max_epochs=1` reached.\n",
      "ckpt_path is not provided. Model weights will not be loaded.\n",
      "/home/wueesmat/anaconda3/envs/anomalib_env/lib/python3.10/site-packages/lightning/fabric/plugins/environments/slurm.py:191: The `srun` command is available on your system but is not used. HINT: If your intention is to run Lightning on SLURM, prepend your python command with `srun` like so: srun python /home/wueesmat/anaconda3/envs/anomalib_env/lib/pytho ...\n",
      "F1Score class exists for backwards compatibility. It will be removed in v1.1. Please use BinaryF1Score from torchmetrics instead\n",
      "LOCAL_RANK: 0 - CUDA_VISIBLE_DEVICES: [0,1,2,3,4,5,6,7]\n",
      "/home/wueesmat/anaconda3/envs/anomalib_env/lib/python3.10/site-packages/lightning/pytorch/trainer/connectors/data_connector.py:441: The 'predict_dataloader' does not have many workers which may be a bottleneck. Consider increasing the value of the `num_workers` argument` to `num_workers=31` in the `DataLoader` to improve performance.\n"
     ]
    },
    {
     "data": {
      "application/vnd.jupyter.widget-view+json": {
       "model_id": "586b068af40f420daccbb162545a3eaa",
       "version_major": 2,
       "version_minor": 0
      },
      "text/plain": [
       "Predicting: |                                                                                                 …"
      ]
     },
     "metadata": {},
     "output_type": "display_data"
    },
    {
     "name": "stderr",
     "output_type": "stream",
     "text": [
      "Seed set to 1\n"
     ]
    },
    {
     "name": "stdout",
     "output_type": "stream",
     "text": [
      "prediction_scores_subset:  [0.49573556 0.5094808  0.5162376  0.55914724 0.44279715 0.51430744\n",
      " 0.45530584 0.48091203 0.50332296 0.48328128 0.49108037 0.53971756\n",
      " 0.5221147  0.5867503  0.48944914 0.5316311  0.4887176  0.5113433\n",
      " 0.47896007 0.49453163 0.49566722 0.5133967  0.49785647 0.5290778\n",
      " 0.5351387  0.50554544 0.47354946 0.514786   0.4626265  0.48885474\n",
      " 0.49736068 0.47530404 0.48424965 0.4576757  0.52016586 0.5269584\n",
      " 0.5209263  0.4928716  0.4668695  0.46503037 0.46969834 0.50091493\n",
      " 0.48067397 0.50759685 0.546918   0.4999653  0.50052965 0.5202911\n",
      " 0.5060816  0.44867578 0.48256883 0.5152931  0.4876433  0.49852931\n",
      " 0.5502052  0.4695981  0.47478825 0.46547934 0.5057869  0.47464842\n",
      " 0.4598472  0.46682137 0.44306356 0.51923424 0.531782   0.5032452\n",
      " 0.4960683  0.47267675 0.43469983 0.48627794 0.49093628 0.5271142\n",
      " 0.459114   0.48481086 0.47011408 0.47821325 0.45917016 0.4632866\n",
      " 0.52784383 0.53239495 0.51743233 0.46722755 0.49773705 0.5114142\n",
      " 0.54146904 0.51802844 0.4837107  0.49967417 0.46343058 0.5122881\n",
      " 0.4729706  0.4708899  0.51703477 0.45599544 0.46690327 0.51845026\n",
      " 0.48253164 0.4589445  0.49156693 0.4557806  0.4603948  0.464739\n",
      " 0.44991294 0.49574572 0.51651573 0.5291197  0.46236324 0.45730823\n",
      " 0.4715687  0.47832727 0.5135586  0.4657184  0.49630097 0.46225306\n",
      " 0.47623175 0.52177143 0.4990239  0.46936053 0.5115472  0.50347304\n",
      " 0.46196637 0.46072033 0.52112216 0.4695003  0.4803726  0.4559817\n",
      " 0.45016116 0.53274244 0.49212357 0.5173299  0.47863084 0.45564103\n",
      " 0.4913772  0.5018427  0.4957961  0.4705686  0.44798896 0.47796404\n",
      " 0.44069377 0.47537592 0.45439494 0.4715811  0.46342507 0.4496862\n",
      " 0.5055471  0.44705653 0.47336298 0.50294244 0.41923666 0.4988343\n",
      " 0.45015752 0.46090096 0.44461527 0.48836267 0.45426524 0.43294024\n",
      " 0.45926234 0.46788093 0.4518296  0.4789371  0.4842911  0.46519393\n",
      " 0.5490326  0.48265514 0.5319414  0.45738223 0.48363417 0.48458773\n",
      " 0.5015363  0.53478384 0.4865892  0.48310867 0.48302603 0.48188657\n",
      " 0.4389497  0.49165016 0.4688687  0.45828384 0.450386   0.50466067\n",
      " 0.48514414 0.45061016 0.49484116 0.53208    0.45973492 0.49486005\n",
      " 0.4729748  0.54345423 0.48133016 0.51383376 0.531733   0.48400196\n",
      " 0.46450624 0.44542783 0.5140632  0.510094   0.47097033 0.47568843\n",
      " 0.5199186  0.52537096 0.50665355 0.44591826 0.4941731  0.47090462\n",
      " 0.4698314  0.48090196 0.45929188 0.45417264 0.4653204  0.52339715\n",
      " 0.48683327 0.47437474 0.5311122  0.5013466  0.48294005 0.44778663\n",
      " 0.50687844 0.49126118 0.5510273  0.4962581  0.4800493  0.4752541\n",
      " 0.5099206  0.48046595 0.5758433  0.57816076 0.500447   0.6568712\n",
      " 0.5814396  0.6874579  0.45410776 0.524085   0.540759   0.6074086\n",
      " 0.70376116 0.72677886 0.57153    0.66107553 0.5171448  0.66672367\n",
      " 0.7706516  0.8189081  0.49938345 0.5231124  0.5595474  0.4798272\n",
      " 0.5326907  0.5796265  0.8927133  0.57360005 0.6292061  0.7732658\n",
      " 0.78168195 0.6293042  0.7367271  0.5836034  0.77806455 0.5052484\n",
      " 0.60324275 0.56799316 0.57339203 0.75753415 0.544223  ]\n",
      "threshold:  0.5350322604179383\n",
      "classifications_subset:  [False False False  True False False False False False False False  True\n",
      " False  True False False False False False False False False False False\n",
      "  True False False False False False False False False False False False\n",
      " False False False False False False False False  True False False False\n",
      " False False False False False False  True False False False False False\n",
      " False False False False False False False False False False False False\n",
      " False False False False False False False False False False False False\n",
      "  True False False False False False False False False False False False\n",
      " False False False False False False False False False False False False\n",
      " False False False False False False False False False False False False\n",
      " False False False False False False False False False False False False\n",
      " False False False False False False False False False False False False\n",
      " False False False False False False False False False False False False\n",
      " False False False False False False  True False False False False False\n",
      " False False False False False False False False False False False False\n",
      " False False False False False False False  True False False False False\n",
      " False False False False False False False False False False False False\n",
      " False False False False False False False False False False False False\n",
      " False False  True False False False False False  True  True False  True\n",
      "  True  True False False  True  True  True  True  True  True False  True\n",
      "  True  True False False  True False False  True  True  True  True  True\n",
      "  True  True  True  True  True False  True  True  True  True  True]\n",
      "k_iter:  7\n"
     ]
    },
    {
     "name": "stderr",
     "output_type": "stream",
     "text": [
      "GPU available: True (cuda), used: True\n",
      "TPU available: False, using: 0 TPU cores\n",
      "IPU available: False, using: 0 IPUs\n",
      "HPU available: False, using: 0 HPUs\n",
      "/home/wueesmat/anaconda3/envs/anomalib_env/lib/python3.10/site-packages/torchmetrics/utilities/prints.py:36: UserWarning: Metric `PrecisionRecallCurve` will save all targets and predictions in buffer. For large datasets this may lead to large memory footprint.\n",
      "  warnings.warn(*args, **kwargs)\n",
      "F1Score class exists for backwards compatibility. It will be removed in v1.1. Please use BinaryF1Score from torchmetrics instead\n",
      "LOCAL_RANK: 0 - CUDA_VISIBLE_DEVICES: [0,1,2,3,4,5,6,7]\n",
      "/home/wueesmat/anaconda3/envs/anomalib_env/lib/python3.10/site-packages/lightning/pytorch/core/optimizer.py:180: `LightningModule.configure_optimizers` returned `None`, this fit will run with no optimizer\n",
      "\n",
      "  | Name                  | Type                     | Params\n",
      "-------------------------------------------------------------------\n",
      "0 | model                 | PatchcoreModel           | 24.9 M\n",
      "1 | _transform            | Compose                  | 0     \n",
      "2 | normalization_metrics | MinMax                   | 0     \n",
      "3 | image_threshold       | F1AdaptiveThreshold      | 0     \n",
      "4 | pixel_threshold       | F1AdaptiveThreshold      | 0     \n",
      "5 | image_metrics         | AnomalibMetricCollection | 0     \n",
      "6 | pixel_metrics         | AnomalibMetricCollection | 0     \n",
      "-------------------------------------------------------------------\n",
      "24.9 M    Trainable params\n",
      "0         Non-trainable params\n",
      "24.9 M    Total params\n",
      "99.450    Total estimated model params size (MB)\n"
     ]
    },
    {
     "data": {
      "application/vnd.jupyter.widget-view+json": {
       "model_id": "c40b36eeccf841c395c17a1f420738b0",
       "version_major": 2,
       "version_minor": 0
      },
      "text/plain": [
       "Training: |                                                                                                   …"
      ]
     },
     "metadata": {},
     "output_type": "display_data"
    },
    {
     "data": {
      "application/vnd.jupyter.widget-view+json": {
       "model_id": "3683e89b94ed4204ab2833e4bf8d846e",
       "version_major": 2,
       "version_minor": 0
      },
      "text/plain": [
       "Validation: |                                                                                                 …"
      ]
     },
     "metadata": {},
     "output_type": "display_data"
    },
    {
     "data": {
      "application/vnd.jupyter.widget-view+json": {
       "model_id": "f0d2d50434e84b9790a3660b0858a403",
       "version_major": 2,
       "version_minor": 0
      },
      "text/plain": [
       "Output()"
      ]
     },
     "metadata": {},
     "output_type": "display_data"
    },
    {
     "data": {
      "text/html": [
       "<pre style=\"white-space:pre;overflow-x:auto;line-height:normal;font-family:Menlo,'DejaVu Sans Mono',consolas,'Courier New',monospace\"></pre>\n"
      ],
      "text/plain": []
     },
     "metadata": {},
     "output_type": "display_data"
    },
    {
     "data": {
      "text/html": [
       "<pre style=\"white-space:pre;overflow-x:auto;line-height:normal;font-family:Menlo,'DejaVu Sans Mono',consolas,'Courier New',monospace\">\n",
       "</pre>\n"
      ],
      "text/plain": [
       "\n"
      ]
     },
     "metadata": {},
     "output_type": "display_data"
    },
    {
     "name": "stderr",
     "output_type": "stream",
     "text": [
      "`Trainer.fit` stopped: `max_epochs=1` reached.\n",
      "ckpt_path is not provided. Model weights will not be loaded.\n",
      "/home/wueesmat/anaconda3/envs/anomalib_env/lib/python3.10/site-packages/lightning/fabric/plugins/environments/slurm.py:191: The `srun` command is available on your system but is not used. HINT: If your intention is to run Lightning on SLURM, prepend your python command with `srun` like so: srun python /home/wueesmat/anaconda3/envs/anomalib_env/lib/pytho ...\n",
      "F1Score class exists for backwards compatibility. It will be removed in v1.1. Please use BinaryF1Score from torchmetrics instead\n",
      "LOCAL_RANK: 0 - CUDA_VISIBLE_DEVICES: [0,1,2,3,4,5,6,7]\n",
      "/home/wueesmat/anaconda3/envs/anomalib_env/lib/python3.10/site-packages/lightning/pytorch/trainer/connectors/data_connector.py:441: The 'predict_dataloader' does not have many workers which may be a bottleneck. Consider increasing the value of the `num_workers` argument` to `num_workers=31` in the `DataLoader` to improve performance.\n"
     ]
    },
    {
     "data": {
      "application/vnd.jupyter.widget-view+json": {
       "model_id": "d419ab92d1324c8eaaf12852227aa2e5",
       "version_major": 2,
       "version_minor": 0
      },
      "text/plain": [
       "Predicting: |                                                                                                 …"
      ]
     },
     "metadata": {},
     "output_type": "display_data"
    },
    {
     "name": "stderr",
     "output_type": "stream",
     "text": [
      "Seed set to 1\n"
     ]
    },
    {
     "name": "stdout",
     "output_type": "stream",
     "text": [
      "prediction_scores_subset:  [0.48636898 0.45451924 0.512515   0.5201522  0.44714025 0.45521876\n",
      " 0.44566762 0.4534778  0.49475414 0.44196162 0.45260704 0.50410753\n",
      " 0.5056245  0.5633008  0.46814272 0.47335845 0.46793258 0.5014799\n",
      " 0.46768466 0.48220044 0.4718706  0.49332455 0.45858768 0.5105704\n",
      " 0.49057207 0.48429573 0.47156358 0.5143384  0.47290128 0.47886166\n",
      " 0.4750977  0.45475864 0.49303332 0.4617011  0.55876786 0.49694383\n",
      " 0.51873195 0.49727228 0.48145097 0.47106555 0.47836325 0.48435867\n",
      " 0.48285002 0.51044697 0.52642965 0.5130904  0.4969232  0.48732632\n",
      " 0.48213187 0.46271294 0.48078942 0.5442809  0.45037925 0.46876422\n",
      " 0.4979779  0.47891867 0.5056675  0.48296055 0.49747333 0.47157964\n",
      " 0.506906   0.4644531  0.47628316 0.5471273  0.48368654 0.48283648\n",
      " 0.5060887  0.47292396 0.44339266 0.4816731  0.5353263  0.48395407\n",
      " 0.48831332 0.50301903 0.5275491  0.4869351  0.44259745 0.5010766\n",
      " 0.50694627 0.49215633 0.48684582 0.5332402  0.46142653 0.4823905\n",
      " 0.52815545 0.4865866  0.49136063 0.48327857 0.4674968  0.5147098\n",
      " 0.44025078 0.43485537 0.51444364 0.44160992 0.42456925 0.49751478\n",
      " 0.47139072 0.46517393 0.48321918 0.45862323 0.46691442 0.4628842\n",
      " 0.4609604  0.5313073  0.47177774 0.5069853  0.4653169  0.44292814\n",
      " 0.4888862  0.43127373 0.4797126  0.46207416 0.47527447 0.5033414\n",
      " 0.48795733 0.5058009  0.50401163 0.4594745  0.49457064 0.5227858\n",
      " 0.47533956 0.48978603 0.4487406  0.45163578 0.47241154 0.47380215\n",
      " 0.44219893 0.5310597  0.4428586  0.49040934 0.502353   0.4732843\n",
      " 0.44716135 0.51341814 0.47539374 0.4467489  0.50742745 0.48060116\n",
      " 0.45529914 0.47997516 0.46566713 0.46283442 0.4604088  0.49830824\n",
      " 0.47358686 0.49038965 0.45331466 0.44309446 0.45226806 0.44392914\n",
      " 0.46438265 0.45751688 0.44908106 0.4661505  0.44752523 0.43297827\n",
      " 0.48616305 0.4315336  0.47857353 0.4919328  0.46985233 0.48155287\n",
      " 0.4714559  0.5113194  0.5227646  0.4575231  0.44612244 0.5141111\n",
      " 0.47045383 0.5145234  0.43862498 0.47955516 0.46965352 0.47906852\n",
      " 0.4810278  0.4837612  0.4332992  0.4526921  0.45061603 0.499712\n",
      " 0.4777481  0.461529   0.4773208  0.49694157 0.47962207 0.4444675\n",
      " 0.46009994 0.54485565 0.45824674 0.43436497 0.4894411  0.44977593\n",
      " 0.45446768 0.49752992 0.52384835 0.46871197 0.43583125 0.46013075\n",
      " 0.45857453 0.5193117  0.47988096 0.4594571  0.47952175 0.47060135\n",
      " 0.47786924 0.46297812 0.47503385 0.48872414 0.47286913 0.48524308\n",
      " 0.49047852 0.50492996 0.5129408  0.48618603 0.48706868 0.43540776\n",
      " 0.55829006 0.44904768 0.4716864  0.5482735  0.45813417 0.47287703\n",
      " 0.45927715 0.45311707 0.57192534 0.4472521  0.4416148  0.61934006\n",
      " 0.5677863  0.59931815 0.5133881  0.5751872  0.56220734 0.53809094\n",
      " 0.5417911  0.77852046 0.56183076 0.66839254 0.49339318 0.6620046\n",
      " 0.7508107  0.7567169  0.5376203  0.56267273 0.58361256 0.45227036\n",
      " 0.5279652  0.54833394 0.83155227 0.5147634  0.44354674 0.80439043\n",
      " 0.8106879  0.58385754 0.74362904 0.52687144 0.8233236  0.51145196\n",
      " 0.50817734 0.5695072  0.5421081  0.8078922  0.49285364]\n",
      "threshold:  0.5278403580188751\n",
      "classifications_subset:  [False False False False False False False False False False False False\n",
      " False  True False False False False False False False False False False\n",
      " False False False False False False False False False False  True False\n",
      " False False False False False False False False False False False False\n",
      " False False False  True False False False False False False False False\n",
      " False False False  True False False False False False False  True False\n",
      " False False False False False False False False False  True False False\n",
      "  True False False False False False False False False False False False\n",
      " False False False False False False False  True False False False False\n",
      " False False False False False False False False False False False False\n",
      " False False False False False False False  True False False False False\n",
      " False False False False False False False False False False False False\n",
      " False False False False False False False False False False False False\n",
      " False False False False False False False False False False False False\n",
      " False False False False False False False False False False False False\n",
      " False False False False False False False  True False False False False\n",
      " False False False False False False False False False False False False\n",
      " False False False False False False False False False False False False\n",
      "  True False False  True False False False False  True False False  True\n",
      "  True  True False  True  True  True  True  True  True  True False  True\n",
      "  True  True  True  True  True False  True  True  True False False  True\n",
      "  True  True  True False  True False False  True  True  True False]\n",
      "k_iter:  8\n"
     ]
    },
    {
     "name": "stderr",
     "output_type": "stream",
     "text": [
      "GPU available: True (cuda), used: True\n",
      "TPU available: False, using: 0 TPU cores\n",
      "IPU available: False, using: 0 IPUs\n",
      "HPU available: False, using: 0 HPUs\n",
      "/home/wueesmat/anaconda3/envs/anomalib_env/lib/python3.10/site-packages/torchmetrics/utilities/prints.py:36: UserWarning: Metric `PrecisionRecallCurve` will save all targets and predictions in buffer. For large datasets this may lead to large memory footprint.\n",
      "  warnings.warn(*args, **kwargs)\n",
      "F1Score class exists for backwards compatibility. It will be removed in v1.1. Please use BinaryF1Score from torchmetrics instead\n",
      "LOCAL_RANK: 0 - CUDA_VISIBLE_DEVICES: [0,1,2,3,4,5,6,7]\n",
      "/home/wueesmat/anaconda3/envs/anomalib_env/lib/python3.10/site-packages/lightning/pytorch/core/optimizer.py:180: `LightningModule.configure_optimizers` returned `None`, this fit will run with no optimizer\n",
      "\n",
      "  | Name                  | Type                     | Params\n",
      "-------------------------------------------------------------------\n",
      "0 | model                 | PatchcoreModel           | 24.9 M\n",
      "1 | _transform            | Compose                  | 0     \n",
      "2 | normalization_metrics | MinMax                   | 0     \n",
      "3 | image_threshold       | F1AdaptiveThreshold      | 0     \n",
      "4 | pixel_threshold       | F1AdaptiveThreshold      | 0     \n",
      "5 | image_metrics         | AnomalibMetricCollection | 0     \n",
      "6 | pixel_metrics         | AnomalibMetricCollection | 0     \n",
      "-------------------------------------------------------------------\n",
      "24.9 M    Trainable params\n",
      "0         Non-trainable params\n",
      "24.9 M    Total params\n",
      "99.450    Total estimated model params size (MB)\n"
     ]
    },
    {
     "data": {
      "application/vnd.jupyter.widget-view+json": {
       "model_id": "54b3a694019342c9b57a62c07af0549f",
       "version_major": 2,
       "version_minor": 0
      },
      "text/plain": [
       "Training: |                                                                                                   …"
      ]
     },
     "metadata": {},
     "output_type": "display_data"
    },
    {
     "data": {
      "application/vnd.jupyter.widget-view+json": {
       "model_id": "a8e0cf5c080641ca89abf070236db83c",
       "version_major": 2,
       "version_minor": 0
      },
      "text/plain": [
       "Validation: |                                                                                                 …"
      ]
     },
     "metadata": {},
     "output_type": "display_data"
    },
    {
     "data": {
      "application/vnd.jupyter.widget-view+json": {
       "model_id": "602dd60b6b6848eaaa20ea3305340be7",
       "version_major": 2,
       "version_minor": 0
      },
      "text/plain": [
       "Output()"
      ]
     },
     "metadata": {},
     "output_type": "display_data"
    },
    {
     "data": {
      "text/html": [
       "<pre style=\"white-space:pre;overflow-x:auto;line-height:normal;font-family:Menlo,'DejaVu Sans Mono',consolas,'Courier New',monospace\"></pre>\n"
      ],
      "text/plain": []
     },
     "metadata": {},
     "output_type": "display_data"
    },
    {
     "data": {
      "text/html": [
       "<pre style=\"white-space:pre;overflow-x:auto;line-height:normal;font-family:Menlo,'DejaVu Sans Mono',consolas,'Courier New',monospace\">\n",
       "</pre>\n"
      ],
      "text/plain": [
       "\n"
      ]
     },
     "metadata": {},
     "output_type": "display_data"
    },
    {
     "name": "stderr",
     "output_type": "stream",
     "text": [
      "`Trainer.fit` stopped: `max_epochs=1` reached.\n",
      "ckpt_path is not provided. Model weights will not be loaded.\n",
      "/home/wueesmat/anaconda3/envs/anomalib_env/lib/python3.10/site-packages/lightning/fabric/plugins/environments/slurm.py:191: The `srun` command is available on your system but is not used. HINT: If your intention is to run Lightning on SLURM, prepend your python command with `srun` like so: srun python /home/wueesmat/anaconda3/envs/anomalib_env/lib/pytho ...\n",
      "F1Score class exists for backwards compatibility. It will be removed in v1.1. Please use BinaryF1Score from torchmetrics instead\n",
      "LOCAL_RANK: 0 - CUDA_VISIBLE_DEVICES: [0,1,2,3,4,5,6,7]\n",
      "/home/wueesmat/anaconda3/envs/anomalib_env/lib/python3.10/site-packages/lightning/pytorch/trainer/connectors/data_connector.py:441: The 'predict_dataloader' does not have many workers which may be a bottleneck. Consider increasing the value of the `num_workers` argument` to `num_workers=31` in the `DataLoader` to improve performance.\n"
     ]
    },
    {
     "data": {
      "application/vnd.jupyter.widget-view+json": {
       "model_id": "883e34c8068b4904bbf72af51e80f249",
       "version_major": 2,
       "version_minor": 0
      },
      "text/plain": [
       "Predicting: |                                                                                                 …"
      ]
     },
     "metadata": {},
     "output_type": "display_data"
    },
    {
     "name": "stderr",
     "output_type": "stream",
     "text": [
      "Seed set to 1\n"
     ]
    },
    {
     "name": "stdout",
     "output_type": "stream",
     "text": [
      "prediction_scores_subset:  [0.4950339  0.493055   0.47889155 0.51128215 0.4962317  0.4725959\n",
      " 0.483265   0.49727222 0.49003753 0.46577471 0.4792061  0.53589857\n",
      " 0.48585835 0.5194915  0.44629323 0.5005007  0.49511376 0.51963913\n",
      " 0.49974027 0.4762738  0.4956648  0.44335485 0.5083712  0.545403\n",
      " 0.5215816  0.4986684  0.5123233  0.49192682 0.5049438  0.47614864\n",
      " 0.47946498 0.4700325  0.49849758 0.48078915 0.5092268  0.4953686\n",
      " 0.51590246 0.4606363  0.48997295 0.46033618 0.51213515 0.49285558\n",
      " 0.5244368  0.50793105 0.523634   0.51862633 0.4940674  0.5003088\n",
      " 0.4945838  0.48281953 0.4680315  0.5256858  0.4518384  0.4793123\n",
      " 0.50564927 0.46015093 0.4843896  0.48140407 0.5295189  0.4761688\n",
      " 0.498472   0.44440666 0.49331412 0.5415573  0.48010027 0.45384726\n",
      " 0.46563032 0.49297816 0.48476642 0.4971241  0.5328163  0.5195172\n",
      " 0.4971333  0.48564073 0.5586096  0.4873786  0.46828455 0.49368462\n",
      " 0.5066174  0.5083326  0.52115667 0.4884343  0.49829873 0.502529\n",
      " 0.48248234 0.46811447 0.45540744 0.49223247 0.5176389  0.4786012\n",
      " 0.5038621  0.49070296 0.4883938  0.48335034 0.52146316 0.52528167\n",
      " 0.47034666 0.4915547  0.46420896 0.48601568 0.48972833 0.45680565\n",
      " 0.45289123 0.49289465 0.50284255 0.5159897  0.46276507 0.49037644\n",
      " 0.46975896 0.45362002 0.50737417 0.47563863 0.48278236 0.49359623\n",
      " 0.46218348 0.49151728 0.49789932 0.4583382  0.49367535 0.5209016\n",
      " 0.45780924 0.48661447 0.5088052  0.47555482 0.4764719  0.50879705\n",
      " 0.4883552  0.5354957  0.48132554 0.48284885 0.46020815 0.4606563\n",
      " 0.46323502 0.5061588  0.46992764 0.50245273 0.52544975 0.4817089\n",
      " 0.48096514 0.48322034 0.45579875 0.4324328  0.46473202 0.49966067\n",
      " 0.48126686 0.46052718 0.46660164 0.48311839 0.45881337 0.4484742\n",
      " 0.49692085 0.435052   0.4512928  0.4681703  0.47032228 0.4733958\n",
      " 0.48375514 0.44683012 0.48387334 0.50098234 0.45983195 0.47847196\n",
      " 0.46413973 0.48528966 0.53010786 0.48864138 0.4530431  0.46218073\n",
      " 0.51000416 0.5058259  0.5000327  0.45522296 0.47022334 0.50875455\n",
      " 0.51006067 0.49013594 0.47353974 0.45970032 0.500304   0.46562123\n",
      " 0.44766465 0.50028133 0.46219838 0.48390427 0.47064793 0.4800181\n",
      " 0.48567176 0.51711434 0.4692726  0.4684707  0.4850895  0.4565172\n",
      " 0.43239975 0.4763437  0.5123616  0.4717302  0.4893134  0.4496014\n",
      " 0.45827636 0.47901043 0.44792855 0.4858985  0.5067511  0.43564612\n",
      " 0.4883996  0.4490706  0.43710187 0.48781413 0.43966678 0.48609594\n",
      " 0.50469947 0.4896059  0.49596792 0.4925179  0.482554   0.500381\n",
      " 0.45736948 0.46034187 0.46242884 0.49743775 0.47379115 0.4605691\n",
      " 0.4853486  0.478327   0.50958264 0.6803833  0.4881412  0.53156567\n",
      " 0.57295024 0.71906537 0.49397472 0.45088872 0.5375447  0.4628377\n",
      " 0.5471658  0.67997986 0.52351904 0.5424549  0.51466143 0.6224851\n",
      " 0.70948744 0.74852335 0.5240665  0.56200814 0.58554405 0.49473205\n",
      " 0.5455637  0.5384961  0.82538533 0.69086957 0.489633   0.59537125\n",
      " 0.5236934  0.48750243 0.52640486 0.53373194 0.5860427  0.4707291\n",
      " 0.5045279  0.6079377  0.52278745 0.58881366 0.4991168 ]\n",
      "threshold:  0.5224256932735443\n",
      "classifications_subset:  [False False False False False False False False False False False  True\n",
      " False False False False False False False False False False False  True\n",
      " False False False False False False False False False False False False\n",
      " False False False False False False  True False  True False False False\n",
      " False False False  True False False False False False False  True False\n",
      " False False False  True False False False False False False  True False\n",
      " False False  True False False False False False False False False False\n",
      " False False False False False False False False False False False  True\n",
      " False False False False False False False False False False False False\n",
      " False False False False False False False False False False False False\n",
      " False False False False False False False  True False False False False\n",
      " False False False False  True False False False False False False False\n",
      " False False False False False False False False False False False False\n",
      " False False False False False False False False  True False False False\n",
      " False False False False False False False False False False False False\n",
      " False False False False False False False False False False False False\n",
      " False False False False False False False False False False False False\n",
      " False False False False False False False False False False False False\n",
      " False False False False False False False False False  True False  True\n",
      "  True  True False False  True False  True  True  True  True False  True\n",
      "  True  True  True  True  True False  True  True  True  True False  True\n",
      "  True False  True  True  True False False  True  True  True False]\n",
      "k_iter:  9\n"
     ]
    },
    {
     "name": "stderr",
     "output_type": "stream",
     "text": [
      "GPU available: True (cuda), used: True\n",
      "TPU available: False, using: 0 TPU cores\n",
      "IPU available: False, using: 0 IPUs\n",
      "HPU available: False, using: 0 HPUs\n",
      "/home/wueesmat/anaconda3/envs/anomalib_env/lib/python3.10/site-packages/torchmetrics/utilities/prints.py:36: UserWarning: Metric `PrecisionRecallCurve` will save all targets and predictions in buffer. For large datasets this may lead to large memory footprint.\n",
      "  warnings.warn(*args, **kwargs)\n",
      "F1Score class exists for backwards compatibility. It will be removed in v1.1. Please use BinaryF1Score from torchmetrics instead\n",
      "LOCAL_RANK: 0 - CUDA_VISIBLE_DEVICES: [0,1,2,3,4,5,6,7]\n",
      "/home/wueesmat/anaconda3/envs/anomalib_env/lib/python3.10/site-packages/lightning/pytorch/core/optimizer.py:180: `LightningModule.configure_optimizers` returned `None`, this fit will run with no optimizer\n",
      "\n",
      "  | Name                  | Type                     | Params\n",
      "-------------------------------------------------------------------\n",
      "0 | model                 | PatchcoreModel           | 24.9 M\n",
      "1 | _transform            | Compose                  | 0     \n",
      "2 | normalization_metrics | MinMax                   | 0     \n",
      "3 | image_threshold       | F1AdaptiveThreshold      | 0     \n",
      "4 | pixel_threshold       | F1AdaptiveThreshold      | 0     \n",
      "5 | image_metrics         | AnomalibMetricCollection | 0     \n",
      "6 | pixel_metrics         | AnomalibMetricCollection | 0     \n",
      "-------------------------------------------------------------------\n",
      "24.9 M    Trainable params\n",
      "0         Non-trainable params\n",
      "24.9 M    Total params\n",
      "99.450    Total estimated model params size (MB)\n"
     ]
    },
    {
     "data": {
      "application/vnd.jupyter.widget-view+json": {
       "model_id": "71f4acb55eac428a8a300e24588d15b7",
       "version_major": 2,
       "version_minor": 0
      },
      "text/plain": [
       "Training: |                                                                                                   …"
      ]
     },
     "metadata": {},
     "output_type": "display_data"
    },
    {
     "data": {
      "application/vnd.jupyter.widget-view+json": {
       "model_id": "4d2b4f6acbcc4cda80e0517a126b3524",
       "version_major": 2,
       "version_minor": 0
      },
      "text/plain": [
       "Validation: |                                                                                                 …"
      ]
     },
     "metadata": {},
     "output_type": "display_data"
    },
    {
     "data": {
      "application/vnd.jupyter.widget-view+json": {
       "model_id": "f33c1f03b0e643049c7b03b3cc3fc5c6",
       "version_major": 2,
       "version_minor": 0
      },
      "text/plain": [
       "Output()"
      ]
     },
     "metadata": {},
     "output_type": "display_data"
    },
    {
     "data": {
      "text/html": [
       "<pre style=\"white-space:pre;overflow-x:auto;line-height:normal;font-family:Menlo,'DejaVu Sans Mono',consolas,'Courier New',monospace\"></pre>\n"
      ],
      "text/plain": []
     },
     "metadata": {},
     "output_type": "display_data"
    },
    {
     "data": {
      "text/html": [
       "<pre style=\"white-space:pre;overflow-x:auto;line-height:normal;font-family:Menlo,'DejaVu Sans Mono',consolas,'Courier New',monospace\">\n",
       "</pre>\n"
      ],
      "text/plain": [
       "\n"
      ]
     },
     "metadata": {},
     "output_type": "display_data"
    },
    {
     "name": "stderr",
     "output_type": "stream",
     "text": [
      "`Trainer.fit` stopped: `max_epochs=1` reached.\n",
      "ckpt_path is not provided. Model weights will not be loaded.\n",
      "/home/wueesmat/anaconda3/envs/anomalib_env/lib/python3.10/site-packages/lightning/fabric/plugins/environments/slurm.py:191: The `srun` command is available on your system but is not used. HINT: If your intention is to run Lightning on SLURM, prepend your python command with `srun` like so: srun python /home/wueesmat/anaconda3/envs/anomalib_env/lib/pytho ...\n",
      "F1Score class exists for backwards compatibility. It will be removed in v1.1. Please use BinaryF1Score from torchmetrics instead\n",
      "LOCAL_RANK: 0 - CUDA_VISIBLE_DEVICES: [0,1,2,3,4,5,6,7]\n",
      "/home/wueesmat/anaconda3/envs/anomalib_env/lib/python3.10/site-packages/lightning/pytorch/trainer/connectors/data_connector.py:441: The 'predict_dataloader' does not have many workers which may be a bottleneck. Consider increasing the value of the `num_workers` argument` to `num_workers=31` in the `DataLoader` to improve performance.\n"
     ]
    },
    {
     "data": {
      "application/vnd.jupyter.widget-view+json": {
       "model_id": "57518fd3ab39493a9ee971a6bfeb30f2",
       "version_major": 2,
       "version_minor": 0
      },
      "text/plain": [
       "Predicting: |                                                                                                 …"
      ]
     },
     "metadata": {},
     "output_type": "display_data"
    },
    {
     "name": "stdout",
     "output_type": "stream",
     "text": [
      "prediction_scores_subset:  [0.49032885 0.4686902  0.4962265  0.5100362  0.46725556 0.48193696\n",
      " 0.4727828  0.48107398 0.48074862 0.47393256 0.47865176 0.517499\n",
      " 0.4805612  0.515816   0.4530147  0.51430243 0.51902497 0.48359704\n",
      " 0.44572333 0.4764377  0.504452   0.45862895 0.46273336 0.4946932\n",
      " 0.50756097 0.48721746 0.48364836 0.46641326 0.47160438 0.4810052\n",
      " 0.49796253 0.45280886 0.49408597 0.48251104 0.49344793 0.47173738\n",
      " 0.5085855  0.42744896 0.46092403 0.47798723 0.5118858  0.50073254\n",
      " 0.5056832  0.5209469  0.49917513 0.49744222 0.48243746 0.5078037\n",
      " 0.46340355 0.51515317 0.45995727 0.53592944 0.46001524 0.48008758\n",
      " 0.46788844 0.4369717  0.48018193 0.47448984 0.5121831  0.4613233\n",
      " 0.4819493  0.42543295 0.48699066 0.5056571  0.49262673 0.46579465\n",
      " 0.48851645 0.4654037  0.5077601  0.5016314  0.51663446 0.48821947\n",
      " 0.49399468 0.49026722 0.45080462 0.455227   0.43027005 0.5300834\n",
      " 0.4859062  0.46951306 0.49522933 0.46268946 0.4686847  0.48954132\n",
      " 0.5289655  0.4767655  0.48287714 0.46685603 0.4792909  0.5136327\n",
      " 0.5296402  0.4714565  0.49193707 0.4599734  0.45240837 0.5246826\n",
      " 0.51396245 0.46815374 0.46090317 0.49591905 0.46441022 0.4714577\n",
      " 0.4378782  0.49159512 0.49070787 0.51291513 0.44752428 0.4941329\n",
      " 0.46156654 0.4653603  0.4833889  0.5038168  0.4778442  0.50253975\n",
      " 0.44546208 0.46910965 0.46470848 0.47137085 0.4650207  0.51518834\n",
      " 0.48948926 0.43955138 0.46697608 0.46405575 0.46461722 0.48254418\n",
      " 0.4640948  0.51711303 0.43480384 0.48446727 0.45549718 0.46712682\n",
      " 0.47972435 0.5340235  0.52287495 0.44618538 0.521537   0.45552456\n",
      " 0.46488374 0.46333325 0.45239684 0.41452593 0.43858004 0.472737\n",
      " 0.4696968  0.4395392  0.43341684 0.47992328 0.45972934 0.43051273\n",
      " 0.51239604 0.44815928 0.45609972 0.49212015 0.4805104  0.46775374\n",
      " 0.48049542 0.44075495 0.49126482 0.47643027 0.445656   0.45770812\n",
      " 0.484324   0.46969745 0.49878186 0.48393792 0.4677265  0.48767325\n",
      " 0.4941886  0.4880316  0.46306512 0.44657865 0.476029   0.4951547\n",
      " 0.5263164  0.5093004  0.46503183 0.46121618 0.48756188 0.47891334\n",
      " 0.47469458 0.48444322 0.46338043 0.49320018 0.45686567 0.47324172\n",
      " 0.47066802 0.5255353  0.4891315  0.46656212 0.46070376 0.4569313\n",
      " 0.45158744 0.45621374 0.47868696 0.48634493 0.4769356  0.436198\n",
      " 0.44842705 0.46981993 0.44909683 0.4564994  0.52045584 0.43719354\n",
      " 0.49355602 0.46355212 0.45222816 0.48646316 0.4722893  0.48645306\n",
      " 0.5013076  0.5073925  0.48885685 0.46784943 0.50708663 0.45920432\n",
      " 0.48257515 0.46185666 0.48412207 0.51891714 0.47816306 0.45087233\n",
      " 0.4694202  0.4805518  0.53372073 0.5540228  0.47203004 0.5795024\n",
      " 0.48736    0.6614423  0.46892512 0.4638544  0.47776172 0.5456778\n",
      " 0.46173495 0.4729594  0.5148231  0.46902615 0.5461185  0.58346087\n",
      " 0.6551422  0.75342494 0.46909505 0.5613902  0.51328015 0.46228623\n",
      " 0.51422876 0.5004074  0.66165394 0.5703695  0.49811554 0.5915253\n",
      " 0.5691798  0.5516979  0.5310919  0.52217174 0.5185081  0.47574258\n",
      " 0.5499789  0.5656165  0.49302706 0.5008309  0.4862509 ]\n",
      "threshold:  0.5150541424751282\n",
      "classifications_subset:  [False False False False False False False False False False False  True\n",
      " False  True False False  True False False False False False False False\n",
      " False False False False False False False False False False False False\n",
      " False False False False False False False  True False False False False\n",
      " False  True False  True False False False False False False False False\n",
      " False False False False False False False False False False  True False\n",
      " False False False False False  True False False False False False False\n",
      "  True False False False False False  True False False False False  True\n",
      " False False False False False False False False False False False False\n",
      " False False False False False False False False False False False  True\n",
      " False False False False False False False  True False False False False\n",
      " False  True  True False  True False False False False False False False\n",
      " False False False False False False False False False False False False\n",
      " False False False False False False False False False False False False\n",
      " False False False False False False  True False False False False False\n",
      " False False False False False False False  True False False False False\n",
      " False False False False False False False False False False  True False\n",
      " False False False False False False False False False False False False\n",
      " False False False  True False False False False  True  True False  True\n",
      " False  True False False False  True False False False False  True  True\n",
      "  True  True False  True False False False False  True  True False  True\n",
      "  True  True  True  True  True False  True  True False False False]\n"
     ]
    },
    {
     "name": "stderr",
     "output_type": "stream",
     "text": [
      "Seed set to 1\n",
      "GPU available: True (cuda), used: True\n",
      "TPU available: False, using: 0 TPU cores\n",
      "IPU available: False, using: 0 IPUs\n",
      "HPU available: False, using: 0 HPUs\n",
      "/home/wueesmat/anaconda3/envs/anomalib_env/lib/python3.10/site-packages/torchmetrics/utilities/prints.py:36: UserWarning: Metric `PrecisionRecallCurve` will save all targets and predictions in buffer. For large datasets this may lead to large memory footprint.\n",
      "  warnings.warn(*args, **kwargs)\n",
      "F1Score class exists for backwards compatibility. It will be removed in v1.1. Please use BinaryF1Score from torchmetrics instead\n",
      "LOCAL_RANK: 0 - CUDA_VISIBLE_DEVICES: [0,1,2,3,4,5,6,7]\n",
      "/home/wueesmat/anaconda3/envs/anomalib_env/lib/python3.10/site-packages/lightning/pytorch/core/optimizer.py:180: `LightningModule.configure_optimizers` returned `None`, this fit will run with no optimizer\n",
      "\n",
      "  | Name                  | Type                     | Params\n",
      "-------------------------------------------------------------------\n",
      "0 | model                 | PatchcoreModel           | 24.9 M\n",
      "1 | _transform            | Compose                  | 0     \n",
      "2 | normalization_metrics | MinMax                   | 0     \n",
      "3 | image_threshold       | F1AdaptiveThreshold      | 0     \n",
      "4 | pixel_threshold       | F1AdaptiveThreshold      | 0     \n",
      "5 | image_metrics         | AnomalibMetricCollection | 0     \n",
      "6 | pixel_metrics         | AnomalibMetricCollection | 0     \n",
      "-------------------------------------------------------------------\n",
      "24.9 M    Trainable params\n",
      "0         Non-trainable params\n",
      "24.9 M    Total params\n",
      "99.450    Total estimated model params size (MB)\n"
     ]
    },
    {
     "data": {
      "application/vnd.jupyter.widget-view+json": {
       "model_id": "756e5a639a1d443094db03201ac11493",
       "version_major": 2,
       "version_minor": 0
      },
      "text/plain": [
       "Training: |                                                                                                   …"
      ]
     },
     "metadata": {},
     "output_type": "display_data"
    },
    {
     "data": {
      "application/vnd.jupyter.widget-view+json": {
       "model_id": "f627ca5119fd402b9c111208ae72da77",
       "version_major": 2,
       "version_minor": 0
      },
      "text/plain": [
       "Validation: |                                                                                                 …"
      ]
     },
     "metadata": {},
     "output_type": "display_data"
    },
    {
     "data": {
      "application/vnd.jupyter.widget-view+json": {
       "model_id": "e52623d9833a4b03ac436d89a7b53c6a",
       "version_major": 2,
       "version_minor": 0
      },
      "text/plain": [
       "Output()"
      ]
     },
     "metadata": {},
     "output_type": "display_data"
    },
    {
     "data": {
      "text/html": [
       "<pre style=\"white-space:pre;overflow-x:auto;line-height:normal;font-family:Menlo,'DejaVu Sans Mono',consolas,'Courier New',monospace\"></pre>\n"
      ],
      "text/plain": []
     },
     "metadata": {},
     "output_type": "display_data"
    },
    {
     "data": {
      "text/html": [
       "<pre style=\"white-space:pre;overflow-x:auto;line-height:normal;font-family:Menlo,'DejaVu Sans Mono',consolas,'Courier New',monospace\">\n",
       "</pre>\n"
      ],
      "text/plain": [
       "\n"
      ]
     },
     "metadata": {},
     "output_type": "display_data"
    },
    {
     "name": "stderr",
     "output_type": "stream",
     "text": [
      "`Trainer.fit` stopped: `max_epochs=1` reached.\n",
      "F1Score class exists for backwards compatibility. It will be removed in v1.1. Please use BinaryF1Score from torchmetrics instead\n",
      "Restoring states from the checkpoint path at /home/wueesmat/MT/anomalib/results/Patchcore/MVTec_contaminated/cable/v781/weights/lightning/model.ckpt\n",
      "LOCAL_RANK: 0 - CUDA_VISIBLE_DEVICES: [0,1,2,3,4,5,6,7]\n",
      "Loaded model weights from the checkpoint at /home/wueesmat/MT/anomalib/results/Patchcore/MVTec_contaminated/cable/v781/weights/lightning/model.ckpt\n"
     ]
    },
    {
     "data": {
      "application/vnd.jupyter.widget-view+json": {
       "model_id": "5426aef19a1042d7a2379ec09c6b6b53",
       "version_major": 2,
       "version_minor": 0
      },
      "text/plain": [
       "Testing: |                                                                                                    …"
      ]
     },
     "metadata": {},
     "output_type": "display_data"
    }
   ],
   "source": [
    "# Loop over experiments\n",
    "for idx_category, category in enumerate(category_arr):\n",
    "    for idx_run, run in enumerate(run_arr):\n",
    "\n",
    "        print(\"+---------------------+\")\n",
    "        print(\"| category: \", category, \" |\")\n",
    "        print(\"| run: \", run, \"       |\")\n",
    "        print(\"+---------------------+\")\n",
    "        \n",
    "\n",
    "        ## Loop\n",
    "        cont_ratio = 0.15\n",
    "        coreset_sampling_ratio = 0.01\n",
    "\n",
    "        # Define refinement\n",
    "        k_ls = [1, 2, 3, 5, 10]\n",
    "        #k_ls = [1, 2, 3, 5, 10]\n",
    "        #k_ls = [1, 2, 3, 5, 10, 20, 40]\n",
    "        gamma = 1-cont_ratio\n",
    "\n",
    "        # Lists to save results\n",
    "        results_test_blind_ls=[]\n",
    "        results_test_refined_ls=[]\n",
    "        keep_indices_ls=[]\n",
    "        train_dataset_length_ls=[]\n",
    "        abnormal_total_ls=[]\n",
    "        abnormal_excluded_ls=[]\n",
    "        normal_total_ls=[]\n",
    "        normal_excluded_ls=[]\n",
    "\n",
    "        # Evaluate Blind\n",
    "        results_test_blind = train_and_evaluate_model_blind(coreset_sampling_ratio, run, category, cont_ratio)\n",
    "\n",
    "        # Evaluate SRR Light\n",
    "        for k in k_ls:\n",
    "            results_test_refined, keep_indices, abnormal_total, abnormal_excluded, normal_total, normal_excluded = train_and_evaluate_model_SRR_light(k, gamma, coreset_sampling_ratio, run, category, cont_ratio)\n",
    "\n",
    "            ## Save results\n",
    "            results_test_blind_ls.append(results_test_blind)\n",
    "            results_test_refined_ls.append(results_test_refined)\n",
    "            keep_indices_ls.append(keep_indices)\n",
    "            abnormal_total_ls.append(abnormal_total)\n",
    "            abnormal_excluded_ls.append(abnormal_excluded)\n",
    "            normal_total_ls.append(normal_total)\n",
    "            normal_excluded_ls.append(normal_excluded)\n",
    "\n",
    "\n",
    "        ## Save results in array\n",
    "        results_test_blind_arr[idx_run, idx_category] = results_test_blind_ls\n",
    "        results_test_refined_arr[idx_run, idx_category] = results_test_refined_ls\n",
    "        keep_indices_arr[idx_run, idx_category] = keep_indices_ls\n",
    "        abnormal_total_arr[idx_run, idx_category] = abnormal_total_ls\n",
    "        abnormal_excluded_arr[idx_run, idx_category] = abnormal_excluded_ls\n",
    "        normal_total_arr[idx_run, idx_category] = normal_total_ls\n",
    "        normal_excluded_arr[idx_run, idx_category] = normal_excluded_ls\n",
    "        k_arr[idx_run, idx_category] = k_ls\n",
    "\n",
    "\n",
    "## Save arrays in dict\n",
    "results_dict = {\n",
    "    \"dimensions\": {\n",
    "        \"run_arr\": run_arr,\n",
    "        \"category_arr\": category_arr\n",
    "        \n",
    "    },\n",
    "    \"results\": {\n",
    "        \"results_test_blind_arr\": results_test_blind_arr,\n",
    "        \"results_test_refined_arr\": results_test_refined_arr,\n",
    "        \"keep_indices_arr\": keep_indices_arr,\n",
    "        \"abnormal_total_arr\": abnormal_total_arr,\n",
    "        \"abnormal_excluded_arr\": abnormal_excluded_arr,\n",
    "        \"normal_total_arr\": normal_total_arr,\n",
    "        \"normal_excluded_arr\":   normal_excluded_arr,\n",
    "        \"k_arr\": k_arr\n",
    "    }\n",
    "}\n",
    "\n"
   ]
  },
  {
   "cell_type": "code",
   "execution_count": null,
   "metadata": {},
   "outputs": [],
   "source": []
  },
  {
   "cell_type": "code",
   "execution_count": 8,
   "metadata": {},
   "outputs": [
    {
     "ename": "NameError",
     "evalue": "name 'train_dataset' is not defined",
     "output_type": "error",
     "traceback": [
      "\u001b[0;31m---------------------------------------------------------------------------\u001b[0m",
      "\u001b[0;31mNameError\u001b[0m                                 Traceback (most recent call last)",
      "Cell \u001b[0;32mIn[8], line 1\u001b[0m\n\u001b[0;32m----> 1\u001b[0m labels \u001b[38;5;241m=\u001b[39m \u001b[43mtrain_dataset\u001b[49m\u001b[38;5;241m.\u001b[39mget_labels()  \u001b[38;5;66;03m# Get all labels from the dataset\u001b[39;00m\n\u001b[1;32m      2\u001b[0m abnormal_mask \u001b[38;5;241m=\u001b[39m labels \u001b[38;5;241m==\u001b[39m \u001b[38;5;241m1\u001b[39m  \u001b[38;5;66;03m# Create a boolean mask for abnormal samples\u001b[39;00m\n\u001b[1;32m      3\u001b[0m normal_mask \u001b[38;5;241m=\u001b[39m labels \u001b[38;5;241m==\u001b[39m \u001b[38;5;241m0\u001b[39m  \u001b[38;5;66;03m# Create a boolean mask for normal samples\u001b[39;00m\n",
      "\u001b[0;31mNameError\u001b[0m: name 'train_dataset' is not defined"
     ]
    }
   ],
   "source": [
    "labels = train_dataset.get_labels()  # Get all labels from the dataset\n",
    "abnormal_mask = labels == 1  # Create a boolean mask for abnormal samples\n",
    "normal_mask = labels == 0  # Create a boolean mask for normal samples\n",
    "\n",
    "abnormal_total = np.sum(abnormal_mask)  # Count the total number of abnormal samples\n",
    "normal_total = np.sum(normal_mask)  # Count the total number of normal samples\n",
    "\n",
    "abnormal_excluded = np.sum(abnormal_mask & ~np.isin(np.arange(len(labels)), keep_indices))\n",
    "normal_excluded = np.sum(normal_mask & ~np.isin(np.arange(len(labels)), keep_indices))\n"
   ]
  },
  {
   "cell_type": "code",
   "execution_count": null,
   "metadata": {},
   "outputs": [],
   "source": [
    "for i in range(train_dataset.__len__()):\n",
    "\n",
    "    if train_dataset.__getitem__(i)[\"label\"] == 1:\n",
    "        abnormal_total += 1\n",
    "        if ~np.isin(i, keep_indices):\n",
    "            abnormal_excluded += 1\n",
    "    elif train_dataset.__getitem__(i)[\"label\"] == 0:\n",
    "        normal_total += 1\n",
    "        if ~np.isin(i, keep_indices):\n",
    "            normal_excluded += 1"
   ]
  },
  {
   "cell_type": "code",
   "execution_count": null,
   "metadata": {},
   "outputs": [],
   "source": []
  },
  {
   "cell_type": "code",
   "execution_count": 9,
   "metadata": {},
   "outputs": [],
   "source": [
    "# Import the required modules\n",
    "import numpy as np\n",
    "import matplotlib.pyplot as plt\n",
    "import torch\n",
    "from lightning.pytorch import Trainer, seed_everything\n",
    "from anomalib.data import MVTec\n",
    "from anomalib.data.image.mvtec import MVTec_contaminated, MVTecDataset_contaminated, make_mvtec_dataset, make_mvtec_dataset_contaminated\n",
    "from anomalib.models import Padim, Patchcore, Stfpm, Draem, EfficientAd\n",
    "from anomalib.engine import Engine\n",
    "from anomalib import TaskType\n",
    "\n",
    "from anomalib.data.utils import Split"
   ]
  },
  {
   "cell_type": "code",
   "execution_count": 10,
   "metadata": {},
   "outputs": [],
   "source": [
    "# Initialize arrays for saving\n",
    "results_test_blind_arr = np.empty([run_arr.shape[0], category_arr.shape[0]], dtype=object)\n",
    "results_test_refined_arr = np.empty([run_arr.shape[0], category_arr.shape[0]], dtype=object)\n",
    "keep_indices_arr = np.empty([run_arr.shape[0], category_arr.shape[0]], dtype=object)\n",
    "train_dataset_length_arr = np.empty([run_arr.shape[0], category_arr.shape[0]], dtype=object)\n",
    "abnormal_total_arr = np.empty([run_arr.shape[0], category_arr.shape[0]], dtype=object)\n",
    "abnormal_excluded_arr = np.empty([run_arr.shape[0], category_arr.shape[0]], dtype=object)\n",
    "normal_total_arr = np.empty([run_arr.shape[0], category_arr.shape[0]], dtype=object)\n",
    "normal_excluded_arr = np.empty([run_arr.shape[0], category_arr.shape[0]], dtype=object)\n",
    "k_arr = np.empty([run_arr.shape[0], category_arr.shape[0]], dtype=object)"
   ]
  },
  {
   "cell_type": "code",
   "execution_count": 11,
   "metadata": {},
   "outputs": [],
   "source": [
    "run_arr = np.array([3])#np.array([1, 2, 3])#, 4, 5]) # np.array([1, 2])#, 2])#\n",
    "category_arr = np.array([\"cable\"])#np.array([\"cable\", \"wood\", \"metal_nut\"])"
   ]
  },
  {
   "cell_type": "code",
   "execution_count": 12,
   "metadata": {},
   "outputs": [
    {
     "name": "stderr",
     "output_type": "stream",
     "text": [
      "Seed set to 3\n"
     ]
    },
    {
     "name": "stdout",
     "output_type": "stream",
     "text": [
      "------------------------------------------------------------------------------------------------------------------------\n",
      "------------------------------------------------------------------------------------------------------------------------\n",
      "category:  cable\n",
      "run:  3\n",
      "------------------------------------------------------------------------------------------------------------------------\n",
      "------------------------------------------------------------------------------------------------------------------------\n"
     ]
    },
    {
     "name": "stderr",
     "output_type": "stream",
     "text": [
      "/home/wueesmat/anaconda3/envs/anomalib_env/lib/python3.10/site-packages/lightning/fabric/plugins/environments/slurm.py:191: The `srun` command is available on your system but is not used. HINT: If your intention is to run Lightning on SLURM, prepend your python command with `srun` like so: srun python /home/wueesmat/anaconda3/envs/anomalib_env/lib/pytho ...\n",
      "GPU available: True (cuda), used: True\n",
      "TPU available: False, using: 0 TPU cores\n",
      "IPU available: False, using: 0 IPUs\n",
      "HPU available: False, using: 0 HPUs\n",
      "/home/wueesmat/anaconda3/envs/anomalib_env/lib/python3.10/site-packages/torchmetrics/utilities/prints.py:36: UserWarning: Metric `PrecisionRecallCurve` will save all targets and predictions in buffer. For large datasets this may lead to large memory footprint.\n",
      "  warnings.warn(*args, **kwargs)\n",
      "F1Score class exists for backwards compatibility. It will be removed in v1.1. Please use BinaryF1Score from torchmetrics instead\n",
      "LOCAL_RANK: 0 - CUDA_VISIBLE_DEVICES: [0,1,2,3,4,5,6,7]\n",
      "/home/wueesmat/anaconda3/envs/anomalib_env/lib/python3.10/site-packages/lightning/pytorch/core/optimizer.py:180: `LightningModule.configure_optimizers` returned `None`, this fit will run with no optimizer\n",
      "\n",
      "  | Name                  | Type                     | Params\n",
      "-------------------------------------------------------------------\n",
      "0 | model                 | PatchcoreModel           | 24.9 M\n",
      "1 | _transform            | Compose                  | 0     \n",
      "2 | normalization_metrics | MinMax                   | 0     \n",
      "3 | image_threshold       | F1AdaptiveThreshold      | 0     \n",
      "4 | pixel_threshold       | F1AdaptiveThreshold      | 0     \n",
      "5 | image_metrics         | AnomalibMetricCollection | 0     \n",
      "6 | pixel_metrics         | AnomalibMetricCollection | 0     \n",
      "-------------------------------------------------------------------\n",
      "24.9 M    Trainable params\n",
      "0         Non-trainable params\n",
      "24.9 M    Total params\n",
      "99.450    Total estimated model params size (MB)\n"
     ]
    },
    {
     "data": {
      "application/vnd.jupyter.widget-view+json": {
       "model_id": "35653f58c51c4bf7831cbff5b8ec971b",
       "version_major": 2,
       "version_minor": 0
      },
      "text/plain": [
       "Training: |                                                                                                   …"
      ]
     },
     "metadata": {},
     "output_type": "display_data"
    },
    {
     "data": {
      "application/vnd.jupyter.widget-view+json": {
       "model_id": "421463fd0422417d80f2b4a80cd66272",
       "version_major": 2,
       "version_minor": 0
      },
      "text/plain": [
       "Validation: |                                                                                                 …"
      ]
     },
     "metadata": {},
     "output_type": "display_data"
    },
    {
     "data": {
      "application/vnd.jupyter.widget-view+json": {
       "model_id": "15385c0eca094664997f89ea48ea2aa1",
       "version_major": 2,
       "version_minor": 0
      },
      "text/plain": [
       "Output()"
      ]
     },
     "metadata": {},
     "output_type": "display_data"
    },
    {
     "data": {
      "text/html": [
       "<pre style=\"white-space:pre;overflow-x:auto;line-height:normal;font-family:Menlo,'DejaVu Sans Mono',consolas,'Courier New',monospace\"></pre>\n"
      ],
      "text/plain": []
     },
     "metadata": {},
     "output_type": "display_data"
    },
    {
     "data": {
      "text/html": [
       "<pre style=\"white-space:pre;overflow-x:auto;line-height:normal;font-family:Menlo,'DejaVu Sans Mono',consolas,'Courier New',monospace\">\n",
       "</pre>\n"
      ],
      "text/plain": [
       "\n"
      ]
     },
     "metadata": {},
     "output_type": "display_data"
    },
    {
     "name": "stderr",
     "output_type": "stream",
     "text": [
      "`Trainer.fit` stopped: `max_epochs=1` reached.\n",
      "F1Score class exists for backwards compatibility. It will be removed in v1.1. Please use BinaryF1Score from torchmetrics instead\n",
      "Restoring states from the checkpoint path at /home/wueesmat/MT/anomalib/results/Patchcore/MVTec_contaminated/cable/v741/weights/lightning/model.ckpt\n",
      "LOCAL_RANK: 0 - CUDA_VISIBLE_DEVICES: [0,1,2,3,4,5,6,7]\n",
      "Loaded model weights from the checkpoint at /home/wueesmat/MT/anomalib/results/Patchcore/MVTec_contaminated/cable/v741/weights/lightning/model.ckpt\n"
     ]
    },
    {
     "data": {
      "application/vnd.jupyter.widget-view+json": {
       "model_id": "fe7017b3716f4191bfcecc872c9b1c97",
       "version_major": 2,
       "version_minor": 0
      },
      "text/plain": [
       "Testing: |                                                                                                    …"
      ]
     },
     "metadata": {},
     "output_type": "display_data"
    },
    {
     "name": "stderr",
     "output_type": "stream",
     "text": [
      "Seed set to 3\n"
     ]
    },
    {
     "name": "stdout",
     "output_type": "stream",
     "text": [
      "k:  2\n",
      "k_iter:  0\n"
     ]
    },
    {
     "name": "stderr",
     "output_type": "stream",
     "text": [
      "/home/wueesmat/anaconda3/envs/anomalib_env/lib/python3.10/site-packages/lightning/fabric/plugins/environments/slurm.py:191: The `srun` command is available on your system but is not used. HINT: If your intention is to run Lightning on SLURM, prepend your python command with `srun` like so: srun python /home/wueesmat/anaconda3/envs/anomalib_env/lib/pytho ...\n",
      "GPU available: True (cuda), used: True\n",
      "TPU available: False, using: 0 TPU cores\n",
      "IPU available: False, using: 0 IPUs\n",
      "HPU available: False, using: 0 HPUs\n",
      "/home/wueesmat/anaconda3/envs/anomalib_env/lib/python3.10/site-packages/torchmetrics/utilities/prints.py:36: UserWarning: Metric `PrecisionRecallCurve` will save all targets and predictions in buffer. For large datasets this may lead to large memory footprint.\n",
      "  warnings.warn(*args, **kwargs)\n",
      "F1Score class exists for backwards compatibility. It will be removed in v1.1. Please use BinaryF1Score from torchmetrics instead\n",
      "LOCAL_RANK: 0 - CUDA_VISIBLE_DEVICES: [0,1,2,3,4,5,6,7]\n",
      "/home/wueesmat/anaconda3/envs/anomalib_env/lib/python3.10/site-packages/lightning/pytorch/core/optimizer.py:180: `LightningModule.configure_optimizers` returned `None`, this fit will run with no optimizer\n",
      "\n",
      "  | Name                  | Type                     | Params\n",
      "-------------------------------------------------------------------\n",
      "0 | model                 | PatchcoreModel           | 24.9 M\n",
      "1 | _transform            | Compose                  | 0     \n",
      "2 | normalization_metrics | MinMax                   | 0     \n",
      "3 | image_threshold       | F1AdaptiveThreshold      | 0     \n",
      "4 | pixel_threshold       | F1AdaptiveThreshold      | 0     \n",
      "5 | image_metrics         | AnomalibMetricCollection | 0     \n",
      "6 | pixel_metrics         | AnomalibMetricCollection | 0     \n",
      "-------------------------------------------------------------------\n",
      "24.9 M    Trainable params\n",
      "0         Non-trainable params\n",
      "24.9 M    Total params\n",
      "99.450    Total estimated model params size (MB)\n"
     ]
    },
    {
     "data": {
      "application/vnd.jupyter.widget-view+json": {
       "model_id": "29eb1ce2ab244e9ca25f0e6f3bb78d04",
       "version_major": 2,
       "version_minor": 0
      },
      "text/plain": [
       "Training: |                                                                                                   …"
      ]
     },
     "metadata": {},
     "output_type": "display_data"
    },
    {
     "data": {
      "application/vnd.jupyter.widget-view+json": {
       "model_id": "f0b9a489df804cdf90327bf05cee74b2",
       "version_major": 2,
       "version_minor": 0
      },
      "text/plain": [
       "Validation: |                                                                                                 …"
      ]
     },
     "metadata": {},
     "output_type": "display_data"
    },
    {
     "data": {
      "application/vnd.jupyter.widget-view+json": {
       "model_id": "7a2ea4d74e5e4ec58cf1e19268ab17ab",
       "version_major": 2,
       "version_minor": 0
      },
      "text/plain": [
       "Output()"
      ]
     },
     "metadata": {},
     "output_type": "display_data"
    },
    {
     "data": {
      "text/html": [
       "<pre style=\"white-space:pre;overflow-x:auto;line-height:normal;font-family:Menlo,'DejaVu Sans Mono',consolas,'Courier New',monospace\"></pre>\n"
      ],
      "text/plain": []
     },
     "metadata": {},
     "output_type": "display_data"
    },
    {
     "data": {
      "text/html": [
       "<pre style=\"white-space:pre;overflow-x:auto;line-height:normal;font-family:Menlo,'DejaVu Sans Mono',consolas,'Courier New',monospace\">\n",
       "</pre>\n"
      ],
      "text/plain": [
       "\n"
      ]
     },
     "metadata": {},
     "output_type": "display_data"
    },
    {
     "name": "stderr",
     "output_type": "stream",
     "text": [
      "`Trainer.fit` stopped: `max_epochs=1` reached.\n",
      "ckpt_path is not provided. Model weights will not be loaded.\n",
      "/home/wueesmat/anaconda3/envs/anomalib_env/lib/python3.10/site-packages/lightning/fabric/plugins/environments/slurm.py:191: The `srun` command is available on your system but is not used. HINT: If your intention is to run Lightning on SLURM, prepend your python command with `srun` like so: srun python /home/wueesmat/anaconda3/envs/anomalib_env/lib/pytho ...\n",
      "F1Score class exists for backwards compatibility. It will be removed in v1.1. Please use BinaryF1Score from torchmetrics instead\n",
      "LOCAL_RANK: 0 - CUDA_VISIBLE_DEVICES: [0,1,2,3,4,5,6,7]\n",
      "/home/wueesmat/anaconda3/envs/anomalib_env/lib/python3.10/site-packages/lightning/pytorch/trainer/connectors/data_connector.py:441: The 'predict_dataloader' does not have many workers which may be a bottleneck. Consider increasing the value of the `num_workers` argument` to `num_workers=31` in the `DataLoader` to improve performance.\n"
     ]
    },
    {
     "data": {
      "application/vnd.jupyter.widget-view+json": {
       "model_id": "3d0b7101417744caaddb421380d55a33",
       "version_major": 2,
       "version_minor": 0
      },
      "text/plain": [
       "Predicting: |                                                                                                 …"
      ]
     },
     "metadata": {},
     "output_type": "display_data"
    },
    {
     "name": "stderr",
     "output_type": "stream",
     "text": [
      "Seed set to 3\n"
     ]
    },
    {
     "name": "stdout",
     "output_type": "stream",
     "text": [
      "k_iter:  1\n"
     ]
    },
    {
     "name": "stderr",
     "output_type": "stream",
     "text": [
      "GPU available: True (cuda), used: True\n",
      "TPU available: False, using: 0 TPU cores\n",
      "IPU available: False, using: 0 IPUs\n",
      "HPU available: False, using: 0 HPUs\n",
      "/home/wueesmat/anaconda3/envs/anomalib_env/lib/python3.10/site-packages/torchmetrics/utilities/prints.py:36: UserWarning: Metric `PrecisionRecallCurve` will save all targets and predictions in buffer. For large datasets this may lead to large memory footprint.\n",
      "  warnings.warn(*args, **kwargs)\n",
      "F1Score class exists for backwards compatibility. It will be removed in v1.1. Please use BinaryF1Score from torchmetrics instead\n",
      "LOCAL_RANK: 0 - CUDA_VISIBLE_DEVICES: [0,1,2,3,4,5,6,7]\n",
      "/home/wueesmat/anaconda3/envs/anomalib_env/lib/python3.10/site-packages/lightning/pytorch/core/optimizer.py:180: `LightningModule.configure_optimizers` returned `None`, this fit will run with no optimizer\n",
      "\n",
      "  | Name                  | Type                     | Params\n",
      "-------------------------------------------------------------------\n",
      "0 | model                 | PatchcoreModel           | 24.9 M\n",
      "1 | _transform            | Compose                  | 0     \n",
      "2 | normalization_metrics | MinMax                   | 0     \n",
      "3 | image_threshold       | F1AdaptiveThreshold      | 0     \n",
      "4 | pixel_threshold       | F1AdaptiveThreshold      | 0     \n",
      "5 | image_metrics         | AnomalibMetricCollection | 0     \n",
      "6 | pixel_metrics         | AnomalibMetricCollection | 0     \n",
      "-------------------------------------------------------------------\n",
      "24.9 M    Trainable params\n",
      "0         Non-trainable params\n",
      "24.9 M    Total params\n",
      "99.450    Total estimated model params size (MB)\n"
     ]
    },
    {
     "data": {
      "application/vnd.jupyter.widget-view+json": {
       "model_id": "5738c37a7f554da38a4699126d914cc4",
       "version_major": 2,
       "version_minor": 0
      },
      "text/plain": [
       "Training: |                                                                                                   …"
      ]
     },
     "metadata": {},
     "output_type": "display_data"
    },
    {
     "data": {
      "application/vnd.jupyter.widget-view+json": {
       "model_id": "628a27b6c83e4896a02215b3c19efe5a",
       "version_major": 2,
       "version_minor": 0
      },
      "text/plain": [
       "Validation: |                                                                                                 …"
      ]
     },
     "metadata": {},
     "output_type": "display_data"
    },
    {
     "data": {
      "application/vnd.jupyter.widget-view+json": {
       "model_id": "0a625e54fef948f7b7e2bf76887b2420",
       "version_major": 2,
       "version_minor": 0
      },
      "text/plain": [
       "Output()"
      ]
     },
     "metadata": {},
     "output_type": "display_data"
    },
    {
     "data": {
      "text/html": [
       "<pre style=\"white-space:pre;overflow-x:auto;line-height:normal;font-family:Menlo,'DejaVu Sans Mono',consolas,'Courier New',monospace\"></pre>\n"
      ],
      "text/plain": []
     },
     "metadata": {},
     "output_type": "display_data"
    },
    {
     "data": {
      "text/html": [
       "<pre style=\"white-space:pre;overflow-x:auto;line-height:normal;font-family:Menlo,'DejaVu Sans Mono',consolas,'Courier New',monospace\">\n",
       "</pre>\n"
      ],
      "text/plain": [
       "\n"
      ]
     },
     "metadata": {},
     "output_type": "display_data"
    },
    {
     "name": "stderr",
     "output_type": "stream",
     "text": [
      "`Trainer.fit` stopped: `max_epochs=1` reached.\n",
      "ckpt_path is not provided. Model weights will not be loaded.\n",
      "/home/wueesmat/anaconda3/envs/anomalib_env/lib/python3.10/site-packages/lightning/fabric/plugins/environments/slurm.py:191: The `srun` command is available on your system but is not used. HINT: If your intention is to run Lightning on SLURM, prepend your python command with `srun` like so: srun python /home/wueesmat/anaconda3/envs/anomalib_env/lib/pytho ...\n",
      "F1Score class exists for backwards compatibility. It will be removed in v1.1. Please use BinaryF1Score from torchmetrics instead\n",
      "LOCAL_RANK: 0 - CUDA_VISIBLE_DEVICES: [0,1,2,3,4,5,6,7]\n",
      "/home/wueesmat/anaconda3/envs/anomalib_env/lib/python3.10/site-packages/lightning/pytorch/trainer/connectors/data_connector.py:441: The 'predict_dataloader' does not have many workers which may be a bottleneck. Consider increasing the value of the `num_workers` argument` to `num_workers=31` in the `DataLoader` to improve performance.\n"
     ]
    },
    {
     "data": {
      "application/vnd.jupyter.widget-view+json": {
       "model_id": "5ac07cd5999c4c8f925936e80bbd3774",
       "version_major": 2,
       "version_minor": 0
      },
      "text/plain": [
       "Predicting: |                                                                                                 …"
      ]
     },
     "metadata": {},
     "output_type": "display_data"
    },
    {
     "name": "stderr",
     "output_type": "stream",
     "text": [
      "Seed set to 3\n",
      "GPU available: True (cuda), used: True\n",
      "TPU available: False, using: 0 TPU cores\n",
      "IPU available: False, using: 0 IPUs\n",
      "HPU available: False, using: 0 HPUs\n",
      "/home/wueesmat/anaconda3/envs/anomalib_env/lib/python3.10/site-packages/torchmetrics/utilities/prints.py:36: UserWarning: Metric `PrecisionRecallCurve` will save all targets and predictions in buffer. For large datasets this may lead to large memory footprint.\n",
      "  warnings.warn(*args, **kwargs)\n",
      "F1Score class exists for backwards compatibility. It will be removed in v1.1. Please use BinaryF1Score from torchmetrics instead\n",
      "LOCAL_RANK: 0 - CUDA_VISIBLE_DEVICES: [0,1,2,3,4,5,6,7]\n",
      "/home/wueesmat/anaconda3/envs/anomalib_env/lib/python3.10/site-packages/lightning/pytorch/core/optimizer.py:180: `LightningModule.configure_optimizers` returned `None`, this fit will run with no optimizer\n",
      "\n",
      "  | Name                  | Type                     | Params\n",
      "-------------------------------------------------------------------\n",
      "0 | model                 | PatchcoreModel           | 24.9 M\n",
      "1 | _transform            | Compose                  | 0     \n",
      "2 | normalization_metrics | MinMax                   | 0     \n",
      "3 | image_threshold       | F1AdaptiveThreshold      | 0     \n",
      "4 | pixel_threshold       | F1AdaptiveThreshold      | 0     \n",
      "5 | image_metrics         | AnomalibMetricCollection | 0     \n",
      "6 | pixel_metrics         | AnomalibMetricCollection | 0     \n",
      "-------------------------------------------------------------------\n",
      "24.9 M    Trainable params\n",
      "0         Non-trainable params\n",
      "24.9 M    Total params\n",
      "99.450    Total estimated model params size (MB)\n"
     ]
    },
    {
     "data": {
      "application/vnd.jupyter.widget-view+json": {
       "model_id": "6d1f20632d3c49f7b57862691fd16939",
       "version_major": 2,
       "version_minor": 0
      },
      "text/plain": [
       "Training: |                                                                                                   …"
      ]
     },
     "metadata": {},
     "output_type": "display_data"
    },
    {
     "data": {
      "application/vnd.jupyter.widget-view+json": {
       "model_id": "5581c2eef3df46e8b8bf93077bb09b60",
       "version_major": 2,
       "version_minor": 0
      },
      "text/plain": [
       "Validation: |                                                                                                 …"
      ]
     },
     "metadata": {},
     "output_type": "display_data"
    },
    {
     "data": {
      "application/vnd.jupyter.widget-view+json": {
       "model_id": "ddb5c1a55b0e4ac3b825a053f44de552",
       "version_major": 2,
       "version_minor": 0
      },
      "text/plain": [
       "Output()"
      ]
     },
     "metadata": {},
     "output_type": "display_data"
    },
    {
     "data": {
      "text/html": [
       "<pre style=\"white-space:pre;overflow-x:auto;line-height:normal;font-family:Menlo,'DejaVu Sans Mono',consolas,'Courier New',monospace\"></pre>\n"
      ],
      "text/plain": []
     },
     "metadata": {},
     "output_type": "display_data"
    },
    {
     "data": {
      "text/html": [
       "<pre style=\"white-space:pre;overflow-x:auto;line-height:normal;font-family:Menlo,'DejaVu Sans Mono',consolas,'Courier New',monospace\">\n",
       "</pre>\n"
      ],
      "text/plain": [
       "\n"
      ]
     },
     "metadata": {},
     "output_type": "display_data"
    },
    {
     "name": "stderr",
     "output_type": "stream",
     "text": [
      "`Trainer.fit` stopped: `max_epochs=1` reached.\n",
      "F1Score class exists for backwards compatibility. It will be removed in v1.1. Please use BinaryF1Score from torchmetrics instead\n",
      "Restoring states from the checkpoint path at /home/wueesmat/MT/anomalib/results/Patchcore/MVTec_contaminated/cable/v744/weights/lightning/model.ckpt\n",
      "LOCAL_RANK: 0 - CUDA_VISIBLE_DEVICES: [0,1,2,3,4,5,6,7]\n",
      "Loaded model weights from the checkpoint at /home/wueesmat/MT/anomalib/results/Patchcore/MVTec_contaminated/cable/v744/weights/lightning/model.ckpt\n"
     ]
    },
    {
     "data": {
      "application/vnd.jupyter.widget-view+json": {
       "model_id": "a044b3c974ed459a9fb7212badd684c4",
       "version_major": 2,
       "version_minor": 0
      },
      "text/plain": [
       "Testing: |                                                                                                    …"
      ]
     },
     "metadata": {},
     "output_type": "display_data"
    }
   ],
   "source": [
    "# Link: https://pytorch.org/blog/understanding-gpu-memory-1/ \n",
    "import logging\n",
    "logger = logging.getLogger(__name__)\n",
    "torch.cuda.memory._record_memory_history(\n",
    "    max_entries=100000\n",
    ") \n",
    "\n",
    "# Loop over experiments\n",
    "for idx_category, category in enumerate(category_arr):\n",
    "    for idx_run, run in enumerate(run_arr):\n",
    "        \n",
    "        print(\"------------------------------------------------------------------------------------------------------------------------\")\n",
    "        print(\"------------------------------------------------------------------------------------------------------------------------\")\n",
    "        print(\"category: \", category)\n",
    "        print(\"run: \", run)\n",
    "        print(\"------------------------------------------------------------------------------------------------------------------------\")\n",
    "        print(\"------------------------------------------------------------------------------------------------------------------------\")\n",
    "\n",
    "        ## Loop\n",
    "        cont_ratio = 0.15\n",
    "        coreset_sampling_ratio = 0.01\n",
    "\n",
    "        ## Define refinement\n",
    "        #k_ls = [1, 2, 3, 5, 8] #k_arr = np.array([1, 2, 4, 8]) #np.array([1, 2, 3, 4, 5, 8, 10, 15])\n",
    "        #k_ls = [1, 2]\n",
    "        k_ls = [2]\n",
    "        #k_ls = [1, 2, 3, 5, 10]\n",
    "        #k_ls = [1, 2, 3, 5, 10, 20, 40]\n",
    "        gamma = 1-cont_ratio\n",
    "\n",
    "        ## Lists to save results\n",
    "        results_test_blind_ls=[]\n",
    "        results_test_refined_ls=[]\n",
    "        keep_indices_ls=[]\n",
    "        train_dataset_length_ls=[]\n",
    "        abnormal_total_ls=[]\n",
    "        abnormal_excluded_ls=[]\n",
    "        normal_total_ls=[]\n",
    "        normal_excluded_ls=[]\n",
    "\n",
    "\n",
    "        ## Evaluate baseline (blind training)\n",
    "        # Train one model on refined dataset\n",
    "        seed_everything(run, workers=True)\n",
    "        datamodule = MVTec_contaminated(category=category, cont_ratio=cont_ratio, run=run, idx=[])\n",
    "        model = Patchcore(coreset_sampling_ratio=coreset_sampling_ratio)\n",
    "        engine = Engine(task=TaskType.CLASSIFICATION, image_metrics=[\"AUROC\", \"AUPR\", \"F1Score\"], max_epochs=10, devices=1)\n",
    "        engine.fit(datamodule=datamodule, model=model)\n",
    "\n",
    "        # Evaluate model on test set\n",
    "        results_test_blind = engine.test(\n",
    "            model=model,\n",
    "            datamodule=datamodule,\n",
    "            ckpt_path=engine.trainer.checkpoint_callback.best_model_path,\n",
    "            verbose=False\n",
    "        )\n",
    "        \n",
    "        train_dataset = MVTecDataset_contaminated(\n",
    "                    task=TaskType.CLASSIFICATION,\n",
    "                    split=Split.TRAIN,\n",
    "                    category=category,\n",
    "                    cont_ratio=cont_ratio,\n",
    "                    run=run,\n",
    "                    idx = []           \n",
    "                )\n",
    "        train_dataset_length = train_dataset.__len__()\n",
    "        indices = np.arange(0, train_dataset_length)\n",
    "        np.random.seed(run)\n",
    "        np.random.shuffle(indices)\n",
    "\n",
    "        for k in k_ls:\n",
    "            print(\"k: \", k)\n",
    "            #torch.cuda.empty_cache()\n",
    "            # Create indices for k disjoint datasets\n",
    "            \n",
    "            indices_disjoint_datasets = np.array_split(indices, k)\n",
    "            #torch.cuda.empty_cache()\n",
    "\n",
    "            # Train k models on k disjoint datasets\n",
    "            classifications_subset_arr = np.empty([train_dataset_length,k], dtype=bool)\n",
    "            for k_iter in range(k):\n",
    "                print(\"k_iter: \", k_iter)\n",
    "                #torch.cuda.empty_cache()\n",
    "                # Train model on disjoint dataset\n",
    "                seed_everything(run, workers=True)\n",
    "                datamodule = MVTec_contaminated(category=category, cont_ratio=cont_ratio, run=run, idx=indices_disjoint_datasets[k_iter])\n",
    "                model = Patchcore(coreset_sampling_ratio=coreset_sampling_ratio) \n",
    "                engine = Engine(task=TaskType.CLASSIFICATION, image_metrics=[\"AUROC\", \"AUPR\", \"F1Score\"], max_epochs=10, devices=1)\n",
    "                engine.fit(datamodule=datamodule, model=model)\n",
    "\n",
    "                # Predict binary labels for each sample\n",
    "                predictions_subset = engine.predict(model=model, dataset=train_dataset)\n",
    "                prediction_scores_subset = np.array([d[\"pred_scores\"][0] for d in predictions_subset])\n",
    "                threshold = np.percentile(prediction_scores_subset, q=gamma*100)\n",
    "                classifications_subset = prediction_scores_subset>threshold # True: abnormal; False: normal\n",
    "\n",
    "                # Save binary classifications\n",
    "                classifications_subset_arr[:,k_iter] = classifications_subset\n",
    "                #torch.cuda.empty_cache()\n",
    "\n",
    "            # Return indices of refined dataset\n",
    "            keep_bool_arr = np.all(~classifications_subset_arr, axis=1)\n",
    "            keep_indices = np.where(keep_bool_arr)[0]\n",
    "\n",
    "\n",
    "            # Evaluate correctness of pseudo-labels\n",
    "            abnormal_total = 0\n",
    "            abnormal_excluded = 0\n",
    "            normal_total = 0\n",
    "            normal_excluded = 0\n",
    "            #torch.cuda.empty_cache()\n",
    "            for i in range(train_dataset.__len__()):\n",
    "\n",
    "                if train_dataset.__getitem__(i)[\"label\"] == 1:\n",
    "                    abnormal_total += 1\n",
    "                    if ~np.isin(i, keep_indices):\n",
    "                        abnormal_excluded += 1\n",
    "                elif train_dataset.__getitem__(i)[\"label\"] == 0:\n",
    "                    normal_total += 1\n",
    "                    if ~np.isin(i, keep_indices):\n",
    "                        normal_excluded += 1\n",
    "            \n",
    "            try:\n",
    "                torch.cuda.memory._dump_snapshot(\"snapshot.pickle\")\n",
    "            except Exception as e:\n",
    "                logger.error(f\"Failed to capture memory snapshot {e}\")\n",
    "\n",
    "            ## Train and evaluate final model on refined dataset\n",
    "            #torch.cuda.empty_cache()\n",
    "            # Train one model on refined dataset\n",
    "            seed_everything(run, workers=True)\n",
    "            datamodule = MVTec_contaminated(category=category, cont_ratio=cont_ratio, run=run, idx=keep_indices)\n",
    "            model = Patchcore(coreset_sampling_ratio=coreset_sampling_ratio)\n",
    "            engine = Engine(task=TaskType.CLASSIFICATION, image_metrics=[\"AUROC\", \"AUPR\", \"F1Score\"], max_epochs=10, devices=1)\n",
    "            try:\n",
    "                torch.cuda.memory._dump_snapshot(\"snapshot.pickle\")\n",
    "            except Exception as e:\n",
    "                logger.error(f\"Failed to capture memory snapshot {e}\")            \n",
    "            engine.fit(datamodule=datamodule, model=model)\n",
    "\n",
    "\n",
    "            # Evaluate model on test set\n",
    "            #predictions_test_refined = engine_refined.predict(model=model_refined, dataset=datamodule_refined.get_test_dataset())\n",
    "            results_test_refined = engine.test(\n",
    "                model=model,\n",
    "                datamodule=datamodule,\n",
    "                ckpt_path=engine.trainer.checkpoint_callback.best_model_path,\n",
    "                verbose=False\n",
    "            )\n",
    "            #torch.cuda.empty_cache()\n",
    "\n",
    "            ## Save results\n",
    "            results_test_blind_ls.append(results_test_blind)\n",
    "            results_test_refined_ls.append(results_test_refined)\n",
    "            keep_indices_ls.append(keep_indices)\n",
    "            train_dataset_length_ls.append(train_dataset_length)\n",
    "            abnormal_total_ls.append(abnormal_total)\n",
    "            abnormal_excluded_ls.append(abnormal_excluded)\n",
    "            normal_total_ls.append(normal_total)\n",
    "            normal_excluded_ls.append(normal_excluded)\n",
    "\n",
    "            try:\n",
    "                torch.cuda.memory._dump_snapshot(\"snapshot.pickle\")\n",
    "            except Exception as e:\n",
    "                logger.error(f\"Failed to capture memory snapshot {e}\")\n",
    "\n",
    "        ## Save results in array\n",
    "        #torch.cuda.empty_cache()\n",
    "        results_test_blind_arr[idx_run, idx_category] = results_test_blind_ls\n",
    "        results_test_refined_arr[idx_run, idx_category] = results_test_refined_ls\n",
    "        keep_indices_arr[idx_run, idx_category] = keep_indices_ls\n",
    "        train_dataset_length_arr[idx_run, idx_category] = train_dataset_length_ls\n",
    "        abnormal_total_arr[idx_run, idx_category] = abnormal_total_ls\n",
    "        abnormal_excluded_arr[idx_run, idx_category] = abnormal_excluded_ls\n",
    "        normal_total_arr[idx_run, idx_category] = normal_total_ls\n",
    "        normal_excluded_arr[idx_run, idx_category] = normal_excluded_ls\n",
    "        k_arr[idx_run, idx_category] = k_ls\n",
    "\n",
    "        #torch.cuda.empty_cache()\n",
    "\n",
    "## Save arrays in dict\n",
    "results_dict = {\n",
    "    \"dimensions\": {\n",
    "        \"run_arr\": run_arr,\n",
    "        \"category_arr\": category_arr\n",
    "        \n",
    "    },\n",
    "    \"results\": {\n",
    "        \"results_test_blind_arr\": results_test_blind_arr,\n",
    "        \"results_test_refined_arr\": results_test_refined_arr,\n",
    "        \"keep_indices_arr\": keep_indices_arr,\n",
    "        \"train_dataset_length_arr\": train_dataset_length_arr,\n",
    "        \"abnormal_total_arr\": abnormal_total_arr,\n",
    "        \"abnormal_excluded_arr\": abnormal_excluded_arr,\n",
    "        \"normal_total_arr\": normal_total_arr,\n",
    "        \"normal_excluded_arr\":   normal_excluded_arr,\n",
    "        \"k_arr\": k_arr\n",
    "    }\n",
    "}\n",
    "\n",
    "# Stop recording memory snapshot history.\n",
    "torch.cuda.memory._record_memory_history(enabled=None)\n"
   ]
  },
  {
   "cell_type": "code",
   "execution_count": 13,
   "metadata": {},
   "outputs": [
    {
     "data": {
      "text/plain": [
       "[{'image_AUROC': 0.9834092855453491,\n",
       "  'image_AUPR': 0.9811432361602783,\n",
       "  'image_F1Score': 0.9369369149208069}]"
      ]
     },
     "execution_count": 13,
     "metadata": {},
     "output_type": "execute_result"
    }
   ],
   "source": [
    "results_test_refined"
   ]
  },
  {
   "cell_type": "code",
   "execution_count": null,
   "metadata": {},
   "outputs": [],
   "source": []
  },
  {
   "cell_type": "code",
   "execution_count": 10,
   "metadata": {},
   "outputs": [],
   "source": [
    "# Define path\n",
    "save_folder = \"./results/Patchcore/\"\n",
    "name = \"20240417_Patchcore_SRR_cable_run123_k_1_10.pickle\"\n",
    "target_path = os.path.join(save_folder, name)"
   ]
  },
  {
   "cell_type": "code",
   "execution_count": 12,
   "metadata": {},
   "outputs": [],
   "source": [
    "# Save results\n",
    "import pickle\n",
    "with open(target_path, \"wb\") as pickle_file:\n",
    "    pickle.dump(results_dict, pickle_file)"
   ]
  },
  {
   "cell_type": "markdown",
   "metadata": {},
   "source": [
    "#### Load Results"
   ]
  },
  {
   "cell_type": "code",
   "execution_count": 41,
   "metadata": {},
   "outputs": [],
   "source": [
    "## Load results dicts\n",
    "# Load dimensions\n",
    "for key, value in results_dict[\"dimensions\"].items():\n",
    "    # Create variables dynamically using locals() function\n",
    "    locals()[key] = value\n",
    "# Load results\n",
    "for key, value in results_dict[\"results\"].items():\n",
    "    # Create variables dynamically using locals() function\n",
    "    locals()[key] = value"
   ]
  },
  {
   "cell_type": "code",
   "execution_count": 43,
   "metadata": {},
   "outputs": [
    {
     "name": "stdout",
     "output_type": "stream",
     "text": [
      "['cable']\n",
      "[1 2 3]\n"
     ]
    }
   ],
   "source": [
    "print(run_arr)\n",
    "print(category_arr)\n"
   ]
  },
  {
   "cell_type": "markdown",
   "metadata": {},
   "source": [
    "#### Plot Performance vs. Ensemble Count"
   ]
  },
  {
   "cell_type": "code",
   "execution_count": 9,
   "metadata": {},
   "outputs": [],
   "source": [
    "# Define category to plot\n",
    "idx_category = 0\n"
   ]
  },
  {
   "cell_type": "code",
   "execution_count": 10,
   "metadata": {},
   "outputs": [
    {
     "name": "stdout",
     "output_type": "stream",
     "text": [
      "[[0.98731297 0.98763824 0.98568636 0.98828888 0.98015612]]\n",
      "[[0.96974629 0.96974629 0.96974629 0.96974629 0.96974629]]\n"
     ]
    }
   ],
   "source": [
    "# Extract performance values using nested list comprehensions\n",
    "performance_refined_arr = np.array([[entry[0]['image_AUROC'] for entry in row] for row in results_test_refined_arr[:, idx_category][:]])\n",
    "performance_blind_arr = np.array([[entry[0]['image_AUROC'] for entry in row] for row in results_test_blind_arr[:, idx_category][:]])\n",
    "print(performance_refined_arr)\n",
    "print(performance_blind_arr)"
   ]
  },
  {
   "cell_type": "code",
   "execution_count": 18,
   "metadata": {},
   "outputs": [
    {
     "data": {
      "image/png": "[encoded data removed]",
      "text/plain": [
       "<Figure size 400x625 with 2 Axes>"
      ]
     },
     "metadata": {},
     "output_type": "display_data"
    }
   ],
   "source": [
    "%matplotlib inline \n",
    "# Plot setttings\n",
    "fontsize = 8\n",
    "markersize = 4\n",
    "\n",
    "# Prepare data\n",
    "splits = k_ls   ### TODO: adapt\n",
    "performance_blind_mean = np.mean(performance_blind_arr, axis=0)\n",
    "performance_blind_std = np.std(performance_blind_arr, axis=0)\n",
    "performance_refined_mean = np.mean(performance_refined_arr, axis=0)\n",
    "performance_refined_std = np.std(performance_refined_arr, axis=0)\n",
    "\n",
    "# Plot data\n",
    "fig, axs = plt.subplots(2, 1, figsize=(4,6.25), constrained_layout=True)\n",
    "axs[0].plot(splits, performance_blind_mean, label=\"Blind\", color='C0', markersize = markersize, linestyle='dotted')\n",
    "axs[0].fill_between(splits, performance_blind_mean-performance_blind_std, performance_blind_mean+performance_blind_std, color='C0', alpha=0.2, linewidth=0.0)\n",
    "axs[0].plot(splits, performance_refined_mean, marker=\"o\", label=\"Refined\", color='C1', markersize = markersize, linestyle='dotted')\n",
    "axs[0].fill_between(splits, performance_refined_mean-performance_refined_std, performance_refined_mean+performance_refined_std, color='C1', alpha=0.2, linewidth=0.0)\n",
    "\n",
    "# Format plot\n",
    "axs[0].grid()\n",
    "axs[0].set_title(str(category_arr[idx_category]), fontsize=fontsize, fontweight=\"bold\")\n",
    "axs[0].legend(fontsize=fontsize)\n",
    "axs[0].set_xlim([min(splits), max(splits)])\n",
    "axs[0].set_ylim([0.9, 1.01])\n",
    "axs[0].set_xlabel(\"Ensemble count k [-]\", fontsize=fontsize)\n",
    "axs[0].set_ylabel(\"AUROC [-]\", fontsize=fontsize)\n",
    "axs[0].xaxis.set_tick_params(labelsize=fontsize)\n",
    "axs[0].yaxis.set_tick_params(labelsize=fontsize)\n",
    "\n",
    "\n",
    "# Prepare data\n",
    "excluded_perc_abnormal_arr = np.array([[item for item in sublist[0]] for sublist in abnormal_excluded_arr]) / np.array([[item for item in sublist[0]] for sublist in abnormal_total_arr])*100\n",
    "excluded_perc_normal_arr = np.array([[item for item in sublist[0]] for sublist in normal_excluded_arr]) / np.array([[item for item in sublist[0]] for sublist in normal_total_arr])*100\n",
    "\n",
    "excluded_perc_abnormal_mean = np.mean(excluded_perc_abnormal_arr, axis=0)\n",
    "excluded_perc_abnormal_std = np.std(excluded_perc_abnormal_arr, axis=0)\n",
    "excluded_perc_normal_mean = np.mean(excluded_perc_normal_arr, axis=0)\n",
    "excluded_perc_normal_std = np.std(excluded_perc_normal_arr, axis=0)\n",
    "\n",
    "# Plot data\n",
    "axs[1].plot(splits, excluded_perc_abnormal_mean, marker=\"o\", label=\"Abnormal\", color='C3', markersize = markersize, linestyle='dotted')\n",
    "axs[1].fill_between(splits, excluded_perc_abnormal_mean-excluded_perc_abnormal_std, excluded_perc_abnormal_mean+excluded_perc_abnormal_std, color='C3', alpha=0.2, linewidth=0.0)\n",
    "axs[1].plot(splits, excluded_perc_normal_mean, marker=\"o\", label=\"Normal\", color='C2', markersize = markersize, linestyle='dotted')\n",
    "axs[1].fill_between(splits, excluded_perc_normal_mean-excluded_perc_normal_std, excluded_perc_normal_mean+excluded_perc_normal_std, color='C2', alpha=0.2, linewidth=0.0)\n",
    "\n",
    "# Format plot\n",
    "axs[1].grid()\n",
    "axs[1].set_title(str(category_arr[idx_category]), fontsize=fontsize, fontweight=\"bold\")\n",
    "axs[1].legend(fontsize=fontsize)\n",
    "axs[1].set_xlim([min(splits), max(splits)])\n",
    "axs[1].set_ylim([0, 101])\n",
    "axs[1].set_xlabel(\"Ensemble count k [-]\", fontsize=fontsize)\n",
    "axs[1].set_ylabel(\"Percentage of excluded samples [%]\", fontsize=fontsize)\n",
    "axs[1].xaxis.set_tick_params(labelsize=fontsize)\n",
    "axs[1].yaxis.set_tick_params(labelsize=fontsize)"
   ]
  },
  {
   "cell_type": "markdown",
   "metadata": {},
   "source": [
    "#### Plot Quality of PseudoLabels"
   ]
  },
  {
   "cell_type": "code",
   "execution_count": 147,
   "metadata": {},
   "outputs": [
    {
     "data": {
      "text/plain": [
       "[1, 2, 3, 5, 10]"
      ]
     },
     "execution_count": 147,
     "metadata": {},
     "output_type": "execute_result"
    }
   ],
   "source": [
    "splits"
   ]
  },
  {
   "cell_type": "code",
   "execution_count": 155,
   "metadata": {},
   "outputs": [
    {
     "data": {
      "text/plain": [
       "array([[0.30769231, 0.92307692, 0.94871795, 0.94871795, 0.92307692],\n",
       "       [0.30769231, 0.87179487, 0.94871795, 0.92307692, 0.92307692],\n",
       "       [0.43589744, 1.        , 0.94871795, 0.92307692, 0.94871795]])"
      ]
     },
     "execution_count": 155,
     "metadata": {},
     "output_type": "execute_result"
    }
   ],
   "source": [
    "excluded_perc_abnormal_arr"
   ]
  },
  {
   "cell_type": "code",
   "execution_count": 157,
   "metadata": {},
   "outputs": [
    {
     "data": {
      "text/plain": [
       "array([[ 30.76923077,  92.30769231,  94.87179487,  94.87179487,\n",
       "         92.30769231],\n",
       "       [ 30.76923077,  87.17948718,  94.87179487,  92.30769231,\n",
       "         92.30769231],\n",
       "       [ 43.58974359, 100.        ,  94.87179487,  92.30769231,\n",
       "         94.87179487]])"
      ]
     },
     "execution_count": 157,
     "metadata": {},
     "output_type": "execute_result"
    }
   ],
   "source": [
    "excluded_perc_abnormal_arr"
   ]
  },
  {
   "cell_type": "code",
   "execution_count": null,
   "metadata": {},
   "outputs": [],
   "source": []
  },
  {
   "cell_type": "code",
   "execution_count": 159,
   "metadata": {},
   "outputs": [
    {
     "data": {
      "image/png": "[encoded data removed]",
      "text/plain": [
       "<Figure size 400x625 with 2 Axes>"
      ]
     },
     "metadata": {},
     "output_type": "display_data"
    }
   ],
   "source": [
    "# Plot setttings\n",
    "fontsize = 8\n",
    "#markersize = 4\n",
    "\n",
    "# Prepare data\n",
    "splits = k_ls   ### TODO: adapt\n",
    "excluded_perc_abnormal_arr = np.array([[item for item in sublist[0]] for sublist in abnormal_excluded_arr]) / np.array([[item for item in sublist[0]] for sublist in abnormal_total_arr])*100\n",
    "excluded_perc_normal_arr = np.array([[item for item in sublist[0]] for sublist in normal_excluded_arr]) / np.array([[item for item in sublist[0]] for sublist in normal_total_arr])*100\n",
    "\n",
    "excluded_perc_abnormal_mean = np.mean(excluded_perc_abnormal_arr, axis=0)\n",
    "excluded_perc_abnormal_std = np.std(excluded_perc_abnormal_arr, axis=0)\n",
    "excluded_perc_normal_mean = np.mean(excluded_perc_normal_arr, axis=0)\n",
    "excluded_perc_normal_std = np.std(excluded_perc_normal_arr, axis=0)\n",
    "\n",
    "# Plot data\n",
    "fig, axs = plt.subplots(2, 1, figsize=(4,6.25), constrained_layout=True)\n",
    "axs[0].plot(splits, excluded_perc_abnormal_mean, marker=\"o\", label=\"Abnormal\", color='C0', markersize = markersize, linestyle='dotted')\n",
    "axs[0].fill_between(splits, excluded_perc_abnormal_mean-excluded_perc_abnormal_std, excluded_perc_abnormal_mean+excluded_perc_abnormal_std, color='C0', alpha=0.2, linewidth=0.0)\n",
    "axs[0].plot(splits, excluded_perc_normal_mean, marker=\"o\", label=\"Normal\", color='C1', markersize = markersize, linestyle='dotted')\n",
    "axs[0].fill_between(splits, excluded_perc_normal_mean-excluded_perc_normal_std, excluded_perc_normal_mean+excluded_perc_normal_std, color='C1', alpha=0.2, linewidth=0.0)\n",
    "\n",
    "# Format plot\n",
    "axs[0].grid()\n",
    "axs[0].set_title(str(category_arr[idx_category]), fontsize=fontsize, fontweight=\"bold\")\n",
    "axs[0].legend(fontsize=fontsize)\n",
    "axs[0].set_xlim([min(splits), max(splits)])\n",
    "axs[0].set_ylim([0, 101])\n",
    "axs[0].set_xlabel(\"Ensemble count k [-]\", fontsize=fontsize)\n",
    "axs[0].set_ylabel(\"Percentage of excluded samples [%]\", fontsize=fontsize)\n",
    "axs[0].xaxis.set_tick_params(labelsize=fontsize)\n",
    "axs[0].yaxis.set_tick_params(labelsize=fontsize)\n",
    "\n",
    "\n"
   ]
  },
  {
   "cell_type": "code",
   "execution_count": null,
   "metadata": {},
   "outputs": [],
   "source": []
  },
  {
   "cell_type": "code",
   "execution_count": null,
   "metadata": {},
   "outputs": [],
   "source": []
  },
  {
   "cell_type": "code",
   "execution_count": null,
   "metadata": {},
   "outputs": [],
   "source": []
  },
  {
   "cell_type": "code",
   "execution_count": null,
   "metadata": {},
   "outputs": [],
   "source": [
    "# Extract performance values using nested list comprehensions\n",
    "performance_refined_arr = np.array([[entry[0]['image_AUROC'] for entry in row] for row in results_test_refined_arr[:, idx_category][:]])\n",
    "performance_blind_arr = np.array([[entry[0]['image_AUROC'] for entry in row] for row in results_test_blind_arr[:, idx_category][:]])\n",
    "print(performance_refined_arr)\n",
    "print(performance_blind_arr)"
   ]
  },
  {
   "cell_type": "code",
   "execution_count": 116,
   "metadata": {},
   "outputs": [
    {
     "data": {
      "image/png": "[encoded data removed]",
      "text/plain": [
       "<Figure size 2000x300 with 5 Axes>"
      ]
     },
     "metadata": {},
     "output_type": "display_data"
    }
   ],
   "source": [
    "# Prepare plots\n",
    "n_plots = len(k_ls)\n",
    "fig, axs = plt.subplots(1, n_plots, figsize=(4*n_plots, 3 ), constrained_layout=True)\n",
    "\n",
    "\n",
    "for k_iter, k in enumerate(k_ls): \n",
    "\n",
    "    abnormal_total = abnormal_total_ls[k_iter]\n",
    "    abnormal_excluded = abnormal_excluded_ls[k_iter]\n",
    "    normal_total = normal_total_ls[k_iter]\n",
    "    normal_excluded = normal_excluded_ls[k_iter]\n",
    "\n",
    "    #excluded_perc_total = (normal_excluded+normal_excluded)/()\n",
    "    excluded_perc_normal = normal_excluded / normal_total*100\n",
    "    excluded_perc_abnormal = abnormal_excluded / abnormal_total*100\n",
    "\n",
    "\n",
    "    %matplotlib inline\n",
    "\n",
    "    x = ['Normal', 'Abnormal']\n",
    "    y = [excluded_perc_normal, excluded_perc_abnormal]\n",
    "\n",
    "    axs[k_iter].bar(x, y)\n",
    "    axs[k_iter].set_title(\"k= \"+str(k), fontweight=\"bold\")\n",
    "    axs[k_iter].set_ylabel(\"Percentage of excluded samples\", fontsize=10)\n",
    "    axs[k_iter].set_ylim([0,100])\n",
    "    axs[k_iter].grid()"
   ]
  },
  {
   "cell_type": "code",
   "execution_count": null,
   "metadata": {},
   "outputs": [],
   "source": []
  },
  {
   "cell_type": "code",
   "execution_count": null,
   "metadata": {},
   "outputs": [],
   "source": []
  },
  {
   "cell_type": "code",
   "execution_count": 101,
   "metadata": {},
   "outputs": [
    {
     "data": {
      "text/plain": [
       "array([0.00808413, 0.00808413, 0.00808413, 0.00808413, 0.00808413])"
      ]
     },
     "execution_count": 101,
     "metadata": {},
     "output_type": "execute_result"
    }
   ],
   "source": [
    "performance_blind_mean\n",
    "performance_blind_std"
   ]
  },
  {
   "cell_type": "code",
   "execution_count": 96,
   "metadata": {},
   "outputs": [
    {
     "data": {
      "text/plain": [
       "<function matplotlib.pyplot.show(close=None, block=None)>"
      ]
     },
     "execution_count": 96,
     "metadata": {},
     "output_type": "execute_result"
    },
    {
     "data": {
      "image/png": "[encoded data removed]",
      "text/plain": [
       "<Figure size 640x480 with 1 Axes>"
      ]
     },
     "metadata": {},
     "output_type": "display_data"
    }
   ],
   "source": [
    "%matplotlib inline \n",
    "#image_AUROC_arr = np.array([d[0]['image_AUROC'] for d in results_test_refined_ls])\n",
    "#image_AUROC_blind_arr = np.array([d[0]['image_AUROC'] for d in results_test_blind_ls])\n",
    "idx_run = 2\n",
    "plt.plot(k_ls, performance_refined_arr[idx_run,:], '-o', color=\"C0\")\n",
    "plt.hlines(perfromance_blind_arr[idx_run,0], k_ls[0], k_ls[-1], color=\"k\", linestyles='dashed')\n",
    "plt.ylim([0.9, 1.0])\n",
    "plt.ylabel(\"AUROC [-]\")\n",
    "plt.xlabel(\"k [-]\")\n",
    "plt.show"
   ]
  },
  {
   "cell_type": "code",
   "execution_count": null,
   "metadata": {},
   "outputs": [],
   "source": []
  },
  {
   "cell_type": "code",
   "execution_count": null,
   "metadata": {},
   "outputs": [],
   "source": []
  },
  {
   "cell_type": "code",
   "execution_count": 13,
   "metadata": {},
   "outputs": [
    {
     "data": {
      "text/plain": [
       "<function matplotlib.pyplot.show(close=None, block=None)>"
      ]
     },
     "execution_count": 13,
     "metadata": {},
     "output_type": "execute_result"
    },
    {
     "data": {
      "image/png": "[encoded data removed]",
      "text/plain": [
       "<Figure size 640x480 with 1 Axes>"
      ]
     },
     "metadata": {},
     "output_type": "display_data"
    }
   ],
   "source": [
    "%matplotlib inline \n",
    "#image_AUROC_arr = np.array([d[0]['image_AUROC'] for d in results_test_refined_ls])\n",
    "#image_AUROC_blind_arr = np.array([d[0]['image_AUROC'] for d in results_test_blind_ls])\n",
    "\n",
    "plt.plot(k_ls, image_AUROC_arr, '-o', color=\"C0\")\n",
    "plt.hlines(image_AUROC_blind_arr[0], k_ls[0], k_ls[-1], color=\"k\", linestyles='dashed')\n",
    "plt.ylim([0.9, 1.0])\n",
    "plt.ylabel(\"AUROC [-]\")\n",
    "plt.xlabel(\"k [-]\")\n",
    "plt.show"
   ]
  },
  {
   "cell_type": "code",
   "execution_count": null,
   "metadata": {},
   "outputs": [],
   "source": []
  },
  {
   "cell_type": "code",
   "execution_count": 10,
   "metadata": {},
   "outputs": [
    {
     "data": {
      "text/plain": [
       "<function matplotlib.pyplot.show(close=None, block=None)>"
      ]
     },
     "execution_count": 10,
     "metadata": {},
     "output_type": "execute_result"
    },
    {
     "data": {
      "image/png": "[encoded data removed]",
      "text/plain": [
       "<Figure size 640x480 with 1 Axes>"
      ]
     },
     "metadata": {},
     "output_type": "display_data"
    }
   ],
   "source": [
    "%matplotlib inline \n",
    "image_AUROC_arr = np.array([d[0]['image_AUROC'] for d in results_test_refined_ls])\n",
    "image_AUROC_blind_arr = np.array([d[0]['image_AUROC'] for d in results_test_blind_ls])\n",
    "\n",
    "plt.plot(k_ls, image_AUROC_arr, '-o', color=\"C0\")\n",
    "plt.hlines(image_AUROC_blind_arr[0], k_ls[0], k_ls[-1], color=\"k\", linestyles='dashed')\n",
    "plt.ylim([0.9, 1.0])\n",
    "plt.ylabel(\"AUROC [-]\")\n",
    "plt.xlabel(\"k [-]\")\n",
    "plt.show"
   ]
  },
  {
   "cell_type": "code",
   "execution_count": null,
   "metadata": {},
   "outputs": [],
   "source": []
  },
  {
   "cell_type": "code",
   "execution_count": 23,
   "metadata": {},
   "outputs": [
    {
     "data": {
      "text/plain": [
       "<function matplotlib.pyplot.show(close=None, block=None)>"
      ]
     },
     "execution_count": 23,
     "metadata": {},
     "output_type": "execute_result"
    },
    {
     "data": {
      "image/png": "[encoded data removed]",
      "text/plain": [
       "<Figure size 640x480 with 1 Axes>"
      ]
     },
     "metadata": {},
     "output_type": "display_data"
    }
   ],
   "source": [
    "%matplotlib inline \n",
    "image_AUROC_arr = np.array([d[0]['image_AUROC'] for d in results_test_refined_ls])\n",
    "image_AUROC_blind_arr = np.array([d[0]['image_AUROC'] for d in results_test_blind_ls])\n",
    "\n",
    "plt.plot(k_ls, image_AUROC_arr, '-o', color=\"C0\")\n",
    "plt.hlines(image_AUROC_blind_arr[0], k_ls[0], k_ls[-1], color=\"k\", linestyles='dashed')\n",
    "plt.ylim([0.9, 1.0])\n",
    "plt.ylabel(\"AUROC [-]\")\n",
    "plt.xlabel(\"k [-]\")\n",
    "plt.show"
   ]
  },
  {
   "cell_type": "code",
   "execution_count": null,
   "metadata": {},
   "outputs": [],
   "source": []
  },
  {
   "cell_type": "code",
   "execution_count": 7,
   "metadata": {},
   "outputs": [
    {
     "data": {
      "text/plain": [
       "<function matplotlib.pyplot.show(close=None, block=None)>"
      ]
     },
     "execution_count": 7,
     "metadata": {},
     "output_type": "execute_result"
    },
    {
     "data": {
      "image/png": "[encoded data removed]",
      "text/plain": [
       "<Figure size 640x480 with 1 Axes>"
      ]
     },
     "metadata": {},
     "output_type": "display_data"
    }
   ],
   "source": [
    "%matplotlib inline \n",
    "image_AUROC_arr = np.array([d[0]['image_AUROC'] for d in results_test_refined_ls])\n",
    "image_AUROC_blind_arr = np.array([d[0]['image_AUROC'] for d in results_test_blind_ls])\n",
    "\n",
    "plt.plot(k_ls, image_AUROC_arr, '-o', color=\"C0\")\n",
    "plt.hlines(image_AUROC_blind_arr[0], k_ls[0], k_ls[-1], color=\"k\", linestyles='dashed')\n",
    "plt.ylim([0.9, 1.0])\n",
    "plt.ylabel(\"AUROC [-]\")\n",
    "plt.xlabel(\"k [-]\")\n",
    "plt.show"
   ]
  },
  {
   "cell_type": "code",
   "execution_count": 13,
   "metadata": {},
   "outputs": [
    {
     "data": {
      "text/plain": [
       "<function matplotlib.pyplot.show(close=None, block=None)>"
      ]
     },
     "execution_count": 13,
     "metadata": {},
     "output_type": "execute_result"
    },
    {
     "data": {
      "image/png": "[encoded data removed]",
      "text/plain": [
       "<Figure size 640x480 with 1 Axes>"
      ]
     },
     "metadata": {},
     "output_type": "display_data"
    }
   ],
   "source": [
    "%matplotlib inline \n",
    "image_AUROC_arr = np.array([d[0]['image_AUROC'] for d in results_test_refined_ls])\n",
    "image_AUROC_blind_arr = np.array([d[0]['image_AUROC'] for d in results_test_blind_ls])\n",
    "\n",
    "plt.plot(k_ls, image_AUROC_arr, '-o', color=\"C0\")\n",
    "plt.hlines(image_AUROC_blind_arr[0], k_ls[0], k_ls[-1], color=\"k\", linestyles='dashed')\n",
    "plt.ylim([0.9, 1.0])\n",
    "plt.ylabel(\"AUROC [-]\")\n",
    "plt.xlabel(\"k [-]\")\n",
    "plt.show"
   ]
  },
  {
   "cell_type": "code",
   "execution_count": null,
   "metadata": {},
   "outputs": [],
   "source": []
  },
  {
   "cell_type": "code",
   "execution_count": 6,
   "metadata": {},
   "outputs": [
    {
     "data": {
      "text/plain": [
       "<function matplotlib.pyplot.show(close=None, block=None)>"
      ]
     },
     "execution_count": 6,
     "metadata": {},
     "output_type": "execute_result"
    },
    {
     "data": {
      "image/png": "[encoded data removed]",
      "text/plain": [
       "<Figure size 640x480 with 1 Axes>"
      ]
     },
     "metadata": {},
     "output_type": "display_data"
    }
   ],
   "source": [
    "%matplotlib inline \n",
    "image_AUROC_arr = np.array([d[0]['image_AUROC'] for d in results_test_refined_ls])\n",
    "image_AUROC_blind_arr = np.array([d[0]['image_AUROC'] for d in results_test_blind_ls])\n",
    "\n",
    "plt.plot(k_ls, image_AUROC_arr, '-o', color=\"C0\")\n",
    "plt.hlines(image_AUROC_blind_arr[0], k_ls[0], k_ls[-1], color=\"k\", linestyles='dashed')\n",
    "plt.ylim([0.9, 1.0])\n",
    "plt.ylabel(\"AUROC [-]\")\n",
    "plt.xlabel(\"k [-]\")\n",
    "plt.show\n"
   ]
  },
  {
   "cell_type": "code",
   "execution_count": null,
   "metadata": {},
   "outputs": [],
   "source": []
  },
  {
   "cell_type": "code",
   "execution_count": 11,
   "metadata": {},
   "outputs": [
    {
     "data": {
      "image/png": "[encoded data removed]",
      "text/plain": [
       "<Figure size 2400x300 with 6 Axes>"
      ]
     },
     "metadata": {},
     "output_type": "display_data"
    }
   ],
   "source": [
    "# Prepare plots\n",
    "n_plots = len(k_ls)\n",
    "fig, axs = plt.subplots(1, n_plots, figsize=(4*n_plots, 3 ), constrained_layout=True)\n",
    "\n",
    "\n",
    "for k_iter, k in enumerate(k_ls): \n",
    "\n",
    "    abnormal_total = abnormal_total_ls[k_iter]\n",
    "    abnormal_excluded = abnormal_excluded_ls[k_iter]\n",
    "    normal_total = normal_total_ls[k_iter]\n",
    "    normal_excluded = normal_excluded_ls[k_iter]\n",
    "\n",
    "    #excluded_perc_total = (normal_excluded+normal_excluded)/()\n",
    "    excluded_perc_normal = normal_excluded / normal_total*100\n",
    "    excluded_perc_abnormal = abnormal_excluded / abnormal_total*100\n",
    "\n",
    "\n",
    "    %matplotlib inline\n",
    "\n",
    "    x = ['Normal', 'Abnormal']\n",
    "    y = [excluded_perc_normal, excluded_perc_abnormal]\n",
    "\n",
    "    axs[k_iter].bar(x, y)\n",
    "    axs[k_iter].set_title(\"k= \"+str(k), fontweight=\"bold\")\n",
    "    axs[k_iter].set_ylabel(\"Percentage of excluded samples\", fontsize=10)\n",
    "    axs[k_iter].set_ylim([0,100])\n",
    "    axs[k_iter].grid()"
   ]
  },
  {
   "cell_type": "code",
   "execution_count": null,
   "metadata": {},
   "outputs": [],
   "source": []
  },
  {
   "cell_type": "code",
   "execution_count": 24,
   "metadata": {},
   "outputs": [
    {
     "data": {
      "image/png": "[encoded data removed]",
      "text/plain": [
       "<Figure size 2400x300 with 6 Axes>"
      ]
     },
     "metadata": {},
     "output_type": "display_data"
    }
   ],
   "source": [
    "# Prepare plots\n",
    "n_plots = len(k_ls)\n",
    "fig, axs = plt.subplots(1, n_plots, figsize=(4*n_plots, 3 ), constrained_layout=True)\n",
    "\n",
    "\n",
    "for k_iter, k in enumerate(k_ls): \n",
    "\n",
    "    abnormal_total = abnormal_total_ls[k_iter]\n",
    "    abnormal_excluded = abnormal_excluded_ls[k_iter]\n",
    "    normal_total = normal_total_ls[k_iter]\n",
    "    normal_excluded = normal_excluded_ls[k_iter]\n",
    "\n",
    "    #excluded_perc_total = (normal_excluded+normal_excluded)/()\n",
    "    excluded_perc_normal = normal_excluded / normal_total*100\n",
    "    excluded_perc_abnormal = abnormal_excluded / abnormal_total*100\n",
    "\n",
    "\n",
    "    %matplotlib inline\n",
    "\n",
    "    x = ['Normal', 'Abnormal']\n",
    "    y = [excluded_perc_normal, excluded_perc_abnormal]\n",
    "\n",
    "    axs[k_iter].bar(x, y)\n",
    "    axs[k_iter].set_title(\"k= \"+str(k), fontweight=\"bold\")\n",
    "    axs[k_iter].set_ylabel(\"Percentage of excluded samples\", fontsize=10)\n",
    "    axs[k_iter].set_ylim([0,100])\n",
    "    axs[k_iter].grid()"
   ]
  },
  {
   "cell_type": "code",
   "execution_count": 22,
   "metadata": {},
   "outputs": [
    {
     "data": {
      "text/plain": [
       "[1, 2, 3, 5, 8]"
      ]
     },
     "execution_count": 22,
     "metadata": {},
     "output_type": "execute_result"
    }
   ],
   "source": [
    "k_ls"
   ]
  },
  {
   "cell_type": "code",
   "execution_count": 8,
   "metadata": {},
   "outputs": [
    {
     "data": {
      "image/png": "[encoded data removed]",
      "text/plain": [
       "<Figure size 2000x300 with 5 Axes>"
      ]
     },
     "metadata": {},
     "output_type": "display_data"
    }
   ],
   "source": [
    "# Prepare plots\n",
    "n_plots = len(k_ls)\n",
    "fig, axs = plt.subplots(1, n_plots, figsize=(4*n_plots, 3 ), constrained_layout=True)\n",
    "\n",
    "\n",
    "for k_iter, k in enumerate(k_ls): \n",
    "\n",
    "    abnormal_total = abnormal_total_ls[k_iter]\n",
    "    abnormal_excluded = abnormal_excluded_ls[k_iter]\n",
    "    normal_total = normal_total_ls[k_iter]\n",
    "    normal_excluded = normal_excluded_ls[k_iter]\n",
    "\n",
    "    #excluded_perc_total = (normal_excluded+normal_excluded)/()\n",
    "    excluded_perc_normal = normal_excluded / normal_total*100\n",
    "    excluded_perc_abnormal = abnormal_excluded / abnormal_total*100\n",
    "\n",
    "\n",
    "    %matplotlib inline\n",
    "\n",
    "    x = ['Normal', 'Abnormal']\n",
    "    y = [excluded_perc_normal, excluded_perc_abnormal]\n",
    "\n",
    "    axs[k_iter].bar(x, y)\n",
    "    axs[k_iter].set_title(\"k= \"+str(k), fontweight=\"bold\")\n",
    "    axs[k_iter].set_ylabel(\"Percentage of excluded samples\", fontsize=10)\n",
    "    axs[k_iter].set_ylim([0,100])\n",
    "    axs[k_iter].grid()"
   ]
  },
  {
   "cell_type": "code",
   "execution_count": null,
   "metadata": {},
   "outputs": [],
   "source": []
  },
  {
   "cell_type": "code",
   "execution_count": 15,
   "metadata": {},
   "outputs": [
    {
     "data": {
      "image/png": "[encoded data removed]",
      "text/plain": [
       "<Figure size 800x300 with 2 Axes>"
      ]
     },
     "metadata": {},
     "output_type": "display_data"
    }
   ],
   "source": [
    "# Prepare plots\n",
    "n_plots = len(k_ls)\n",
    "fig, axs = plt.subplots(1, n_plots, figsize=(4*n_plots, 3 ), constrained_layout=True)\n",
    "\n",
    "\n",
    "for k_iter, k in enumerate(k_ls): \n",
    "\n",
    "    abnormal_total = abnormal_total_ls[k_iter]\n",
    "    abnormal_excluded = abnormal_excluded_ls[k_iter]\n",
    "    normal_total = normal_total_ls[k_iter]\n",
    "    normal_excluded = normal_excluded_ls[k_iter]\n",
    "\n",
    "    #excluded_perc_total = (normal_excluded+normal_excluded)/()\n",
    "    excluded_perc_normal = normal_excluded / normal_total*100\n",
    "    excluded_perc_abnormal = abnormal_excluded / abnormal_total*100\n",
    "\n",
    "\n",
    "    %matplotlib inline\n",
    "\n",
    "    x = ['Normal', 'Abnormal']\n",
    "    y = [excluded_perc_normal, excluded_perc_abnormal]\n",
    "\n",
    "    axs[k_iter].bar(x, y)\n",
    "    axs[k_iter].set_title(\"k= \"+str(k), fontweight=\"bold\")\n",
    "    axs[k_iter].set_ylabel(\"Percentage of excluded samples\", fontsize=10)\n",
    "    axs[k_iter].set_ylim([0,100])\n",
    "    axs[k_iter].grid()"
   ]
  },
  {
   "cell_type": "code",
   "execution_count": 26,
   "metadata": {},
   "outputs": [
    {
     "data": {
      "image/png": "[encoded data removed]",
      "text/plain": [
       "<Figure size 2000x300 with 5 Axes>"
      ]
     },
     "metadata": {},
     "output_type": "display_data"
    }
   ],
   "source": [
    "# Prepare plots\n",
    "n_plots = len(k_ls)\n",
    "fig, axs = plt.subplots(1, n_plots, figsize=(4*n_plots, 3 ), constrained_layout=True)\n",
    "\n",
    "\n",
    "for k_iter, k in enumerate(k_ls): \n",
    "\n",
    "    abnormal_total = abnormal_total_ls[k_iter]\n",
    "    abnormal_excluded = abnormal_excluded_ls[k_iter]\n",
    "    normal_total = normal_total_ls[k_iter]\n",
    "    normal_excluded = normal_excluded_ls[k_iter]\n",
    "\n",
    "    #excluded_perc_total = (normal_excluded+normal_excluded)/()\n",
    "    excluded_perc_normal = normal_excluded / normal_total*100\n",
    "    excluded_perc_abnormal = abnormal_excluded / abnormal_total*100\n",
    "\n",
    "\n",
    "    %matplotlib inline\n",
    "\n",
    "    x = ['Normal', 'Abnormal']\n",
    "    y = [excluded_perc_normal, excluded_perc_abnormal]\n",
    "\n",
    "    axs[k_iter].bar(x, y)\n",
    "    axs[k_iter].set_title(\"k= \"+str(k), fontweight=\"bold\")\n",
    "    axs[k_iter].set_ylabel(\"Percentage of excluded samples\", fontsize=10)\n",
    "    axs[k_iter].set_ylim([0,100])\n",
    "    axs[k_iter].grid()"
   ]
  },
  {
   "cell_type": "code",
   "execution_count": 29,
   "metadata": {},
   "outputs": [
    {
     "data": {
      "text/plain": [
       "263"
      ]
     },
     "execution_count": 29,
     "metadata": {},
     "output_type": "execute_result"
    }
   ],
   "source": [
    " + normal_total"
   ]
  },
  {
   "cell_type": "code",
   "execution_count": 30,
   "metadata": {},
   "outputs": [
    {
     "data": {
      "text/plain": [
       "39"
      ]
     },
     "execution_count": 30,
     "metadata": {},
     "output_type": "execute_result"
    }
   ],
   "source": [
    "abnormal_total"
   ]
  },
  {
   "cell_type": "code",
   "execution_count": 8,
   "metadata": {},
   "outputs": [],
   "source": [
    "abnormal_total = 0\n",
    "abnormal_excluded = 0\n",
    "normal_total = 0\n",
    "normal_excluded = 0\n",
    "\n",
    "for i in range(train_dataset.__len__()):\n",
    "\n",
    "    if train_dataset.__getitem__(i)[\"label\"] == 1:\n",
    "        abnormal_total += 1\n",
    "        if ~np.isin(i, keep_indices):\n",
    "            abnormal_excluded += 1\n",
    "    elif train_dataset.__getitem__(i)[\"label\"] == 0:\n",
    "        normal_total += 1\n",
    "        if ~np.isin(i, keep_indices):\n",
    "            normal_excluded += 1\n"
   ]
  },
  {
   "cell_type": "code",
   "execution_count": 9,
   "metadata": {},
   "outputs": [
    {
     "data": {
      "image/png": "[encoded data removed]",
      "text/plain": [
       "<Figure size 640x480 with 1 Axes>"
      ]
     },
     "metadata": {},
     "output_type": "display_data"
    }
   ],
   "source": [
    "excluded_perc_normal = normal_excluded / normal_total*100\n",
    "excluded_perc_abnormal = abnormal_excluded / abnormal_total*100\n",
    "\n",
    "\n",
    "%matplotlib inline\n",
    "\n",
    "x = ['Normal', 'Abnormal']\n",
    "y = [excluded_perc_normal, excluded_perc_abnormal]\n",
    "\n",
    "plt.bar(x, y)\n",
    "plt.ylabel(\"Percentage of excluded samples\", fontsize=10)\n",
    "plt.ylim([0,100])\n",
    "plt.show()"
   ]
  },
  {
   "cell_type": "code",
   "execution_count": 72,
   "metadata": {},
   "outputs": [
    {
     "data": {
      "image/png": "[encoded data removed]",
      "text/plain": [
       "<Figure size 640x480 with 1 Axes>"
      ]
     },
     "metadata": {},
     "output_type": "display_data"
    }
   ],
   "source": [
    "excluded_perc_normal = normal_excluded / normal_total*100\n",
    "excluded_perc_abnormal = abnormal_excluded / abnormal_total*100\n",
    "\n",
    "\n",
    "%matplotlib inline\n",
    "\n",
    "x = ['Normal', 'Abnormal']\n",
    "y = [excluded_perc_normal, excluded_perc_abnormal]\n",
    "\n",
    "plt.bar(x, y)\n",
    "plt.ylabel(\"Percentage of excluded samples\", fontsize=10)\n",
    "plt.ylim([0,100])\n",
    "plt.show()\n"
   ]
  },
  {
   "cell_type": "code",
   "execution_count": 15,
   "metadata": {},
   "outputs": [
    {
     "data": {
      "text/plain": [
       "63"
      ]
     },
     "execution_count": 15,
     "metadata": {},
     "output_type": "execute_result"
    }
   ],
   "source": [
    "normal_excluded"
   ]
  },
  {
   "cell_type": "code",
   "execution_count": null,
   "metadata": {},
   "outputs": [],
   "source": []
  },
  {
   "cell_type": "code",
   "execution_count": 16,
   "metadata": {},
   "outputs": [
    {
     "ename": "NameError",
     "evalue": "name 'abnormal_total' is not defined",
     "output_type": "error",
     "traceback": [
      "\u001b[0;31m---------------------------------------------------------------------------\u001b[0m",
      "\u001b[0;31mNameError\u001b[0m                                 Traceback (most recent call last)",
      "Cell \u001b[0;32mIn[16], line 1\u001b[0m\n\u001b[0;32m----> 1\u001b[0m \u001b[43mabnormal_total\u001b[49m\n",
      "\u001b[0;31mNameError\u001b[0m: name 'abnormal_total' is not defined"
     ]
    }
   ],
   "source": [
    "abnormal_total"
   ]
  },
  {
   "cell_type": "code",
   "execution_count": 58,
   "metadata": {},
   "outputs": [
    {
     "data": {
      "text/plain": [
       "320"
      ]
     },
     "execution_count": 58,
     "metadata": {},
     "output_type": "execute_result"
    }
   ],
   "source": [
    "normal_total"
   ]
  },
  {
   "cell_type": "code",
   "execution_count": 60,
   "metadata": {},
   "outputs": [
    {
     "data": {
      "text/plain": [
       "0.14893617021276595"
      ]
     },
     "execution_count": 60,
     "metadata": {},
     "output_type": "execute_result"
    }
   ],
   "source": [
    "abnormal_total/(abnormal_total+normal_total)"
   ]
  },
  {
   "cell_type": "code",
   "execution_count": 61,
   "metadata": {},
   "outputs": [
    {
     "data": {
      "text/plain": [
       "50"
      ]
     },
     "execution_count": 61,
     "metadata": {},
     "output_type": "execute_result"
    }
   ],
   "source": [
    "abnormal_excluded"
   ]
  },
  {
   "cell_type": "code",
   "execution_count": 62,
   "metadata": {},
   "outputs": [
    {
     "data": {
      "text/plain": [
       "94"
      ]
     },
     "execution_count": 62,
     "metadata": {},
     "output_type": "execute_result"
    }
   ],
   "source": [
    "normal_excluded"
   ]
  },
  {
   "cell_type": "code",
   "execution_count": null,
   "metadata": {},
   "outputs": [],
   "source": []
  },
  {
   "cell_type": "code",
   "execution_count": 55,
   "metadata": {},
   "outputs": [
    {
     "data": {
      "text/plain": [
       "<anomalib.data.image.mvtec.MVTecDataset_contaminated at 0x7f0e004e0c70>"
      ]
     },
     "execution_count": 55,
     "metadata": {},
     "output_type": "execute_result"
    }
   ],
   "source": [
    "keep_indices"
   ]
  },
  {
   "cell_type": "code",
   "execution_count": 43,
   "metadata": {},
   "outputs": [
    {
     "data": {
      "text/plain": [
       "array([ 14,  17,  39,  40,  46,  49,  56,  57,  59,  60,  61,  62,  63,\n",
       "        64,  65,  66,  67,  68,  70,  71,  72,  73,  75,  76,  77,  78,\n",
       "        79,  80,  81,  82,  83,  84,  85,  86,  87,  88,  89,  90,  91,\n",
       "        92,  93,  94,  96,  98, 100, 101, 103, 104, 105, 106, 107, 108,\n",
       "       109, 110, 112, 113, 114, 115, 116, 117, 118, 119, 120, 121, 122,\n",
       "       123, 124, 125, 127, 128, 129, 130, 132, 133, 134, 135, 136, 137,\n",
       "       139, 141, 142, 143, 144, 145, 147, 148, 149, 150, 151, 152, 154,\n",
       "       155, 156, 157, 158, 159, 160, 161, 162, 163, 164, 165, 166, 167,\n",
       "       168, 170, 171, 172, 173, 174, 175, 176, 177, 178, 179, 180, 181,\n",
       "       182, 185, 186, 187, 189, 191, 194, 195, 196, 197, 200, 202, 204,\n",
       "       205, 206, 207, 208, 209, 211, 212, 213, 214, 215, 216, 217, 219,\n",
       "       220, 221, 222, 224, 225, 226, 227, 228, 229, 230, 231, 232, 233,\n",
       "       236, 237, 243, 244, 246, 247, 248, 250, 251, 252, 254, 256, 257,\n",
       "       258, 259, 260, 261, 262, 263, 265, 266, 267, 268, 269, 270, 271,\n",
       "       272, 274, 277, 278, 280, 281, 282, 283, 284, 285, 286, 288, 290,\n",
       "       291, 294, 295, 296, 297, 298, 301, 302, 305, 307, 308, 309, 310,\n",
       "       311, 312, 313, 315, 317, 319, 320, 322, 323, 327, 328, 329, 330,\n",
       "       331, 332, 333, 334, 335, 336, 337, 338, 339, 340, 341, 342, 343,\n",
       "       345, 346, 347, 348, 349, 352, 353, 354, 355, 356, 357, 358, 359,\n",
       "       361, 362, 363, 364, 365, 366, 367, 368, 369, 370, 371, 372, 373,\n",
       "       374, 375])"
      ]
     },
     "execution_count": 43,
     "metadata": {},
     "output_type": "execute_result"
    }
   ],
   "source": [
    "keep_indices"
   ]
  },
  {
   "cell_type": "code",
   "execution_count": 44,
   "metadata": {},
   "outputs": [
    {
     "data": {
      "text/plain": [
       "array([[False,  True,  True],\n",
       "       [ True, False,  True],\n",
       "       [ True,  True, False],\n",
       "       ...,\n",
       "       [False, False, False],\n",
       "       [False, False, False],\n",
       "       [False, False, False]])"
      ]
     },
     "execution_count": 44,
     "metadata": {},
     "output_type": "execute_result"
    }
   ],
   "source": [
    "classifications_subset_arr"
   ]
  },
  {
   "cell_type": "code",
   "execution_count": 47,
   "metadata": {},
   "outputs": [
    {
     "data": {
      "text/plain": [
       "array([False, False, False])"
      ]
     },
     "execution_count": 47,
     "metadata": {},
     "output_type": "execute_result"
    }
   ],
   "source": [
    "classifications_subset_arr[39]"
   ]
  },
  {
   "cell_type": "code",
   "execution_count": 41,
   "metadata": {},
   "outputs": [
    {
     "data": {
      "text/plain": [
       "376"
      ]
     },
     "execution_count": 41,
     "metadata": {},
     "output_type": "execute_result"
    }
   ],
   "source": [
    "keep_bool_arr.shape[0]"
   ]
  },
  {
   "cell_type": "code",
   "execution_count": 40,
   "metadata": {},
   "outputs": [
    {
     "data": {
      "text/plain": [
       "262"
      ]
     },
     "execution_count": 40,
     "metadata": {},
     "output_type": "execute_result"
    }
   ],
   "source": [
    "keep_bool_arr[keep_bool_arr==True].shape[0]"
   ]
  },
  {
   "cell_type": "code",
   "execution_count": 36,
   "metadata": {},
   "outputs": [
    {
     "data": {
      "text/plain": [
       "0.6968085106382979"
      ]
     },
     "execution_count": 36,
     "metadata": {},
     "output_type": "execute_result"
    }
   ],
   "source": [
    "keep_indices.shape[0]/train_dataset_length"
   ]
  },
  {
   "cell_type": "code",
   "execution_count": 17,
   "metadata": {},
   "outputs": [
    {
     "data": {
      "text/plain": [
       "[{'image_AUROC': 0.9725126028060913,\n",
       "  'image_AUPR': 0.9822270274162292,\n",
       "  'image_F1Score': 0.9384615421295166}]"
      ]
     },
     "execution_count": 17,
     "metadata": {},
     "output_type": "execute_result"
    }
   ],
   "source": [
    "#run = 2, k = 1\n",
    "results_test_refined"
   ]
  },
  {
   "cell_type": "code",
   "execution_count": 20,
   "metadata": {},
   "outputs": [
    {
     "data": {
      "text/plain": [
       "[{'image_AUROC': 0.9488966464996338,\n",
       "  'image_AUPR': 0.9675688147544861,\n",
       "  'image_F1Score': 0.8960000276565552}]"
      ]
     },
     "execution_count": 20,
     "metadata": {},
     "output_type": "execute_result"
    }
   ],
   "source": [
    "#run = 2, k = 2\n",
    "results_test_refined\n",
    "# keep_indices.shape[0]/train_dataset_length=0.6968085106382979"
   ]
  },
  {
   "cell_type": "code",
   "execution_count": 34,
   "metadata": {},
   "outputs": [
    {
     "data": {
      "text/plain": [
       "[{'image_AUROC': 0.9725125432014465,\n",
       "  'image_AUPR': 0.9794353246688843,\n",
       "  'image_F1Score': 0.9465649127960205}]"
      ]
     },
     "execution_count": 34,
     "metadata": {},
     "output_type": "execute_result"
    }
   ],
   "source": [
    "#run = 2, k = 3\n",
    "results_test_refined\n",
    "# keep_indices.shape[0]/train_dataset_length=0.6968085106382979"
   ]
  },
  {
   "cell_type": "code",
   "execution_count": 49,
   "metadata": {},
   "outputs": [
    {
     "data": {
      "text/plain": [
       "[{'image_AUROC': 0.9608981609344482,\n",
       "  'image_AUPR': 0.9742913842201233,\n",
       "  'image_F1Score': 0.9384615421295166}]"
      ]
     },
     "execution_count": 49,
     "metadata": {},
     "output_type": "execute_result"
    }
   ],
   "source": [
    "#run = 2, k = 4\n",
    "results_test_refined\n",
    "# keep_indices.shape[0]/train_dataset_length=0.6170212765957447"
   ]
  },
  {
   "cell_type": "code",
   "execution_count": 11,
   "metadata": {},
   "outputs": [
    {
     "data": {
      "text/plain": [
       "[{'image_AUROC': 0.9728997349739075,\n",
       "  'image_AUPR': 0.9820098280906677,\n",
       "  'image_F1Score': 0.9375}]"
      ]
     },
     "execution_count": 11,
     "metadata": {},
     "output_type": "execute_result"
    }
   ],
   "source": [
    "#run = 2, k = 5\n",
    "results_test_refined\n",
    "# keep_indices.shape[0]/train_dataset_length=0.5930851063829787"
   ]
  },
  {
   "cell_type": "code",
   "execution_count": 12,
   "metadata": {},
   "outputs": [
    {
     "data": {
      "text/plain": [
       "0.5930851063829787"
      ]
     },
     "execution_count": 12,
     "metadata": {},
     "output_type": "execute_result"
    }
   ],
   "source": [
    "keep_indices.shape[0]/train_dataset_length"
   ]
  },
  {
   "cell_type": "code",
   "execution_count": 14,
   "metadata": {},
   "outputs": [
    {
     "data": {
      "text/plain": [
       "[{'image_AUROC': 0.9616724252700806,\n",
       "  'image_AUPR': 0.9760199785232544,\n",
       "  'image_F1Score': 0.9268292784690857}]"
      ]
     },
     "execution_count": 14,
     "metadata": {},
     "output_type": "execute_result"
    }
   ],
   "source": [
    "results_test_refined"
   ]
  },
  {
   "cell_type": "code",
   "execution_count": null,
   "metadata": {},
   "outputs": [],
   "source": []
  },
  {
   "cell_type": "code",
   "execution_count": 12,
   "metadata": {},
   "outputs": [
    {
     "data": {
      "text/plain": [
       "[{'image_AUROC': 0.9717382788658142,\n",
       "  'image_AUPR': 0.9816412925720215,\n",
       "  'image_F1Score': 0.9365079402923584}]"
      ]
     },
     "execution_count": 12,
     "metadata": {},
     "output_type": "execute_result"
    }
   ],
   "source": [
    "results_test_refined"
   ]
  },
  {
   "cell_type": "code",
   "execution_count": 8,
   "metadata": {},
   "outputs": [
    {
     "data": {
      "text/plain": [
       "[{'image_AUROC': 0.9330235719680786,\n",
       "  'image_AUPR': 0.9586982131004333,\n",
       "  'image_F1Score': 0.8769230842590332}]"
      ]
     },
     "execution_count": 8,
     "metadata": {},
     "output_type": "execute_result"
    }
   ],
   "source": [
    "results_test_refined"
   ]
  },
  {
   "cell_type": "code",
   "execution_count": null,
   "metadata": {},
   "outputs": [],
   "source": []
  },
  {
   "cell_type": "code",
   "execution_count": 9,
   "metadata": {},
   "outputs": [
    {
     "data": {
      "text/plain": [
       "376"
      ]
     },
     "execution_count": 9,
     "metadata": {},
     "output_type": "execute_result"
    }
   ],
   "source": [
    "indices_disjoint_datasets[0].shape[0]"
   ]
  },
  {
   "cell_type": "code",
   "execution_count": null,
   "metadata": {},
   "outputs": [],
   "source": []
  },
  {
   "cell_type": "code",
   "execution_count": null,
   "metadata": {},
   "outputs": [],
   "source": []
  },
  {
   "cell_type": "code",
   "execution_count": null,
   "metadata": {},
   "outputs": [],
   "source": []
  },
  {
   "cell_type": "code",
   "execution_count": null,
   "metadata": {},
   "outputs": [],
   "source": [
    "results_test_refined"
   ]
  },
  {
   "cell_type": "code",
   "execution_count": 10,
   "metadata": {},
   "outputs": [
    {
     "data": {
      "text/plain": [
       "0.848404255319149"
      ]
     },
     "execution_count": 10,
     "metadata": {},
     "output_type": "execute_result"
    }
   ],
   "source": [
    "keep_indices.shape[0]/train_dataset_length"
   ]
  },
  {
   "cell_type": "code",
   "execution_count": null,
   "metadata": {},
   "outputs": [],
   "source": []
  },
  {
   "cell_type": "code",
   "execution_count": null,
   "metadata": {},
   "outputs": [],
   "source": []
  },
  {
   "cell_type": "code",
   "execution_count": null,
   "metadata": {},
   "outputs": [],
   "source": []
  },
  {
   "cell_type": "code",
   "execution_count": null,
   "metadata": {},
   "outputs": [],
   "source": []
  },
  {
   "cell_type": "code",
   "execution_count": null,
   "metadata": {},
   "outputs": [],
   "source": [
    "keep_bool_arr.shape[0]"
   ]
  },
  {
   "cell_type": "code",
   "execution_count": null,
   "metadata": {},
   "outputs": [],
   "source": []
  },
  {
   "cell_type": "code",
   "execution_count": null,
   "metadata": {},
   "outputs": [],
   "source": []
  },
  {
   "cell_type": "code",
   "execution_count": null,
   "metadata": {},
   "outputs": [],
   "source": [
    "keep_indices.shape[0]"
   ]
  },
  {
   "cell_type": "code",
   "execution_count": null,
   "metadata": {},
   "outputs": [],
   "source": []
  },
  {
   "cell_type": "code",
   "execution_count": null,
   "metadata": {},
   "outputs": [],
   "source": [
    "results_test_refined"
   ]
  },
  {
   "cell_type": "code",
   "execution_count": null,
   "metadata": {},
   "outputs": [],
   "source": []
  },
  {
   "cell_type": "code",
   "execution_count": null,
   "metadata": {},
   "outputs": [],
   "source": [
    "keep_indices"
   ]
  },
  {
   "cell_type": "code",
   "execution_count": null,
   "metadata": {},
   "outputs": [],
   "source": []
  },
  {
   "cell_type": "code",
   "execution_count": null,
   "metadata": {},
   "outputs": [],
   "source": [
    "results_test_refined"
   ]
  },
  {
   "cell_type": "code",
   "execution_count": null,
   "metadata": {},
   "outputs": [],
   "source": []
  },
  {
   "cell_type": "code",
   "execution_count": null,
   "metadata": {},
   "outputs": [],
   "source": []
  },
  {
   "cell_type": "code",
   "execution_count": null,
   "metadata": {},
   "outputs": [],
   "source": []
  },
  {
   "cell_type": "code",
   "execution_count": null,
   "metadata": {},
   "outputs": [],
   "source": []
  },
  {
   "cell_type": "code",
   "execution_count": null,
   "metadata": {},
   "outputs": [],
   "source": [
    "np.all(~classifications_subset_arr, axis=1)"
   ]
  },
  {
   "cell_type": "code",
   "execution_count": null,
   "metadata": {},
   "outputs": [],
   "source": [
    "np.all(~classifications_subset_arr, axis=1).shape[0]"
   ]
  },
  {
   "cell_type": "code",
   "execution_count": null,
   "metadata": {},
   "outputs": [],
   "source": [
    "keep_bool_arr[keep_bool_arr==True].shape\n",
    "\n"
   ]
  },
  {
   "cell_type": "code",
   "execution_count": null,
   "metadata": {},
   "outputs": [],
   "source": []
  },
  {
   "cell_type": "code",
   "execution_count": null,
   "metadata": {},
   "outputs": [],
   "source": [
    "keep_bool_arr = np.all(~classifications_subset_arr, axis=1)\n",
    "keep_bool_arr\n"
   ]
  },
  {
   "cell_type": "code",
   "execution_count": null,
   "metadata": {},
   "outputs": [],
   "source": [
    "keep_indices = np.where(keep_bool_arr)[0]\n",
    "keep_indices"
   ]
  },
  {
   "cell_type": "code",
   "execution_count": null,
   "metadata": {},
   "outputs": [],
   "source": [
    "type(keep_indices)"
   ]
  },
  {
   "cell_type": "code",
   "execution_count": null,
   "metadata": {},
   "outputs": [],
   "source": [
    "type(keep_bool_arr)"
   ]
  },
  {
   "cell_type": "code",
   "execution_count": null,
   "metadata": {},
   "outputs": [],
   "source": []
  },
  {
   "cell_type": "code",
   "execution_count": null,
   "metadata": {},
   "outputs": [],
   "source": []
  },
  {
   "cell_type": "code",
   "execution_count": null,
   "metadata": {},
   "outputs": [],
   "source": []
  },
  {
   "cell_type": "code",
   "execution_count": null,
   "metadata": {},
   "outputs": [],
   "source": [
    "classifications_subset_arr"
   ]
  },
  {
   "cell_type": "code",
   "execution_count": null,
   "metadata": {},
   "outputs": [],
   "source": []
  },
  {
   "cell_type": "code",
   "execution_count": null,
   "metadata": {},
   "outputs": [],
   "source": []
  },
  {
   "cell_type": "code",
   "execution_count": null,
   "metadata": {},
   "outputs": [],
   "source": [
    "classifications_subset_ls = []"
   ]
  },
  {
   "cell_type": "code",
   "execution_count": null,
   "metadata": {},
   "outputs": [],
   "source": []
  },
  {
   "cell_type": "code",
   "execution_count": null,
   "metadata": {},
   "outputs": [],
   "source": [
    "classifications_subset_ls.append(classifications_subset)"
   ]
  },
  {
   "cell_type": "code",
   "execution_count": null,
   "metadata": {},
   "outputs": [],
   "source": []
  },
  {
   "cell_type": "code",
   "execution_count": null,
   "metadata": {},
   "outputs": [],
   "source": []
  },
  {
   "cell_type": "code",
   "execution_count": null,
   "metadata": {},
   "outputs": [],
   "source": [
    "classifications_subset"
   ]
  },
  {
   "cell_type": "code",
   "execution_count": null,
   "metadata": {},
   "outputs": [],
   "source": []
  },
  {
   "cell_type": "code",
   "execution_count": null,
   "metadata": {},
   "outputs": [],
   "source": []
  },
  {
   "cell_type": "code",
   "execution_count": null,
   "metadata": {},
   "outputs": [],
   "source": []
  },
  {
   "cell_type": "code",
   "execution_count": null,
   "metadata": {},
   "outputs": [],
   "source": [
    "prediction_scores_subset = np.array([d[\"pred_scores\"][0] for d in predictions_subset])\n",
    "threshold = np.percentile(prediction_scores_subset, q=(1-cont_ratio)*100)\n",
    "threshold"
   ]
  },
  {
   "cell_type": "code",
   "execution_count": null,
   "metadata": {},
   "outputs": [],
   "source": [
    "prediction_scores_subset[prediction_scores_subset<=threshold].shape[0] / prediction_scores_subset.shape[0]"
   ]
  },
  {
   "cell_type": "code",
   "execution_count": null,
   "metadata": {},
   "outputs": [],
   "source": [
    "predictions_binary_subset = prediction_scores_subset>threshold # 1: abnormal; 0: normal\n",
    "predictions_binary_subset"
   ]
  },
  {
   "cell_type": "code",
   "execution_count": null,
   "metadata": {},
   "outputs": [],
   "source": []
  },
  {
   "cell_type": "code",
   "execution_count": null,
   "metadata": {},
   "outputs": [],
   "source": []
  },
  {
   "cell_type": "code",
   "execution_count": null,
   "metadata": {},
   "outputs": [],
   "source": [
    "# Plot threshold\n",
    "%matplotlib inline \n",
    "\n",
    "plt.hist(prediction_scores_subset, bins=np.arange(0,1,0.01), alpha=0.5, label='Normal', density=False, color='C0')\n",
    "plt.vlines(threshold, ymin=0, ymax=50, color='C0', linewidth=1)\n",
    "plt.show()"
   ]
  },
  {
   "cell_type": "code",
   "execution_count": null,
   "metadata": {},
   "outputs": [],
   "source": []
  },
  {
   "cell_type": "code",
   "execution_count": null,
   "metadata": {},
   "outputs": [],
   "source": []
  },
  {
   "cell_type": "code",
   "execution_count": null,
   "metadata": {},
   "outputs": [],
   "source": []
  },
  {
   "cell_type": "code",
   "execution_count": null,
   "metadata": {},
   "outputs": [],
   "source": [
    "k = 5\n",
    "run = 1\n",
    "\n",
    "indices = np.arange(0, train_dataset.__len__())\n",
    "np.random.seed(run)\n",
    "np.random.shuffle(indices)\n",
    "indices_disjoint_datasets = np.array_split(indices, k)\n",
    "\n",
    "indices_disjoint_datasets"
   ]
  },
  {
   "cell_type": "code",
   "execution_count": null,
   "metadata": {},
   "outputs": [],
   "source": []
  },
  {
   "cell_type": "code",
   "execution_count": null,
   "metadata": {},
   "outputs": [],
   "source": []
  },
  {
   "cell_type": "code",
   "execution_count": null,
   "metadata": {},
   "outputs": [],
   "source": []
  },
  {
   "cell_type": "code",
   "execution_count": null,
   "metadata": {},
   "outputs": [],
   "source": []
  },
  {
   "cell_type": "code",
   "execution_count": null,
   "metadata": {},
   "outputs": [],
   "source": [
    "parts"
   ]
  },
  {
   "cell_type": "code",
   "execution_count": null,
   "metadata": {},
   "outputs": [],
   "source": [
    "len(parts[0])"
   ]
  },
  {
   "cell_type": "code",
   "execution_count": null,
   "metadata": {},
   "outputs": [],
   "source": [
    "len(parts[4])"
   ]
  },
  {
   "cell_type": "code",
   "execution_count": null,
   "metadata": {},
   "outputs": [],
   "source": []
  },
  {
   "cell_type": "code",
   "execution_count": null,
   "metadata": {},
   "outputs": [],
   "source": [
    "dataset.category"
   ]
  },
  {
   "cell_type": "code",
   "execution_count": null,
   "metadata": {},
   "outputs": [],
   "source": [
    "dataset.__getitem__(1)"
   ]
  },
  {
   "cell_type": "code",
   "execution_count": null,
   "metadata": {},
   "outputs": [],
   "source": [
    "dataset.subsample(indices = [14])"
   ]
  },
  {
   "cell_type": "code",
   "execution_count": null,
   "metadata": {},
   "outputs": [],
   "source": [
    "np.arange(0,10)"
   ]
  },
  {
   "cell_type": "code",
   "execution_count": null,
   "metadata": {},
   "outputs": [],
   "source": [
    "dataset.subsample(indices = np.arange(0,50)).__len__()"
   ]
  },
  {
   "cell_type": "code",
   "execution_count": null,
   "metadata": {},
   "outputs": [],
   "source": []
  },
  {
   "cell_type": "code",
   "execution_count": null,
   "metadata": {},
   "outputs": [],
   "source": [
    "for idx_run, run in enumerate(run_arr):\n",
    "    for idx_cont_ratio, cont_ratio in enumerate(cont_ratio_arr):\n",
    "        for idx_category, category in enumerate(category_arr):\n",
    "\n",
    "            print(idx_run)\n",
    "            print(idx_cont_ratio)\n",
    "            print(idx_category)\n",
    "            \n",
    "            #### Simple refinement ------------------------------------------\n",
    "\n",
    "            ## Blind training -----------------------------------------------\n",
    "\n",
    "            # Define datamodule, model, engine\n",
    "            seed_everything(run, workers=True)\n",
    "            datamodule_blind = MVTec_contaminated(category=category, cont_ratio=cont_ratio, run=run, idx=[])\n",
    "            model_blind = Patchcore(coreset_sampling_ratio=0.01) #Padim(backbone=\"resnet18\", n_features=100, layers=[\"layer1\", \"layer2\", \"layer3\"])\n",
    "            engine_blind = Engine(task=TaskType.CLASSIFICATION, image_metrics=[\"AUROC\", \"AUPR\", \"F1Score\"], max_epochs=10, devices=1)\n",
    "            \n",
    "            # Train on original training set\n",
    "            engine_blind.fit(datamodule=datamodule_blind, model=model_blind)\n",
    "\n",
    "            # Predict on original training set\n",
    "            predictions_train_blind = engine_blind.predict(model=model_blind, dataset=datamodule_blind.get_train_dataset())\n",
    "\n",
    "            # Evaluate on test set\n",
    "            predictions_test_blind = engine_blind.predict(model=model_blind, dataset=datamodule_blind.get_test_dataset())\n",
    "            results_test_blind = engine_blind.test(\n",
    "                model=model_blind,\n",
    "                datamodule=datamodule_blind,\n",
    "                ckpt_path=engine_blind.trainer.checkpoint_callback.best_model_path,\n",
    "                verbose=False\n",
    "            )\n",
    "            \n",
    "\n",
    "            ## Refined training -----------------------------------------------\n",
    "\n",
    "            # Refine training set\n",
    "            prediction_scores_blind = np.array([d[\"pred_scores\"][0] for d in predictions_train_blind])\n",
    "            sorted_indices = sorted(range(len(prediction_scores_blind)), key=lambda i: prediction_scores_blind[i]) \n",
    "            selected_indices = sorted_indices[:int((1-cont_ratio) * len(sorted_indices))]\n",
    "            \n",
    "            # Define datamodue, model, engine\n",
    "            seed_everything(run, workers=True)\n",
    "            datamodule_refined = MVTec_contaminated(category=category, cont_ratio=cont_ratio, run=run, idx=selected_indices)\n",
    "            model_refined = Patchcore(coreset_sampling_ratio=0.01)\n",
    "            engine_refined = Engine(task=TaskType.CLASSIFICATION, image_metrics=[\"AUROC\", \"AUPR\", \"F1Score\"], max_epochs=10, devices=1)\n",
    "            \n",
    "            # Train on refined training set\n",
    "            engine_refined.fit(datamodule=datamodule_refined, model=model_refined)\n",
    "\n",
    "            # Diagnostics: Predict on refined training set \n",
    "            predictions_train_refined = engine_refined.predict(model=model_refined, dataset=datamodule_refined.get_train_dataset())\n",
    "\n",
    "            # Diagnostics: Predict on refined unselected training set \n",
    "            train_dataset_refined_unselected = datamodule_refined.get_train_dataset_unselected()\n",
    "            predictions_train_refined_unselected = engine_refined.predict(model=model_refined, dataset=train_dataset_refined_unselected)\n",
    "\n",
    "            # Evaluate on test set\n",
    "            predictions_test_refined = engine_refined.predict(model=model_refined, dataset=datamodule_refined.get_test_dataset())\n",
    "            results_test_refined = engine_refined.test(\n",
    "                model=model_refined,\n",
    "                datamodule=datamodule_refined,\n",
    "                ckpt_path=engine_refined.trainer.checkpoint_callback.best_model_path,\n",
    "                verbose=False\n",
    "            )\n",
    "            \n",
    "\n",
    "            ## Save results (iteration) ---------------------------------------------------\n",
    "\n",
    "            # Save blind training results\n",
    "            predictions_train_blind_arr[idx_run, idx_cont_ratio, idx_category] = predictions_train_blind\n",
    "            predictions_test_blind_arr[idx_run, idx_cont_ratio, idx_category] = predictions_test_blind\n",
    "            results_test_blind_arr[idx_run, idx_cont_ratio, idx_category] = results_test_blind\n",
    "\n",
    "            # Save refined training results\n",
    "            predictions_train_refined_arr[idx_run, idx_cont_ratio, idx_category] = predictions_train_refined\n",
    "            predictions_train_refined_unselected_arr[idx_run, idx_cont_ratio, idx_category] = predictions_train_refined_unselected\n",
    "            predictions_test_refined_arr[idx_run, idx_cont_ratio, idx_category] = predictions_test_refined\n",
    "            results_test_refined_arr[idx_run, idx_cont_ratio, idx_category] = results_test_refined\n",
    "\n",
    "\n",
    "## Save results\n",
    "results_dict = {\n",
    "    \"dimensions\": {\n",
    "        \"run_arr\": run_arr,\n",
    "        \"cont_ratio_arr\": cont_ratio_arr,\n",
    "        \"category_arr\": category_arr\n",
    "    },\n",
    "    \"results\": {\n",
    "        \"predictions_train_blind_arr\": predictions_train_blind_arr, \n",
    "        \"predictions_test_blind_arr\": predictions_test_blind_arr,\n",
    "        \"results_test_blind_arr\": results_test_blind_arr, \n",
    "        \"predictions_train_refined_arr\": predictions_train_refined_arr, \n",
    "        \"predictions_train_refined_unselected_arr\": predictions_train_refined_unselected_arr, \n",
    "        \"predictions_test_refined_arr\": predictions_test_refined_arr, \n",
    "        \"results_test_refined_arr\": results_test_refined_arr\n",
    "    }\n",
    "}\n",
    "\n",
    "\n"
   ]
  },
  {
   "cell_type": "code",
   "execution_count": null,
   "metadata": {},
   "outputs": [],
   "source": []
  },
  {
   "cell_type": "markdown",
   "metadata": {},
   "source": [
    "### Run Experiment (Simple Refinement)"
   ]
  },
  {
   "cell_type": "code",
   "execution_count": null,
   "metadata": {},
   "outputs": [],
   "source": [
    "# Define path\n",
    "save_folder = \"./results/Patchcore/\"\n",
    "name = \"20240411_Patchcore_simple_refinement_01.pickle\"\n",
    "target_path = os.path.join(save_folder, name)\n"
   ]
  },
  {
   "cell_type": "code",
   "execution_count": null,
   "metadata": {},
   "outputs": [],
   "source": [
    "# Save blind training results\n",
    "predictions_train_blind_arr = np.empty([run_arr.shape[0], cont_ratio_arr.shape[0], category_arr.shape[0]], dtype=object)\n",
    "predictions_test_blind_arr  = np.empty([run_arr.shape[0], cont_ratio_arr.shape[0], category_arr.shape[0]], dtype=object)\n",
    "results_test_blind_arr = np.empty([run_arr.shape[0], cont_ratio_arr.shape[0], category_arr.shape[0]], dtype=object)\n",
    "\n",
    "# Save refined training results\n",
    "predictions_train_refined_arr = np.empty([run_arr.shape[0], cont_ratio_arr.shape[0], category_arr.shape[0]], dtype=object)\n",
    "predictions_train_refined_unselected_arr = np.empty([run_arr.shape[0], cont_ratio_arr.shape[0], category_arr.shape[0]], dtype=object)\n",
    "predictions_test_refined_arr = np.empty([run_arr.shape[0], cont_ratio_arr.shape[0], category_arr.shape[0]], dtype=object)\n",
    "results_test_refined_arr = np.empty([run_arr.shape[0], cont_ratio_arr.shape[0], category_arr.shape[0]], dtype=object)"
   ]
  },
  {
   "cell_type": "code",
   "execution_count": null,
   "metadata": {},
   "outputs": [],
   "source": [
    "for idx_run, run in enumerate(run_arr):\n",
    "    for idx_cont_ratio, cont_ratio in enumerate(cont_ratio_arr):\n",
    "        for idx_category, category in enumerate(category_arr):\n",
    "\n",
    "            print(idx_run)\n",
    "            print(idx_cont_ratio)\n",
    "            print(idx_category)\n",
    "            \n",
    "            #### Simple refinement ------------------------------------------\n",
    "\n",
    "            ## Blind training -----------------------------------------------\n",
    "\n",
    "            # Define datamodule, model, engine\n",
    "            seed_everything(run, workers=True)\n",
    "            datamodule_blind = MVTec_contaminated(category=category, cont_ratio=cont_ratio, run=run, idx=[])\n",
    "            model_blind = Patchcore(coreset_sampling_ratio=0.01) #Padim(backbone=\"resnet18\", n_features=100, layers=[\"layer1\", \"layer2\", \"layer3\"])\n",
    "            engine_blind = Engine(task=TaskType.CLASSIFICATION, image_metrics=[\"AUROC\", \"AUPR\", \"F1Score\"], max_epochs=10, devices=1)\n",
    "            \n",
    "            # Train on original training set\n",
    "            engine_blind.fit(datamodule=datamodule_blind, model=model_blind)\n",
    "\n",
    "            # Predict on original training set\n",
    "            predictions_train_blind = engine_blind.predict(model=model_blind, dataset=datamodule_blind.get_train_dataset())\n",
    "\n",
    "            # Evaluate on test set\n",
    "            predictions_test_blind = engine_blind.predict(model=model_blind, dataset=datamodule_blind.get_test_dataset())\n",
    "            results_test_blind = engine_blind.test(\n",
    "                model=model_blind,\n",
    "                datamodule=datamodule_blind,\n",
    "                ckpt_path=engine_blind.trainer.checkpoint_callback.best_model_path,\n",
    "                verbose=False\n",
    "            )\n",
    "            \n",
    "\n",
    "            ## Refined training -----------------------------------------------\n",
    "\n",
    "            # Refine training set\n",
    "            prediction_scores_blind = np.array([d[\"pred_scores\"][0] for d in predictions_train_blind])\n",
    "            sorted_indices = sorted(range(len(prediction_scores_blind)), key=lambda i: prediction_scores_blind[i]) \n",
    "            selected_indices = sorted_indices[:int((1-cont_ratio) * len(sorted_indices))]\n",
    "            \n",
    "            # Define datamodue, model, engine\n",
    "            seed_everything(run, workers=True)\n",
    "            datamodule_refined = MVTec_contaminated(category=category, cont_ratio=cont_ratio, run=run, idx=selected_indices)\n",
    "            model_refined = Patchcore(coreset_sampling_ratio=0.01)\n",
    "            engine_refined = Engine(task=TaskType.CLASSIFICATION, image_metrics=[\"AUROC\", \"AUPR\", \"F1Score\"], max_epochs=10, devices=1)\n",
    "            \n",
    "            # Train on refined training set\n",
    "            engine_refined.fit(datamodule=datamodule_refined, model=model_refined)\n",
    "\n",
    "            # Diagnostics: Predict on refined training set \n",
    "            predictions_train_refined = engine_refined.predict(model=model_refined, dataset=datamodule_refined.get_train_dataset())\n",
    "\n",
    "            # Diagnostics: Predict on refined unselected training set \n",
    "            train_dataset_refined_unselected = datamodule_refined.get_train_dataset_unselected()\n",
    "            predictions_train_refined_unselected = engine_refined.predict(model=model_refined, dataset=train_dataset_refined_unselected)\n",
    "\n",
    "            # Evaluate on test set\n",
    "            predictions_test_refined = engine_refined.predict(model=model_refined, dataset=datamodule_refined.get_test_dataset())\n",
    "            results_test_refined = engine_refined.test(\n",
    "                model=model_refined,\n",
    "                datamodule=datamodule_refined,\n",
    "                ckpt_path=engine_refined.trainer.checkpoint_callback.best_model_path,\n",
    "                verbose=False\n",
    "            )\n",
    "            \n",
    "\n",
    "            ## Save results (iteration) ---------------------------------------------------\n",
    "\n",
    "            # Save blind training results\n",
    "            predictions_train_blind_arr[idx_run, idx_cont_ratio, idx_category] = predictions_train_blind\n",
    "            predictions_test_blind_arr[idx_run, idx_cont_ratio, idx_category] = predictions_test_blind\n",
    "            results_test_blind_arr[idx_run, idx_cont_ratio, idx_category] = results_test_blind\n",
    "\n",
    "            # Save refined training results\n",
    "            predictions_train_refined_arr[idx_run, idx_cont_ratio, idx_category] = predictions_train_refined\n",
    "            predictions_train_refined_unselected_arr[idx_run, idx_cont_ratio, idx_category] = predictions_train_refined_unselected\n",
    "            predictions_test_refined_arr[idx_run, idx_cont_ratio, idx_category] = predictions_test_refined\n",
    "            results_test_refined_arr[idx_run, idx_cont_ratio, idx_category] = results_test_refined\n",
    "\n",
    "\n",
    "## Save results\n",
    "results_dict = {\n",
    "    \"dimensions\": {\n",
    "        \"run_arr\": run_arr,\n",
    "        \"cont_ratio_arr\": cont_ratio_arr,\n",
    "        \"category_arr\": category_arr\n",
    "    },\n",
    "    \"results\": {\n",
    "        \"predictions_train_blind_arr\": predictions_train_blind_arr, \n",
    "        \"predictions_test_blind_arr\": predictions_test_blind_arr,\n",
    "        \"results_test_blind_arr\": results_test_blind_arr, \n",
    "        \"predictions_train_refined_arr\": predictions_train_refined_arr, \n",
    "        \"predictions_train_refined_unselected_arr\": predictions_train_refined_unselected_arr, \n",
    "        \"predictions_test_refined_arr\": predictions_test_refined_arr, \n",
    "        \"results_test_refined_arr\": results_test_refined_arr\n",
    "    }\n",
    "}\n",
    "\n",
    "\n"
   ]
  },
  {
   "cell_type": "code",
   "execution_count": null,
   "metadata": {},
   "outputs": [],
   "source": [
    "# Save results\n",
    "import pickle\n",
    "with open(target_path, \"wb\") as pickle_file:\n",
    "    pickle.dump(results_dict, pickle_file)\n"
   ]
  },
  {
   "cell_type": "code",
   "execution_count": null,
   "metadata": {},
   "outputs": [],
   "source": []
  },
  {
   "cell_type": "markdown",
   "metadata": {},
   "source": [
    "### Plot Results (Simple Refinement)"
   ]
  },
  {
   "cell_type": "code",
   "execution_count": null,
   "metadata": {},
   "outputs": [],
   "source": [
    "# Define path\n",
    "load_folder = \"./results/Patchcore/\"\n",
    "name = \"20240410_Patchcore_simple_refinement.pickle\"\n",
    "source_path = target_path#os.path.join(load_folder, name)\n"
   ]
  },
  {
   "cell_type": "code",
   "execution_count": null,
   "metadata": {},
   "outputs": [],
   "source": [
    "# Load results\n",
    "import pickle\n",
    "pickle_file_path = source_path\n",
    "with open(pickle_file_path, \"rb\") as pickle_file:\n",
    "    loaded_dict = pickle.load(pickle_file)\n",
    "loaded_dict"
   ]
  },
  {
   "cell_type": "code",
   "execution_count": null,
   "metadata": {},
   "outputs": [],
   "source": [
    "## Plot \"Anomaly Score Distribution\"\n",
    "%matplotlib inline \n",
    "from scipy.stats import norm\n",
    "      \n",
    "# Unnest dictionary\n",
    "for key, value in loaded_dict[\"dimensions\"].items():\n",
    "    locals()[key] = value\n",
    "for key, value in loaded_dict[\"results\"].items():\n",
    "    locals()[key] = value\n",
    "\n",
    "# Choose scenario (category, contamination ratio)\n",
    "idx_category = 0\n",
    "idx_cont_ratio = 0\n",
    "#idx_run = 0\n",
    "\n",
    "\n",
    "fig, axs = plt.subplots(5, run_arr.shape[0], sharey=True, tight_layout=True, figsize=(3*run_arr.shape[0], 5*2))\n",
    "\n",
    "for idx_run, run in enumerate(run_arr):\n",
    "\n",
    "    ## Prepare data\n",
    "    # Blind training\n",
    "    predictions_train_blind = predictions_train_blind_arr[idx_run, idx_cont_ratio, idx_category]\n",
    "    prediction_scores_train_blind = np.array([d[\"pred_scores\"][0] for d in predictions_train_blind])\n",
    "    lables_train_blind = np.array([d[\"label\"][0] for d in predictions_train_blind])\n",
    "\n",
    "    # Blind training, evaluated on test set \n",
    "    predictions_test_blind = predictions_test_blind_arr[idx_run, idx_cont_ratio, idx_category]\n",
    "    prediction_scores_test_blind = np.array([d[\"pred_scores\"][0] for d in predictions_test_blind])\n",
    "    lables_test_blind = np.array([d[\"label\"][0] for d in predictions_test_blind])\n",
    "\n",
    "    # Refined training, selected\n",
    "    predictions_train_refined = predictions_train_refined_arr[idx_run, idx_cont_ratio, idx_category]\n",
    "    prediction_scores_train_refined = np.array([d[\"pred_scores\"][0] for d in predictions_train_refined])\n",
    "    lables_train_refined = np.array([d[\"label\"][0] for d in predictions_train_refined])\n",
    "\n",
    "    # Refined training, unselected\n",
    "    predictions_train_refined_unselected = predictions_train_refined_unselected_arr[idx_run, idx_cont_ratio, idx_category]\n",
    "    prediction_scores_train_refined_unselected = np.array([d[\"pred_scores\"][0] for d in predictions_train_refined_unselected])\n",
    "    lables_train_refined_unselected = np.array([d[\"label\"][0] for d in predictions_train_refined_unselected])\n",
    "    \n",
    "    # Blind training, evaluated on test set \n",
    "    predictions_test_refined = predictions_test_refined_arr[idx_run, idx_cont_ratio, idx_category]\n",
    "    prediction_scores_test_refined = np.array([d[\"pred_scores\"][0] for d in predictions_test_refined])\n",
    "    lables_refined_blind = np.array([d[\"label\"][0] for d in predictions_test_refined])\n",
    "\n",
    "    # Data to plot\n",
    "    dist11 = prediction_scores_train_blind[lables_train_blind==0]\n",
    "    dist12 = prediction_scores_train_blind[lables_train_blind==1]\n",
    "    dist21 = prediction_scores_test_blind[lables_test_blind==0]\n",
    "    dist22 = prediction_scores_test_blind[lables_test_blind==1]\n",
    "    dist31 = prediction_scores_train_refined[lables_train_refined==0]\n",
    "    dist32 = prediction_scores_train_refined[lables_train_refined==1]\n",
    "    dist41 = prediction_scores_train_refined_unselected[lables_train_refined_unselected==0]\n",
    "    dist42 = prediction_scores_train_refined_unselected[lables_train_refined_unselected==1]\n",
    "    dist51 = prediction_scores_test_refined[lables_refined_blind==0]\n",
    "    dist52 = prediction_scores_test_refined[lables_refined_blind==1]\n",
    "\n",
    "    # Fit a normal distribution to the data\n",
    "    x = np.arange(0,1,0.01)\n",
    "    mu11, std11 = norm.fit(dist11)\n",
    "    mu12, std12 = norm.fit(dist12)\n",
    "    mu21, std21 = norm.fit(dist21)\n",
    "    mu22, std22 = norm.fit(dist22)\n",
    "    mu31, std31 = norm.fit(dist31)\n",
    "    mu32, std32 = norm.fit(dist32)\n",
    "    mu41, std41 = norm.fit(dist41)\n",
    "    mu42, std42 = norm.fit(dist42)\n",
    "    mu51, std51 = norm.fit(dist51)\n",
    "    mu52, std52 = norm.fit(dist52)\n",
    "\n",
    "    p11 = norm.pdf(x, mu11, std11)\n",
    "    p12 = norm.pdf(x, mu12, std12)\n",
    "    p21 = norm.pdf(x, mu21, std21)\n",
    "    p22 = norm.pdf(x, mu22, std22)\n",
    "    p31 = norm.pdf(x, mu31, std31)\n",
    "    p32 = norm.pdf(x, mu32, std32)\n",
    "    p41 = norm.pdf(x, mu41, std41)\n",
    "    p42 = norm.pdf(x, mu42, std42)\n",
    "    p51 = norm.pdf(x, mu51, std51)\n",
    "    p52 = norm.pdf(x, mu52, std52)\n",
    "\n",
    "    ## Generate plots\n",
    "    # Define plot parameters\n",
    "    fontsize = 8\n",
    "    linewidth = 1\n",
    "    bin_range = x\n",
    "\n",
    "\n",
    "    # Plot histograms and pdf curves\n",
    "    axs[0,idx_run].hist(dist11, bins=bin_range, alpha=0.5, label='Normal', density=False, color='C0')\n",
    "    axs[0,idx_run].hist(dist12, bins=bin_range, alpha=0.5, label='Abnormal', density=False, color='C1')\n",
    "    ymax = axs[0,idx_run].get_ylim()[1]\n",
    "    axs[0,idx_run].set_xlim([0.2,0.8])\n",
    "    axs[0,idx_run].grid(True)\n",
    "    axs[0,idx_run].xaxis.set_tick_params(labelsize=fontsize)\n",
    "    axs[0,idx_run].yaxis.set_tick_params(labelsize=fontsize)\n",
    "    axs[0,idx_run].set_xlabel(\"Anomaly score [-]\", fontsize=fontsize)\n",
    "    axs[0,idx_run].set_ylabel(\"Count [-]\", fontsize=fontsize)\n",
    "    axs[0,idx_run].legend(fontsize=fontsize)\n",
    "\n",
    "    axs[0,idx_run].plot(x, p11, color='C0', linewidth=linewidth)\n",
    "    axs[0,idx_run].vlines(mu11, ymin=0, ymax=ymax, color='C0', linewidth=linewidth)\n",
    "    axs[0,idx_run].plot(x, p12, color='C1', linewidth=linewidth)\n",
    "    axs[0,idx_run].vlines(mu12, ymin=0, ymax=ymax, color='C1', linewidth=linewidth)\n",
    "    axs[0,idx_run].set_ylim([0,ymax])\n",
    "    axs[0,idx_run].set_title(\"blind training, seen training data\", fontsize=8, fontweight=\"bold\")\n",
    "\n",
    "\n",
    "    axs[1,idx_run].hist(dist21, bins=bin_range, alpha=0.5, label='Normal', density=False, color='C0')\n",
    "    axs[1,idx_run].hist(dist22, bins=bin_range, alpha=0.5, label='Abnormal', density=False, color='C1')\n",
    "    axs[1,idx_run].set_xlim([0.2,0.8])\n",
    "    axs[1,idx_run].grid(True)\n",
    "    axs[1,idx_run].xaxis.set_tick_params(labelsize=fontsize)\n",
    "    axs[1,idx_run].yaxis.set_tick_params(labelsize=fontsize)\n",
    "    axs[1,idx_run].set_xlabel(\"Anomaly score [-]\", fontsize=fontsize)\n",
    "    axs[1,idx_run].set_ylabel(\"Count [-]\", fontsize=fontsize)\n",
    "    axs[1,idx_run].legend(fontsize=fontsize)\n",
    "\n",
    "    axs[1,idx_run].plot(x, p21, color='C0', linewidth=linewidth)\n",
    "    axs[1,idx_run].vlines(mu21, ymin=0, ymax=ymax, color='C0', linewidth=linewidth)\n",
    "    axs[1,idx_run].plot(x, p22, color='C1', linewidth=linewidth)\n",
    "    axs[1,idx_run].vlines(mu22, ymin=0, ymax=ymax, color='C1', linewidth=linewidth)\n",
    "    axs[1,idx_run].set_ylim([0,ymax])\n",
    "    axs[1,idx_run].set_title(\"blind training, test data\", fontsize=8, fontweight=\"bold\")\n",
    "\n",
    "\n",
    "    axs[2,idx_run].hist(dist31, bins=bin_range, alpha=0.5, label='Normal', density=False, color='C0')\n",
    "    axs[2,idx_run].hist(dist32, bins=bin_range, alpha=0.5, label='Abnormal', density=False, color='C1')\n",
    "    axs[2,idx_run].set_xlim([0.2,0.8])\n",
    "    axs[2,idx_run].grid(True)\n",
    "    axs[2,idx_run].xaxis.set_tick_params(labelsize=fontsize)\n",
    "    axs[2,idx_run].yaxis.set_tick_params(labelsize=fontsize)\n",
    "    axs[2,idx_run].set_xlabel(\"Anomaly score [-]\", fontsize=fontsize)\n",
    "    axs[2,idx_run].set_ylabel(\"Count [-]\", fontsize=fontsize)\n",
    "    axs[2,idx_run].legend(fontsize=fontsize)\n",
    "    \n",
    "    axs[2,idx_run].plot(x, p31, color='C0', linewidth=linewidth)\n",
    "    axs[2,idx_run].vlines(mu31, ymin=0, ymax=ymax, color='C0', linewidth=linewidth)\n",
    "    axs[2,idx_run].plot(x, p32, color='C1', linewidth=linewidth)\n",
    "    axs[2,idx_run].vlines(mu32, ymin=0, ymax=ymax, color='C1', linewidth=linewidth)\n",
    "    axs[2,idx_run].set_ylim([0,ymax])\n",
    "    axs[2,idx_run].set_title(\"refined training, seen training data\", fontsize=8, fontweight=\"bold\")\n",
    "\n",
    "\n",
    "    axs[3,idx_run].hist(dist41, bins=bin_range, alpha=0.5, label='Normal', density=False, color='C0')\n",
    "    axs[3,idx_run].hist(dist42, bins=bin_range, alpha=0.5, label='Abnormal', density=False, color='C1')\n",
    "    axs[3,idx_run].set_xlim([0.2,0.8])\n",
    "    axs[3,idx_run].grid(True)\n",
    "    axs[3,idx_run].xaxis.set_tick_params(labelsize=fontsize)\n",
    "    axs[3,idx_run].yaxis.set_tick_params(labelsize=fontsize)\n",
    "    axs[3,idx_run].set_xlabel(\"Anomaly score [-]\", fontsize=fontsize)\n",
    "    axs[3,idx_run].set_ylabel(\"Count [-]\", fontsize=fontsize)\n",
    "\n",
    "    axs[3,idx_run].plot(x, p41, color='C0', linewidth=linewidth)\n",
    "    axs[3,idx_run].vlines(mu41, ymin=0, ymax=ymax, color='C0', linewidth=linewidth)\n",
    "    axs[3,idx_run].plot(x, p42, linewidth=1, color='C1')\n",
    "    axs[3,idx_run].vlines(mu42, ymin=0, ymax=ymax, color='C1', linewidth=linewidth)\n",
    "    axs[3,idx_run].set_ylim([0,ymax])\n",
    "    axs[3,idx_run].set_title(\"refined training, unseen training data\", fontsize=8, fontweight=\"bold\")\n",
    "    axs[3,idx_run].legend(fontsize=fontsize)\n",
    "\n",
    "\n",
    "    axs[4,idx_run].hist(dist51, bins=bin_range, alpha=0.5, label='Normal', density=False, color='C0')\n",
    "    axs[4,idx_run].hist(dist52, bins=bin_range, alpha=0.5, label='Abnormal', density=False, color='C1')\n",
    "    axs[4,idx_run].set_xlim([0.2,0.8])\n",
    "    axs[4,idx_run].grid(True)\n",
    "    axs[4,idx_run].xaxis.set_tick_params(labelsize=fontsize)\n",
    "    axs[4,idx_run].yaxis.set_tick_params(labelsize=fontsize)\n",
    "    axs[4,idx_run].set_xlabel(\"Anomaly score [-]\", fontsize=fontsize)\n",
    "    axs[4,idx_run].set_ylabel(\"Count [-]\", fontsize=fontsize)\n",
    "\n",
    "    axs[4,idx_run].plot(x, p51, color='C0', linewidth=linewidth)\n",
    "    axs[4,idx_run].vlines(mu51, ymin=0, ymax=ymax, color='C0', linewidth=linewidth)\n",
    "    axs[4,idx_run].plot(x, p52, linewidth=1, color='C1')\n",
    "    axs[4,idx_run].vlines(mu52, ymin=0, ymax=ymax, color='C1', linewidth=linewidth)\n",
    "    axs[4,idx_run].set_ylim([0,ymax])\n",
    "    axs[4,idx_run].set_title(\"refined training, test data\", fontsize=8, fontweight=\"bold\")\n",
    "    axs[4,idx_run].legend(fontsize=fontsize)\n",
    "\n"
   ]
  },
  {
   "cell_type": "code",
   "execution_count": null,
   "metadata": {},
   "outputs": [],
   "source": []
  },
  {
   "cell_type": "code",
   "execution_count": null,
   "metadata": {},
   "outputs": [],
   "source": []
  },
  {
   "cell_type": "code",
   "execution_count": null,
   "metadata": {},
   "outputs": [],
   "source": []
  },
  {
   "cell_type": "code",
   "execution_count": null,
   "metadata": {},
   "outputs": [],
   "source": []
  },
  {
   "cell_type": "code",
   "execution_count": null,
   "metadata": {},
   "outputs": [],
   "source": []
  },
  {
   "cell_type": "code",
   "execution_count": null,
   "metadata": {},
   "outputs": [],
   "source": []
  },
  {
   "cell_type": "code",
   "execution_count": null,
   "metadata": {},
   "outputs": [],
   "source": [
    "## Save results\n",
    "results_dict = {\n",
    "    \"dimensions\": {\n",
    "        \"run_arr\": run_arr,\n",
    "        \"cont_ratio_arr\": cont_ratio_arr,\n",
    "        \"category_arr\": category_arr\n",
    "    },\n",
    "    \"results\": {\n",
    "        \"predictions_train_blind_arr\": predictions_train_blind_arr, \n",
    "        \"results_test_blind_arr\": results_test_blind_arr, \n",
    "        \"predictions_train_refined_arr\": predictions_train_refined_arr, \n",
    "        \"predictions_train_refined_unselected_arr\": predictions_train_refined_unselected, \n",
    "        \"results_test_refined_arr\": results_test_refined_arr\n",
    "    }\n",
    "}"
   ]
  },
  {
   "cell_type": "code",
   "execution_count": null,
   "metadata": {},
   "outputs": [],
   "source": []
  },
  {
   "cell_type": "code",
   "execution_count": null,
   "metadata": {},
   "outputs": [],
   "source": [
    "predictions_train_blind = predictions_train_blind_arr[idx_run, idx_cont_ratio, idx_category]\n",
    "prediction_scores_train_blind = np.array([d[\"pred_scores\"][0] for d in predictions_train_blind])\n",
    "prediction_scores_train_blind"
   ]
  },
  {
   "cell_type": "code",
   "execution_count": null,
   "metadata": {},
   "outputs": [],
   "source": [
    "lables_train_blind = np.array([d[\"label\"][0] for d in predictions_train_blind])\n",
    "lables_train_blind"
   ]
  },
  {
   "cell_type": "code",
   "execution_count": null,
   "metadata": {},
   "outputs": [],
   "source": []
  },
  {
   "cell_type": "code",
   "execution_count": null,
   "metadata": {},
   "outputs": [],
   "source": []
  },
  {
   "cell_type": "code",
   "execution_count": null,
   "metadata": {},
   "outputs": [],
   "source": []
  },
  {
   "cell_type": "code",
   "execution_count": null,
   "metadata": {},
   "outputs": [],
   "source": [
    "predictions_train_blind = predictions_train_blind_arr[idx_run, idx_cont_ratio, idx_category]\n",
    "predictions_train_blind"
   ]
  },
  {
   "cell_type": "code",
   "execution_count": null,
   "metadata": {},
   "outputs": [],
   "source": []
  },
  {
   "cell_type": "code",
   "execution_count": null,
   "metadata": {},
   "outputs": [],
   "source": []
  },
  {
   "cell_type": "code",
   "execution_count": null,
   "metadata": {},
   "outputs": [],
   "source": [
    "predictions_train_blind_arr"
   ]
  },
  {
   "cell_type": "code",
   "execution_count": null,
   "metadata": {},
   "outputs": [],
   "source": []
  },
  {
   "cell_type": "code",
   "execution_count": null,
   "metadata": {},
   "outputs": [],
   "source": []
  },
  {
   "cell_type": "code",
   "execution_count": null,
   "metadata": {},
   "outputs": [],
   "source": []
  },
  {
   "cell_type": "code",
   "execution_count": null,
   "metadata": {},
   "outputs": [],
   "source": []
  },
  {
   "cell_type": "code",
   "execution_count": null,
   "metadata": {},
   "outputs": [],
   "source": [
    "%matplotlib inline \n",
    "from scipy.stats import norm\n",
    "\n",
    "# Plot metric for all categories\n",
    "fontsize = 8\n",
    "fig, axs = plt.subplots(3, 1, sharey=True, tight_layout=True, figsize=(3, 6))\n",
    "\n",
    "bin_range = np.arange(0,1,0.01)\n",
    "\n",
    "# Prepare data\n",
    "dist11 = prediction_scores_blind[abnormal_bool_blind==False]\n",
    "dist12 = prediction_scores_blind[abnormal_bool_blind==True]\n",
    "dist21 = prediction_scores_refined[abnormal_bool_refined==False]\n",
    "dist22 = prediction_scores_refined[abnormal_bool_refined==True]\n",
    "dist31 = prediction_scores_refined_unselected[abnormal_bool_refined_unselected==False]\n",
    "dist32 = prediction_scores_refined_unselected[abnormal_bool_refined_unselected==True]\n",
    "\n",
    "# Plot histograms\n",
    "axs[0].hist(dist11, bins=bin_range, alpha=0.5, label='Normal', density=False)\n",
    "axs[0].hist(dist12, bins=bin_range, alpha=0.5, label='Abnormal', density=False)\n",
    "axs[0].set_xlim([0.2,0.8])\n",
    "axs[0].grid(True)\n",
    "axs[0].xaxis.set_tick_params(labelsize=fontsize)\n",
    "axs[0].yaxis.set_tick_params(labelsize=fontsize)\n",
    "\n",
    "axs[1].hist(dist21, bins=bin_range, alpha=0.5, label='Normal', density=False)\n",
    "axs[1].hist(dist22, bins=bin_range, alpha=0.5, label='Abnormal', density=False)\n",
    "axs[1].set_xlim([0.2,0.8])\n",
    "axs[1].grid(True)\n",
    "axs[1].xaxis.set_tick_params(labelsize=fontsize)\n",
    "axs[1].yaxis.set_tick_params(labelsize=fontsize)\n",
    "\n",
    "axs[2].hist(dist31, bins=bin_range, alpha=0.5, label='Normal', density=False)\n",
    "axs[2].hist(dist32, bins=bin_range, alpha=0.5, label='Abnormal', density=False)\n",
    "axs[2].set_xlim([0.2,0.8])\n",
    "axs[2].grid(True)\n",
    "axs[2].xaxis.set_tick_params(labelsize=fontsize)\n",
    "axs[2].yaxis.set_tick_params(labelsize=fontsize)\n",
    "\n",
    "# Fit a normal distribution to the data\n",
    "mu11, std11 = norm.fit(dist11)\n",
    "mu12, std12 = norm.fit(dist12)\n",
    "mu21, std21 = norm.fit(dist21)\n",
    "mu22, std22 = norm.fit(dist22)\n",
    "mu31, std31 = norm.fit(dist31)\n",
    "mu32, std32 = norm.fit(dist32)\n",
    "\n",
    "# Plot PDF\n",
    "#xmin, xmax = axs[0].xlim()\n",
    "x = bin_range\n",
    "p11 = norm.pdf(x, mu11, std11)\n",
    "p12 = norm.pdf(x, mu12, std12)\n",
    "p21 = norm.pdf(x, mu21, std21)\n",
    "p22 = norm.pdf(x, mu22, std22)\n",
    "p31 = norm.pdf(x, mu31, std31)\n",
    "p32 = norm.pdf(x, mu32, std32)\n",
    "\n",
    "ymax = axs[0].get_ylim()[1]\n",
    "axs[0].plot(x, p11, 'b', linewidth=2)\n",
    "axs[0].vlines(mu11, ymin=0, ymax=ymax,colors='b')\n",
    "axs[0].plot(x, p12, 'r', linewidth=2)\n",
    "axs[0].vlines(mu12, ymin=0, ymax=ymax,colors='r')\n",
    "axs[0].set_ylim([0,ymax])\n",
    "axs[0].set_title(\"blind training, seen testing\", fontsize=8, fontweight=\"bold\")\n",
    "\n",
    "\n",
    "axs[1].plot(x, p21, 'b', linewidth=2)\n",
    "axs[1].vlines(mu21, ymin=0, ymax=ymax,colors='b')\n",
    "axs[1].plot(x, p22, 'r', linewidth=2)\n",
    "axs[1].vlines(mu22, ymin=0, ymax=ymax,colors='r')\n",
    "axs[1].set_ylim([0,ymax])\n",
    "axs[1].set_title(\"refined training, seen testing\", fontsize=8, fontweight=\"bold\")\n",
    "\n",
    "axs[2].plot(x, p31, 'b', linewidth=2)\n",
    "axs[2].vlines(mu31, ymin=0, ymax=ymax,colors='b')\n",
    "axs[2].plot(x, p32, 'r', linewidth=2)\n",
    "axs[2].vlines(mu32, ymin=0, ymax=ymax,colors='r')\n",
    "axs[2].set_ylim([0,ymax])\n",
    "axs[2].set_title(\"refined training, unseen testing\", fontsize=8, fontweight=\"bold\")"
   ]
  },
  {
   "cell_type": "code",
   "execution_count": null,
   "metadata": {},
   "outputs": [],
   "source": []
  },
  {
   "cell_type": "code",
   "execution_count": null,
   "metadata": {},
   "outputs": [],
   "source": []
  },
  {
   "cell_type": "code",
   "execution_count": null,
   "metadata": {},
   "outputs": [],
   "source": []
  },
  {
   "cell_type": "code",
   "execution_count": null,
   "metadata": {},
   "outputs": [],
   "source": []
  },
  {
   "cell_type": "code",
   "execution_count": null,
   "metadata": {},
   "outputs": [],
   "source": []
  },
  {
   "cell_type": "code",
   "execution_count": null,
   "metadata": {},
   "outputs": [],
   "source": [
    "## Save results ---------------------------------------------------\n",
    "\n",
    "# Save blind training results\n",
    "predictions_train_blind_arr[idx_run, idx_cont_ratio, idx_category] = predictions_train_blind\n",
    "results_test_blind_arr[idx_run, idx_cont_ratio, idx_category] = results_test_blind\n",
    "\n",
    "# Save refined training results\n",
    "predictions_train_refined_arr[idx_run, idx_cont_ratio, idx_category] = predictions_train_refined\n",
    "predictions_train_refined_unselected_arr[idx_run, idx_cont_ratio, idx_category] = predictions_train_refined_unselected\n",
    "results_test_refined_arr[idx_run, idx_cont_ratio, idx_category] = results_test_refined"
   ]
  },
  {
   "cell_type": "code",
   "execution_count": null,
   "metadata": {},
   "outputs": [],
   "source": []
  },
  {
   "cell_type": "code",
   "execution_count": null,
   "metadata": {},
   "outputs": [],
   "source": []
  },
  {
   "cell_type": "code",
   "execution_count": null,
   "metadata": {},
   "outputs": [],
   "source": []
  },
  {
   "cell_type": "code",
   "execution_count": null,
   "metadata": {},
   "outputs": [],
   "source": []
  },
  {
   "cell_type": "code",
   "execution_count": null,
   "metadata": {},
   "outputs": [],
   "source": []
  },
  {
   "cell_type": "code",
   "execution_count": null,
   "metadata": {},
   "outputs": [],
   "source": []
  },
  {
   "cell_type": "code",
   "execution_count": null,
   "metadata": {},
   "outputs": [],
   "source": [
    "for idx_run, run in enumerate(run_arr):\n",
    "    for idx_cont_ratio, cont_ratio in enumerate(cont_ratio_arr):\n",
    "        for idx_category, category in enumerate(category_arr):\n",
    "\n",
    "            ## Blind training \n",
    "\n",
    "            # Train on original training set\n",
    "            seed_everything(run, workers=True)\n",
    "            datamodule_blind = MVTec_contaminated(category=category, cont_ratio=cont_ratio, run=run, idx=[])\n",
    "            model_blind = Patchcore(coreset_sampling_ratio=0.01) #Padim(backbone=\"resnet18\", n_features=100, layers=[\"layer1\", \"layer2\", \"layer3\"])\n",
    "            engine_blind = Engine(task=TaskType.CLASSIFICATION, image_metrics=[\"AUROC\", \"AUPR\", \"F1Score\"], max_epochs=10, devices=1)\n",
    "            engine_blind.fit(datamodule=datamodule_blind, model=model_blind)\n",
    "\n",
    "            # Evaluate on test set\n",
    "            results_blind = engine_blind.test(\n",
    "                model=model_blind,\n",
    "                datamodule=datamodule_blind,\n",
    "                ckpt_path=engine_blind.trainer.checkpoint_callback.best_model_path,\n",
    "                verbose=False\n",
    "            )\n",
    "            results_blind_arr[idx_run, idx_cont_ratio, idx_category] = results_blind[0][\"image_AUROC\"]\n",
    "            \n",
    "            # Predict on original training set\n",
    "            train_dataset_blind = datamodule_blind.get_train_dataset()\n",
    "            predictions_blind = engine_blind.predict(model=model_blind, dataset=train_dataset_blind) # Make predictions on training set\n",
    "            prediction_scores_blind = np.array([d[\"pred_scores\"][0] for d in predictions_blind])#.tolist() # Get list of prediction scores\n",
    "            abnormal_bool_blind = train_dataset_blind.samples_abnormal_bool[:,0]\n",
    "\n",
    "\n",
    "            ## Refined training \n",
    "\n",
    "            # Refine training set\n",
    "            sorted_indices = sorted(range(len(prediction_scores_blind)), key=lambda i: prediction_scores_blind[i]) # Sort the training samples based on prediction scores\n",
    "            selected_indices = sorted_indices[:int((1-cont_ratio) * len(sorted_indices))] # Select the (1-cont_ratio)*100% lowest prediction score samples\n",
    "            \n",
    "            # Train on refined training set\n",
    "            seed_everything(run, workers=True)\n",
    "            datamodule_refined = MVTec_contaminated(category=category, cont_ratio=cont_ratio, run=run, idx=selected_indices)\n",
    "            model_refined = Patchcore(coreset_sampling_ratio=0.01)\n",
    "            engine_refined = Engine(task=TaskType.CLASSIFICATION, image_metrics=[\"AUROC\", \"AUPR\", \"F1Score\"], max_epochs=10, devices=1)\n",
    "            engine_refined.fit(datamodule=datamodule_refined, model=model_refined)\n",
    "\n",
    "            # Evaluate on test set\n",
    "            results_refined = engine_refined.test(\n",
    "                model=model_refined,\n",
    "                datamodule=datamodule_refined,\n",
    "                ckpt_path=engine_refined.trainer.checkpoint_callback.best_model_path,\n",
    "                verbose=False\n",
    "            )\n",
    "            results_refined_arr[idx_run, idx_cont_ratio, idx_category] = results_refined#[0][\"image_AUROC\"]\n",
    "\n",
    "            # Predict on refined training set \n",
    "            train_dataset_refined = datamodule_refined.get_train_dataset()\n",
    "            predictions_refined = engine_refined.predict(model=model_refined, dataset=train_dataset_refined)\n",
    "            prediction_scores_refined = np.array([d[\"pred_scores\"][0] for d in predictions_refined])#.tolist()\n",
    "            abnormal_bool_refined = train_dataset_refined.samples_abnormal_bool[:,0]\n",
    "\n",
    "            # Predict on refined unselected training set \n",
    "            train_dataset_refined_unselected = datamodule_refined.get_train_data_unselected()\n",
    "            predictions_refined_unselected = engine_refined.predict(model=model_refined, dataset=train_dataset_refined_unselected)\n",
    "            prediction_scores_refined_unselected = np.array([d[\"pred_scores\"][0] for d in predictions_refined_unselected])#.tolist()\n",
    "            abnormal_bool_refined_unselected = train_dataset_refined_unselected.samples_abnormal_bool[:,0]\n",
    "            \n",
    "\n",
    "            ## Save results\n",
    "            prediction_scores_blind_arr[idx_run, idx_cont_ratio, idx_category] = prediction_scores_blind\n",
    "            prediction_scores_refined_arr[idx_run, idx_cont_ratio, idx_category] = prediction_scores_refined\n",
    "            prediction_scores_refined_unselected_arr[idx_run, idx_cont_ratio, idx_category] = prediction_scores_refined_unselected\n",
    "            abnormal_bool_blind_arr[idx_run, idx_cont_ratio, idx_category] = abnormal_bool_blind\n",
    "            abnormal_bool_refined_arr[idx_run, idx_cont_ratio, idx_category] = abnormal_bool_refined\n",
    "\n",
    "\n",
    "            #results_arr_refined[idx_run, idx_cont_ratio, idx_category] = test_results_refined[0][\"image_AUROC\"]\n",
    "\n",
    "#            print(run)\n",
    "#            print(cont_ratio)\n",
    "#            print(category)\n",
    "\n",
    "\n",
    "run_arr = np.array([2]) #np.array([1, 2, 3, 4, 5]) #np.array([1]) #np.array([42])#np.arange(3)+1\n",
    "cont_ratio_arr = np.array([0.15]) #np.array([0.0, 0.05, 0.1, 0.15]) #np.array([0.0, 0.15])#np.array([0.15])#, 0.1]) #, 0.15\n",
    "category_arr = np.array([\"cable\"])#, \"grid\", \"leather\", \"tile\", \"wood\", \"bottle\", \"cable\", \"capsule\", \"hazelnut\", \"metal_nut\", \"pill\", \"screw\", \"toothbrush\", \"transistor\", \"zipper\"])#np.array([\"carpet\", \"grid\"])#np.array([\"metal_nut\"])#, \"grid\"])# #\n",
    "\n",
    "\n",
    "# Save results_arr to the specified folder\n",
    "results_dict = {\n",
    "    \"dimensions\": {\n",
    "        \"run\": run_arr,\n",
    "        \"cont_ratio\": cont_ratio_arr,\n",
    "        \"category\": category_arr\n",
    "    },\n",
    "    \"results_test\": {\n",
    "        \"predictions\": test_prediction_scores,\n",
    "        \"metrics\": test_metrics\n",
    "    },\n",
    "    \"results_train\": {\n",
    "        \"blind\":\n",
    "        \"refined\"\n",
    "    }\n",
    "\n",
    "    \n",
    "    \n",
    "    {\n",
    "        \"prediction_scores\": test_prediction_scores_arr, \n",
    "        \"metrics\"\n",
    "    },\n",
    "    \"results_train_dict\": {\n",
    "\n",
    "    }\n",
    "\n",
    "\n",
    "    \"prediction_scores_blind\": predictions_blind_arr,\n",
    "    \"prediction_scores_blind\": prediction_scores_blind_arr,\n",
    "\n",
    "\n",
    "}\n",
    "\n",
    "\n",
    "## Save results_arr to the specified folder\n",
    "#np.save(file_path, results_blind_arr)\n",
    "#np.save(file_path_refined, results_refined_arr)\n"
   ]
  },
  {
   "cell_type": "code",
   "execution_count": null,
   "metadata": {},
   "outputs": [],
   "source": [
    "train_dataset_blind.samples"
   ]
  },
  {
   "cell_type": "code",
   "execution_count": null,
   "metadata": {},
   "outputs": [],
   "source": [
    "labels_refined_unselected = np.array([d[\"label\"][0] for d in predictions_refined_unselected])\n",
    "labels_refined_unselected"
   ]
  },
  {
   "cell_type": "code",
   "execution_count": null,
   "metadata": {},
   "outputs": [],
   "source": [
    "np.sum(labels_refined_unselected)/labels_refined_unselected.shape[0]"
   ]
  },
  {
   "cell_type": "code",
   "execution_count": null,
   "metadata": {},
   "outputs": [],
   "source": [
    "labels_refined = np.array([d[\"label\"][0] for d in predictions_refined])\n",
    "labels_refined"
   ]
  },
  {
   "cell_type": "code",
   "execution_count": null,
   "metadata": {},
   "outputs": [],
   "source": [
    "np.sum(labels_refined)/labels_refined.shape[0]"
   ]
  },
  {
   "cell_type": "code",
   "execution_count": null,
   "metadata": {},
   "outputs": [],
   "source": [
    "np.sum(labels_refined_unselected) + np.sum(labels_refined)"
   ]
  },
  {
   "cell_type": "code",
   "execution_count": null,
   "metadata": {},
   "outputs": [],
   "source": [
    "np.sum(labels_blind)"
   ]
  },
  {
   "cell_type": "code",
   "execution_count": null,
   "metadata": {},
   "outputs": [],
   "source": [
    "labels_blind = np.array([d[\"label\"][0] for d in predictions_blind])\n",
    "labels_blind"
   ]
  },
  {
   "cell_type": "code",
   "execution_count": null,
   "metadata": {},
   "outputs": [],
   "source": [
    "np.sum(labels)/labels.shape[0]"
   ]
  },
  {
   "cell_type": "code",
   "execution_count": null,
   "metadata": {},
   "outputs": [],
   "source": []
  },
  {
   "cell_type": "code",
   "execution_count": null,
   "metadata": {},
   "outputs": [],
   "source": []
  },
  {
   "cell_type": "code",
   "execution_count": null,
   "metadata": {},
   "outputs": [],
   "source": [
    "predictions_refined_unselected"
   ]
  },
  {
   "cell_type": "code",
   "execution_count": null,
   "metadata": {},
   "outputs": [],
   "source": []
  },
  {
   "cell_type": "code",
   "execution_count": null,
   "metadata": {},
   "outputs": [],
   "source": []
  },
  {
   "cell_type": "code",
   "execution_count": null,
   "metadata": {},
   "outputs": [],
   "source": []
  },
  {
   "cell_type": "code",
   "execution_count": null,
   "metadata": {},
   "outputs": [],
   "source": []
  },
  {
   "cell_type": "code",
   "execution_count": null,
   "metadata": {},
   "outputs": [],
   "source": [
    "predictions_refined"
   ]
  },
  {
   "cell_type": "code",
   "execution_count": null,
   "metadata": {},
   "outputs": [],
   "source": []
  },
  {
   "cell_type": "code",
   "execution_count": null,
   "metadata": {},
   "outputs": [],
   "source": []
  },
  {
   "cell_type": "code",
   "execution_count": null,
   "metadata": {},
   "outputs": [],
   "source": []
  },
  {
   "cell_type": "code",
   "execution_count": null,
   "metadata": {},
   "outputs": [],
   "source": [
    "results_refined = engine_refined.test(\n",
    "                model=model_refined,\n",
    "                datamodule=datamodule_refined,\n",
    "                ckpt_path=engine_refined.trainer.checkpoint_callback.best_model_path,\n",
    "                verbose=False\n",
    "            )\n",
    "results_refined_arr[idx_run, idx_cont_ratio, idx_category] = results_refined[0][\"image_AUROC\"]"
   ]
  },
  {
   "cell_type": "code",
   "execution_count": null,
   "metadata": {},
   "outputs": [],
   "source": [
    "abnormal_bool_blind"
   ]
  },
  {
   "cell_type": "code",
   "execution_count": null,
   "metadata": {},
   "outputs": [],
   "source": [
    "np.array([d[\"pred_labels\"][0] for d in predictions_blind])"
   ]
  },
  {
   "cell_type": "code",
   "execution_count": null,
   "metadata": {},
   "outputs": [],
   "source": []
  },
  {
   "cell_type": "code",
   "execution_count": null,
   "metadata": {},
   "outputs": [],
   "source": []
  },
  {
   "cell_type": "code",
   "execution_count": null,
   "metadata": {},
   "outputs": [],
   "source": []
  },
  {
   "cell_type": "code",
   "execution_count": null,
   "metadata": {},
   "outputs": [],
   "source": []
  },
  {
   "cell_type": "code",
   "execution_count": null,
   "metadata": {},
   "outputs": [],
   "source": []
  },
  {
   "cell_type": "code",
   "execution_count": null,
   "metadata": {},
   "outputs": [],
   "source": [
    "predictions_blind"
   ]
  },
  {
   "cell_type": "code",
   "execution_count": null,
   "metadata": {},
   "outputs": [],
   "source": []
  },
  {
   "cell_type": "code",
   "execution_count": null,
   "metadata": {},
   "outputs": [],
   "source": [
    "array_of_dictionaries = np.array([predictions_refined, predictions_refined], dtype=object)"
   ]
  },
  {
   "cell_type": "code",
   "execution_count": null,
   "metadata": {},
   "outputs": [],
   "source": [
    "predictions_refined"
   ]
  },
  {
   "cell_type": "code",
   "execution_count": null,
   "metadata": {},
   "outputs": [],
   "source": []
  },
  {
   "cell_type": "code",
   "execution_count": null,
   "metadata": {},
   "outputs": [],
   "source": []
  },
  {
   "cell_type": "code",
   "execution_count": null,
   "metadata": {},
   "outputs": [],
   "source": [
    "%matplotlib inline \n",
    "from scipy.stats import norm\n",
    "\n",
    "# Plot metric for all categories\n",
    "fontsize = 8\n",
    "fig, axs = plt.subplots(3, 1, sharey=True, tight_layout=True, figsize=(3, 6))\n",
    "\n",
    "bin_range = np.arange(0,1,0.01)\n",
    "\n",
    "# Prepare data\n",
    "dist11 = prediction_scores_blind[abnormal_bool_blind==False]\n",
    "dist12 = prediction_scores_blind[abnormal_bool_blind==True]\n",
    "dist21 = prediction_scores_refined[abnormal_bool_refined==False]\n",
    "dist22 = prediction_scores_refined[abnormal_bool_refined==True]\n",
    "dist31 = prediction_scores_refined_unselected[abnormal_bool_refined_unselected==False]\n",
    "dist32 = prediction_scores_refined_unselected[abnormal_bool_refined_unselected==True]\n",
    "\n",
    "# Plot histograms\n",
    "axs[0].hist(dist11, bins=bin_range, alpha=0.5, label='Normal', density=False)\n",
    "axs[0].hist(dist12, bins=bin_range, alpha=0.5, label='Abnormal', density=False)\n",
    "axs[0].set_xlim([0.2,0.8])\n",
    "axs[0].grid(True)\n",
    "axs[0].xaxis.set_tick_params(labelsize=fontsize)\n",
    "axs[0].yaxis.set_tick_params(labelsize=fontsize)\n",
    "\n",
    "axs[1].hist(dist21, bins=bin_range, alpha=0.5, label='Normal', density=False)\n",
    "axs[1].hist(dist22, bins=bin_range, alpha=0.5, label='Abnormal', density=False)\n",
    "axs[1].set_xlim([0.2,0.8])\n",
    "axs[1].grid(True)\n",
    "axs[1].xaxis.set_tick_params(labelsize=fontsize)\n",
    "axs[1].yaxis.set_tick_params(labelsize=fontsize)\n",
    "\n",
    "axs[2].hist(dist31, bins=bin_range, alpha=0.5, label='Normal', density=False)\n",
    "axs[2].hist(dist32, bins=bin_range, alpha=0.5, label='Abnormal', density=False)\n",
    "axs[2].set_xlim([0.2,0.8])\n",
    "axs[2].grid(True)\n",
    "axs[2].xaxis.set_tick_params(labelsize=fontsize)\n",
    "axs[2].yaxis.set_tick_params(labelsize=fontsize)\n",
    "\n",
    "# Fit a normal distribution to the data\n",
    "mu11, std11 = norm.fit(dist11)\n",
    "mu12, std12 = norm.fit(dist12)\n",
    "mu21, std21 = norm.fit(dist21)\n",
    "mu22, std22 = norm.fit(dist22)\n",
    "mu31, std31 = norm.fit(dist31)\n",
    "mu32, std32 = norm.fit(dist32)\n",
    "\n",
    "# Plot PDF\n",
    "#xmin, xmax = axs[0].xlim()\n",
    "x = bin_range\n",
    "p11 = norm.pdf(x, mu11, std11)\n",
    "p12 = norm.pdf(x, mu12, std12)\n",
    "p21 = norm.pdf(x, mu21, std21)\n",
    "p22 = norm.pdf(x, mu22, std22)\n",
    "p31 = norm.pdf(x, mu31, std31)\n",
    "p32 = norm.pdf(x, mu32, std32)\n",
    "\n",
    "ymax = axs[0].get_ylim()[1]\n",
    "axs[0].plot(x, p11, 'b', linewidth=2)\n",
    "axs[0].vlines(mu11, ymin=0, ymax=ymax,colors='b')\n",
    "axs[0].plot(x, p12, 'r', linewidth=2)\n",
    "axs[0].vlines(mu12, ymin=0, ymax=ymax,colors='r')\n",
    "axs[0].set_ylim([0,ymax])\n",
    "axs[0].set_title(\"blind training, seen testing\", fontsize=8, fontweight=\"bold\")\n",
    "\n",
    "\n",
    "axs[1].plot(x, p21, 'b', linewidth=2)\n",
    "axs[1].vlines(mu21, ymin=0, ymax=ymax,colors='b')\n",
    "axs[1].plot(x, p22, 'r', linewidth=2)\n",
    "axs[1].vlines(mu22, ymin=0, ymax=ymax,colors='r')\n",
    "axs[1].set_ylim([0,ymax])\n",
    "axs[1].set_title(\"refined training, seen testing\", fontsize=8, fontweight=\"bold\")\n",
    "\n",
    "axs[2].plot(x, p31, 'b', linewidth=2)\n",
    "axs[2].vlines(mu31, ymin=0, ymax=ymax,colors='b')\n",
    "axs[2].plot(x, p32, 'r', linewidth=2)\n",
    "axs[2].vlines(mu32, ymin=0, ymax=ymax,colors='r')\n",
    "axs[2].set_ylim([0,ymax])\n",
    "axs[2].set_title(\"refined training, unseen testing\", fontsize=8, fontweight=\"bold\")"
   ]
  },
  {
   "cell_type": "code",
   "execution_count": null,
   "metadata": {},
   "outputs": [],
   "source": [
    "%matplotlib inline \n",
    "from scipy.stats import norm\n",
    "\n",
    "# Plot metric for all categories\n",
    "fontsize = 8\n",
    "fig, axs = plt.subplots(3, 1, sharey=True, tight_layout=True, figsize=(3, 6))\n",
    "bin_range = np.arange(0,1,0.01)\n",
    "\n",
    "# Prepare data\n",
    "dist11 = prediction_scores_blind[abnormal_bool_blind==False]\n",
    "dist12 = prediction_scores_blind[abnormal_bool_blind==True]\n",
    "dist21 = prediction_scores_refined[abnormal_bool_refined==False]\n",
    "dist22 = prediction_scores_refined[abnormal_bool_refined==True]\n",
    "dist31 = prediction_scores_refined_unselected[abnormal_bool_refined_unselected==False]\n",
    "dist32 = prediction_scores_refined_unselected[abnormal_bool_refined_unselected==True]\n",
    "\n",
    "\n",
    "# Fit a normal distribution to the data\n",
    "x = bin_range\n",
    "mu11, std11 = norm.fit(dist11)\n",
    "mu12, std12 = norm.fit(dist12)\n",
    "mu21, std21 = norm.fit(dist21)\n",
    "mu22, std22 = norm.fit(dist22)\n",
    "mu31, std31 = norm.fit(dist31)\n",
    "mu32, std32 = norm.fit(dist32)\n",
    "p11 = norm.pdf(x, mu11, std11)\n",
    "p12 = norm.pdf(x, mu12, std12)\n",
    "p21 = norm.pdf(x, mu21, std21)\n",
    "p22 = norm.pdf(x, mu22, std22)\n",
    "p31 = norm.pdf(x, mu31, std31)\n",
    "p32 = norm.pdf(x, mu32, std32)\n",
    "\n",
    "\n",
    "# Plot histograms and pdf curves\n",
    "axs[0].hist(dist11, bins=bin_range, alpha=0.5, label='Normal', density=False, color='C0')\n",
    "axs[0].hist(dist12, bins=bin_range, alpha=0.5, label='Abnormal', density=False, color='C1')\n",
    "ymax = axs[0].get_ylim()[1]\n",
    "axs[0].set_xlim([0.2,0.8])\n",
    "axs[0].grid(True)\n",
    "axs[0].xaxis.set_tick_params(labelsize=fontsize)\n",
    "axs[0].yaxis.set_tick_params(labelsize=fontsize)\n",
    "axs[0].set_xlabel(\"Anomaly score [-]\", fontsize=fontsize)\n",
    "axs[0].set_ylabel(\"Count [-]\", fontsize=fontsize)\n",
    "axs[0].legend(fontsize=fontsize)\n",
    "\n",
    "axs[0].plot(x, p11, color='C0', linewidth=1)\n",
    "axs[0].vlines(mu11, ymin=0, ymax=ymax, color='C0', linewidth=1)\n",
    "axs[0].plot(x, p12, color='C1', linewidth=1)\n",
    "axs[0].vlines(mu12, ymin=0, ymax=ymax, color='C1', linewidth=1)\n",
    "axs[0].set_ylim([0,ymax])\n",
    "axs[0].set_title(\"blind training, seen testing\", fontsize=8, fontweight=\"bold\")\n",
    "\n",
    "\n",
    "axs[1].hist(dist21, bins=bin_range, alpha=0.5, label='Normal', density=False, color='C0')\n",
    "axs[1].hist(dist22, bins=bin_range, alpha=0.5, label='Abnormal', density=False, color='C1')\n",
    "axs[1].set_xlim([0.2,0.8])\n",
    "axs[1].grid(True)\n",
    "axs[1].xaxis.set_tick_params(labelsize=fontsize)\n",
    "axs[1].yaxis.set_tick_params(labelsize=fontsize)\n",
    "axs[1].set_xlabel(\"Anomaly score [-]\", fontsize=fontsize)\n",
    "axs[1].set_ylabel(\"Count [-]\", fontsize=fontsize)\n",
    "axs[1].legend(fontsize=fontsize)\n",
    "\n",
    "axs[1].plot(x, p21, color='C0', linewidth=1)\n",
    "axs[1].vlines(mu21, ymin=0, ymax=ymax, color='C0', linewidth=1)\n",
    "axs[1].plot(x, p22, color='C1', linewidth=1)\n",
    "axs[1].vlines(mu22, ymin=0, ymax=ymax, color='C1', linewidth=1)\n",
    "axs[1].set_ylim([0,ymax])\n",
    "axs[1].set_title(\"refined training, seen testing\", fontsize=8, fontweight=\"bold\")\n",
    "\n",
    "axs[2].hist(dist31, bins=bin_range, alpha=0.5, label='Normal', density=False, color='C0')\n",
    "axs[2].hist(dist32, bins=bin_range, alpha=0.5, label='Abnormal', density=False, color='C1')\n",
    "axs[2].set_xlim([0.2,0.8])\n",
    "axs[2].grid(True)\n",
    "axs[2].xaxis.set_tick_params(labelsize=fontsize)\n",
    "axs[2].yaxis.set_tick_params(labelsize=fontsize)\n",
    "axs[2].set_xlabel(\"Anomaly score [-]\", fontsize=fontsize)\n",
    "axs[2].set_ylabel(\"Count [-]\", fontsize=fontsize)\n",
    "\n",
    "axs[2].plot(x, p31, color='C0', linewidth=1)\n",
    "axs[2].vlines(mu31, ymin=0, ymax=ymax, color='C0', linewidth=1)\n",
    "axs[2].plot(x, p32, linewidth=1, color='C1')\n",
    "axs[2].vlines(mu32, ymin=0, ymax=ymax, color='C1', linewidth=1)\n",
    "axs[2].set_ylim([0,ymax])\n",
    "axs[2].set_title(\"refined training, unseen testing\", fontsize=8, fontweight=\"bold\")\n",
    "axs[2].legend(fontsize=fontsize)\n"
   ]
  },
  {
   "cell_type": "code",
   "execution_count": null,
   "metadata": {},
   "outputs": [],
   "source": []
  },
  {
   "cell_type": "code",
   "execution_count": null,
   "metadata": {},
   "outputs": [],
   "source": [
    "%matplotlib inline \n",
    "from scipy.stats import norm\n",
    "\n",
    "# Plot metric for all categories\n",
    "fontsize = 8\n",
    "fig, axs = plt.subplots(3, 1, sharey=True, tight_layout=True, figsize=(3, 6))\n",
    "\n",
    "bin_range = np.arange(0,1,0.01)\n",
    "\n",
    "# Prepare data\n",
    "dist11 = prediction_scores_blind[abnormal_bool_blind==False]\n",
    "dist12 = prediction_scores_blind[abnormal_bool_blind==True]\n",
    "dist21 = prediction_scores_refined[abnormal_bool_refined==False]\n",
    "dist22 = prediction_scores_refined[abnormal_bool_refined==True]\n",
    "dist31 = prediction_scores_refined_unselected[abnormal_bool_refined_unselected==False]\n",
    "dist32 = prediction_scores_refined_unselected[abnormal_bool_refined_unselected==True]\n",
    "\n",
    "# Plot histograms\n",
    "axs[0].hist(dist11, bins=bin_range, alpha=0.5, label='Normal', density=False)\n",
    "axs[0].hist(dist12, bins=bin_range, alpha=0.5, label='Abnormal', density=False)\n",
    "axs[0].set_xlim([0.2,0.8])\n",
    "axs[0].grid(True)\n",
    "axs[0].xaxis.set_tick_params(labelsize=fontsize)\n",
    "axs[0].yaxis.set_tick_params(labelsize=fontsize)\n",
    "\n",
    "axs[1].hist(dist21, bins=bin_range, alpha=0.5, label='Normal', density=False)\n",
    "axs[1].hist(dist22, bins=bin_range, alpha=0.5, label='Abnormal', density=False)\n",
    "axs[1].set_xlim([0.2,0.8])\n",
    "axs[1].grid(True)\n",
    "axs[1].xaxis.set_tick_params(labelsize=fontsize)\n",
    "axs[1].yaxis.set_tick_params(labelsize=fontsize)\n",
    "\n",
    "axs[2].hist(dist31, bins=bin_range, alpha=0.5, label='Normal', density=False)\n",
    "axs[2].hist(dist32, bins=bin_range, alpha=0.5, label='Abnormal', density=False)\n",
    "axs[2].set_xlim([0.2,0.8])\n",
    "axs[2].grid(True)\n",
    "axs[2].xaxis.set_tick_params(labelsize=fontsize)\n",
    "axs[2].yaxis.set_tick_params(labelsize=fontsize)\n",
    "\n",
    "# Fit a normal distribution to the data\n",
    "mu11, std11 = norm.fit(dist11)\n",
    "mu12, std12 = norm.fit(dist12)\n",
    "mu21, std21 = norm.fit(dist21)\n",
    "mu22, std22 = norm.fit(dist22)\n",
    "mu31, std31 = norm.fit(dist31)\n",
    "mu32, std32 = norm.fit(dist32)\n",
    "\n",
    "# Plot PDF\n",
    "#xmin, xmax = axs[0].xlim()\n",
    "x = bin_range\n",
    "p11 = norm.pdf(x, mu11, std11)\n",
    "p12 = norm.pdf(x, mu12, std12)\n",
    "p21 = norm.pdf(x, mu21, std21)\n",
    "p22 = norm.pdf(x, mu22, std22)\n",
    "p31 = norm.pdf(x, mu31, std31)\n",
    "p32 = norm.pdf(x, mu32, std32)\n",
    "\n",
    "ymax = axs[0].get_ylim()[1]\n",
    "axs[0].plot(x, p11, 'b', linewidth=2)\n",
    "axs[0].vlines(mu11, ymin=0, ymax=ymax,colors='b')\n",
    "axs[0].plot(x, p12, 'r', linewidth=2)\n",
    "axs[0].vlines(mu12, ymin=0, ymax=ymax,colors='r')\n",
    "axs[0].set_ylim([0,ymax])\n",
    "axs[0].set_title(\"blind training, seen testing\", fontsize=8, fontweight=\"bold\")\n",
    "\n",
    "\n",
    "axs[1].plot(x, p21, 'b', linewidth=2)\n",
    "axs[1].vlines(mu21, ymin=0, ymax=ymax,colors='b')\n",
    "axs[1].plot(x, p22, 'r', linewidth=2)\n",
    "axs[1].vlines(mu22, ymin=0, ymax=ymax,colors='r')\n",
    "axs[1].set_ylim([0,ymax])\n",
    "axs[1].set_title(\"refined training, seen testing\", fontsize=8, fontweight=\"bold\")\n",
    "\n",
    "axs[2].plot(x, p31, 'b', linewidth=2)\n",
    "axs[2].vlines(mu31, ymin=0, ymax=ymax,colors='b')\n",
    "axs[2].plot(x, p32, 'r', linewidth=2)\n",
    "axs[2].vlines(mu32, ymin=0, ymax=ymax,colors='r')\n",
    "axs[2].set_ylim([0,ymax])\n",
    "axs[2].set_title(\"refined training, unseen testing\", fontsize=8, fontweight=\"bold\")\n"
   ]
  },
  {
   "cell_type": "code",
   "execution_count": null,
   "metadata": {},
   "outputs": [],
   "source": []
  },
  {
   "cell_type": "code",
   "execution_count": null,
   "metadata": {},
   "outputs": [],
   "source": []
  },
  {
   "cell_type": "code",
   "execution_count": null,
   "metadata": {},
   "outputs": [],
   "source": []
  },
  {
   "cell_type": "code",
   "execution_count": null,
   "metadata": {},
   "outputs": [],
   "source": []
  },
  {
   "cell_type": "code",
   "execution_count": null,
   "metadata": {},
   "outputs": [],
   "source": []
  },
  {
   "cell_type": "code",
   "execution_count": null,
   "metadata": {},
   "outputs": [],
   "source": []
  },
  {
   "cell_type": "code",
   "execution_count": null,
   "metadata": {},
   "outputs": [],
   "source": []
  },
  {
   "cell_type": "code",
   "execution_count": null,
   "metadata": {},
   "outputs": [],
   "source": []
  },
  {
   "cell_type": "code",
   "execution_count": null,
   "metadata": {},
   "outputs": [],
   "source": []
  },
  {
   "cell_type": "code",
   "execution_count": null,
   "metadata": {},
   "outputs": [],
   "source": [
    "%matplotlib inline \n",
    "from scipy.stats import norm\n",
    "\n",
    "prediction_scores_arr = np.array(prediction_scores)\n",
    "abnormal_bool = train_dataset.samples_abnormal_bool[:,0]\n",
    "\n",
    "fig, axs = plt.subplots(1, 3, sharey=True, tight_layout=True)\n",
    "n_bins = 20\n",
    "dist1 = prediction_scores_arr[abnormal_bool==False]\n",
    "dist2 = prediction_scores_arr[abnormal_bool==True]\n",
    "\n",
    "# Fit a normal distribution to the data\n",
    "mu1, std1 = norm.fit(dist1)\n",
    "mu2, std2 = norm.fit(dist2)\n",
    "\n",
    "\n",
    "# We can set the number of bins with the *bins* keyword argument.\n",
    "#axs[0].hist(dist1, bins=n_bins)\n",
    "plt.hist(dist1, bins=n_bins, alpha=0.5, label='Normal', density=False)\n",
    "plt.hist(dist2, bins=n_bins, alpha=0.5, label='Abnormal', density=False)\n",
    "plt.xlim([0,1])\n",
    "\n",
    "plt.legend()\n",
    "#plt.title('Multiple Distributions')\n",
    "plt.xlabel('Values')\n",
    "plt.ylabel('Frequency')\n",
    "plt.xlim([0.2, 0.6])\n",
    "plt.grid(True)\n",
    "\n",
    "\n",
    "# Plot PDF\n",
    "xmin, xmax = plt.xlim()\n",
    "x = np.linspace(xmin, xmax, 100)\n",
    "p1 = norm.pdf(x, mu1, std1)\n",
    "plt.plot(x, p1, 'b', linewidth=2)\n",
    "p2 = norm.pdf(x, mu2, std2)\n",
    "plt.plot(x, p2, 'r', linewidth=2)\n",
    "\n",
    "plt.show()\n"
   ]
  },
  {
   "cell_type": "code",
   "execution_count": null,
   "metadata": {},
   "outputs": [],
   "source": []
  },
  {
   "cell_type": "code",
   "execution_count": null,
   "metadata": {},
   "outputs": [],
   "source": []
  },
  {
   "cell_type": "code",
   "execution_count": null,
   "metadata": {},
   "outputs": [],
   "source": [
    "train_dataset_refined"
   ]
  },
  {
   "cell_type": "code",
   "execution_count": null,
   "metadata": {},
   "outputs": [],
   "source": []
  },
  {
   "cell_type": "code",
   "execution_count": null,
   "metadata": {},
   "outputs": [],
   "source": []
  },
  {
   "cell_type": "code",
   "execution_count": null,
   "metadata": {},
   "outputs": [],
   "source": [
    "datamodule_refined.get_train_dataset()"
   ]
  },
  {
   "cell_type": "code",
   "execution_count": null,
   "metadata": {},
   "outputs": [],
   "source": [
    "train_dataset_blind.samples_abnormal_bool.shape"
   ]
  },
  {
   "cell_type": "code",
   "execution_count": null,
   "metadata": {},
   "outputs": [],
   "source": []
  },
  {
   "cell_type": "code",
   "execution_count": null,
   "metadata": {},
   "outputs": [],
   "source": []
  },
  {
   "cell_type": "code",
   "execution_count": null,
   "metadata": {},
   "outputs": [],
   "source": []
  },
  {
   "cell_type": "code",
   "execution_count": null,
   "metadata": {},
   "outputs": [],
   "source": []
  },
  {
   "cell_type": "code",
   "execution_count": null,
   "metadata": {},
   "outputs": [],
   "source": [
    "train_dataset = datamodule.get_train_dataset()"
   ]
  },
  {
   "cell_type": "code",
   "execution_count": null,
   "metadata": {},
   "outputs": [],
   "source": [
    "train_dataset.samples"
   ]
  },
  {
   "cell_type": "code",
   "execution_count": null,
   "metadata": {},
   "outputs": [],
   "source": [
    "train_dataset.samples_abnormal_bool"
   ]
  },
  {
   "cell_type": "code",
   "execution_count": null,
   "metadata": {},
   "outputs": [],
   "source": [
    "train_dataset.unselected_samples"
   ]
  },
  {
   "cell_type": "code",
   "execution_count": null,
   "metadata": {},
   "outputs": [],
   "source": [
    "train_dataset.unselected_samples_abnormal_bool"
   ]
  },
  {
   "cell_type": "code",
   "execution_count": null,
   "metadata": {},
   "outputs": [],
   "source": [
    "np.empty((0,0), dtype=bool)"
   ]
  },
  {
   "cell_type": "code",
   "execution_count": null,
   "metadata": {},
   "outputs": [],
   "source": []
  },
  {
   "cell_type": "code",
   "execution_count": null,
   "metadata": {},
   "outputs": [],
   "source": []
  },
  {
   "cell_type": "code",
   "execution_count": null,
   "metadata": {},
   "outputs": [],
   "source": [
    "prediction_scores_arr[abnormal_bool]"
   ]
  },
  {
   "cell_type": "code",
   "execution_count": null,
   "metadata": {},
   "outputs": [],
   "source": []
  },
  {
   "cell_type": "code",
   "execution_count": null,
   "metadata": {},
   "outputs": [],
   "source": []
  },
  {
   "cell_type": "code",
   "execution_count": null,
   "metadata": {},
   "outputs": [],
   "source": [
    "%matplotlib inline \n",
    "from scipy.stats import norm\n",
    "\n",
    "prediction_scores_arr = np.array(prediction_scores)\n",
    "abnormal_bool = train_dataset.samples_abnormal_bool[:,0]\n",
    "\n",
    "#fig, axs = plt.subplots(1, 2, sharey=True, tight_layout=True)\n",
    "n_bins = 20\n",
    "dist1 = prediction_scores_arr[abnormal_bool==False]\n",
    "dist2 = prediction_scores_arr[abnormal_bool==True]\n",
    "\n",
    "# Fit a normal distribution to the data\n",
    "mu1, std1 = norm.fit(dist1)\n",
    "mu2, std2 = norm.fit(dist2)\n",
    "\n",
    "\n",
    "# We can set the number of bins with the *bins* keyword argument.\n",
    "#axs[0].hist(dist1, bins=n_bins)\n",
    "plt.hist(dist1, bins=n_bins, alpha=0.5, label='Normal', density=False)\n",
    "plt.hist(dist2, bins=n_bins, alpha=0.5, label='Abnormal', density=False)\n",
    "plt.xlim([0,1])\n",
    "\n",
    "plt.legend()\n",
    "#plt.title('Multiple Distributions')\n",
    "plt.xlabel('Values')\n",
    "plt.ylabel('Frequency')\n",
    "plt.xlim([0.2, 0.6])\n",
    "plt.grid(True)\n",
    "\n",
    "\n",
    "# Plot PDF\n",
    "xmin, xmax = plt.xlim()\n",
    "x = np.linspace(xmin, xmax, 100)\n",
    "p1 = norm.pdf(x, mu1, std1)\n",
    "plt.plot(x, p1, 'b', linewidth=2)\n",
    "p2 = norm.pdf(x, mu2, std2)\n",
    "plt.plot(x, p2, 'r', linewidth=2)\n",
    "\n",
    "plt.show()\n",
    "\n",
    "\n",
    "\n"
   ]
  },
  {
   "cell_type": "code",
   "execution_count": null,
   "metadata": {},
   "outputs": [],
   "source": [
    "%matplotlib inline \n",
    "from scipy.stats import norm\n",
    "\n",
    "prediction_scores_arr = np.array(prediction_scores)\n",
    "abnormal_bool = train_dataset.samples_abnormal_bool[:,0]\n",
    "\n",
    "#fig, axs = plt.subplots(1, 2, sharey=True, tight_layout=True)\n",
    "n_bins = 20\n",
    "dist1 = prediction_scores_arr[abnormal_bool==False]\n",
    "dist2 = prediction_scores_arr[abnormal_bool==True]\n",
    "\n",
    "# Fit a normal distribution to the data\n",
    "mu1, std1 = norm.fit(dist1)\n",
    "mu2, std2 = norm.fit(dist2)\n",
    "\n",
    "\n",
    "# We can set the number of bins with the *bins* keyword argument.\n",
    "#axs[0].hist(dist1, bins=n_bins)\n",
    "plt.hist(dist1, bins=n_bins, alpha=0.5, label='Normal', density=False)\n",
    "plt.hist(dist2, bins=n_bins, alpha=0.5, label='Abnormal', density=False)\n",
    "plt.xlim([0,1])\n",
    "\n",
    "plt.legend()\n",
    "#plt.title('Multiple Distributions')\n",
    "plt.xlabel('Values')\n",
    "plt.ylabel('Frequency')\n",
    "plt.xlim([0.2, 0.6])\n",
    "plt.grid(True)\n",
    "\n",
    "\n",
    "# Plot PDF\n",
    "xmin, xmax = plt.xlim()\n",
    "x = np.linspace(xmin, xmax, 100)\n",
    "p1 = norm.pdf(x, mu1, std1)\n",
    "plt.plot(x, p1, 'b', linewidth=2)\n",
    "p2 = norm.pdf(x, mu2, std2)\n",
    "plt.plot(x, p2, 'r', linewidth=2)\n",
    "\n",
    "plt.show()"
   ]
  },
  {
   "cell_type": "code",
   "execution_count": null,
   "metadata": {},
   "outputs": [],
   "source": [
    "%matplotlib inline \n",
    "plt.hist(prediction_scores)\n",
    "plt.xlim([0,1])\n",
    "plt.show()"
   ]
  },
  {
   "cell_type": "code",
   "execution_count": null,
   "metadata": {},
   "outputs": [],
   "source": [
    "prediction_scores"
   ]
  },
  {
   "cell_type": "code",
   "execution_count": null,
   "metadata": {},
   "outputs": [],
   "source": []
  },
  {
   "cell_type": "code",
   "execution_count": null,
   "metadata": {},
   "outputs": [],
   "source": []
  },
  {
   "cell_type": "code",
   "execution_count": null,
   "metadata": {},
   "outputs": [],
   "source": []
  },
  {
   "cell_type": "code",
   "execution_count": null,
   "metadata": {},
   "outputs": [],
   "source": [
    "#### BACKUP\n",
    "#import logging\n",
    "#logger = logging.getLogger(__name__)\n",
    "#\n",
    "## Link: https://pytorch.org/blog/understanding-gpu-memory-1/ \n",
    "## Start recording memory snapshot history, initialized with a buffer\n",
    "## capacity of 100,000 memory events, via the `max_entries` field.\n",
    "#torch.cuda.memory._record_memory_history(\n",
    "#    max_entries=100000\n",
    "#)\n",
    "#\n",
    "#\n",
    "#try:\n",
    "#    torch.cuda.memory._dump_snapshot(\"snapshot.pickle\")\n",
    "#except Exception as e:\n",
    "#    logger.error(f\"Failed to capture memory snapshot {e}\")\n",
    "#\n",
    "#for idx_category, category in enumerate(category_arr):\n",
    "#    for idx_run, run in enumerate(run_arr):\n",
    "#\n",
    "#        print(\"category: \", category)\n",
    "#        print(\"run: \", run)\n",
    "#        \n",
    "#\n",
    "#        ## Loop\n",
    "#        #run = 1\n",
    "#        cont_ratio = 0.15\n",
    "#        #category=\"cable\"# \"cable\"\n",
    "#        coreset_sampling_ratio = 0.01\n",
    "#\n",
    "#        ## Define refinement\n",
    "#        #k_ls = [1, 2, 3, 5, 8] #k_arr = np.array([1, 2, 4, 8]) #np.array([1, 2, 3, 4, 5, 8, 10, 15])\n",
    "#        k_ls = [1, 2]\n",
    "#        #k_ls = [1, 2, 3, 5, 10, 20] \n",
    "#        gamma = 1-cont_ratio\n",
    "#\n",
    "#        ## Lists to save results\n",
    "#        results_test_blind_ls=[]\n",
    "#        results_test_refined_ls=[]\n",
    "#        keep_indices_ls=[]\n",
    "#        train_dataset_length_ls=[]\n",
    "#        abnormal_total_ls=[]\n",
    "#        abnormal_excluded_ls=[]\n",
    "#        normal_total_ls=[]\n",
    "#        normal_excluded_ls=[]\n",
    "#\n",
    "#\n",
    "#        ## Evaluate baseline (blind training)\n",
    "#        # Train one model on refined dataset\n",
    "#        seed_everything(run, workers=True)\n",
    "#        datamodule_blind = MVTec_contaminated(category=category, cont_ratio=cont_ratio, run=run, idx=[])\n",
    "#        model_blind = Patchcore(coreset_sampling_ratio=coreset_sampling_ratio)\n",
    "#        engine_blind = Engine(task=TaskType.CLASSIFICATION, image_metrics=[\"AUROC\", \"AUPR\", \"F1Score\"], max_epochs=10, devices=1)\n",
    "#        engine_blind.fit(datamodule=datamodule_blind, model=model_blind)\n",
    "#\n",
    "#        # Evaluate model on test set\n",
    "#        results_test_blind = engine_blind.test(\n",
    "#            model=model_blind,\n",
    "#            datamodule=datamodule_blind,\n",
    "#            ckpt_path=engine_blind.trainer.checkpoint_callback.best_model_path,\n",
    "#            verbose=False\n",
    "#        )\n",
    "#        \n",
    "#\n",
    "#\n",
    "#        for k in k_ls:\n",
    "#            print(\"k: \", k)\n",
    "#            #torch.cuda.empty_cache()\n",
    "#            # Create indices for k disjoint datasets\n",
    "#            train_dataset = MVTecDataset_contaminated(\n",
    "#                    task=TaskType.CLASSIFICATION,\n",
    "#                    split=Split.TRAIN,\n",
    "#                    category=category,\n",
    "#                    cont_ratio=cont_ratio,\n",
    "#                    run=run,\n",
    "#                    idx = []           \n",
    "#                )\n",
    "#            train_dataset_length = train_dataset.__len__()\n",
    "#            indices = np.arange(0, train_dataset_length)\n",
    "#            np.random.seed(run)\n",
    "#            np.random.shuffle(indices)\n",
    "#            indices_disjoint_datasets = np.array_split(indices, k)\n",
    "#            #torch.cuda.empty_cache()\n",
    "#\n",
    "#            # Train k models on k disjoint datasets\n",
    "#            classifications_subset_arr = np.empty([train_dataset_length,k], dtype=bool)\n",
    "#            for k_iter in range(k):\n",
    "#                print(\"k_iter: \", k_iter)\n",
    "#                #torch.cuda.empty_cache()\n",
    "#                # Train model on disjoint dataset\n",
    "#                seed_everything(run, workers=True)\n",
    "#                datamodule_subset = MVTec_contaminated(category=category, cont_ratio=cont_ratio, run=run, idx=indices_disjoint_datasets[k_iter])\n",
    "#                model_subset = Patchcore(coreset_sampling_ratio=coreset_sampling_ratio) \n",
    "#                engine_subset = Engine(task=TaskType.CLASSIFICATION, image_metrics=[\"AUROC\", \"AUPR\", \"F1Score\"], max_epochs=10, devices=1)\n",
    "#                engine_subset.fit(datamodule=datamodule_subset, model=model_subset)\n",
    "#\n",
    "#                # Predict binary labels for each sample\n",
    "#                predictions_subset = engine_subset.predict(model=model_subset, dataset=train_dataset)\n",
    "#                prediction_scores_subset = np.array([d[\"pred_scores\"][0] for d in predictions_subset])\n",
    "#                threshold = np.percentile(prediction_scores_subset, q=gamma*100)\n",
    "#                classifications_subset = prediction_scores_subset>threshold # True: abnormal; False: normal\n",
    "#\n",
    "#                # Save binary classifications\n",
    "#                classifications_subset_arr[:,k_iter] = classifications_subset\n",
    "#                #torch.cuda.empty_cache()\n",
    "#\n",
    "#            # Return indices of refined dataset\n",
    "#            keep_bool_arr = np.all(~classifications_subset_arr, axis=1)\n",
    "#            keep_indices = np.where(keep_bool_arr)[0]\n",
    "#\n",
    "#\n",
    "#            # Evaluate correctness of pseudo-labels\n",
    "#            abnormal_total = 0\n",
    "#            abnormal_excluded = 0\n",
    "#            normal_total = 0\n",
    "#            normal_excluded = 0\n",
    "#            #torch.cuda.empty_cache()\n",
    "#            for i in range(train_dataset.__len__()):\n",
    "#\n",
    "#                if train_dataset.__getitem__(i)[\"label\"] == 1:\n",
    "#                    abnormal_total += 1\n",
    "#                    if ~np.isin(i, keep_indices):\n",
    "#                        abnormal_excluded += 1\n",
    "#                elif train_dataset.__getitem__(i)[\"label\"] == 0:\n",
    "#                    normal_total += 1\n",
    "#                    if ~np.isin(i, keep_indices):\n",
    "#                        normal_excluded += 1\n",
    "#            \n",
    "#            try:\n",
    "#                torch.cuda.memory._dump_snapshot(\"snapshot.pickle\")\n",
    "#            except Exception as e:\n",
    "#                logger.error(f\"Failed to capture memory snapshot {e}\")\n",
    "#\n",
    "#            ## Train and evaluate final model on refined dataset\n",
    "#            #torch.cuda.empty_cache()\n",
    "#            # Train one model on refined dataset\n",
    "#            seed_everything(run, workers=True)\n",
    "#            datamodule_refined = MVTec_contaminated(category=category, cont_ratio=cont_ratio, run=run, idx=keep_indices)\n",
    "#            model_refined = Patchcore(coreset_sampling_ratio=coreset_sampling_ratio)\n",
    "#            engine_refined = Engine(task=TaskType.CLASSIFICATION, image_metrics=[\"AUROC\", \"AUPR\", \"F1Score\"], max_epochs=10, devices=1)\n",
    "#            try:\n",
    "#                torch.cuda.memory._dump_snapshot(\"snapshot.pickle\")\n",
    "#            except Exception as e:\n",
    "#                logger.error(f\"Failed to capture memory snapshot {e}\")            \n",
    "#            engine_refined.fit(datamodule=datamodule_refined, model=model_refined)\n",
    "#\n",
    "#\n",
    "#            # Evaluate model on test set\n",
    "#            #predictions_test_refined = engine_refined.predict(model=model_refined, dataset=datamodule_refined.get_test_dataset())\n",
    "#            results_test_refined = engine_refined.test(\n",
    "#                model=model_refined,\n",
    "#                datamodule=datamodule_refined,\n",
    "#                ckpt_path=engine_refined.trainer.checkpoint_callback.best_model_path,\n",
    "#                verbose=False\n",
    "#            )\n",
    "#            #torch.cuda.empty_cache()\n",
    "#\n",
    "#            ## Save results\n",
    "#            results_test_blind_ls.append(results_test_blind)\n",
    "#            results_test_refined_ls.append(results_test_refined)\n",
    "#            keep_indices_ls.append(keep_indices)\n",
    "#            train_dataset_length_ls.append(train_dataset_length)\n",
    "#            abnormal_total_ls.append(abnormal_total)\n",
    "#            abnormal_excluded_ls.append(abnormal_excluded)\n",
    "#            normal_total_ls.append(normal_total)\n",
    "#            normal_excluded_ls.append(normal_excluded)\n",
    "#\n",
    "#            try:\n",
    "#                torch.cuda.memory._dump_snapshot(\"snapshot.pickle\")\n",
    "#            except Exception as e:\n",
    "#                logger.error(f\"Failed to capture memory snapshot {e}\")\n",
    "#\n",
    "#        ## Save results in array\n",
    "#        #torch.cuda.empty_cache()\n",
    "#        results_test_blind_arr[idx_run, idx_category] = results_test_blind_ls\n",
    "#        results_test_refined_arr[idx_run, idx_category] = results_test_refined_ls\n",
    "#        keep_indices_arr[idx_run, idx_category] = keep_indices_ls\n",
    "#        train_dataset_length_arr[idx_run, idx_category] = train_dataset_length_ls\n",
    "#        abnormal_total_arr[idx_run, idx_category] = abnormal_total_ls\n",
    "#        abnormal_excluded_arr[idx_run, idx_category] = abnormal_excluded_ls\n",
    "#        normal_total_arr[idx_run, idx_category] = normal_total_ls\n",
    "#        normal_excluded_arr[idx_run, idx_category] = normal_excluded_ls\n",
    "#\n",
    "#        #torch.cuda.empty_cache()\n",
    "#\n",
    "### Save arrays in dict\n",
    "#results_dict = {\n",
    "#    \"dimensions\": {\n",
    "#        \"category_arr\": category_arr,\n",
    "#        \"run_arr\": run_arr\n",
    "#    },\n",
    "#    \"results\": {\n",
    "#        \"results_test_blind_arr\": results_test_blind_arr,\n",
    "#        \"results_test_refined_arr\": results_test_refined_arr,\n",
    "#        \"keep_indices_arr\": keep_indices_arr,\n",
    "#        \"train_dataset_length_arr\": train_dataset_length_arr,\n",
    "#        \"abnormal_total_arr\": abnormal_total_arr,\n",
    "#        \"abnormal_excluded_arr\": abnormal_excluded_arr,\n",
    "#        \"normal_total_arr\": normal_total_arr,\n",
    "#        \"normal_excluded_arr\":   normal_excluded_arr,\n",
    "#    }\n",
    "#}\n",
    "#\n",
    "## Stop recording memory snapshot history.\n",
    "#torch.cuda.memory._record_memory_history(enabled=None)\n",
    "#"
   ]
  }
 ],
 "metadata": {
  "kernelspec": {
   "display_name": "Python 3 (ipykernel)",
   "language": "python",
   "name": "python3"
  },
  "language_info": {
   "codemirror_mode": {
    "name": "ipython",
    "version": 3
   },
   "file_extension": ".py",
   "mimetype": "text/x-python",
   "name": "python",
   "nbconvert_exporter": "python",
   "pygments_lexer": "ipython3",
   "version": "3.10.14"
  }
 },
 "nbformat": 4,
 "nbformat_minor": 2
}
